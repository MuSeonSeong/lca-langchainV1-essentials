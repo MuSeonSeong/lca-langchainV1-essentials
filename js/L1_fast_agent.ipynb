{
 "cells": [
  {
   "cell_type": "markdown",
   "id": "1d4691c6",
   "metadata": {},
   "source": [
    "## Fast Agent"
   ]
  },
  {
   "cell_type": "code",
   "execution_count": 1,
   "id": "a1801ad3",
   "metadata": {},
   "outputs": [],
   "source": [
    "import { SqlDatabase } from \"langchain/sql_db\";\n",
    "import { DataSource } from \"typeorm\";\n",
    "\n",
    "const datasource = new DataSource({\n",
    "    type: \"sqlite\",\n",
    "    database: \"./Chinook.db\", // Replace with the link to your database\n",
    "});\n",
    "const db = await SqlDatabase.fromDataSourceParams({\n",
    "    appDataSource: datasource,\n",
    "});"
   ]
  },
  {
   "cell_type": "code",
   "execution_count": 2,
   "id": "923bb5b9",
   "metadata": {},
   "outputs": [],
   "source": [
    "import { tool } from \"langchain\";\n",
    "import { z } from \"zod\";\n",
    "\n",
    "export const executeSQL = tool(({ query }) => {\n",
    "    return db.run(query)\n",
    "}, {\n",
    "    name: \"execute_sql\",\n",
    "    description: \"Execute a SQLite command and return results.\",\n",
    "    schema: z.object({ query: z.string() })\n",
    "})"
   ]
  },
  {
   "cell_type": "code",
   "execution_count": 3,
   "id": "74dde966",
   "metadata": {},
   "outputs": [],
   "source": [
    "export const systemPrompt = `You are a careful SQLite analyst.\n",
    "\n",
    "Rules:\n",
    "- Think step-by-step.\n",
    "- When you need data, call the tool \\`execute_sql\\` with ONE SELECT query.\n",
    "- Read-only only; no INSERT/UPDATE/DELETE/ALTER/DROP/CREATE/REPLACE/TRUNCATE.\n",
    "- Limit to 5 rows of output unless the user explicitly asks otherwise.\n",
    "- If the tool returns 'Error:', revise the SQL and try again.\n",
    "- Prefer explicit column lists; avoid SELECT *.`"
   ]
  },
  {
   "cell_type": "code",
   "execution_count": 4,
   "id": "15be7a23",
   "metadata": {},
   "outputs": [
    {
     "data": {
      "text/plain": [
       "[Module: null prototype] { default: {}, \u001b[32m\"module.exports\"\u001b[39m: {} }"
      ]
     },
     "execution_count": 4,
     "metadata": {},
     "output_type": "execute_result"
    }
   ],
   "source": [
    "import \"dotenv/config\"\n",
    "import { createAgent } from \"langchain\";\n",
    "\n",
    "const agent = createAgent({\n",
    "    model: \"openai:gpt-5\",\n",
    "    tools: [executeSQL],\n",
    "    systemPrompt,\n",
    "})"
   ]
  },
  {
   "cell_type": "code",
   "execution_count": 5,
   "metadata": {},
   "outputs": [
    {
     "data": {
      "image/png": "[encoded data removed]"
     },
     "execution_count": 5,
     "metadata": {},
     "output_type": "execute_result"
    }
   ],
   "source": [
    "await agent.drawMermaidPng()"
   ]
  },
  {
   "cell_type": "code",
   "execution_count": 8,
   "id": "35bedba9",
   "metadata": {},
   "outputs": [
    {
     "name": "stdout",
     "output_type": "stream",
     "text": [
      "human - Which table has the largest number of entries?\n",
      "ai - \n",
      "tool - [{\"name\":\"Album\"},{\"name\":\"Artist\"},{\"name\":\"Customer\"},{\"name\":\"Employee\"},{\"name\":\"Genre\"},{\"name\":\"Invoice\"},{\"name\":\"InvoiceLine\"},{\"name\":\"MediaType\"},{\"name\":\"Playlist\"},{\"name\":\"PlaylistTrack\"},{\"name\":\"Track\"}]\n",
      "ai - \n",
      "tool - [{\"table_name\":\"PlaylistTrack\",\"row_count\":8715}]\n",
      "ai - PlaylistTrack, with 8,715 entries.\n"
     ]
    }
   ],
   "source": [
    "const question = \"Which table has the largest number of entries?\"\n",
    "const stream = await agent.stream({\n",
    "    messages: question\n",
    "}, {\n",
    "    stream_mode: \"values\",\n",
    "})\n",
    "\n",
    "for await (const step of stream) {\n",
    "    const lastMessage = step?.messages?.at(-1)\n",
    "    console.log(`${lastMessage.type} - ${lastMessage.content}`)\n",
    "}"
   ]
  },
  {
   "cell_type": "code",
   "execution_count": 9,
   "metadata": {},
   "outputs": [
    {
     "name": "stdout",
     "output_type": "stream",
     "text": [
      "human - Which genre on average has the longest tracks?\n",
      "ai - \n",
      "tool - [{\"name\":\"Album\"},{\"name\":\"Artist\"},{\"name\":\"Customer\"},{\"name\":\"Employee\"},{\"name\":\"Genre\"},{\"name\":\"Invoice\"},{\"name\":\"InvoiceLine\"},{\"name\":\"MediaType\"},{\"name\":\"Playlist\"},{\"name\":\"PlaylistTrack\"},{\"name\":\"Track\"}]\n",
      "ai - \n",
      "tool - [{\"Genre\":\"Sci Fi & Fantasy\",\"AvgMs\":2911783.0384615385}]\n",
      "ai - Sci Fi & Fantasy, with the highest average track length (about 2,911,783 ms ≈ 48.5 minutes).\n"
     ]
    }
   ],
   "source": [
    "const question = \"Which genre on average has the longest tracks?\"\n",
    "const stream = await agent.stream({\n",
    "    messages: question\n",
    "}, {\n",
    "    stream_mode: \"values\",\n",
    "})\n",
    "\n",
    "for await (const step of stream) {\n",
    "    const lastMessage = step?.messages?.at(-1)\n",
    "    console.log(`${lastMessage.type} - ${lastMessage.content}`)\n",
    "}"
   ]
  },
  {
   "cell_type": "code",
   "execution_count": 10,
   "metadata": {},
   "outputs": [
    {
     "name": "stdout",
     "output_type": "stream",
     "text": [
      "human - What are all the tables?\n",
      "ai - \n",
      "tool - [{\"name\":\"Album\"},{\"name\":\"Artist\"},{\"name\":\"Customer\"},{\"name\":\"Employee\"},{\"name\":\"Genre\"},{\"name\":\"Invoice\"},{\"name\":\"InvoiceLine\"},{\"name\":\"MediaType\"},{\"name\":\"Playlist\"},{\"name\":\"PlaylistTrack\"},{\"name\":\"Track\"}]\n",
      "ai - The database tables are:\n",
      "- Album\n",
      "- Artist\n",
      "- Customer\n",
      "- Employee\n",
      "- Genre\n",
      "- Invoice\n",
      "- InvoiceLine\n",
      "- MediaType\n",
      "- Playlist\n",
      "- PlaylistTrack\n",
      "- Track\n"
     ]
    }
   ],
   "source": [
    "const question = \"What are all the tables?\";\n",
    "const stream = await agent.stream({\n",
    "    messages: question\n",
    "}, {\n",
    "    stream_mode: \"values\",\n",
    "})\n",
    "\n",
    "for await (const step of stream) {\n",
    "    const lastMessage = step?.messages?.at(-1)\n",
    "    console.log(`${lastMessage.type} - ${lastMessage.content}`)\n",
    "}"
   ]
  }
 ],
 "metadata": {
  "kernelspec": {
   "display_name": "Deno",
   "language": "typescript",
   "name": "deno"
  },
  "language_info": {
   "codemirror_mode": "typescript",
   "file_extension": ".ts",
   "mimetype": "text/x.typescript",
   "name": "typescript",
   "nbconvert_exporter": "script",
   "pygments_lexer": "typescript",
   "version": "5.9.2"
  }
 },
 "nbformat": 4,
 "nbformat_minor": 5
}
