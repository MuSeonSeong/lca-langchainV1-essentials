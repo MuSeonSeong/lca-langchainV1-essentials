{
 "cells": [
  {
   "cell_type": "markdown",
   "id": "1d4691c6",
   "metadata": {},
   "source": [
    "# Fast Agent - Build a SQL Agent fast!\n",
    "\n",
    "<img src=\"./assets/LC_L1_top.png\" align=\"left\" width=\"500\">"
   ]
  },
  {
   "cell_type": "markdown",
   "id": "e1aa1375",
   "metadata": {},
   "source": [
    "First, let's set up our SQLite database connection using the Chinook sample database.\n"
   ]
  },
  {
   "cell_type": "code",
   "execution_count": null,
   "id": "a1801ad3",
   "metadata": {},
   "outputs": [],
   "source": [
    "import { SqlDatabase } from \"@langchain/classic/sql_db\";\n",
    "import { DataSource } from \"typeorm\";\n",
    "\n",
    "const datasource = new DataSource({\n",
    "    type: \"sqlite\",\n",
    "    database: \"./Chinook.db\", // Replace with the link to your database\n",
    "});\n",
    "const db = await SqlDatabase.fromDataSourceParams({\n",
    "    appDataSource: datasource,\n",
    "});"
   ]
  },
  {
   "cell_type": "markdown",
   "id": "518e1e17",
   "metadata": {},
   "source": [
    "Create a tool that executes SQL queries against our database.\n",
    "\n",
    "<b>⚠️ Security Note:</b> This demo does not include a filter on LLM-generated commands. In production, you would want to limit the scope of LLM-generated commands. ⚠️  "
   ]
  },
  {
   "cell_type": "code",
   "execution_count": null,
   "id": "923bb5b9",
   "metadata": {},
   "outputs": [],
   "source": [
    "import { tool } from \"langchain\";\n",
    "import { z } from \"zod\";\n",
    "\n",
    "export const executeSQL = tool(({ query }) => {\n",
    "    return db.run(query)\n",
    "}, {\n",
    "    name: \"execute_sql\",\n",
    "    description: \"Execute a SQLite command and return results.\",\n",
    "    schema: z.object({ query: z.string() })\n",
    "})"
   ]
  },
  {
   "cell_type": "markdown",
   "id": "8cc8c1c6",
   "metadata": {},
   "source": [
    "Define a system prompt with clear rules for the agent to follow when querying the database.\n"
   ]
  },
  {
   "cell_type": "code",
   "execution_count": null,
   "id": "74dde966",
   "metadata": {},
   "outputs": [],
   "source": [
    "export const systemPrompt = `You are a careful SQLite analyst.\n",
    "\n",
    "Rules:\n",
    "- Think step-by-step.\n",
    "- When you need data, call the tool \\`execute_sql\\` with ONE SELECT query.\n",
    "- Read-only only; no INSERT/UPDATE/DELETE/ALTER/DROP/CREATE/REPLACE/TRUNCATE.\n",
    "- Limit to 5 rows of output unless the user explicitly asks otherwise.\n",
    "- If the tool returns 'Error:', revise the SQL and try again.\n",
    "- Prefer explicit column lists; avoid SELECT *.`"
   ]
  },
  {
   "cell_type": "markdown",
   "id": "9bfffb7d",
   "metadata": {},
   "source": [
    "Now we can create our agent by combining the model, tools, and system prompt.\n"
   ]
  },
  {
   "cell_type": "code",
   "execution_count": null,
   "id": "15be7a23",
   "metadata": {},
   "outputs": [],
   "source": [
    "import * as dotenv from \"dotenv/config\";\n",
    "import { createAgent } from \"langchain\";\n",
    "\n",
    "const agent = createAgent({\n",
    "    model: \"openai:gpt-5\",\n",
    "    tools: [executeSQL],\n",
    "    systemPrompt,\n",
    "})"
   ]
  },
  {
   "cell_type": "markdown",
   "id": "872fb8a0",
   "metadata": {},
   "source": [
    "Let's visualize the agent's graph structure.\n"
   ]
  },
  {
   "cell_type": "code",
   "execution_count": null,
   "id": "6f821b52",
   "metadata": {},
   "outputs": [],
   "source": [
    "await agent.drawMermaidPng()"
   ]
  },
  {
   "cell_type": "markdown",
   "id": "38c085b0-ca61-4072-a1bb-df1f668933bd",
   "metadata": {},
   "source": [
    "Run some queries. Notice:\n",
    "- The agent does not have the database schema and will need to discover it independently.\n",
    "- The agent may make mistakes! By returning error messages, the agent can self-correct its queries.\n",
    "- Notice you invoke the agent with `agent.stream`.\n",
    "    - This command and the `pretty_print` display the **messages** that communicate information between the model and the tools.\n",
    "- Notice the agent doesn't remember the schema between invocations... More on this later!"
   ]
  },
  {
   "cell_type": "markdown",
   "id": "82ae3080",
   "metadata": {},
   "source": [
    "Time to test it! Let's ask which table has the most entries.\n"
   ]
  },
  {
   "cell_type": "code",
   "execution_count": null,
   "id": "35bedba9",
   "metadata": {},
   "outputs": [],
   "source": [
    "const question = \"Which table has the largest number of entries?\"\n",
    "const stream = await agent.stream({\n",
    "    messages: question\n",
    "}, {\n",
    "    stream_mode: \"values\",\n",
    "})\n",
    "\n",
    "for await (const step of stream) {\n",
    "    const lastMessage = step?.messages?.at(-1)\n",
    "    const content = lastMessage.content || `Tool calls: ${JSON.stringify(lastMessage.tool_calls.map(t => `${t.name}: ${JSON.stringify(t.args)}`).join(\", \"))}`;\n",
    "    console.log(`${lastMessage.type} - ${content}`)\n",
    "}"
   ]
  },
  {
   "cell_type": "markdown",
   "id": "5b1d48c5",
   "metadata": {},
   "source": [
    "Now let's try a more complex analytical query involving joins and aggregations.\n"
   ]
  },
  {
   "cell_type": "code",
   "execution_count": null,
   "id": "cb952fef",
   "metadata": {},
   "outputs": [],
   "source": [
    "const question = \"Which genre on average has the longest tracks?\"\n",
    "const stream = await agent.stream({\n",
    "    messages: question\n",
    "}, {\n",
    "    stream_mode: \"values\",\n",
    "})\n",
    "\n",
    "for await (const step of stream) {\n",
    "    const lastMessage = step?.messages?.at(-1)\n",
    "    const content = lastMessage.content || `Tool calls: ${JSON.stringify(lastMessage.tool_calls.map(t => `${t.name}: ${JSON.stringify(t.args)}`).join(\", \"))}`;\n",
    "    console.log(`${lastMessage.type} - ${content}`)\n",
    "}"
   ]
  },
  {
   "cell_type": "markdown",
   "id": "874a53dd",
   "metadata": {},
   "source": [
    "Let's ask for a simple list of all tables in the database.\n"
   ]
  },
  {
   "cell_type": "code",
   "execution_count": null,
   "id": "7a405b5f",
   "metadata": {},
   "outputs": [],
   "source": [
    "const question = \"What are all the tables?\";\n",
    "const stream = await agent.stream({\n",
    "    messages: question\n",
    "}, {\n",
    "    stream_mode: \"values\",\n",
    "})\n",
    "\n",
    "for await (const step of stream) {\n",
    "    const lastMessage = step?.messages?.at(-1)\n",
    "    const content = lastMessage.content || `Tool calls: ${JSON.stringify(lastMessage.tool_calls.map(t => `${t.name}: ${JSON.stringify(t.args)}`).join(\", \"))}`;\n",
    "    console.log(`${lastMessage.type} - ${content}`)\n",
    "}"
   ]
  },
  {
   "cell_type": "markdown",
   "id": "b8f67e25-6b07-43ef-b1a8-cda78ed2da45",
   "metadata": {},
   "source": [
    "### Let's try this in the agent debugger!"
   ]
  },
  {
   "cell_type": "code",
   "execution_count": null,
   "id": "e1d90a9c-7075-4e2f-92f9-cc64be6ccee5",
   "metadata": {},
   "outputs": [],
   "source": []
  }
 ],
 "metadata": {
  "kernelspec": {
   "display_name": "Deno",
   "language": "typescript",
   "name": "deno"
  },
  "language_info": {
   "codemirror_mode": "typescript",
   "file_extension": ".ts",
   "mimetype": "text/x.typescript",
   "name": "typescript",
   "nbconvert_exporter": "script",
   "pygments_lexer": "typescript",
   "version": "5.9.2"
  }
 },
 "nbformat": 4,
 "nbformat_minor": 5
}
