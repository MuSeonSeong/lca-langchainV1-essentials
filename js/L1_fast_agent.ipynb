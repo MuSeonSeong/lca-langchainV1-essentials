{
 "cells": [
  {
   "cell_type": "markdown",
   "id": "1d4691c6",
   "metadata": {},
   "source": [
    "## Fast Agent"
   ]
  },
  {
   "cell_type": "markdown",
   "id": "505bd4a2",
   "metadata": {},
   "source": [
    "<img src=\"../python/assets/LC_L1_top.png\" align=\"left\" width=\"500\" />"
   ]
  },
  {
   "cell_type": "markdown",
   "id": "e1aa1375",
   "metadata": {},
   "source": [
    "First, let's set up our SQLite database connection using the Chinook sample database.\n"
   ]
  },
  {
   "cell_type": "code",
   "execution_count": 17,
   "id": "a1801ad3",
   "metadata": {},
   "outputs": [],
   "source": [
    "import * as setup from \"./setup.ts\";\n",
    "import { SqlDatabase } from \"@langchain/classic/sql_db\";\n",
    "import { DataSource } from \"typeorm\";\n",
    "\n",
    "const datasource = new DataSource({\n",
    "    type: \"sqlite\",\n",
    "    database: \"./Chinook.db\", // Replace with the link to your database\n",
    "});\n",
    "const db = await SqlDatabase.fromDataSourceParams({\n",
    "    appDataSource: datasource,\n",
    "});"
   ]
  },
  {
   "cell_type": "markdown",
   "id": "518e1e17",
   "metadata": {},
   "source": [
    "Create a tool that executes SQL queries against our database.\n",
    "\n",
    "<b>⚠️ Security Note:</b> This demo does not include a filter on LLM-generated commands. In production, you would want to limit the scope of LLM-generated commands. ⚠️\n"
   ]
  },
  {
   "cell_type": "code",
   "execution_count": 18,
   "id": "923bb5b9",
   "metadata": {},
   "outputs": [],
   "source": [
    "import { tool } from \"langchain\";\n",
    "import { z } from \"zod\";\n",
    "\n",
    "export const executeSQL = tool(({ query }, runtime) => {\n",
    "    return runtime.context.db.run(query)\n",
    "}, {\n",
    "    name: \"execute_sql\",\n",
    "    description: \"Execute a SQLite command and return results.\",\n",
    "    schema: z.object({ query: z.string() })\n",
    "})"
   ]
  },
  {
   "cell_type": "markdown",
   "id": "8cc8c1c6",
   "metadata": {},
   "source": [
    "Define a system prompt with clear rules for the agent to follow when querying the database.\n"
   ]
  },
  {
   "cell_type": "code",
   "execution_count": 19,
   "id": "74dde966",
   "metadata": {},
   "outputs": [],
   "source": [
    "export const systemPrompt = `You are a careful SQLite analyst.\n",
    "\n",
    "Rules:\n",
    "- Think step-by-step.\n",
    "- When you need data, call the tool \\`execute_sql\\` with ONE SELECT query.\n",
    "- Read-only only; no INSERT/UPDATE/DELETE/ALTER/DROP/CREATE/REPLACE/TRUNCATE.\n",
    "- Limit to 5 rows of output unless the user explicitly asks otherwise.\n",
    "- If the tool returns 'Error:', revise the SQL and try again.\n",
    "- Prefer explicit column lists; avoid SELECT *.`"
   ]
  },
  {
   "cell_type": "markdown",
   "id": "9bfffb7d",
   "metadata": {},
   "source": [
    "Now we can create our agent by combining the model, tools, and system prompt.\n"
   ]
  },
  {
   "cell_type": "code",
   "execution_count": 20,
   "id": "15be7a23",
   "metadata": {},
   "outputs": [],
   "source": [
    "import * as z from \"zod\";\n",
    "import { createAgent } from \"langchain\";\n",
    "\n",
    "const contextSchema = z.object({\n",
    "    db: z.instanceof(SqlDatabase),\n",
    "});\n",
    "\n",
    "const agent = createAgent({\n",
    "    model: \"anthropic:claude-sonnet-4-5-20250929\",\n",
    "    tools: [executeSQL],\n",
    "    systemPrompt,\n",
    "    contextSchema,\n",
    "});"
   ]
  },
  {
   "cell_type": "markdown",
   "id": "872fb8a0",
   "metadata": {},
   "source": [
    "Let's visualize the agent's graph structure.\n"
   ]
  },
  {
   "cell_type": "code",
   "execution_count": 21,
   "metadata": {},
   "outputs": [
    {
     "data": {
      "image/png": "[encoded data removed]"
     },
     "execution_count": 21,
     "metadata": {},
     "output_type": "execute_result"
    }
   ],
   "source": [
    "await agent.drawMermaidPng()"
   ]
  },
  {
   "cell_type": "markdown",
   "id": "8cda5eb6",
   "metadata": {},
   "source": [
    "Run some queries. Notice:\n",
    "- The agent does not have the database schema and will need to discover it independently.\n",
    "- The agent may make mistakes! By returning error messages, the agent can self-correct its queries.\n",
    "- Notice you invoke the agent with `agent.stream`.\n",
    "- Notice the agent doesn't remember the schema between invocations... More on this later!"
   ]
  },
  {
   "cell_type": "markdown",
   "id": "82ae3080",
   "metadata": {},
   "source": [
    "Time to test it! Let's ask which table has the most entries.\n"
   ]
  },
  {
   "cell_type": "code",
   "execution_count": null,
   "id": "35bedba9",
   "metadata": {},
   "outputs": [
    {
     "name": "stdout",
     "output_type": "stream",
     "text": [
      "\n",
      "\u001b[36m┌────────────────────────────────────────────────────────────┐\u001b[0m\n",
      "\u001b[36m│ 👤 HUMAN MESSAGE                                           │\u001b[0m\n",
      "\u001b[36m└────────────────────────────────────────────────────────────┘\u001b[0m\n",
      "Which table has the largest number of entries?\n",
      "\n",
      "\u001b[35m┌────────────────────────────────────────────────────────────┐\u001b[0m\n",
      "\u001b[35m│ 🤖 AI MESSAGE                                              │\u001b[0m\n",
      "\u001b[35m└────────────────────────────────────────────────────────────┘\u001b[0m\n",
      "[\n",
      "  {\n",
      "    type: \"text\",\n",
      "    text: \"I'll help you find which table has the largest number of entries. First, let me see what tables are available in the database.\"\n",
      "  },\n",
      "  {\n",
      "    type: \"tool_use\",\n",
      "    id: \"toolu_01UQW349B7SEbSguSshaz5EZ\",\n",
      "    name: \"execute_sql\",\n",
      "    input: { query: \"SELECT name FROM sqlite_master WHERE type='table'\" }\n",
      "  }\n",
      "]\n",
      "\n",
      "\u001b[33m┌────────────────────────────────────────────────────────────┐\u001b[0m\n",
      "\u001b[33m│ 🔧 TOOL MESSAGE                                            │\u001b[0m\n",
      "\u001b[33m└────────────────────────────────────────────────────────────┘\u001b[0m\n",
      "[{\"name\":\"Album\"},{\"name\":\"Artist\"},{\"name\":\"Customer\"},{\"name\":\"Employee\"},{\"name\":\"Genre\"},{\"name\":\"Invoice\"},{\"name\":\"InvoiceLine\"},{\"name\":\"MediaType\"},{\"name\":\"Playlist\"},{\"name\":\"PlaylistTrack\"},{\"name\":\"Track\"}]\n",
      "\n",
      "\u001b[35m┌────────────────────────────────────────────────────────────┐\u001b[0m\n",
      "\u001b[35m│ 🤖 AI MESSAGE                                              │\u001b[0m\n",
      "\u001b[35m└────────────────────────────────────────────────────────────┘\u001b[0m\n",
      "[\n",
      "  {\n",
      "    type: \"text\",\n",
      "    text: \"Now let me count the number of entries in each table:\"\n",
      "  },\n",
      "  {\n",
      "    type: \"tool_use\",\n",
      "    id: \"toolu_011YM4kBRnCAjDsnjQFGfAFh\",\n",
      "    name: \"execute_sql\",\n",
      "    input: {\n",
      "      query: \"SELECT 'Album' as table_name, COUNT(*) as entry_count FROM Album\\n\" +\n",
      "        \"UNION ALL SELECT 'Artist', COUNT(*) FROM Artist\\n\" +\n",
      "        \"UNION ALL SELECT 'Customer', COUNT(*) FROM Customer\\n\" +\n",
      "        \"UNION ALL SELECT 'Employee', COUNT(*) FROM Employee\\n\" +\n",
      "        \"UNION ALL SELECT 'Genre', COUNT(*) FROM Genre\\n\" +\n",
      "        \"UNION ALL SELECT 'Invoice', COUNT(*) FROM Invoice\\n\" +\n",
      "        \"UNION ALL SELECT 'InvoiceLine', COUNT(*) FROM InvoiceLine\\n\" +\n",
      "        \"UNION ALL SELECT 'MediaType', COUNT(*) FROM MediaType\\n\" +\n",
      "        \"UNION ALL SELECT 'Playlist', COUNT(*) FROM Playlist\\n\" +\n",
      "        \"UNION ALL SELECT 'PlaylistTrack', COUNT(*) FROM PlaylistTrack\\n\" +\n",
      "        \"UNION ALL SELECT 'Track', COUNT(*) FROM Track\\n\" +\n",
      "        \"ORDER BY entry_count DESC\"\n",
      "    }\n",
      "  }\n",
      "]\n",
      "\n",
      "\u001b[33m┌────────────────────────────────────────────────────────────┐\u001b[0m\n",
      "\u001b[33m│ 🔧 TOOL MESSAGE                                            │\u001b[0m\n",
      "\u001b[33m└────────────────────────────────────────────────────────────┘\u001b[0m\n",
      "[{\"table_name\":\"PlaylistTrack\",\"entry_count\":8715},{\"table_name\":\"Track\",\"entry_count\":3503},{\"table_name\":\"InvoiceLine\",\"entry_count\":2240},{\"table_name\":\"Invoice\",\"entry_count\":412},{\"table_name\":\"Album\",\"entry_count\":347},{\"table_name\":\"Artist\",\"entry_count\":275},{\"table_name\":\"Customer\",\"entry_count\":59},{\"table_name\":\"Genre\",\"entry_count\":25},{\"table_name\":\"Playlist\",\"entry_count\":18},{\"table_name\":\"Employee\",\"entry_count\":8},{\"table_name\":\"MediaType\",\"entry_count\":5}]\n",
      "\n",
      "\u001b[35m┌────────────────────────────────────────────────────────────┐\u001b[0m\n",
      "\u001b[35m│ 🤖 AI MESSAGE                                              │\u001b[0m\n",
      "\u001b[35m└────────────────────────────────────────────────────────────┘\u001b[0m\n",
      "The **PlaylistTrack** table has the largest number of entries with **8,715 rows**. \n",
      "\n",
      "This is followed by the Track table (3,503 entries) and InvoiceLine table (2,240 entries). The PlaylistTrack table has significantly more entries than any other table in the database.\n"
     ]
    }
   ],
   "source": [
    "const stream = await agent.stream({\n",
    "    messages: \"Which table has the largest number of entries?\"\n",
    "}, {\n",
    "    streamMode: \"values\",\n",
    "    context: {\n",
    "        db,\n",
    "    }\n",
    "})\n",
    "\n",
    "for await (const step of stream) {\n",
    "    const lastMessage = step?.messages?.at(-1)\n",
    "    displayMessage(lastMessage)\n",
    "}"
   ]
  },
  {
   "cell_type": "markdown",
   "id": "5b1d48c5",
   "metadata": {},
   "source": [
    "Now let's try a more complex analytical query involving joins and aggregations.\n"
   ]
  },
  {
   "cell_type": "code",
   "execution_count": 23,
   "metadata": {},
   "outputs": [
    {
     "name": "stdout",
     "output_type": "stream",
     "text": [
      "\n",
      "\u001b[36m┌────────────────────────────────────────────────────────────┐\u001b[0m\n",
      "\u001b[36m│ 👤 HUMAN MESSAGE                                           │\u001b[0m\n",
      "\u001b[36m└────────────────────────────────────────────────────────────┘\u001b[0m\n",
      "Which genre on average has the longest tracks?\n",
      "\n",
      "\u001b[35m┌────────────────────────────────────────────────────────────┐\u001b[0m\n",
      "\u001b[35m│ 🤖 AI MESSAGE                                              │\u001b[0m\n",
      "\u001b[35m└────────────────────────────────────────────────────────────┘\u001b[0m\n",
      "[\n",
      "  {\n",
      "    type: \"text\",\n",
      "    text: \"I'll help you find which genre has the longest tracks on average. Let me start by exploring the database structure to understand the tables and their relationships.\"\n",
      "  },\n",
      "  {\n",
      "    type: \"tool_use\",\n",
      "    id: \"toolu_01E21SLQ7e2eooK63wP3uN6V\",\n",
      "    name: \"execute_sql\",\n",
      "    input: { query: \"SELECT name FROM sqlite_master WHERE type='table';\" }\n",
      "  }\n",
      "]\n",
      "\n",
      "\u001b[33m┌────────────────────────────────────────────────────────────┐\u001b[0m\n",
      "\u001b[33m│ 🔧 TOOL MESSAGE                                            │\u001b[0m\n",
      "\u001b[33m└────────────────────────────────────────────────────────────┘\u001b[0m\n",
      "[{\"name\":\"Album\"},{\"name\":\"Artist\"},{\"name\":\"Customer\"},{\"name\":\"Employee\"},{\"name\":\"Genre\"},{\"name\":\"Invoice\"},{\"name\":\"InvoiceLine\"},{\"name\":\"MediaType\"},{\"name\":\"Playlist\"},{\"name\":\"PlaylistTrack\"},{\"name\":\"Track\"}]\n",
      "\n",
      "\u001b[35m┌────────────────────────────────────────────────────────────┐\u001b[0m\n",
      "\u001b[35m│ 🤖 AI MESSAGE                                              │\u001b[0m\n",
      "\u001b[35m└────────────────────────────────────────────────────────────┘\u001b[0m\n",
      "[\n",
      "  {\n",
      "    type: \"text\",\n",
      "    text: \"Now let me look at the structure of the Genre and Track tables:\"\n",
      "  },\n",
      "  {\n",
      "    type: \"tool_use\",\n",
      "    id: \"toolu_016qWUn3jhQYRPSeRYZEwMK6\",\n",
      "    name: \"execute_sql\",\n",
      "    input: {\n",
      "      query: \"SELECT sql FROM sqlite_master WHERE type='table' AND name IN ('Genre', 'Track');\"\n",
      "    }\n",
      "  }\n",
      "]\n",
      "\n",
      "\u001b[33m┌────────────────────────────────────────────────────────────┐\u001b[0m\n",
      "\u001b[33m│ 🔧 TOOL MESSAGE                                            │\u001b[0m\n",
      "\u001b[33m└────────────────────────────────────────────────────────────┘\u001b[0m\n",
      "[{\"sql\":\"CREATE TABLE [Genre]\\n(\\n    [GenreId] INTEGER  NOT NULL,\\n    [Name] NVARCHAR(120),\\n    CONSTRAINT [PK_Genre] PRIMARY KEY  ([GenreId])\\n)\"},{\"sql\":\"CREATE TABLE [Track]\\n(\\n    [TrackId] INTEGER  NOT NULL,\\n    [Name] NVARCHAR(200)  NOT NULL,\\n    [AlbumId] INTEGER,\\n    [MediaTypeId] INTEGER  NOT NULL,\\n    [GenreId] INTEGER,\\n    [Composer] NVARCHAR(220),\\n    [Milliseconds] INTEGER  NOT NULL,\\n    [Bytes] INTEGER,\\n    [UnitPrice] NUMERIC(10,2)  NOT NULL,\\n    CONSTRAINT [PK_Track] PRIMARY KEY  ([TrackId]),\\n    FOREIGN KEY ([AlbumId]) REFERENCES [Album] ([AlbumId]) \\n\\t\\tON DELETE NO ACTION ON UPDATE NO ACTION,\\n    FOREIGN KEY ([GenreId]) REFERENCES [Genre] ([GenreId]) \\n\\t\\tON DELETE NO ACTION ON UPDATE NO ACTION,\\n    FOREIGN KEY ([MediaTypeId]) REFERENCES [MediaType] ([MediaTypeId]) \\n\\t\\tON DELETE NO ACTION ON UPDATE NO ACTION\\n)\"}]\n",
      "\n",
      "\u001b[35m┌────────────────────────────────────────────────────────────┐\u001b[0m\n",
      "\u001b[35m│ 🤖 AI MESSAGE                                              │\u001b[0m\n",
      "\u001b[35m└────────────────────────────────────────────────────────────┘\u001b[0m\n",
      "[\n",
      "  {\n",
      "    type: \"text\",\n",
      "    text: \"Perfect! I can see that the Track table has a Milliseconds column (track length) and a GenreId column. Now let me calculate the average track length for each genre:\"\n",
      "  },\n",
      "  {\n",
      "    type: \"tool_use\",\n",
      "    id: \"toolu_01GybnAWthdnmxyX1c5zx3TS\",\n",
      "    name: \"execute_sql\",\n",
      "    input: {\n",
      "      query: \"SELECT g.Name AS Genre, AVG(t.Milliseconds) AS AvgMilliseconds, COUNT(t.TrackId) AS TrackCount FROM Track t JOIN Genre g ON t.GenreId = g.GenreId GROUP BY g.GenreId, g.Name ORDER BY AvgMilliseconds DESC LIMIT 5;\"\n",
      "    }\n",
      "  }\n",
      "]\n",
      "\n",
      "\u001b[33m┌────────────────────────────────────────────────────────────┐\u001b[0m\n",
      "\u001b[33m│ 🔧 TOOL MESSAGE                                            │\u001b[0m\n",
      "\u001b[33m└────────────────────────────────────────────────────────────┘\u001b[0m\n",
      "[{\"Genre\":\"Sci Fi & Fantasy\",\"AvgMilliseconds\":2911783.0384615385,\"TrackCount\":26},{\"Genre\":\"Science Fiction\",\"AvgMilliseconds\":2625549.076923077,\"TrackCount\":13},{\"Genre\":\"Drama\",\"AvgMilliseconds\":2575283.78125,\"TrackCount\":64},{\"Genre\":\"TV Shows\",\"AvgMilliseconds\":2145041.0215053763,\"TrackCount\":93},{\"Genre\":\"Comedy\",\"AvgMilliseconds\":1585263.705882353,\"TrackCount\":17}]\n",
      "\n",
      "\u001b[35m┌────────────────────────────────────────────────────────────┐\u001b[0m\n",
      "\u001b[35m│ 🤖 AI MESSAGE                                              │\u001b[0m\n",
      "\u001b[35m└────────────────────────────────────────────────────────────┘\u001b[0m\n",
      "**Answer: The genre with the longest tracks on average is \"Sci Fi & Fantasy\"** with an average track length of approximately **2,911,783 milliseconds** (about **48.5 minutes**).\n",
      "\n",
      "Here are the top 5 genres by average track length:\n",
      "\n",
      "1. **Sci Fi & Fantasy** - ~48.5 minutes average (26 tracks)\n",
      "2. **Science Fiction** - ~43.8 minutes average (13 tracks)\n",
      "3. **Drama** - ~42.9 minutes average (64 tracks)\n",
      "4. **TV Shows** - ~35.8 minutes average (93 tracks)\n",
      "5. **Comedy** - ~26.4 minutes average (17 tracks)\n",
      "\n",
      "These longer averages make sense as they represent genres that often include full episodes or longer audio content rather than typical music tracks.\n"
     ]
    }
   ],
   "source": [
    "const question = \"Which genre on average has the longest tracks?\"\n",
    "const stream = await agent.stream({\n",
    "    messages: question\n",
    "}, {\n",
    "    streamMode: \"values\",\n",
    "    context: {\n",
    "        db,\n",
    "    }\n",
    "})\n",
    "\n",
    "for await (const step of stream) {\n",
    "    const lastMessage = step?.messages?.at(-1)\n",
    "    displayMessage(lastMessage)\n",
    "}"
   ]
  },
  {
   "cell_type": "markdown",
   "id": "874a53dd",
   "metadata": {},
   "source": [
    "Let's ask for a simple list of all tables in the database.\n"
   ]
  },
  {
   "cell_type": "code",
   "execution_count": 24,
   "metadata": {},
   "outputs": [
    {
     "name": "stdout",
     "output_type": "stream",
     "text": [
      "\n",
      "\u001b[36m┌────────────────────────────────────────────────────────────┐\u001b[0m\n",
      "\u001b[36m│ 👤 HUMAN MESSAGE                                           │\u001b[0m\n",
      "\u001b[36m└────────────────────────────────────────────────────────────┘\u001b[0m\n",
      "What are all the tables?\n",
      "\n",
      "\u001b[35m┌────────────────────────────────────────────────────────────┐\u001b[0m\n",
      "\u001b[35m│ 🤖 AI MESSAGE                                              │\u001b[0m\n",
      "\u001b[35m└────────────────────────────────────────────────────────────┘\u001b[0m\n",
      "[\n",
      "  {\n",
      "    type: \"text\",\n",
      "    text: \"I'll query the SQLite system table to find all the tables in the database.\"\n",
      "  },\n",
      "  {\n",
      "    type: \"tool_use\",\n",
      "    id: \"toolu_01LxfqVjVy3gzSNYKYCgSSE6\",\n",
      "    name: \"execute_sql\",\n",
      "    input: {\n",
      "      query: \"SELECT name FROM sqlite_master WHERE type='table' ORDER BY name\"\n",
      "    }\n",
      "  }\n",
      "]\n",
      "\n",
      "\u001b[33m┌────────────────────────────────────────────────────────────┐\u001b[0m\n",
      "\u001b[33m│ 🔧 TOOL MESSAGE                                            │\u001b[0m\n",
      "\u001b[33m└────────────────────────────────────────────────────────────┘\u001b[0m\n",
      "[{\"name\":\"Album\"},{\"name\":\"Artist\"},{\"name\":\"Customer\"},{\"name\":\"Employee\"},{\"name\":\"Genre\"},{\"name\":\"Invoice\"},{\"name\":\"InvoiceLine\"},{\"name\":\"MediaType\"},{\"name\":\"Playlist\"},{\"name\":\"PlaylistTrack\"},{\"name\":\"Track\"}]\n",
      "\n",
      "\u001b[35m┌────────────────────────────────────────────────────────────┐\u001b[0m\n",
      "\u001b[35m│ 🤖 AI MESSAGE                                              │\u001b[0m\n",
      "\u001b[35m└────────────────────────────────────────────────────────────┘\u001b[0m\n",
      "The database contains the following **11 tables**:\n",
      "\n",
      "1. **Album**\n",
      "2. **Artist**\n",
      "3. **Customer**\n",
      "4. **Employee**\n",
      "5. **Genre**\n",
      "6. **Invoice**\n",
      "7. **InvoiceLine**\n",
      "8. **MediaType**\n",
      "9. **Playlist**\n",
      "10. **PlaylistTrack**\n",
      "11. **Track**\n",
      "\n",
      "This appears to be a music store database with tables for managing artists, albums, tracks, customers, invoices, and playlists.\n"
     ]
    }
   ],
   "source": [
    "const question = \"What are all the tables?\";\n",
    "const stream = await agent.stream({\n",
    "    messages: question\n",
    "}, {\n",
    "    streamMode: \"values\",\n",
    "    context: {\n",
    "        db,\n",
    "    }\n",
    "})\n",
    "\n",
    "for await (const step of stream) {\n",
    "    const lastMessage = step?.messages?.at(-1)\n",
    "    displayMessage(lastMessage)\n",
    "}"
   ]
  },
  {
   "cell_type": "markdown",
   "id": "aa33ed94",
   "metadata": {},
   "source": [
    "## Let's try this in the agent debugger!"
   ]
  }
 ],
 "metadata": {
  "kernelspec": {
   "display_name": "Deno",
   "language": "typescript",
   "name": "deno"
  },
  "language_info": {
   "codemirror_mode": "typescript",
   "file_extension": ".ts",
   "mimetype": "text/x.typescript",
   "name": "typescript",
   "nbconvert_exporter": "script",
   "pygments_lexer": "typescript",
   "version": "5.9.2"
  }
 },
 "nbformat": 4,
 "nbformat_minor": 5
}
