{
 "cells": [
  {
   "cell_type": "markdown",
   "id": "04f4d84b",
   "metadata": {},
   "source": [
    "# Dynamic\n",
    "## Dynamic Prompt"
   ]
  },
  {
   "cell_type": "code",
   "execution_count": 1,
   "id": "05565f26",
   "metadata": {},
   "outputs": [],
   "source": [
    "import { SqlDatabase } from \"@langchain/classic/sql_db\";\n",
    "import { DataSource } from \"typeorm\";\n",
    "\n",
    "const datasource = new DataSource({\n",
    "    type: \"sqlite\",\n",
    "    database: \"./Chinook.db\", // Replace with the link to your database\n",
    "});\n",
    "const db = await SqlDatabase.fromDataSourceParams({\n",
    "    appDataSource: datasource,\n",
    "});"
   ]
  },
  {
   "cell_type": "code",
   "execution_count": 2,
   "id": "9986b5c1",
   "metadata": {},
   "outputs": [],
   "source": [
    "import { tool } from \"langchain\";\n",
    "import { z } from \"zod\";\n",
    "\n",
    "export const executeSQL = tool(({ query }) => {\n",
    "    return db.run(query)\n",
    "}, {\n",
    "    name: \"execute_sql\",\n",
    "    description: \"Execute a SQLite command and return results.\",\n",
    "    schema: z.object({ query: z.string() })\n",
    "})"
   ]
  },
  {
   "cell_type": "code",
   "execution_count": 3,
   "id": "a2c08c0e",
   "metadata": {},
   "outputs": [],
   "source": [
    "import { z } from \"zod\";\n",
    "\n",
    "const RuntimeContext = z.object({\n",
    "    isEmployee: z.boolean()\n",
    "});\n",
    "type RuntimeContext = z.infer<typeof RuntimeContext>;"
   ]
  },
  {
   "cell_type": "code",
   "execution_count": 4,
   "id": "e7382970",
   "metadata": {},
   "outputs": [],
   "source": [
    "const SYSTEM = `You are a careful SQLite analyst.\n",
    "\n",
    "Rules:\n",
    "- Think step-by-step.\n",
    "- When you need data, call the tool \\`execute_sql\\` with ONE SELECT query.\n",
    "- Read-only only; no INSERT/UPDATE/DELETE/ALTER/DROP/CREATE/REPLACE/TRUNCATE.\n",
    "- Limit to 5 rows unless the user explicitly asks otherwise.\n",
    "%s\n",
    "- If the tool returns 'Error:', revise the SQL and try again.\n",
    "- Prefer explicit column lists; avoid SELECT *.`"
   ]
  },
  {
   "cell_type": "code",
   "execution_count": 5,
   "id": "99993f35",
   "metadata": {},
   "outputs": [],
   "source": [
    "import { dynamicSystemPromptMiddleware, type ModelRequest, type AgentState, type Runtime } from \"langchain\";\n",
    "\n",
    "const dynamicSystemPrompt = dynamicSystemPromptMiddleware((state: AgentState, runtime: Runtime<RuntimeContext>) => {\n",
    "    return !runtime.context.isEmployee\n",
    "        ? \"- Limit access to these tables: Album, Artist, Genre, Playlist, PlaylistTrack, Track.\"\n",
    "        : \"\"\n",
    "})"
   ]
  },
  {
   "cell_type": "code",
   "execution_count": 7,
   "id": "b4f01163",
   "metadata": {},
   "outputs": [],
   "source": [
    "import * as dotenv from \"dotenv/config\";\n",
    "import { createAgent } from \"langchain\";\n",
    "\n",
    "const agent = createAgent({\n",
    "    model: \"openai:gpt-5\",\n",
    "    tools: [executeSQL],\n",
    "    systemPrompt: SYSTEM,\n",
    "    contextSchema: RuntimeContext,\n",
    "    middleware: [dynamicSystemPrompt]\n",
    "})"
   ]
  },
  {
   "cell_type": "code",
   "execution_count": 8,
   "id": "7aa0af5a",
   "metadata": {},
   "outputs": [
    {
     "data": {
      "text/plain": [
       "\u001b[32m\"I can’t directly look that up with the tables I’m allowed to access. To find “the most costly purchase by Frank Harris,” I’d need access to the Customer, Invoice, and InvoiceLine tables.\\n\"\u001b[39m +\n",
       "  \u001b[32m\"\\n\"\u001b[39m +\n",
       "  \u001b[32m\"Could you confirm what you mean by “most costly purchase”?\\n\"\u001b[39m +\n",
       "  \u001b[32m\"- Largest single invoice total he paid\\n\"\u001b[39m +\n",
       "  \u001b[32m\"- Most expensive single item (track) he bought\\n\"\u001b[39m +\n",
       "  \u001b[32m\"- His total lifetime spend\\n\"\u001b[39m +\n",
       "  \u001b[32m\"\\n\"\u001b[39m +\n",
       "  \u001b[32m\"If you grant access to Customer, Invoice, and InvoiceLine, I can run the query. Otherwise, I can share the exact SQL you (or your DBA) can run.\"\u001b[39m"
      ]
     },
     "execution_count": 8,
     "metadata": {},
     "output_type": "execute_result"
    }
   ],
   "source": [
    "import { HumanMessage } from \"langchain\";\n",
    "\n",
    "const question = new HumanMessage(\"What is the most costly purchase by Frank Harris?\");\n",
    "\n",
    "const result = await agent.invoke({\n",
    "    messages: [question]\n",
    "}, {\n",
    "    context: {\n",
    "        isEmployee: false\n",
    "    }\n",
    "});\n",
    "\n",
    "result.messages.at(-1).content;"
   ]
  },
  {
   "cell_type": "code",
   "execution_count": 9,
   "id": "7801abea",
   "metadata": {},
   "outputs": [
    {
     "data": {
      "text/plain": [
       "\u001b[32m\"Frank Harris’s most costly purchase was $13.86 (Invoice #145 on 2010-09-23).\"\u001b[39m"
      ]
     },
     "execution_count": 9,
     "metadata": {},
     "output_type": "execute_result"
    }
   ],
   "source": [
    "import { HumanMessage } from \"langchain\";\n",
    "\n",
    "const question = new HumanMessage(\"What is the most costly purchase by Frank Harris?\");\n",
    "\n",
    "const result = await agent.invoke({\n",
    "    messages: [question]\n",
    "}, {\n",
    "    context: {\n",
    "        isEmployee: true\n",
    "    }\n",
    "});\n",
    "\n",
    "result.messages.at(-1).content;"
   ]
  }
 ],
 "metadata": {
  "kernelspec": {
   "display_name": "Deno",
   "language": "typescript",
   "name": "deno"
  },
  "language_info": {
   "codemirror_mode": "typescript",
   "file_extension": ".ts",
   "mimetype": "text/x.typescript",
   "name": "typescript",
   "nbconvert_exporter": "script",
   "pygments_lexer": "typescript",
   "version": "5.9.2"
  }
 },
 "nbformat": 4,
 "nbformat_minor": 5
}
