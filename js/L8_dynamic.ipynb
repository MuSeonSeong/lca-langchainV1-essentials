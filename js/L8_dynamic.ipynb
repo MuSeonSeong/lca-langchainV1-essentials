{
 "cells": [
  {
   "cell_type": "markdown",
   "id": "04f4d84b",
   "metadata": {},
   "source": [
    "# Dynamic\n",
    "## Dynamic Prompt"
   ]
  },
  {
   "cell_type": "code",
   "execution_count": null,
   "id": "05565f26",
   "metadata": {},
   "outputs": [],
   "source": [
    "import { SqlDatabase } from \"@langchain/classic/sql_db\";\n",
    "import { DataSource } from \"typeorm\";\n",
    "\n",
    "const datasource = new DataSource({\n",
    "    type: \"sqlite\",\n",
    "    database: \"./Chinook.db\", // Replace with the link to your database\n",
    "});\n",
    "const db = await SqlDatabase.fromDataSourceParams({\n",
    "    appDataSource: datasource,\n",
    "});"
   ]
  },
  {
   "cell_type": "code",
   "execution_count": null,
   "id": "9986b5c1",
   "metadata": {},
   "outputs": [],
   "source": [
    "import { tool } from \"langchain\";\n",
    "import { z } from \"zod\";\n",
    "\n",
    "export const executeSQL = tool(({ query }) => {\n",
    "    return db.run(query)\n",
    "}, {\n",
    "    name: \"execute_sql\",\n",
    "    description: \"Execute a SQLite command and return results.\",\n",
    "    schema: z.object({ query: z.string() })\n",
    "})"
   ]
  },
  {
   "cell_type": "code",
   "execution_count": null,
   "id": "a2c08c0e",
   "metadata": {},
   "outputs": [],
   "source": [
    "import { z } from \"zod\";\n",
    "\n",
    "const RuntimeContext = z.object({\n",
    "    isEmployee: z.boolean()\n",
    "});\n",
    "type RuntimeContext = z.infer<typeof RuntimeContext>;"
   ]
  },
  {
   "cell_type": "code",
   "execution_count": null,
   "id": "e7382970",
   "metadata": {},
   "outputs": [],
   "source": [
    "const SYSTEM = `You are a careful SQLite analyst.\n",
    "\n",
    "Rules:\n",
    "- Think step-by-step.\n",
    "- When you need data, call the tool \\`execute_sql\\` with ONE SELECT query.\n",
    "- Read-only only; no INSERT/UPDATE/DELETE/ALTER/DROP/CREATE/REPLACE/TRUNCATE.\n",
    "- Limit to 5 rows unless the user explicitly asks otherwise.\n",
    "%s\n",
    "- If the tool returns 'Error:', revise the SQL and try again.\n",
    "- Prefer explicit column lists; avoid SELECT *.`"
   ]
  },
  {
   "cell_type": "code",
   "execution_count": null,
   "id": "99993f35",
   "metadata": {},
   "outputs": [],
   "source": [
    "import { format } from \"node:util\";\n",
    "import { dynamicSystemPrompt, type ModelRequest, type AgentState, type Runtime } from \"langchain\";\n",
    "\n",
    "const dynamicSystemPromptMiddleware = dynamicSystemPrompt((request: ModelRequest, state: AgentState, runtime: Runtime<RuntimeContext>) => {\n",
    "    const limits = !runtime.context.isEmployee\n",
    "        ? \"- Limit access to these tables: Album, Artist, Genre, Playlist, PlaylistTrack, Track.\"\n",
    "        : \"\"\n",
    "    return {\n",
    "        ...request,\n",
    "        systemPrompt: format(request.systemPrompt, limits)\n",
    "    }\n",
    "})"
   ]
  },
  {
   "cell_type": "code",
   "execution_count": null,
   "id": "b4f01163",
   "metadata": {},
   "outputs": [],
   "source": [
    "import \"dotenv/config\";\n",
    "import { createAgent } from \"langchain\";\n",
    "\n",
    "const agent = createAgent({\n",
    "    model: \"openai:gpt-5\",\n",
    "    tools: [executeSQL],\n",
    "    systemPrompt: SYSTEM,\n",
    "    contextSchema,\n",
    "    middleware: [dynamicSystemPromptMiddleware]\n",
    "})"
   ]
  },
  {
   "cell_type": "code",
   "execution_count": null,
   "id": "7aa0af5a",
   "metadata": {},
   "outputs": [],
   "source": [
    "import { HumanMessage } from \"langchain\";\n",
    "\n",
    "const question = new HumanMessage(\"What is the most costly purchase by Frank Harris?\");\n",
    "\n",
    "const result = await agent.invoke({\n",
    "    messages: [question]\n",
    "}, {\n",
    "    context: {\n",
    "        first: \"Frank\",\n",
    "        last: \"Harris\"\n",
    "    }\n",
    "});\n",
    "\n",
    "result.messages.at(-1).content;"
   ]
  }
 ],
 "metadata": {
  "kernelspec": {
   "display_name": "Deno",
   "language": "typescript",
   "name": "deno"
  },
  "language_info": {
   "name": "typescript"
  }
 },
 "nbformat": 4,
 "nbformat_minor": 5
}
