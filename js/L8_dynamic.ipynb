{
 "cells": [
  {
   "cell_type": "markdown",
   "id": "04f4d84b",
   "metadata": {},
   "source": [
    "# Dynamic Prompt\n",
    "<img src=\"../python/assets/LC_DynamicPrompts.png\" width=\"500\">\n",
    "\n",
    "## Setup"
   ]
  },
  {
   "cell_type": "markdown",
   "id": "83d23dcc",
   "metadata": {},
   "source": [
    "First, let's connect to our SQLite database containing music store data.\n"
   ]
  },
  {
   "cell_type": "code",
   "execution_count": null,
   "id": "05565f26",
   "metadata": {},
   "outputs": [],
   "source": [
    "import { SqlDatabase } from \"@langchain/classic/sql_db\";\n",
    "import { DataSource } from \"typeorm\";\n",
    "\n",
    "const datasource = new DataSource({\n",
    "    type: \"sqlite\",\n",
    "    database: \"./Chinook.db\", // Replace with the link to your database\n",
    "});\n",
    "const db = await SqlDatabase.fromDataSourceParams({\n",
    "    appDataSource: datasource,\n",
    "});"
   ]
  },
  {
   "cell_type": "markdown",
   "id": "84a17a25",
   "metadata": {},
   "source": [
    "Now we'll create a tool that allows the agent to execute SQL queries against the database.\n"
   ]
  },
  {
   "cell_type": "code",
   "execution_count": null,
   "id": "9986b5c1",
   "metadata": {},
   "outputs": [],
   "source": [
    "import { tool } from \"langchain\";\n",
    "import { z } from \"zod\";\n",
    "\n",
    "export const executeSQL = tool(({ query }) => {\n",
    "    return db.run(query)\n",
    "}, {\n",
    "    name: \"execute_sql\",\n",
    "    description: \"Execute a SQLite command and return results.\",\n",
    "    schema: z.object({ query: z.string() })\n",
    "})"
   ]
  },
  {
   "cell_type": "markdown",
   "id": "2cd2767c",
   "metadata": {},
   "source": [
    "We'll define a runtime context schema to track whether the current user is an employee.\n"
   ]
  },
  {
   "cell_type": "code",
   "execution_count": null,
   "id": "a2c08c0e",
   "metadata": {},
   "outputs": [],
   "source": [
    "import { z } from \"zod\";\n",
    "\n",
    "const RuntimeContext = z.object({\n",
    "    isEmployee: z.boolean()\n",
    "});\n",
    "type RuntimeContext = z.infer<typeof RuntimeContext>;"
   ]
  },
  {
   "cell_type": "markdown",
   "id": "3a5fc909",
   "metadata": {},
   "source": [
    "Here's our base system prompt with a placeholder (`%s`) that will be dynamically filled based on the user's role.\n"
   ]
  },
  {
   "cell_type": "code",
   "execution_count": null,
   "id": "e7382970",
   "metadata": {},
   "outputs": [],
   "source": [
    "const SYSTEM = `You are a careful SQLite analyst.\n",
    "\n",
    "Rules:\n",
    "- Think step-by-step.\n",
    "- When you need data, call the tool \\`execute_sql\\` with ONE SELECT query.\n",
    "- Read-only only; no INSERT/UPDATE/DELETE/ALTER/DROP/CREATE/REPLACE/TRUNCATE.\n",
    "- Limit to 5 rows unless the user explicitly asks otherwise.\n",
    "%s\n",
    "- If the tool returns 'Error:', revise the SQL and try again.\n",
    "- Prefer explicit column lists; avoid SELECT *.`"
   ]
  },
  {
   "cell_type": "markdown",
   "id": "f6b8ec89",
   "metadata": {},
   "source": [
    "This middleware dynamically adjusts the system prompt: non-employees get restricted to music-related tables only.\n"
   ]
  },
  {
   "cell_type": "code",
   "execution_count": null,
   "id": "99993f35",
   "metadata": {},
   "outputs": [],
   "source": [
    "import { format } from \"node:util\";\n",
    "import { dynamicSystemPromptMiddleware, type ModelRequest, type AgentState, type Runtime } from \"langchain\";\n",
    "\n",
    "const dynamicSystemPrompt = dynamicSystemPromptMiddleware((state: AgentState, runtime: Runtime<RuntimeContext>) => {\n",
    "    return !runtime.context.isEmployee\n",
    "        ? format(SYSTEM, \"- Limit access to these tables: Album, Artist, Genre, Playlist, PlaylistTrack, Track.\")\n",
    "        : format(SYSTEM, \"\")\n",
    "})"
   ]
  },
  {
   "cell_type": "markdown",
   "id": "ebb8bea0",
   "metadata": {},
   "source": [
    "Let's create the agent with our SQL tool, system prompt, context schema, and dynamic middleware.\n"
   ]
  },
  {
   "cell_type": "code",
   "execution_count": null,
   "id": "b4f01163",
   "metadata": {},
   "outputs": [],
   "source": [
    "import * as setup from \"./setup.ts\";\n",
    "import { createAgent } from \"langchain\";\n",
    "\n",
    "const agent = createAgent({\n",
    "    model: \"openai:gpt-5-mini\",\n",
    "    tools: [executeSQL],\n",
    "    contextSchema: RuntimeContext,\n",
    "    middleware: [dynamicSystemPrompt]\n",
    "})"
   ]
  },
  {
   "cell_type": "markdown",
   "id": "4fb1fc66",
   "metadata": {},
   "source": [
    "## Testing with Different Roles\n",
    "\n",
    "Let's test as a **non-employee** first. The agent should refuse access to customer and invoice tables.\n"
   ]
  },
  {
   "cell_type": "code",
   "execution_count": null,
   "id": "7aa0af5a",
   "metadata": {},
   "outputs": [],
   "source": [
    "const stream = await agent.stream({\n",
    "    messages: \"What is the most costly purchase by Frank Harris?\",\n",
    "}, {\n",
    "    streamMode: \"values\",\n",
    "    context: { isEmployee: false }\n",
    "})\n",
    "\n",
    "for await (const step of stream) {\n",
    "    displayMessage(step.messages.at(-1))\n",
    "}"
   ]
  },
  {
   "cell_type": "markdown",
   "id": "a5ae5e23",
   "metadata": {},
   "source": [
    "Now let's test as an **employee**. This time, the agent has full access and can query all tables.\n"
   ]
  },
  {
   "cell_type": "code",
   "execution_count": null,
   "id": "7801abea",
   "metadata": {},
   "outputs": [],
   "source": [
    "const stream = await agent.stream({\n",
    "    messages: \"What is the most costly purchase by Frank Harris?\",\n",
    "}, {\n",
    "    streamMode: \"values\",\n",
    "    context: { isEmployee: true }\n",
    "})\n",
    "\n",
    "for await (const step of stream) {\n",
    "    displayMessage(step.messages.at(-1))\n",
    "}"
   ]
  }
 ],
 "metadata": {
  "kernelspec": {
   "display_name": "Deno",
   "language": "typescript",
   "name": "deno"
  },
  "language_info": {
   "codemirror_mode": "typescript",
   "file_extension": ".ts",
   "mimetype": "text/x.typescript",
   "name": "typescript",
   "nbconvert_exporter": "script",
   "pygments_lexer": "typescript",
   "version": "5.9.2"
  }
 },
 "nbformat": 4,
 "nbformat_minor": 5
}
