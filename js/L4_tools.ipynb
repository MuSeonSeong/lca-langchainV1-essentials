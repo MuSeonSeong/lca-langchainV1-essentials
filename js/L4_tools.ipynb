{
 "cells": [
  {
   "cell_type": "markdown",
   "id": "9d828fb7",
   "metadata": {},
   "source": [
    "## Tools"
   ]
  },
  {
   "cell_type": "markdown",
   "id": "043001e6",
   "metadata": {},
   "source": [
    "First, let's set up our SQLite database connection using the Chinook sample database.\n"
   ]
  },
  {
   "cell_type": "code",
   "execution_count": 1,
   "id": "030e4137",
   "metadata": {},
   "outputs": [],
   "source": [
    "import { SqlDatabase } from \"@langchain/classic/sql_db\";\n",
    "import { DataSource } from \"typeorm\";\n",
    "\n",
    "const datasource = new DataSource({\n",
    "    type: \"sqlite\",\n",
    "    database: \"./Chinook.db\", // Replace with the link to your database\n",
    "});\n",
    "const db = await SqlDatabase.fromDataSourceParams({\n",
    "    appDataSource: datasource,\n",
    "});"
   ]
  },
  {
   "cell_type": "markdown",
   "id": "aad278a4",
   "metadata": {},
   "source": [
    "Now we'll create our first tool: a SQL executor that can run queries against the database.\n"
   ]
  },
  {
   "cell_type": "code",
   "execution_count": 2,
   "id": "d3bc0018",
   "metadata": {},
   "outputs": [],
   "source": [
    "import { tool } from \"langchain\";\n",
    "import { z } from \"zod\";\n",
    "\n",
    "export const executeSQL = tool(({ query }) => {\n",
    "    return db.run(query)\n",
    "}, {\n",
    "    name: \"execute_sql\",\n",
    "    description: \"Execute a SQLite command and return results.\",\n",
    "    schema: z.object({ query: z.string() })\n",
    "})"
   ]
  },
  {
   "cell_type": "markdown",
   "id": "aea27b41",
   "metadata": {},
   "source": [
    "Next, we'll add a currency conversion tool to handle different currencies (the database stores prices in USD).\n"
   ]
  },
  {
   "cell_type": "code",
   "execution_count": 3,
   "id": "22b13f5c",
   "metadata": {},
   "outputs": [],
   "source": [
    "import { tool } from \"langchain\";\n",
    "\n",
    "const FALLBACK_RATES = { USD: 1.0, EUR: 0.92, JPY: 150.0, GBP: 0.79 }\n",
    "\n",
    "const convertCurrency = tool(async ({ amount, toCurrency }) => {\n",
    "    try {\n",
    "        const url = `https://api.exchangerate.host/convert?from=USD&to=${toCurrency}&amount=${amount}`\n",
    "        const response = await fetch(url, {\n",
    "            headers: {\n",
    "                \"Accept\": \"application/json\"\n",
    "            }\n",
    "        })\n",
    "        const data = await response.json()\n",
    "        const result = data.result\n",
    "        if (result) {\n",
    "            return Math.round(amount * FALLBACK_RATES[to_currency], 2)\n",
    "        }\n",
    "    } catch (error) {\n",
    "        console.error(`[convert_currency] Falling back due to error: ${error}`)\n",
    "    }\n",
    "    if (!(toCurrency in FALLBACK_RATES)) {\n",
    "        throw new Error(\"Unsupported currency in fallback mode\")\n",
    "    }\n",
    "    return Math.round(amount * FALLBACK_RATES[toCurrency], 2)\n",
    "}, {\n",
    "    name: \"convert_currency\",\n",
    "    description: `\n",
    "        Convert an amount in USD to another currency using live exchange rates.\n",
    "        Always use this tool if the user requests a currency different \n",
    "        from the one stored in the database (USD).\n",
    "    `,\n",
    "    schema: z.object({\n",
    "        amount: z.number(),\n",
    "        toCurrency: z.string()\n",
    "    })\n",
    "});"
   ]
  },
  {
   "cell_type": "markdown",
   "id": "34b637a8",
   "metadata": {},
   "source": [
    "Let's define the system prompt that will guide our agent's behavior as a SQL analyst.\n"
   ]
  },
  {
   "cell_type": "code",
   "execution_count": 4,
   "id": "8429cb62",
   "metadata": {},
   "outputs": [],
   "source": [
    "const SYSTEM = `You are a careful SQLite analyst.\n",
    "\n",
    "Rules:\n",
    "- Think step-by-step.\n",
    "- When you need data, call the tool \\`execute_sql\\` with ONE SELECT query.\n",
    "- Read-only only; no INSERT/UPDATE/DELETE/ALTER/DROP/CREATE/REPLACE/TRUNCATE.\n",
    "- Limit to 5 rows unless the user explicitly asks otherwise.\n",
    "- If the tool returns 'Error:', revise the SQL and try again.\n",
    "- Prefer explicit column lists; avoid SELECT *.\n",
    "`"
   ]
  },
  {
   "cell_type": "markdown",
   "id": "744a6380",
   "metadata": {},
   "source": [
    "Now we can create our agent with both tools and the system prompt.\n"
   ]
  },
  {
   "cell_type": "code",
   "execution_count": 5,
   "id": "84102d07",
   "metadata": {},
   "outputs": [],
   "source": [
    "import * as dotenv from \"dotenv/config\";\n",
    "import { createAgent } from \"langchain\";\n",
    "\n",
    "const agent = createAgent({\n",
    "    model: \"openai:gpt-5\",\n",
    "    tools: [executeSQL, convertCurrency],\n",
    "    systemPrompt: SYSTEM,\n",
    "    middleware: []\n",
    "})"
   ]
  },
  {
   "cell_type": "markdown",
   "id": "b2ee3ce7",
   "metadata": {},
   "source": [
    "Let's test the agent with a question that requires both SQL queries and currency conversion.\n"
   ]
  },
  {
   "cell_type": "code",
   "execution_count": 6,
   "id": "9117f39a",
   "metadata": {},
   "outputs": [
    {
     "name": "stdout",
     "output_type": "stream",
     "text": [
      "human - What is the most costly purchase by Frank Harris in EUR?\n"
     ]
    },
    {
     "name": "stdout",
     "output_type": "stream",
     "text": [
      "ai - Tool calls: \"execute_sql: {\\\"query\\\":\\\"SELECT name FROM sqlite_master WHERE type='table' ORDER BY name LIMIT 5;\\\"}\"\n",
      "tool - [{\"name\":\"Album\"},{\"name\":\"Artist\"},{\"name\":\"Customer\"},{\"name\":\"Employee\"},{\"name\":\"Genre\"}]\n",
      "ai - Tool calls: \"execute_sql: {\\\"query\\\":\\\"SELECT i.InvoiceId, i.InvoiceDate, i.Total, c.FirstName, c.LastName\\\\nFROM Invoice i\\\\nJOIN Customer c ON c.CustomerId = i.CustomerId\\\\nWHERE c.FirstName = 'Frank' AND c.LastName = 'Harris'\\\\nORDER BY i.Total DESC\\\\nLIMIT 1;\\\"}\"\n",
      "tool - [{\"InvoiceId\":145,\"InvoiceDate\":\"2010-09-23 00:00:00\",\"Total\":13.86,\"FirstName\":\"Frank\",\"LastName\":\"Harris\"}]\n",
      "ai - Tool calls: \"convert_currency: {\\\"amount\\\":13.86,\\\"toCurrency\\\":\\\"EUR\\\"}\"\n",
      "tool - 13\n",
      "ai - €13\n"
     ]
    }
   ],
   "source": [
    "import { HumanMessage } from \"langchain\";\n",
    "\n",
    "const question = \"What is the most costly purchase by Frank Harris in EUR?\";\n",
    "\n",
    "const stream = await agent.stream({\n",
    "    messages: [new HumanMessage(question)],\n",
    "}, {\n",
    "    streamMode: \"values\",\n",
    "});\n",
    "\n",
    "for await (const state of stream) {\n",
    "    const message = state.messages.at(-1);\n",
    "    const content = message.content || `Tool calls: ${JSON.stringify(message.tool_calls?.map(t => `${t.name}: ${JSON.stringify(t.args)}`).join(\", \"))}`;\n",
    "    console.log(`${message.type} - ${content}`)\n",
    "}"
   ]
  },
  {
   "cell_type": "markdown",
   "id": "86122222",
   "metadata": {},
   "source": [
    "## Tools with MCP"
   ]
  },
  {
   "cell_type": "markdown",
   "id": "0f4e56af",
   "metadata": {},
   "source": [
    "The Model Context Protocol (MCP) provides a standardized way to connect AI agents to external tools and data sources. Let's connect to an MCP server using `@langchain/mcp-adapters`.\n"
   ]
  },
  {
   "cell_type": "code",
   "execution_count": 7,
   "id": "3c65b29a",
   "metadata": {},
   "outputs": [
    {
     "name": "stdout",
     "output_type": "stream",
     "text": [
      "Loaded 5 MCP tools: [\n",
      "  \"add_time\",\n",
      "  \"compare_time\",\n",
      "  \"convert_timezone\",\n",
      "  \"current_time\",\n",
      "  \"relative_time\"\n",
      "]\n"
     ]
    }
   ],
   "source": [
    "import { MultiServerMCPClient } from \"@langchain/mcp-adapters\";\n",
    "\n",
    "// Connect to the mcp-time server for timezone-aware operations\n",
    "// This Go-based server provides tools for current time, relative time parsing,\n",
    "// timezone conversion, duration arithmetic, and time comparison\n",
    "const mcpClient = new MultiServerMCPClient({\n",
    "    mcpServers: {\n",
    "        time: {\n",
    "            transport: \"stdio\",\n",
    "            command: \"npx\",\n",
    "            args: [\"-y\", \"@theo.foobar/mcp-time\"],\n",
    "        }\n",
    "    },\n",
    "    useStandardContentBlocks: true,\n",
    "});\n",
    "\n",
    "// Load tools from the MCP server\n",
    "const mcpTools = await mcpClient.getTools();\n",
    "console.log(`Loaded ${mcpTools.length} MCP tools:`, mcpTools.map(t => t.name));\n"
   ]
  },
  {
   "cell_type": "markdown",
   "id": "47dff8de",
   "metadata": {},
   "source": [
    "Create an agent combining SQL queries, currency conversion, and timezone operations from MCP.\n"
   ]
  },
  {
   "cell_type": "code",
   "execution_count": 8,
   "id": "ee21a1c7",
   "metadata": {},
   "outputs": [],
   "source": [
    "import * as dotenv from \"dotenv/config\";\n",
    "import { createAgent } from \"langchain\";\n",
    "\n",
    "const agentWithMCP = createAgent({\n",
    "    model: \"openai:gpt-5\",\n",
    "    tools: [...mcpTools, executeSQL, convertCurrency],\n",
    "    systemPrompt: SYSTEM,\n",
    "    middleware: []\n",
    "});\n"
   ]
  },
  {
   "cell_type": "markdown",
   "id": "b5c44684",
   "metadata": {},
   "source": [
    "Test with a question requiring database queries, timezone conversion, and currency operations.\n"
   ]
  },
  {
   "cell_type": "code",
   "execution_count": 9,
   "id": "502bf398",
   "metadata": {},
   "outputs": [
    {
     "name": "stdout",
     "output_type": "stream",
     "text": [
      "human - \n",
      "Find Frank Harris in the database. \n",
      "What is the current time in his country (USA/Eastern)?\n",
      "How long ago was his most recent invoice from today?\n",
      "Finally, show his total spending in EUR.\n",
      "\n",
      "ai - Tool calls: \"execute_sql: {\\\"query\\\":\\\"SELECT name FROM sqlite_master WHERE type='table' AND (name LIKE '%customer%' OR name LIKE '%client%' OR name LIKE '%invoice%' OR name LIKE '%user%' OR name LIKE '%person%') ORDER BY name LIMIT 5;\\\"}\"\n",
      "tool - [{\"name\":\"Customer\"},{\"name\":\"Invoice\"},{\"name\":\"InvoiceLine\"}]\n",
      "ai - Tool calls: \"execute_sql: {\\\"query\\\":\\\"SELECT CustomerId, FirstName, LastName, Country FROM Customer WHERE FirstName = 'Frank' AND LastName = 'Harris' LIMIT 5;\\\"}\"\n",
      "tool - [{\"CustomerId\":16,\"FirstName\":\"Frank\",\"LastName\":\"Harris\",\"Country\":\"USA\"}]\n",
      "ai - Tool calls: \"execute_sql: {\\\"query\\\":\\\"SELECT MAX(InvoiceDate) AS LatestInvoiceDate,\\\\n       CAST(julianday('now') - julianday(MAX(InvoiceDate)) AS INTEGER) AS DaysSince\\\\nFROM Invoice\\\\nWHERE CustomerId = 16;\\\"}\"\n",
      "tool - [{\"LatestInvoiceDate\":\"2013-07-04 00:00:00\",\"DaysSince\":4478}]\n",
      "ai - Tool calls: \"execute_sql: {\\\"query\\\":\\\"SELECT SUM(Total) AS TotalUSD FROM Invoice WHERE CustomerId = 16;\\\"}\"\n",
      "tool - [{\"TotalUSD\":37.62}]\n",
      "ai - Tool calls: \"current_time: {\\\"timezone\\\":\\\"America/New_York\\\"}\"\n",
      "tool - 2025-10-07T07:42:20-04:00\n",
      "ai - Tool calls: \"convert_currency: {\\\"amount\\\":37.62,\\\"toCurrency\\\":\\\"EUR\\\"}\"\n",
      "tool - 35\n",
      "ai - - Found: Frank Harris (CustomerId 16, Country: USA).\n",
      "- Current time in USA/Eastern: 2025-10-07 07:42 (EDT, UTC-04:00).\n",
      "- Most recent invoice: 2013-07-04 — 4478 days ago (about 12 years, 3 months, 3 days).\n",
      "- Total spending: approximately €35.00 (converted from $37.62 using live rates).\n"
     ]
    }
   ],
   "source": [
    "import { HumanMessage } from \"langchain\";\n",
    "\n",
    "const complexQuestion = `\n",
    "Find Frank Harris in the database. \n",
    "What is the current time in his country (USA/Eastern)?\n",
    "How long ago was his most recent invoice from today?\n",
    "Finally, show his total spending in EUR.\n",
    "`;\n",
    "\n",
    "const stream = await agentWithMCP.stream({\n",
    "    messages: [new HumanMessage(complexQuestion)],\n",
    "}, {\n",
    "    streamMode: \"values\",\n",
    "});\n",
    "\n",
    "for await (const state of stream) {\n",
    "    const message = state.messages.at(-1);\n",
    "    const content = message.content || `Tool calls: ${JSON.stringify(message.tool_calls?.map(t => `${t.name}: ${JSON.stringify(t.args)}`).join(\", \"))}`;\n",
    "    console.log(`${message.type} - ${content}`)\n",
    "}\n",
    "\n",
    "// Clean up the MCP connection\n",
    "await mcpClient.close();\n"
   ]
  }
 ],
 "metadata": {
  "kernelspec": {
   "display_name": "Deno",
   "language": "typescript",
   "name": "deno"
  },
  "language_info": {
   "codemirror_mode": "typescript",
   "file_extension": ".ts",
   "mimetype": "text/x.typescript",
   "name": "typescript",
   "nbconvert_exporter": "script",
   "pygments_lexer": "typescript",
   "version": "5.9.2"
  }
 },
 "nbformat": 4,
 "nbformat_minor": 5
}
