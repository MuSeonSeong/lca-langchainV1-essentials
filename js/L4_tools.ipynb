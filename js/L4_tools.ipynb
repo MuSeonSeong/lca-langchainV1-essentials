{
 "cells": [
  {
   "cell_type": "markdown",
   "id": "9d828fb7",
   "metadata": {},
   "source": [
    "# Tools  🔨🪚🔩⚙️⚒️🧲🧰🔧🪛🔩⚙️🔦🧭🔗⛓️🧮\n",
    "Tools allow agents to 'Act' in the real world. \n",
    "Careful descriptions can help your agent discover how to use your tools.\n",
    "\n",
    "LangChain supports many tool formats and tool sets. Here we will cover some common cases, but check the [docs](https://docs.langchain.com/oss/javascript/langchain/tools) for more information."
   ]
  },
  {
   "cell_type": "markdown",
   "id": "043001e6",
   "metadata": {},
   "source": [
    "## Calculator example\n",
    "\n",
    "In this example, the docstring and inferred arguments and argument types are used by the LLM to detetermine when and how to call the tool."
   ]
  },
  {
   "cell_type": "code",
   "execution_count": null,
   "id": "030e4137",
   "metadata": {},
   "outputs": [],
   "source": [
    "import { z } from \"zod\";\n",
    "import { tool } from \"langchain\";\n",
    "\n",
    "const realNumberCalculator = tool(({ a, b, operation }) => {\n",
    "    console.log(\"🧮 Invoking calculator tool\")\n",
    "    if (operation === \"add\") {\n",
    "        return a + b;\n",
    "    } else if (operation === \"subtract\") {\n",
    "        return a - b;\n",
    "    } else if (operation === \"multiply\") {\n",
    "        return a * b;\n",
    "    } else if (operation === \"divide\") {\n",
    "        if (b === 0) {\n",
    "            throw new Error(\"Division by zero is not allowed.\");\n",
    "        }\n",
    "        return a / b;\n",
    "    } else {\n",
    "        throw new Error(`Invalid operation: ${operation}`);\n",
    "    }\n",
    "}, {\n",
    "    name: \"real_number_calculator\",\n",
    "    description: \"Perform basic arithmetic operations on two real numbers.\",\n",
    "    schema: z.object({\n",
    "        a: z.number(),\n",
    "        b: z.number(),\n",
    "        operation: z.enum([\"add\", \"subtract\", \"multiply\", \"divide\"])\n",
    "    })\n",
    "});"
   ]
  },
  {
   "cell_type": "markdown",
   "id": "744a6380",
   "metadata": {},
   "source": [
    "Now we can create our agent with both tools and the system prompt.\n"
   ]
  },
  {
   "cell_type": "code",
   "execution_count": null,
   "id": "84102d07",
   "metadata": {},
   "outputs": [],
   "source": [
    "import * as setup from \"./setup.ts\";\n",
    "import { createAgent } from \"langchain\";\n",
    "\n",
    "const agent = createAgent({\n",
    "    model: \"openai:gpt-5-mini\",\n",
    "    tools: [realNumberCalculator],\n",
    "    systemPrompt: \"You are a helpful assistant.\"\n",
    "});"
   ]
  },
  {
   "cell_type": "markdown",
   "id": "b2ee3ce7",
   "metadata": {},
   "source": [
    "This invokes your calculator tool."
   ]
  },
  {
   "cell_type": "code",
   "execution_count": null,
   "id": "9117f39a",
   "metadata": {},
   "outputs": [],
   "source": [
    "const result = await agent.invoke({\n",
    "    messages: \"What is 3.1125 * 4.1234?\"\n",
    "});\n",
    "\n",
    "const { md } = Deno.jupyter\n",
    "md`${result.messages.at(-1).content}`"
   ]
  },
  {
   "cell_type": "markdown",
   "id": "f0005268",
   "metadata": {},
   "source": [
    "We can check the **metadata** in [LangSmith Observability](https://smith.langchain.com/public/b77bde6c-f0ad-4256-bfab-7d514ece3405/r) to see this."
   ]
  },
  {
   "cell_type": "markdown",
   "id": "43246037",
   "metadata": {},
   "source": [
    "The tool description can have a big impact. \n",
    "This may not  invoke your calculator tool because the inputs are integers.  (results vary from run to run)"
   ]
  },
  {
   "cell_type": "code",
   "execution_count": null,
   "id": "8301ddce",
   "metadata": {},
   "outputs": [],
   "source": [
    "const result = await agent.invoke({\n",
    "    messages: \"What is 3 * 4?\"\n",
    "});\n",
    "\n",
    "const { md } = Deno.jupyter\n",
    "md`${result.messages.at(-1).content}`"
   ]
  },
  {
   "cell_type": "markdown",
   "id": "e7d37ab1",
   "metadata": {},
   "source": [
    "This often does not invoke the tool though the input are real numbers. (results vary from run to run)"
   ]
  },
  {
   "cell_type": "code",
   "execution_count": null,
   "id": "f3b526dc",
   "metadata": {},
   "outputs": [],
   "source": [
    "const result = await agent.invoke({\n",
    "    messages: \"What is 3.0 * 4.0?\"\n",
    "});\n",
    "\n",
    "const { md } = Deno.jupyter\n",
    "md`${result.messages.at(-1).content}`"
   ]
  },
  {
   "cell_type": "markdown",
   "id": "65a67654",
   "metadata": {},
   "source": [
    "Change the construction of the tool to force the tool to be called"
   ]
  }
 ],
 "metadata": {
  "kernelspec": {
   "display_name": "Deno",
   "language": "typescript",
   "name": "deno"
  },
  "language_info": {
   "codemirror_mode": "typescript",
   "file_extension": ".ts",
   "mimetype": "text/x.typescript",
   "name": "typescript",
   "nbconvert_exporter": "script",
   "pygments_lexer": "typescript",
   "version": "5.9.2"
  }
 },
 "nbformat": 4,
 "nbformat_minor": 5
}
