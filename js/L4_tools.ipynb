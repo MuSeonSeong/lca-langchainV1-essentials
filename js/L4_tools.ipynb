{
 "cells": [
  {
   "cell_type": "markdown",
   "id": "9d828fb7",
   "metadata": {},
   "source": [
    "## Tools"
   ]
  },
  {
   "cell_type": "code",
   "execution_count": 19,
   "id": "030e4137",
   "metadata": {},
   "outputs": [],
   "source": [
    "import { SqlDatabase } from \"@langchain/classic/sql_db\";\n",
    "import { DataSource } from \"typeorm\";\n",
    "\n",
    "const datasource = new DataSource({\n",
    "    type: \"sqlite\",\n",
    "    database: \"./Chinook.db\", // Replace with the link to your database\n",
    "});\n",
    "const db = await SqlDatabase.fromDataSourceParams({\n",
    "    appDataSource: datasource,\n",
    "});"
   ]
  },
  {
   "cell_type": "code",
   "execution_count": 20,
   "id": "d3bc0018",
   "metadata": {},
   "outputs": [],
   "source": [
    "import { tool } from \"langchain\";\n",
    "import { z } from \"zod\";\n",
    "\n",
    "export const executeSQL = tool(({ query }) => {\n",
    "    return db.run(query)\n",
    "}, {\n",
    "    name: \"execute_sql\",\n",
    "    description: \"Execute a SQLite command and return results.\",\n",
    "    schema: z.object({ query: z.string() })\n",
    "})"
   ]
  },
  {
   "cell_type": "code",
   "execution_count": 21,
   "id": "22b13f5c",
   "metadata": {},
   "outputs": [],
   "source": [
    "import { tool } from \"langchain\";\n",
    "\n",
    "const FALLBACK_RATES = { USD: 1.0, EUR: 0.92, JPY: 150.0, GBP: 0.79 }\n",
    "\n",
    "const convertCurrency = tool(async ({ amount, toCurrency }) => {\n",
    "    try {\n",
    "        const url = `https://api.exchangerate.host/convert?from=USD&to=${toCurrency}&amount=${amount}`\n",
    "        const response = await fetch(url, {\n",
    "            headers: {\n",
    "                \"Accept\": \"application/json\"\n",
    "            }\n",
    "        })\n",
    "        const data = await response.json()\n",
    "        const result = data.result\n",
    "        if (result) {\n",
    "            return round(amount * FALLBACK_RATES[to_currency], 2)\n",
    "        }\n",
    "    } catch (error) {\n",
    "        console.error(`[convert_currency] Falling back due to error: ${error}`)\n",
    "    }\n",
    "    if (!(toCurrency in FALLBACK_RATES)) {\n",
    "        throw new Error(\"Unsupported currency in fallback mode\")\n",
    "    }\n",
    "    return round(amount * FALLBACK_RATES[toCurrency], 2)\n",
    "}, {\n",
    "    name: \"convert_currency\",\n",
    "    description: `\n",
    "        Convert an amount in USD to another currency using live exchange rates.\n",
    "        Always use this tool if the user requests a currency different \n",
    "        from the one stored in the database (USD).\n",
    "    `,\n",
    "    schema: z.object({\n",
    "        amount: z.number(),\n",
    "        toCurrency: z.string()\n",
    "    })\n",
    "});"
   ]
  },
  {
   "cell_type": "code",
   "execution_count": null,
   "id": "8429cb62",
   "metadata": {},
   "outputs": [],
   "source": [
    "const SYSTEM = `You are a careful SQLite analyst.\n",
    "\n",
    "Rules:\n",
    "- Think step-by-step.\n",
    "- When you need data, call the tool \\`execute_sql\\` with ONE SELECT query.\n",
    "- Read-only only; no INSERT/UPDATE/DELETE/ALTER/DROP/CREATE/REPLACE/TRUNCATE.\n",
    "- Limit to 5 rows unless the user explicitly asks otherwise.\n",
    "- If the tool returns 'Error:', revise the SQL and try again.\n",
    "- Prefer explicit column lists; avoid SELECT *.\n",
    "`"
   ]
  },
  {
   "cell_type": "code",
   "execution_count": 36,
   "id": "84102d07",
   "metadata": {},
   "outputs": [
    {
     "data": {
      "text/plain": [
       "[Module: null prototype] { default: {}, \u001b[32m\"module.exports\"\u001b[39m: {} }"
      ]
     },
     "execution_count": 36,
     "metadata": {},
     "output_type": "execute_result"
    }
   ],
   "source": [
    "import \"dotenv/config\";\n",
    "import { createAgent } from \"langchain\";\n",
    "\n",
    "const agent = createAgent({\n",
    "    model: \"openai:gpt-5\",\n",
    "    tools: [],\n",
    "    systemPrompt: SYSTEM,\n",
    "    middleware: []\n",
    "})"
   ]
  },
  {
   "cell_type": "code",
   "execution_count": 41,
   "id": "9117f39a",
   "metadata": {},
   "outputs": [
    {
     "name": "stderr",
     "output_type": "stream",
     "text": [
      "Error in handler EventStreamCallbackHandler, handleChainStart: TypeError: The stream is closing or is closed.\n"
     ]
    },
    {
     "name": "stdout",
     "output_type": "stream",
     "text": [
      "{\n",
      "  event: \"on_chain_start\",\n",
      "  data: {\n",
      "    input: {\n",
      "      messages: [\n",
      "        HumanMessage {\n",
      "          \"content\": \"What is the most costly purchase by Frank Harris in EUR?\",\n",
      "          \"additional_kwargs\": {},\n",
      "          \"response_metadata\": {}\n",
      "        }\n",
      "      ]\n",
      "    }\n",
      "  },\n",
      "  name: \"LangGraph\",\n",
      "  tags: [],\n",
      "  run_id: \"dcb5900c-b325-4093-8c2f-3ae59c6d75ff\",\n",
      "  metadata: {\n",
      "    langgraph_step: 1,\n",
      "    langgraph_node: \"model_request\",\n",
      "    langgraph_triggers: [ \"branch:to:model_request\" ],\n",
      "    langgraph_path: [ \"__pregel_pull\", \"model_request\" ],\n",
      "    langgraph_checkpoint_ns: \"model_request:714522ae-cb51-5ce2-b284-8f61e1005e28\",\n",
      "    __pregel_task_id: \"714522ae-cb51-5ce2-b284-8f61e1005e28\",\n",
      "    checkpoint_ns: \"model_request:714522ae-cb51-5ce2-b284-8f61e1005e28\"\n",
      "  }\n",
      "}\n"
     ]
    },
    {
     "ename": "Error",
     "evalue": "Abort",
     "output_type": "error",
     "traceback": [
      "Stack trace:",
      "Error: Abort",
      "    at PregelRunner._executeTasksWithRetry (file:///Users/christian.bromann/Sites/LangChain/lca-langchainV1-essentials/js/node_modules/.pnpm/@langchain+langgraph@1.0.0-alpha.5_@langchain+core@1.0.0-alpha.6_openai@5.12.2_ws@8.18._8fcc659577314b8fdcc5268029081888/node_modules/@langchain/langgraph/dist/pregel/runner.js:121:52)",
      "    at _executeTasksWithRetry.next (<anonymous>)",
      "    at PregelRunner.tick (file:///Users/christian.bromann/Sites/LangChain/lca-langchainV1-essentials/js/node_modules/.pnpm/@langchain+langgraph@1.0.0-alpha.5_@langchain+core@1.0.0-alpha.6_openai@5.12.2_ws@8.18._8fcc659577314b8fdcc5268029081888/node_modules/@langchain/langgraph/dist/pregel/runner.js:61:49)",
      "    at CompiledStateGraph._runLoop (file:///Users/christian.bromann/Sites/LangChain/lca-langchainV1-essentials/js/node_modules/.pnpm/@langchain+langgraph@1.0.0-alpha.5_@langchain+core@1.0.0-alpha.6_openai@5.12.2_ws@8.18._8fcc659577314b8fdcc5268029081888/node_modules/@langchain/langgraph/dist/pregel/index.js:1138:18)",
      "    at eventLoopTick (ext:core/01_core.js:179:7)",
      "    at async createAndRunLoop (file:///Users/christian.bromann/Sites/LangChain/lca-langchainV1-essentials/js/node_modules/.pnpm/@langchain+langgraph@1.0.0-alpha.5_@langchain+core@1.0.0-alpha.6_openai@5.12.2_ws@8.18._8fcc659577314b8fdcc5268029081888/node_modules/@langchain/langgraph/dist/pregel/index.js:1037:5)"
     ]
    }
   ],
   "source": [
    "import { BaseMessage, HumanMessage } from \"langchain\";\n",
    "\n",
    "const question = \"What is the most costly purchase by Frank Harris in EUR?\";\n",
    "const steps: BaseMessage[] = [];\n",
    "\n",
    "const stream = await agent.stream({\n",
    "    messages: [new HumanMessage(question)],\n",
    "}, {\n",
    "    streamMode: \"values\",\n",
    "});\n",
    "\n",
    "for await (const message of stream) {\n",
    "    console.log(message);\n",
    "    steps.push(message);\n",
    "}"
   ]
  }
 ],
 "metadata": {
  "kernelspec": {
   "display_name": "Deno",
   "language": "typescript",
   "name": "deno"
  },
  "language_info": {
   "codemirror_mode": "typescript",
   "file_extension": ".ts",
   "mimetype": "text/x.typescript",
   "name": "typescript",
   "nbconvert_exporter": "script",
   "pygments_lexer": "typescript",
   "version": "5.9.2"
  }
 },
 "nbformat": 4,
 "nbformat_minor": 5
}
