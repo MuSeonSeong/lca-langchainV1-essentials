{
 "cells": [
  {
   "cell_type": "markdown",
   "id": "67071813",
   "metadata": {},
   "source": [
    "# Runtime context"
   ]
  },
  {
   "cell_type": "markdown",
   "id": "1bbde397",
   "metadata": {},
   "source": [
    "First, let's set up our SQLite database connection using the Chinook sample database.\n"
   ]
  },
  {
   "cell_type": "code",
   "execution_count": null,
   "id": "9f0afb3b",
   "metadata": {},
   "outputs": [],
   "source": [
    "import { SqlDatabase } from \"@langchain/classic/sql_db\";\n",
    "import { DataSource } from \"typeorm\";\n",
    "\n",
    "const datasource = new DataSource({\n",
    "    type: \"sqlite\",\n",
    "    database: \"./Chinook.db\", // Replace with the link to your database\n",
    "});\n",
    "const db = await SqlDatabase.fromDataSourceParams({\n",
    "    appDataSource: datasource,\n",
    "});"
   ]
  },
  {
   "cell_type": "markdown",
   "id": "e5bba344",
   "metadata": {},
   "source": [
    "Next, we'll define a context schema that will hold user information (first and last name) to be used at runtime.\n"
   ]
  },
  {
   "cell_type": "code",
   "execution_count": null,
   "id": "b5c66f38",
   "metadata": {},
   "outputs": [],
   "source": [
    "import { z } from \"zod\";\n",
    "\n",
    "const contextSchema = z.object({\n",
    "    first: z.string(),\n",
    "    last: z.string(),\n",
    "});\n",
    "type Context = z.infer<typeof contextSchema>;"
   ]
  },
  {
   "cell_type": "markdown",
   "id": "be7e86aa",
   "metadata": {},
   "source": [
    "Now let's create a tool that executes SQL queries. It will automatically replace placeholders like `:first` and `:last` with values from the runtime context.\n"
   ]
  },
  {
   "cell_type": "code",
   "execution_count": null,
   "id": "da1106fc",
   "metadata": {},
   "outputs": [],
   "source": [
    "import { tool, type Runtime } from \"langchain\";\n",
    "\n",
    "const executeSQL = tool(async ({ query }, runtime: Runtime<Context>) => {\n",
    "    const placeholders = query.match(/:(\\w+)/g);\n",
    "    if (!placeholders) {\n",
    "        return await db.run(query);\n",
    "    }\n",
    "\n",
    "    const updatedQuery = placeholders.reduce((acc, placeholder) => {\n",
    "        const key = placeholder.slice(1) as keyof Context;\n",
    "        return acc.replace(placeholder, `\"${runtime.context[key]}\"`);\n",
    "    }, query);\n",
    "\n",
    "    return await db.run(updatedQuery);\n",
    "}, {\n",
    "    name: \"execute_sql\",\n",
    "    description: \"Execute a SQLite command and return results. Named parameters like :first and :last will be filled from runtime context.\",\n",
    "    schema: z.object({\n",
    "        query: z.string()\n",
    "    })\n",
    "});"
   ]
  },
  {
   "cell_type": "markdown",
   "id": "9463d353",
   "metadata": {},
   "source": [
    "We'll also add a currency conversion tool that can convert USD amounts to other currencies.\n"
   ]
  },
  {
   "cell_type": "code",
   "execution_count": null,
   "id": "70b90e47",
   "metadata": {},
   "outputs": [],
   "source": [
    "import { tool } from \"langchain\";\n",
    "\n",
    "const FALLBACK_RATES = { USD: 1.0, EUR: 0.92, JPY: 150.0, GBP: 0.79 }\n",
    "\n",
    "const convertCurrency = tool(async ({ amount, toCurrency }) => {\n",
    "    try {\n",
    "        const url = `https://api.exchangerate.host/convert?from=USD&to=${toCurrency}&amount=${amount}`\n",
    "        const response = await fetch(url, {\n",
    "            headers: {\n",
    "                \"Accept\": \"application/json\"\n",
    "            }\n",
    "        })\n",
    "        const data = await response.json()\n",
    "        const result = data.result\n",
    "        if (result) {\n",
    "            return Math.round(amount * FALLBACK_RATES[to_currency], 2)\n",
    "        }\n",
    "    } catch (error) {\n",
    "        console.error(`[convert_currency] Falling back due to error: ${error}`)\n",
    "    }\n",
    "    if (!(toCurrency in FALLBACK_RATES)) {\n",
    "        throw new Error(\"Unsupported currency in fallback mode\")\n",
    "    }\n",
    "    return Math.round(amount * FALLBACK_RATES[toCurrency], 2)\n",
    "}, {\n",
    "    name: \"convert_currency\",\n",
    "    description: `\n",
    "        Convert an amount in USD to another currency using live exchange rates.\n",
    "        Always use this tool if the user requests a currency different \n",
    "        from the one stored in the database (USD).\n",
    "    `,\n",
    "    schema: z.object({\n",
    "        amount: z.number(),\n",
    "        toCurrency: z.string()\n",
    "    })\n",
    "});"
   ]
  },
  {
   "cell_type": "markdown",
   "id": "c741c9bf",
   "metadata": {},
   "source": [
    "Let's define the system prompt that instructs the agent how to work with SQL queries and use runtime parameters.\n"
   ]
  },
  {
   "cell_type": "code",
   "execution_count": null,
   "id": "5e5be8ad",
   "metadata": {},
   "outputs": [],
   "source": [
    "export const SYSTEM = `You are a careful SQLite analyst.\n",
    "\n",
    "Rules:\n",
    "- Think step-by-step.\n",
    "- When you need data, call the tool \\`execute_sql\\` with ONE SELECT query.\n",
    "- Read-only only; no INSERT/UPDATE/DELETE/ALTER/DROP/CREATE/REPLACE/TRUNCATE.\n",
    "- Limit to 5 rows unless the user explicitly asks otherwise.\n",
    "- If the tool returns 'Error:', revise the SQL and try again.\n",
    "- Prefer explicit column lists; avoid SELECT *.\n",
    "- If a query involves a specific customer, always use the named parameters\n",
    "  :first and :last (instead of hard-coding values).\n",
    "  Example: SELECT InvoiceId, Total FROM Invoice\n",
    "           JOIN Customer ON Invoice.CustomerId = Customer.CustomerId\n",
    "           WHERE Customer.FirstName = :first AND Customer.LastName = :last;\n",
    "  Assume the customer first and last name are known and will be inserted into the query later.`"
   ]
  },
  {
   "cell_type": "markdown",
   "id": "1a263308",
   "metadata": {},
   "source": [
    "Now we can create our agent with the tools, system prompt, and context schema.\n"
   ]
  },
  {
   "cell_type": "code",
   "execution_count": null,
   "id": "d7567270",
   "metadata": {},
   "outputs": [],
   "source": [
    "import * as dotenv from \"dotenv/config\";\n",
    "import { createAgent } from \"langchain\";\n",
    "\n",
    "const agent = createAgent({\n",
    "    model: \"openai:gpt-5\",\n",
    "    tools: [convertCurrency, executeSQL],\n",
    "    systemPrompt: SYSTEM,\n",
    "    contextSchema,\n",
    "    middleware: []\n",
    "})"
   ]
  },
  {
   "cell_type": "markdown",
   "id": "1d4bf191",
   "metadata": {},
   "source": [
    "Finally, let's test the agent by asking a question. We'll pass Frank Harris's information as context, and the agent will use those values in its SQL queries.\n"
   ]
  },
  {
   "cell_type": "code",
   "execution_count": null,
   "id": "2a99f300",
   "metadata": {},
   "outputs": [],
   "source": [
    "import { HumanMessage } from \"langchain\";\n",
    "\n",
    "const question = new HumanMessage(\"What is the most costly purchase I made?\");\n",
    "\n",
    "const result = await agent.invoke({\n",
    "    messages: [question]\n",
    "}, {\n",
    "    context: {\n",
    "        first: \"Frank\",\n",
    "        last: \"Harris\"\n",
    "    },\n",
    "});\n",
    "\n",
    "result.messages.at(-1).content;"
   ]
  }
 ],
 "metadata": {
  "kernelspec": {
   "display_name": "Deno",
   "language": "typescript",
   "name": "deno"
  },
  "language_info": {
   "codemirror_mode": "typescript",
   "file_extension": ".ts",
   "mimetype": "text/x.typescript",
   "name": "typescript",
   "nbconvert_exporter": "script",
   "pygments_lexer": "typescript",
   "version": "5.9.2"
  }
 },
 "nbformat": 4,
 "nbformat_minor": 5
}
