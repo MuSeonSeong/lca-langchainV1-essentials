{
 "cells": [
  {
   "cell_type": "markdown",
   "id": "b1ebe2fb",
   "metadata": {},
   "source": [
    "# Middleware: Human In The Loop\n",
    "<img src=\"./assets/LC_HITL.png\" width=\"300\">"
   ]
  },
  {
   "cell_type": "markdown",
   "id": "835b8a2d",
   "metadata": {},
   "source": [
    "First, we'll connect to our SQLite database that contains employee and music store data.\n"
   ]
  },
  {
   "cell_type": "code",
   "execution_count": null,
   "id": "6c61bf3d",
   "metadata": {},
   "outputs": [],
   "source": [
    "import { SqlDatabase } from \"@langchain/classic/sql_db\";\n",
    "import { DataSource } from \"typeorm\";\n",
    "\n",
    "const datasource = new DataSource({\n",
    "    type: \"sqlite\",\n",
    "    database: \"./Chinook.db\", // Replace with the link to your database\n",
    "});\n",
    "const db = await SqlDatabase.fromDataSourceParams({\n",
    "    appDataSource: datasource,\n",
    "});"
   ]
  },
  {
   "cell_type": "markdown",
   "id": "93b52d9e",
   "metadata": {},
   "source": [
    "Now we'll create a tool that allows the agent to execute SQL queries. This is what we'll require approval for.\n"
   ]
  },
  {
   "cell_type": "code",
   "execution_count": null,
   "id": "a2b8c6e3",
   "metadata": {},
   "outputs": [],
   "source": [
    "import { tool } from \"langchain\";\n",
    "import { z } from \"zod\";\n",
    "\n",
    "export const executeSQL = tool(({ query }) => {\n",
    "    return db.run(query)\n",
    "}, {\n",
    "    name: \"execute_sql\",\n",
    "    description: \"Execute a SQLite command and return results.\",\n",
    "    schema: z.object({ query: z.string() })\n",
    "})"
   ]
  },
  {
   "cell_type": "markdown",
   "id": "5b3a6396",
   "metadata": {},
   "source": [
    "We'll define a system prompt that guides the agent to be careful and methodical when working with the database.\n"
   ]
  },
  {
   "cell_type": "code",
   "execution_count": null,
   "id": "04d74dfd",
   "metadata": {},
   "outputs": [],
   "source": [
    "const SYSTEM = `You are a careful SQLite analyst.\n",
    "\n",
    "Rules:\n",
    "- Think step-by-step.\n",
    "- When you need data, call the tool \\`execute_sql\\` with ONE SELECT query.\n",
    "- Read-only only; no INSERT/UPDATE/DELETE/ALTER/DROP/CREATE/REPLACE/TRUNCATE.\n",
    "- Limit to 5 rows unless the user explicitly asks otherwise.\n",
    "- If the tool returns 'Error:', revise the SQL and try again.\n",
    "- Prefer explicit column lists; avoid SELECT *.\n",
    "- If the database is offline, ask user to try again later without further comment.`"
   ]
  },
  {
   "cell_type": "markdown",
   "id": "5074ea90",
   "metadata": {},
   "source": [
    "Next, we'll create an agent with **Human-in-the-Loop** middleware. Every time the agent wants to execute SQL, it will pause and wait for human approval.\n"
   ]
  },
  {
   "cell_type": "code",
   "execution_count": null,
   "id": "6e760fcf",
   "metadata": {},
   "outputs": [],
   "source": [
    "import * as setup from \"./setup.ts\";\n",
    "import { createAgent, humanInTheLoopMiddleware } from \"langchain\";\n",
    "import { MemorySaver } from \"@langchain/langgraph\";\n",
    "\n",
    "const checkpointer = new MemorySaver();\n",
    "const agent = createAgent({\n",
    "    model: \"anthropic:claude-sonnet-4-5-20250929\",\n",
    "    tools: [executeSQL],\n",
    "    systemPrompt: SYSTEM,\n",
    "    checkpointer,\n",
    "    middleware: [humanInTheLoopMiddleware({\n",
    "        interruptOn: {\n",
    "            execute_sql: {\n",
    "                allowedDecisions: [\"approve\", \"reject\"]\n",
    "            }\n",
    "        }\n",
    "    })]\n",
    "});"
   ]
  },
  {
   "cell_type": "markdown",
   "id": "2516ae22",
   "metadata": {},
   "source": [
    "Let's test it! We'll ask about employees. The agent will pause at each SQL query, and we'll approve them by resuming with `type: \"accept\"`.\n"
   ]
  },
  {
   "cell_type": "code",
   "execution_count": null,
   "id": "ebfb42e8",
   "metadata": {},
   "outputs": [],
   "source": [
    "import { red } from \"ansis\"\n",
    "import { Command } from \"@langchain/langgraph\";\n",
    "import type { HITLRequest, HITLResponse } from \"langchain\";\n",
    "\n",
    "const config = { configurable: { thread_id: \"1\" } };\n",
    "\n",
    "let result = await agent.invoke({\n",
    "    messages: \"What are the names of all the employees?\"\n",
    "}, config);\n",
    "\n",
    "while ('__interrupt__' in result) {\n",
    "    console.log(red(\"-\".repeat(80)));\n",
    "    \n",
    "    // Access the HITLRequest from the interrupt\n",
    "    const hitlRequest = result.__interrupt__[0].value as HITLRequest;\n",
    "    \n",
    "    // Display all action requests\n",
    "    hitlRequest.actionRequests.forEach((actionRequest) => {\n",
    "        console.log(red(actionRequest.description));\n",
    "    });\n",
    "    \n",
    "    console.log(red(\"-\".repeat(80)));\n",
    "\n",
    "    // Create decisions for each action request\n",
    "    const resume: HITLResponse = {\n",
    "        decisions: hitlRequest.actionRequests.map(() => ({ \n",
    "            type: \"approve\" \n",
    "        }))\n",
    "        // Or to reject:\n",
    "        // decisions: hitlRequest.actionRequests.map(() => ({ \n",
    "        //     type: \"reject\", \n",
    "        //     message: \"the database is offline.\" \n",
    "        // }))\n",
    "    };\n",
    "\n",
    "    result = await agent.invoke(\n",
    "        new Command({ resume }),\n",
    "        config\n",
    "    );\n",
    "}\n",
    "\n",
    "console.log(result.messages.at(-1).content);"
   ]
  }
 ],
 "metadata": {
  "kernelspec": {
   "display_name": "Deno",
   "language": "typescript",
   "name": "deno"
  },
  "language_info": {
   "codemirror_mode": "typescript",
   "file_extension": ".ts",
   "mimetype": "text/x.typescript",
   "name": "typescript",
   "nbconvert_exporter": "script",
   "pygments_lexer": "typescript",
   "version": "5.9.2"
  }
 },
 "nbformat": 4,
 "nbformat_minor": 5
}
