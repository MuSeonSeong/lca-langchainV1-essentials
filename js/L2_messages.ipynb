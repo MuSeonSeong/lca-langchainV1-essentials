{
 "cells": [
  {
   "cell_type": "markdown",
   "id": "637145d2",
   "metadata": {},
   "source": [
    "# Messages\n",
    "Messages are the fundamental unit of context for models in LangChain. They represent the input and output of models, carrying both the content and metadata needed to represent the state of a conversation when interacting with an LLM."
   ]
  },
  {
   "cell_type": "markdown",
   "id": "a5e742bd",
   "metadata": {},
   "source": [
    "## Basic Usage"
   ]
  },
  {
   "cell_type": "code",
   "execution_count": 3,
   "id": "17700c5d",
   "metadata": {},
   "outputs": [],
   "source": [
    "import * as dotenv from \"dotenv/config\";\n",
    "import { createAgent } from \"langchain\";\n",
    "\n",
    "const agent = await createAgent({\n",
    "    model: \"openai:gpt-5-nano\",\n",
    "    tools: [],\n",
    "    systemPrompt: \"You are a full-stack comedian\",\n",
    "    middleware: [],\n",
    "});"
   ]
  },
  {
   "cell_type": "code",
   "execution_count": 2,
   "id": "dbfa6f95",
   "metadata": {},
   "outputs": [],
   "source": [
    "import { HumanMessage } from \"langchain\";\n",
    "\n",
    "const humanMessage = new HumanMessage(\"Hello, how are you?\");\n",
    "const result = await agent.invoke({ messages: [humanMessage] });"
   ]
  },
  {
   "cell_type": "code",
   "execution_count": 3,
   "id": "3766bbb9",
   "metadata": {},
   "outputs": [
    {
     "name": "stdout",
     "output_type": "stream",
     "text": [
      "Hello! I’m doing great—powered by coffee, code, and comedy bytes. How about you?\n",
      "\n",
      "Want a quick tech joke, a coding tip, or help with something real? Here’s a tiny one:\n",
      "Why do programmers always mix up Halloween and Christmas? Because Oct 31 equals Dec 25.\n",
      "\n",
      "What can I help you with today?\n"
     ]
    }
   ],
   "source": [
    "console.log(result.messages.at(-1).content)"
   ]
  },
  {
   "cell_type": "code",
   "execution_count": 4,
   "id": "e8f4b863",
   "metadata": {},
   "outputs": [
    {
     "name": "stdout",
     "output_type": "stream",
     "text": [
      "human - Hello, how are you?\n",
      "ai - Hello! I’m doing great—powered by coffee, code, and comedy bytes. How about you?\n",
      "\n",
      "Want a quick tech joke, a coding tip, or help with something real? Here’s a tiny one:\n",
      "Why do programmers always mix up Halloween and Christmas? Because Oct 31 equals Dec 25.\n",
      "\n",
      "What can I help you with today?\n"
     ]
    }
   ],
   "source": [
    "for (const message of result.messages) {\n",
    "    console.log(`${message.type} - ${message.content}`)\n",
    "}"
   ]
  },
  {
   "cell_type": "markdown",
   "id": "707ebd4b",
   "metadata": {},
   "source": [
    "### Altenative formats\n",
    "#### Strings"
   ]
  },
  {
   "cell_type": "code",
   "execution_count": 6,
   "id": "c51d9b6e",
   "metadata": {},
   "outputs": [],
   "source": [
    "const agent = createAgent({\n",
    "    model: \"openai:gpt-5-nano\",\n",
    "    tools: [],\n",
    "    systemPrompt: \"You are a terse sports poet.\",\n",
    "    middleware: [],\n",
    "})"
   ]
  },
  {
   "cell_type": "code",
   "execution_count": null,
   "id": "d7bc5daa",
   "metadata": {},
   "outputs": [
    {
     "name": "stdout",
     "output_type": "stream",
     "text": [
      "Baseball: a diamond, chalk and faith.\n",
      "Nine on the field; three outs per half-inning.\n",
      "Pitcher and catcher, the duel begins.\n",
      "Batter steps in, counts bloom: ball, strike, foul.\n",
      "Crack—the bat writes a line into the air.\n",
      "Fair ball, runners sprint; the board lights up.\n",
      "Home run: the fence blooms, the crowd erupts.\n",
      "Double play: two outs, one heartbeat saved.\n",
      "Stolen base: feet spark in spit-quick dust.\n",
      "Innings turn, nine by nine, season by season.\n",
      "Sun, sweat, hush, roar—the hour of the game.\n",
      "Baseball: patience, power, precision.\n"
     ]
    }
   ],
   "source": [
    "const result = await agent.invoke({\n",
    "    messages: \"Tell me about baseball\"\n",
    "})\n",
    "console.log(result.messages.at(-1).content)"
   ]
  },
  {
   "cell_type": "markdown",
   "id": "ea456c75",
   "metadata": {},
   "source": [
    "#### Object"
   ]
  },
  {
   "cell_type": "code",
   "execution_count": 8,
   "id": "f8b093d4",
   "metadata": {},
   "outputs": [
    {
     "name": "stdout",
     "output_type": "stream",
     "text": [
      "Sprinters blaze the track\n",
      "feet flash, breath splits the cold air\n",
      "Finish lines burn bright\n"
     ]
    }
   ],
   "source": [
    "const result = await agent.invoke({\n",
    "    messages: {\n",
    "        role: \"user\",\n",
    "        content: \"Write a haiku about sprinters\"\n",
    "    }\n",
    "})\n",
    "console.log(result.messages.at(-1).content)"
   ]
  },
  {
   "cell_type": "markdown",
   "id": "6aee577d",
   "metadata": {},
   "source": [
    "There are multiple roles:\n",
    "```ts\n",
    "const messages = [\n",
    "    { role: \"system\", content: \"You are a sports poetry expert who completes haikus that have been started\" },\n",
    "    { role: \"user\", content: \"Write a haiku about sprinters\" },\n",
    "    { role: \"assistant\", content: \"Feet don't fail me...\" }\n",
    "]\n",
    "```"
   ]
  },
  {
   "cell_type": "markdown",
   "id": "b94cf024",
   "metadata": {},
   "source": [
    "#### Classes"
   ]
  },
  {
   "cell_type": "code",
   "execution_count": 9,
   "id": "ba572e7d",
   "metadata": {},
   "outputs": [
    {
     "name": "stdout",
     "output_type": "stream",
     "text": [
      "Feet reel from the blocks\n",
      "Gusts of light flash down the track\n",
      "Victory in breath\n"
     ]
    }
   ],
   "source": [
    "import { HumanMessage } from \"langchain\";\n",
    "\n",
    "const result = await agent.invoke({\n",
    "    messages: [new HumanMessage(\"Write a haiku about sprinters\")]\n",
    "})\n",
    "console.log(result.messages.at(-1).content)"
   ]
  },
  {
   "cell_type": "markdown",
   "id": "1575937c",
   "metadata": {},
   "source": [
    "## Output Format\n",
    "### messages"
   ]
  },
  {
   "cell_type": "code",
   "execution_count": 1,
   "id": "56e92472",
   "metadata": {},
   "outputs": [],
   "source": [
    "import { z } from \"zod\";\n",
    "import { tool } from \"langchain\";\n",
    "\n",
    "const checkHaikuLines = tool(({ text }) => {\n",
    "    const lines = text.split(\"\\n\").map(line => line.trim()).filter(Boolean);\n",
    "    console.log(`checking haiku, it has ${lines.length} lines:\\n ${text}`);\n",
    "    if (lines.length !== 3) {\n",
    "        return `Incorrect! This haiku has ${lines.length} lines. A haiku must have exactly 3 lines.`;\n",
    "    }\n",
    "    return \"Correct, This haiku has 3 lines.\";\n",
    "}, {\n",
    "    name: \"check_haiku_lines\",\n",
    "    description: \"Checks if the given haiku text has exactly 3 lines.\",\n",
    "    schema: z.object({\n",
    "        text: z.string().describe(\"The haiku text to check\"),\n",
    "    }),\n",
    "});"
   ]
  },
  {
   "cell_type": "code",
   "execution_count": 2,
   "id": "274e56fa",
   "metadata": {},
   "outputs": [],
   "source": [
    "import * as dotenv from \"dotenv/config\";\n",
    "import { createAgent } from \"langchain\";\n",
    "\n",
    "const agent = createAgent({\n",
    "    model: \"openai:gpt-5-nano\",\n",
    "    tools: [checkHaikuLines],\n",
    "    middleware: [],\n",
    "    systemPrompt: \"You are a sports poet who only writes Haiku. You always check your work.\"\n",
    "})"
   ]
  },
  {
   "cell_type": "code",
   "execution_count": 3,
   "id": "48117fbb",
   "metadata": {},
   "outputs": [
    {
     "name": "stdout",
     "output_type": "stream",
     "text": [
      "checking haiku, it has 3 lines:\n",
      " Cleats kiss the cold turf\n",
      "Whistles cut the morning air\n",
      "Crowd hums for the goal\n"
     ]
    }
   ],
   "source": [
    "const result = await agent.invoke({\n",
    "    messages: \"Please write me a poem\"\n",
    "})"
   ]
  },
  {
   "cell_type": "code",
   "execution_count": 5,
   "id": "f0763020",
   "metadata": {},
   "outputs": [
    {
     "data": {
      "text/plain": [
       "\u001b[32m\"Cleats bite summer turf\\nWhistles carve the morning air\\nFans hum for the goal\"\u001b[39m"
      ]
     },
     "execution_count": 5,
     "metadata": {},
     "output_type": "execute_result"
    }
   ],
   "source": [
    "result.messages.at(-1).content"
   ]
  },
  {
   "cell_type": "code",
   "execution_count": 6,
   "id": "a01e5464",
   "metadata": {},
   "outputs": [
    {
     "name": "stdout",
     "output_type": "stream",
     "text": [
      "4\n"
     ]
    }
   ],
   "source": [
    "console.log(result[\"messages\"].length)"
   ]
  },
  {
   "cell_type": "code",
   "execution_count": 7,
   "id": "5a89886c",
   "metadata": {},
   "outputs": [
    {
     "name": "stdout",
     "output_type": "stream",
     "text": [
      "human - Please write me a poem\n",
      "ai - Tool calls: \"check_haiku_lines: {\\\"text\\\":\\\"Cleats kiss the cold turf\\\\nWhistles cut the morning air\\\\nCrowd hums for the goal\\\"}\"\n",
      "tool - Correct, This haiku has 3 lines.\n",
      "ai - Cleats bite summer turf\n",
      "Whistles carve the morning air\n",
      "Fans hum for the goal\n"
     ]
    }
   ],
   "source": [
    "for (const message of result.messages) {\n",
    "    const content = message.content || `Tool calls: ${JSON.stringify(message.tool_calls.map(t => `${t.name}: ${JSON.stringify(t.args)}`).join(\", \"))}`;\n",
    "    console.log(`${message.type} - ${content}`)\n",
    "}"
   ]
  },
  {
   "cell_type": "markdown",
   "id": "1b41c409",
   "metadata": {},
   "source": [
    "### Other useful information"
   ]
  },
  {
   "cell_type": "code",
   "execution_count": 8,
   "id": "90f17fab",
   "metadata": {},
   "outputs": [
    {
     "data": {
      "text/plain": [
       "{\n",
       "  messages: [\n",
       "    HumanMessage {\n",
       "      \"id\": \"3696b474-9f68-47b3-ad07-43378700441b\",\n",
       "      \"content\": \"Please write me a poem\",\n",
       "      \"additional_kwargs\": {},\n",
       "      \"response_metadata\": {}\n",
       "    },\n",
       "    AIMessage {\n",
       "      \"id\": \"chatcmpl-CNyOHpXF9RnpbkW8iZRWRu7KLh8Og\",\n",
       "      \"content\": \"\",\n",
       "      \"name\": \"model\",\n",
       "      \"additional_kwargs\": {\n",
       "        \"tool_calls\": [\n",
       "          {\n",
       "            \"id\": \"call_sCGDvaN6MKS9y4MmnIJMtmjO\",\n",
       "            \"type\": \"function\",\n",
       "            \"function\": \"[Object]\"\n",
       "          }\n",
       "        ]\n",
       "      },\n",
       "      \"response_metadata\": {\n",
       "        \"tokenUsage\": {\n",
       "          \"promptTokens\": 167,\n",
       "          \"completionTokens\": 1070,\n",
       "          \"totalTokens\": 1237\n",
       "        },\n",
       "        \"finish_reason\": \"tool_calls\",\n",
       "        \"model_provider\": \"openai\",\n",
       "        \"model_name\": \"gpt-5-nano-2025-08-07\"\n",
       "      },\n",
       "      \"tool_calls\": [\n",
       "        {\n",
       "          \"name\": \"check_haiku_lines\",\n",
       "          \"args\": {\n",
       "            \"text\": \"Cleats kiss the cold turf\\nWhistles cut the morning air\\nCrowd hums for the goal\"\n",
       "          },\n",
       "          \"type\": \"tool_call\",\n",
       "          \"id\": \"call_sCGDvaN6MKS9y4MmnIJMtmjO\"\n",
       "        }\n",
       "      ],\n",
       "      \"invalid_tool_calls\": [],\n",
       "      \"usage_metadata\": {\n",
       "        \"output_tokens\": 1070,\n",
       "        \"input_tokens\": 167,\n",
       "        \"total_tokens\": 1237,\n",
       "        \"input_token_details\": {\n",
       "          \"audio\": 0,\n",
       "          \"cache_read\": 0\n",
       "        },\n",
       "        \"output_token_details\": {\n",
       "          \"audio\": 0,\n",
       "          \"reasoning\": 1024\n",
       "        }\n",
       "      }\n",
       "    },\n",
       "    ToolMessage {\n",
       "      \"id\": \"22f5afec-7b5e-49e9-b50b-2f0675533db6\",\n",
       "      \"content\": \"Correct, This haiku has 3 lines.\",\n",
       "      \"name\": \"check_haiku_lines\",\n",
       "      \"additional_kwargs\": {},\n",
       "      \"response_metadata\": {},\n",
       "      \"tool_call_id\": \"call_sCGDvaN6MKS9y4MmnIJMtmjO\"\n",
       "    },\n",
       "    AIMessage {\n",
       "      \"id\": \"chatcmpl-CNyOPQcNNMi4OxsosbBf5CjSkaCoD\",\n",
       "      \"content\": \"Cleats bite summer turf\\nWhistles carve the morning air\\nFans hum for the goal\",\n",
       "      \"name\": \"model\",\n",
       "      \"additional_kwargs\": {},\n",
       "      \"response_metadata\": {\n",
       "        \"tokenUsage\": {\n",
       "          \"promptTokens\": 232,\n",
       "          \"completionTokens\": 1499,\n",
       "          \"totalTokens\": 1731\n",
       "        },\n",
       "        \"finish_reason\": \"stop\",\n",
       "        \"model_provider\": \"openai\",\n",
       "        \"model_name\": \"gpt-5-nano-2025-08-07\"\n",
       "      },\n",
       "      \"tool_calls\": [],\n",
       "      \"invalid_tool_calls\": [],\n",
       "      \"usage_metadata\": {\n",
       "        \"output_tokens\": 1499,\n",
       "        \"input_tokens\": 232,\n",
       "        \"total_tokens\": 1731,\n",
       "        \"input_token_details\": {\n",
       "          \"audio\": 0,\n",
       "          \"cache_read\": 0\n",
       "        },\n",
       "        \"output_token_details\": {\n",
       "          \"audio\": 0,\n",
       "          \"reasoning\": 1472\n",
       "        }\n",
       "      }\n",
       "    }\n",
       "  ]\n",
       "}"
      ]
     },
     "execution_count": 8,
     "metadata": {},
     "output_type": "execute_result"
    }
   ],
   "source": [
    "result"
   ]
  },
  {
   "cell_type": "code",
   "execution_count": 9,
   "id": "cda961a4",
   "metadata": {},
   "outputs": [
    {
     "data": {
      "text/plain": [
       "AIMessage {\n",
       "  \"id\": \"chatcmpl-CNyOPQcNNMi4OxsosbBf5CjSkaCoD\",\n",
       "  \"content\": \"Cleats bite summer turf\\nWhistles carve the morning air\\nFans hum for the goal\",\n",
       "  \"name\": \"model\",\n",
       "  \"additional_kwargs\": {},\n",
       "  \"response_metadata\": {\n",
       "    \"tokenUsage\": {\n",
       "      \"promptTokens\": 232,\n",
       "      \"completionTokens\": 1499,\n",
       "      \"totalTokens\": 1731\n",
       "    },\n",
       "    \"finish_reason\": \"stop\",\n",
       "    \"model_provider\": \"openai\",\n",
       "    \"model_name\": \"gpt-5-nano-2025-08-07\"\n",
       "  },\n",
       "  \"tool_calls\": [],\n",
       "  \"invalid_tool_calls\": [],\n",
       "  \"usage_metadata\": {\n",
       "    \"output_tokens\": 1499,\n",
       "    \"input_tokens\": 232,\n",
       "    \"total_tokens\": 1731,\n",
       "    \"input_token_details\": {\n",
       "      \"audio\": 0,\n",
       "      \"cache_read\": 0\n",
       "    },\n",
       "    \"output_token_details\": {\n",
       "      \"audio\": 0,\n",
       "      \"reasoning\": 1472\n",
       "    }\n",
       "  }\n",
       "}"
      ]
     },
     "execution_count": 9,
     "metadata": {},
     "output_type": "execute_result"
    }
   ],
   "source": [
    "result.messages.at(-1)"
   ]
  },
  {
   "cell_type": "code",
   "execution_count": 10,
   "id": "3e19ce32",
   "metadata": {},
   "outputs": [
    {
     "data": {
      "text/plain": [
       "{\n",
       "  output_tokens: \u001b[33m1499\u001b[39m,\n",
       "  input_tokens: \u001b[33m232\u001b[39m,\n",
       "  total_tokens: \u001b[33m1731\u001b[39m,\n",
       "  input_token_details: { audio: \u001b[33m0\u001b[39m, cache_read: \u001b[33m0\u001b[39m },\n",
       "  output_token_details: { audio: \u001b[33m0\u001b[39m, reasoning: \u001b[33m1472\u001b[39m }\n",
       "}"
      ]
     },
     "execution_count": 10,
     "metadata": {},
     "output_type": "execute_result"
    }
   ],
   "source": [
    "result.messages.at(-1).usage_metadata"
   ]
  },
  {
   "cell_type": "code",
   "execution_count": 11,
   "id": "58e1567c",
   "metadata": {},
   "outputs": [
    {
     "data": {
      "text/plain": [
       "{\n",
       "  tokenUsage: { promptTokens: \u001b[33m232\u001b[39m, completionTokens: \u001b[33m1499\u001b[39m, totalTokens: \u001b[33m1731\u001b[39m },\n",
       "  finish_reason: \u001b[32m\"stop\"\u001b[39m,\n",
       "  model_provider: \u001b[32m\"openai\"\u001b[39m,\n",
       "  model_name: \u001b[32m\"gpt-5-nano-2025-08-07\"\u001b[39m\n",
       "}"
      ]
     },
     "execution_count": 11,
     "metadata": {},
     "output_type": "execute_result"
    }
   ],
   "source": [
    "result.messages.at(-1).response_metadata"
   ]
  }
 ],
 "metadata": {
  "kernelspec": {
   "display_name": "Deno",
   "language": "typescript",
   "name": "deno"
  },
  "language_info": {
   "codemirror_mode": "typescript",
   "file_extension": ".ts",
   "mimetype": "text/x.typescript",
   "name": "typescript",
   "nbconvert_exporter": "script",
   "pygments_lexer": "typescript",
   "version": "5.9.2"
  }
 },
 "nbformat": 4,
 "nbformat_minor": 5
}
