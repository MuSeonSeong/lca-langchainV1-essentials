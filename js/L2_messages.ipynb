{
 "cells": [
  {
   "cell_type": "markdown",
   "id": "637145d2",
   "metadata": {},
   "source": [
    "# ✉️ Messages\n",
    "  <img src=\"../python/assets/LC_Messages.png\" width=\"500\">\n",
    "\n",
    "Messages are the fundamental unit of context for models in LangChain. They represent the input and output of models, carrying both the content and metadata needed to represent the state of a conversation when interacting with an LLM."
   ]
  },
  {
   "cell_type": "markdown",
   "id": "a5e742bd",
   "metadata": {},
   "source": [
    "## Basic Usage"
   ]
  },
  {
   "cell_type": "code",
   "execution_count": null,
   "id": "17700c5d",
   "metadata": {},
   "outputs": [],
   "source": [
    "import * as setup from \"./setup.ts\";\n",
    "import { createAgent } from \"langchain\";\n",
    "\n",
    "const agent = await createAgent({\n",
    "    model: \"anthropic:claude-sonnet-4-5-20250929\",\n",
    "    systemPrompt: \"You are a full-stack comedian\",\n",
    "});"
   ]
  },
  {
   "cell_type": "markdown",
   "id": "669afeb1",
   "metadata": {},
   "source": [
    "Now let's invoke the agent with a simple message.\n"
   ]
  },
  {
   "cell_type": "code",
   "execution_count": null,
   "id": "dbfa6f95",
   "metadata": {},
   "outputs": [],
   "source": [
    "import { HumanMessage } from \"langchain\";\n",
    "\n",
    "const humanMessage = new HumanMessage(\"Hello, how are you?\");\n",
    "const result = await agent.invoke({ messages: [humanMessage] });"
   ]
  },
  {
   "cell_type": "markdown",
   "id": "21723204",
   "metadata": {},
   "source": [
    "The result contains a `messages` array. Let's see what the agent responded with:\n"
   ]
  },
  {
   "cell_type": "code",
   "execution_count": null,
   "id": "3766bbb9",
   "metadata": {},
   "outputs": [],
   "source": [
    "console.log(result.messages.at(-1).content)"
   ]
  },
  {
   "cell_type": "markdown",
   "id": "40c728a6",
   "metadata": {},
   "source": [
    "We can iterate through all messages to see the full conversation history:\n"
   ]
  },
  {
   "cell_type": "code",
   "execution_count": null,
   "id": "e8f4b863",
   "metadata": {},
   "outputs": [],
   "source": [
    "for (const message of result.messages) {\n",
    "    displayMessage(message)\n",
    "}"
   ]
  },
  {
   "cell_type": "markdown",
   "id": "707ebd4b",
   "metadata": {},
   "source": [
    "### Altenative formats\n",
    "#### Strings"
   ]
  },
  {
   "cell_type": "code",
   "execution_count": null,
   "id": "c51d9b6e",
   "metadata": {},
   "outputs": [],
   "source": [
    "const agent = createAgent({\n",
    "    model: \"anthropic:claude-sonnet-4-5-20250929\",\n",
    "    systemPrompt: \"You are a terse sports poet.\",\n",
    "})"
   ]
  },
  {
   "cell_type": "markdown",
   "id": "354040da",
   "metadata": {},
   "source": [
    "Instead of using message classes, you can pass a plain string:\n"
   ]
  },
  {
   "cell_type": "code",
   "execution_count": null,
   "id": "d7bc5daa",
   "metadata": {},
   "outputs": [],
   "source": [
    "const result = await agent.invoke({\n",
    "    messages: \"Tell me about baseball\"\n",
    "})\n",
    "console.log(result.messages.at(-1).content)"
   ]
  },
  {
   "cell_type": "markdown",
   "id": "ea456c75",
   "metadata": {},
   "source": [
    "#### Object"
   ]
  },
  {
   "cell_type": "markdown",
   "id": "06a9faf0",
   "metadata": {},
   "source": [
    "You can also pass an object with `role` and `content`:\n"
   ]
  },
  {
   "cell_type": "code",
   "execution_count": null,
   "id": "f8b093d4",
   "metadata": {},
   "outputs": [],
   "source": [
    "const result = await agent.invoke({\n",
    "    messages: {\n",
    "        role: \"user\",\n",
    "        content: \"Write a haiku about sprinters\"\n",
    "    }\n",
    "})\n",
    "console.log(result.messages.at(-1).content)"
   ]
  },
  {
   "cell_type": "markdown",
   "id": "0c4a8a6c",
   "metadata": {},
   "source": [
    "There are multiple roles you can use in message objects:\n"
   ]
  },
  {
   "cell_type": "markdown",
   "id": "6aee577d",
   "metadata": {},
   "source": [
    "There are multiple roles:\n",
    "```ts\n",
    "const messages = [\n",
    "    { role: \"system\", content: \"You are a sports poetry expert who completes haikus that have been started\" },\n",
    "    { role: \"user\", content: \"Write a haiku about sprinters\" },\n",
    "    { role: \"assistant\", content: \"Feet don't fail me...\" }\n",
    "]\n",
    "```"
   ]
  },
  {
   "cell_type": "markdown",
   "id": "b94cf024",
   "metadata": {},
   "source": [
    "#### Classes"
   ]
  },
  {
   "cell_type": "markdown",
   "id": "92990b7e",
   "metadata": {},
   "source": [
    "Finally, you can use the message classes for explicit type control:\n"
   ]
  },
  {
   "cell_type": "code",
   "execution_count": null,
   "id": "ba572e7d",
   "metadata": {},
   "outputs": [],
   "source": [
    "import { HumanMessage } from \"langchain\";\n",
    "\n",
    "const result = await agent.invoke({\n",
    "    messages: [new HumanMessage(\"Write a haiku about sprinters\")]\n",
    "})\n",
    "console.log(result.messages.at(-1).content)"
   ]
  },
  {
   "cell_type": "markdown",
   "id": "1575937c",
   "metadata": {},
   "source": [
    "## Output Format\n",
    "### messages"
   ]
  },
  {
   "cell_type": "markdown",
   "id": "0e2f192a",
   "metadata": {},
   "source": [
    "First, let's define a tool that checks if a haiku has the correct number of lines:\n"
   ]
  },
  {
   "cell_type": "code",
   "execution_count": null,
   "id": "56e92472",
   "metadata": {},
   "outputs": [],
   "source": [
    "import { z } from \"zod\";\n",
    "import { tool } from \"langchain\";\n",
    "\n",
    "const checkHaikuLines = tool(({ text }) => {\n",
    "    const lines = text.split(\"\\n\").map(line => line.trim()).filter(Boolean);\n",
    "    console.log(`checking haiku, it has ${lines.length} lines:\\n ${text}`);\n",
    "    if (lines.length !== 3) {\n",
    "        return `Incorrect! This haiku has ${lines.length} lines. A haiku must have exactly 3 lines.`;\n",
    "    }\n",
    "    return \"Correct, This haiku has 3 lines.\";\n",
    "}, {\n",
    "    name: \"check_haiku_lines\",\n",
    "    description: \"Checks if the given haiku text has exactly 3 lines.\",\n",
    "    schema: z.object({\n",
    "        text: z.string().describe(\"The haiku text to check\"),\n",
    "    }),\n",
    "});"
   ]
  },
  {
   "cell_type": "markdown",
   "id": "087a0591",
   "metadata": {},
   "source": [
    "Now we'll create an agent that uses this tool to validate its haikus:\n"
   ]
  },
  {
   "cell_type": "code",
   "execution_count": null,
   "id": "274e56fa",
   "metadata": {},
   "outputs": [],
   "source": [
    "import * as setup from \"./setup.ts\";\n",
    "import { createAgent } from \"langchain\";\n",
    "\n",
    "const agent = createAgent({\n",
    "    model: \"anthropic:claude-sonnet-4-5-20250929\",\n",
    "    tools: [checkHaikuLines],\n",
    "    systemPrompt: \"You are a sports poet who only writes Haiku. You always check your work.\"\n",
    "})"
   ]
  },
  {
   "cell_type": "markdown",
   "id": "84de46bf",
   "metadata": {},
   "source": [
    "Let's ask the agent to write a poem (which it will write as a haiku and check):\n"
   ]
  },
  {
   "cell_type": "code",
   "execution_count": null,
   "id": "48117fbb",
   "metadata": {},
   "outputs": [],
   "source": [
    "const result = await agent.invoke({\n",
    "    messages: \"Please write me a poem\"\n",
    "})"
   ]
  },
  {
   "cell_type": "code",
   "execution_count": null,
   "id": "f0763020",
   "metadata": {},
   "outputs": [],
   "source": [
    "result.messages.at(-1).content"
   ]
  },
  {
   "cell_type": "markdown",
   "id": "b7961e11",
   "metadata": {},
   "source": [
    "The agent wrote a valid haiku! Now let's check the message count:\n"
   ]
  },
  {
   "cell_type": "code",
   "execution_count": null,
   "id": "a01e5464",
   "metadata": {},
   "outputs": [],
   "source": [
    "console.log(result[\"messages\"].length)"
   ]
  },
  {
   "cell_type": "markdown",
   "id": "abafa90a",
   "metadata": {},
   "source": [
    "Four messages total! Let's see them all:\n"
   ]
  },
  {
   "cell_type": "code",
   "execution_count": null,
   "id": "5a89886c",
   "metadata": {},
   "outputs": [],
   "source": [
    "for (const message of result.messages) {\n",
    "    displayMessage(message)\n",
    "}"
   ]
  },
  {
   "cell_type": "markdown",
   "id": "fb37454b",
   "metadata": {},
   "source": [
    "Notice the workflow: human → AI with tool call → tool result → final AI response.\n"
   ]
  },
  {
   "cell_type": "markdown",
   "id": "1b41c409",
   "metadata": {},
   "source": [
    "### Other useful information"
   ]
  },
  {
   "cell_type": "markdown",
   "id": "984ce052",
   "metadata": {},
   "source": [
    "The full result object shows all messages with their metadata:\n"
   ]
  },
  {
   "cell_type": "code",
   "execution_count": null,
   "id": "90f17fab",
   "metadata": {},
   "outputs": [],
   "source": [
    "result"
   ]
  },
  {
   "cell_type": "markdown",
   "id": "dec3a704",
   "metadata": {},
   "source": [
    "Each individual message has rich metadata:\n"
   ]
  },
  {
   "cell_type": "code",
   "execution_count": null,
   "id": "cda961a4",
   "metadata": {},
   "outputs": [],
   "source": [
    "result.messages.at(-1)"
   ]
  },
  {
   "cell_type": "markdown",
   "id": "560d6ff4",
   "metadata": {},
   "source": [
    "The `usage_metadata` tracks token consumption including reasoning tokens:\n"
   ]
  },
  {
   "cell_type": "code",
   "execution_count": null,
   "id": "3e19ce32",
   "metadata": {},
   "outputs": [],
   "source": [
    "result.messages.at(-1).usage_metadata"
   ]
  },
  {
   "cell_type": "markdown",
   "id": "a4feaba3",
   "metadata": {},
   "source": [
    "Finally, `response_metadata` has model-specific information like finish reason and model name:\n"
   ]
  },
  {
   "cell_type": "code",
   "execution_count": null,
   "id": "58e1567c",
   "metadata": {},
   "outputs": [],
   "source": [
    "result.messages.at(-1).response_metadata"
   ]
  },
  {
   "cell_type": "markdown",
   "id": "167b04d6",
   "metadata": {},
   "source": [
    "### Try it on your own!\n",
    "Change the system prompt, use the `displayMessage` to print some messages or dig through `results` on your own. Notice the Human, AI and Tool messages and some of their associated metadata. Notice how the final results provide a complete history of the agents activity!"
   ]
  },
  {
   "cell_type": "code",
   "execution_count": null,
   "id": "a4fc83ee",
   "metadata": {},
   "outputs": [],
   "source": [
    "import { createAgent } from \"langchain\";\n",
    "\n",
    "const agent = createAgent({\n",
    "    model: \"anthropic:claude-sonnet-4-5-20250929\",\n",
    "    tools: [checkHaikuLines],\n",
    "    systemPrompt: \"Your SYSTEM prompt here\"\n",
    "})\n",
    "const result = await agent.invoke({\n",
    "    messages: \"Your HUMAN message here\"\n",
    "})\n",
    "result.messages.at(-1)"
   ]
  }
 ],
 "metadata": {
  "kernelspec": {
   "display_name": "Deno",
   "language": "typescript",
   "name": "deno"
  },
  "language_info": {
   "codemirror_mode": "typescript",
   "file_extension": ".ts",
   "mimetype": "text/x.typescript",
   "name": "typescript",
   "nbconvert_exporter": "script",
   "pygments_lexer": "typescript",
   "version": "5.9.2"
  }
 },
 "nbformat": 4,
 "nbformat_minor": 5
}
