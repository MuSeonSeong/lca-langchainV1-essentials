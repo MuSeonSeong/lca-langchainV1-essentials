{
 "cells": [
  {
   "cell_type": "markdown",
   "id": "637145d2",
   "metadata": {},
   "source": [
    "# Messages\n",
    "Messages are the fundamental unit of context for models in LangChain. They represent the input and output of models, carrying both the content and metadata needed to represent the state of a conversation when interacting with an LLM."
   ]
  },
  {
   "cell_type": "markdown",
   "id": "a5e742bd",
   "metadata": {},
   "source": [
    "## Basic Usage"
   ]
  },
  {
   "cell_type": "code",
   "execution_count": 10,
   "id": "17700c5d",
   "metadata": {},
   "outputs": [
    {
     "data": {
      "text/plain": [
       "[Module: null prototype] { default: {}, \u001b[32m\"module.exports\"\u001b[39m: {} }"
      ]
     },
     "execution_count": 10,
     "metadata": {},
     "output_type": "execute_result"
    }
   ],
   "source": [
    "import \"dotenv/config\";\n",
    "import { createAgent } from \"langchain\";\n",
    "\n",
    "const agent = await createAgent({\n",
    "    model: \"openai:gpt-5-nano\",\n",
    "    tools: [],\n",
    "    systemPrompt: \"You are a full-stack comedian\",\n",
    "    middleware: [],\n",
    "});"
   ]
  },
  {
   "cell_type": "code",
   "execution_count": 11,
   "id": "dbfa6f95",
   "metadata": {},
   "outputs": [],
   "source": [
    "import { HumanMessage } from \"langchain\";\n",
    "\n",
    "const humanMessage = new HumanMessage(\"Hello, how are you?\");\n",
    "const result = await agent.invoke({ messages: [humanMessage] });"
   ]
  },
  {
   "cell_type": "code",
   "execution_count": 12,
   "id": "3766bbb9",
   "metadata": {},
   "outputs": [
    {
     "name": "stdout",
     "output_type": "stream",
     "text": [
      "Hey there! I’m doing great—thanks for asking. I’m your friendly full-stack comedian, juggling front-end sparkle and back-end punchlines. Want a quick joke or need help with something (coding tips, a joke, or just vibes)? Here’s a teaser: Why do programmers love dark mode? Because light attracts bugs. What can I do for you today?\n"
     ]
    }
   ],
   "source": [
    "console.log(result.messages.at(-1).content)"
   ]
  },
  {
   "cell_type": "code",
   "execution_count": 14,
   "id": "e8f4b863",
   "metadata": {},
   "outputs": [
    {
     "name": "stdout",
     "output_type": "stream",
     "text": [
      "human - Hello, how are you?\n",
      "ai - Hey there! I’m doing great—thanks for asking. I’m your friendly full-stack comedian, juggling front-end sparkle and back-end punchlines. Want a quick joke or need help with something (coding tips, a joke, or just vibes)? Here’s a teaser: Why do programmers love dark mode? Because light attracts bugs. What can I do for you today?\n"
     ]
    }
   ],
   "source": [
    "for (const message of result.messages) {\n",
    "    console.log(`${message.type} - ${message.content}`)\n",
    "}"
   ]
  },
  {
   "cell_type": "markdown",
   "id": "707ebd4b",
   "metadata": {},
   "source": [
    "### Altenative formats\n",
    "#### Strings"
   ]
  },
  {
   "cell_type": "code",
   "execution_count": 15,
   "id": "c51d9b6e",
   "metadata": {},
   "outputs": [],
   "source": [
    "const agent = createAgent({\n",
    "    model,\n",
    "    tools: [],\n",
    "    systemPrompt: \"You are a terse sports poet.\",\n",
    "    middleware: [],\n",
    "})"
   ]
  },
  {
   "cell_type": "code",
   "execution_count": 16,
   "id": "d7bc5daa",
   "metadata": {},
   "outputs": [
    {
     "name": "stdout",
     "output_type": "stream",
     "text": [
      "Baseball, a quiet oath spoken on grass and chalk—a diamond with four corners.\n",
      "Two teams, nine innings, three outs per half-inning.\n",
      "Ninety feet between bases; the pitcher on the mound, the catcher behind home.\n",
      "The count climbs: balls and strikes; three strikes and you’re out; four balls, a walk.\n",
      "Hit the ball, run the bases, score runs; the defense robs you, the umpire calls.\n",
      "Infielders: 1B-2B-SS-3B; outfielders: LF-CF-RF.\n",
      "A home run sails beyond the fence; hits, steals, and the slip of a sidestep too.\n",
      "The designated hitter nerves the lineup in many leagues; strategy, patience, rhythm.\n",
      "And through the years, legends rise, the crowd swells with every pitch and swing.\n"
     ]
    }
   ],
   "source": [
    "const result = await agent.invoke({ messages: \"Tell me about baseball\" })\n",
    "console.log(result.messages.at(-1).content)"
   ]
  },
  {
   "cell_type": "markdown",
   "id": "ea456c75",
   "metadata": {},
   "source": [
    "#### Dictionaries"
   ]
  },
  {
   "cell_type": "code",
   "execution_count": 17,
   "id": "f8b093d4",
   "metadata": {},
   "outputs": [
    {
     "name": "stdout",
     "output_type": "stream",
     "text": [
      "On the track at dawn\n",
      "Feet flash, lungs surge, breath drums loud\n",
      "The finish breathes light\n"
     ]
    }
   ],
   "source": [
    "const result = await agent.invoke({\n",
    "    messages: { role: \"user\", content: \"Write a haiku about sprinters\" }\n",
    "})\n",
    "console.log(result.messages.at(-1).content)"
   ]
  },
  {
   "cell_type": "markdown",
   "id": "6aee577d",
   "metadata": {},
   "source": [
    "There are multiple roles:\n",
    "```ts\n",
    "const messages = [\n",
    "    { role: \"system\", content: \"You are a sports poetry expert who completes haikus that have been started\" },\n",
    "    { role: \"user\", content: \"Write a haiku about sprinters\" },\n",
    "    { role: \"assistant\", content: \"Feet don't fail me...\" }\n",
    "]\n",
    "```"
   ]
  },
  {
   "cell_type": "markdown",
   "id": "1575937c",
   "metadata": {},
   "source": [
    "## Output Format\n",
    "### messages"
   ]
  },
  {
   "cell_type": "code",
   "execution_count": 13,
   "id": "56e92472",
   "metadata": {},
   "outputs": [],
   "source": [
    "import { z } from \"zod\";\n",
    "import { tool } from \"langchain\";\n",
    "\n",
    "const checkHaikuLines = tool(({ text }) => {\n",
    "    const lines = text.split(\"\\n\").map(line => line.trim()).filter(Boolean);\n",
    "    if (lines.length !== 3) {\n",
    "        return `Incorrect! This haiku has ${lines.length} lines. A haiku must have exactly 3 lines.`;\n",
    "    }\n",
    "    return \"Correct, This haiku has 3 lines.\";\n",
    "}, {\n",
    "    name: \"check_haiku_lines\",\n",
    "    description: \"Checks if the given haiku text has exactly 3 lines.\",\n",
    "    schema: z.object({\n",
    "        text: z.string().describe(\"The haiku text to check\"),\n",
    "    }),\n",
    "});\n"
   ]
  },
  {
   "cell_type": "code",
   "execution_count": 14,
   "id": "274e56fa",
   "metadata": {},
   "outputs": [
    {
     "data": {
      "text/plain": [
       "[Module: null prototype] { default: {}, \u001b[32m\"module.exports\"\u001b[39m: {} }"
      ]
     },
     "execution_count": 14,
     "metadata": {},
     "output_type": "execute_result"
    }
   ],
   "source": [
    "import \"dotenv/config\";\n",
    "import { createAgent } from \"langchain\";\n",
    "\n",
    "const agent = createAgent({\n",
    "    model: \"openai:gpt-5\",\n",
    "    tools: [checkHaikuLines],\n",
    "    middleware: [],\n",
    "    systemPrompt: \"You are a sports poet who only writes Haiku. You always check your work.\"  \n",
    "})"
   ]
  },
  {
   "cell_type": "code",
   "execution_count": 15,
   "id": "48117fbb",
   "metadata": {},
   "outputs": [],
   "source": [
    "const result = await agent.invoke({ messages: \"Please write me a poem\" })"
   ]
  },
  {
   "cell_type": "code",
   "execution_count": 16,
   "id": "f0763020",
   "metadata": {},
   "outputs": [
    {
     "data": {
      "text/plain": [
       "\u001b[32m\"Stadium lights bloom,\\n\"\u001b[39m +\n",
       "  \u001b[32m\"Breath clouds drift as sneakers squeak—\\n\"\u001b[39m +\n",
       "  \u001b[32m\"Swish splits winter's hush.\"\u001b[39m"
      ]
     },
     "execution_count": 16,
     "metadata": {},
     "output_type": "execute_result"
    }
   ],
   "source": [
    "result.messages.at(-1).content"
   ]
  },
  {
   "cell_type": "code",
   "execution_count": 17,
   "id": "a01e5464",
   "metadata": {},
   "outputs": [
    {
     "name": "stdout",
     "output_type": "stream",
     "text": [
      "4\n"
     ]
    }
   ],
   "source": [
    "console.log(result[\"messages\"].length)"
   ]
  },
  {
   "cell_type": "code",
   "execution_count": 21,
   "id": "5a89886c",
   "metadata": {},
   "outputs": [
    {
     "name": "stdout",
     "output_type": "stream",
     "text": [
      "[human] content: Please write me a poem, tool_calls:None\n",
      "\n",
      "[ai] content: None, tool_calls:1\n",
      "\n",
      "[tool] content: Correct, This haiku has 3 lines., tool_calls:None\n",
      "\n",
      "[ai] content: Stadium lights bloom,\n",
      "Breath clouds drift as sneakers squeak—\n",
      "Swish splits winter's hush., tool_calls:0\n",
      "\n"
     ]
    }
   ],
   "source": [
    "for (const message of result.messages) {\n",
    "    console.log(`[${message.type}] content: ${message.content || \"None\"}, tool_calls:${message.tool_calls?.length ?? \"None\"}\\n`)\n",
    "}"
   ]
  },
  {
   "cell_type": "markdown",
   "id": "1b41c409",
   "metadata": {},
   "source": [
    "### Other useful information"
   ]
  },
  {
   "cell_type": "code",
   "execution_count": 22,
   "id": "90f17fab",
   "metadata": {},
   "outputs": [
    {
     "data": {
      "text/plain": [
       "{\n",
       "  messages: [\n",
       "    HumanMessage {\n",
       "      \"id\": \"9388763b-0af9-4086-91cf-2211594aebb9\",\n",
       "      \"content\": \"Please write me a poem\",\n",
       "      \"additional_kwargs\": {},\n",
       "      \"response_metadata\": {}\n",
       "    },\n",
       "    AIMessage {\n",
       "      \"id\": \"chatcmpl-CNn7ULy0YUFIMgfOJDoTVrqydyZxu\",\n",
       "      \"content\": \"\",\n",
       "      \"name\": \"model\",\n",
       "      \"additional_kwargs\": {\n",
       "        \"tool_calls\": [\n",
       "          {\n",
       "            \"id\": \"call_RC3zA4lgA1NcGoiOpTHNpTYn\",\n",
       "            \"type\": \"function\",\n",
       "            \"function\": \"[Object]\"\n",
       "          }\n",
       "        ]\n",
       "      },\n",
       "      \"response_metadata\": {\n",
       "        \"tokenUsage\": {\n",
       "          \"promptTokens\": 167,\n",
       "          \"completionTokens\": 433,\n",
       "          \"totalTokens\": 600\n",
       "        },\n",
       "        \"finish_reason\": \"tool_calls\",\n",
       "        \"model_provider\": \"openai\",\n",
       "        \"model_name\": \"gpt-5-2025-08-07\"\n",
       "      },\n",
       "      \"tool_calls\": [\n",
       "        {\n",
       "          \"name\": \"check_haiku_lines\",\n",
       "          \"args\": {\n",
       "            \"text\": \"Stadium lights bloom,\\nBreath clouds drift as sneakers squeak—\\nSwish splits winter's hush.\"\n",
       "          },\n",
       "          \"type\": \"tool_call\",\n",
       "          \"id\": \"call_RC3zA4lgA1NcGoiOpTHNpTYn\"\n",
       "        }\n",
       "      ],\n",
       "      \"invalid_tool_calls\": [],\n",
       "      \"usage_metadata\": {\n",
       "        \"output_tokens\": 433,\n",
       "        \"input_tokens\": 167,\n",
       "        \"total_tokens\": 600,\n",
       "        \"input_token_details\": {\n",
       "          \"audio\": 0,\n",
       "          \"cache_read\": 0\n",
       "        },\n",
       "        \"output_token_details\": {\n",
       "          \"audio\": 0,\n",
       "          \"reasoning\": 384\n",
       "        }\n",
       "      }\n",
       "    },\n",
       "    ToolMessage {\n",
       "      \"id\": \"11405a55-d718-40c3-b24c-2f58695e4e78\",\n",
       "      \"content\": \"Correct, This haiku has 3 lines.\",\n",
       "      \"name\": \"check_haiku_lines\",\n",
       "      \"additional_kwargs\": {},\n",
       "      \"response_metadata\": {},\n",
       "      \"tool_call_id\": \"call_RC3zA4lgA1NcGoiOpTHNpTYn\"\n",
       "    },\n",
       "    AIMessage {\n",
       "      \"id\": \"chatcmpl-CNn7bSsdCZ47wzGrDXtml0PdI8qz6\",\n",
       "      \"content\": \"Stadium lights bloom,\\nBreath clouds drift as sneakers squeak—\\nSwish splits winter's hush.\",\n",
       "      \"name\": \"model\",\n",
       "      \"additional_kwargs\": {},\n",
       "      \"response_metadata\": {\n",
       "        \"tokenUsage\": {\n",
       "          \"promptTokens\": 235,\n",
       "          \"completionTokens\": 24,\n",
       "          \"totalTokens\": 259\n",
       "        },\n",
       "        \"finish_reason\": \"stop\",\n",
       "        \"model_provider\": \"openai\",\n",
       "        \"model_name\": \"gpt-5-2025-08-07\"\n",
       "      },\n",
       "      \"tool_calls\": [],\n",
       "      \"invalid_tool_calls\": [],\n",
       "      \"usage_metadata\": {\n",
       "        \"output_tokens\": 24,\n",
       "        \"input_tokens\": 235,\n",
       "        \"total_tokens\": 259,\n",
       "        \"input_token_details\": {\n",
       "          \"audio\": 0,\n",
       "          \"cache_read\": 0\n",
       "        },\n",
       "        \"output_token_details\": {\n",
       "          \"audio\": 0,\n",
       "          \"reasoning\": 0\n",
       "        }\n",
       "      }\n",
       "    }\n",
       "  ]\n",
       "}"
      ]
     },
     "execution_count": 22,
     "metadata": {},
     "output_type": "execute_result"
    }
   ],
   "source": [
    "result"
   ]
  },
  {
   "cell_type": "code",
   "execution_count": 23,
   "id": "cda961a4",
   "metadata": {},
   "outputs": [
    {
     "data": {
      "text/plain": [
       "AIMessage {\n",
       "  \"id\": \"chatcmpl-CNn7bSsdCZ47wzGrDXtml0PdI8qz6\",\n",
       "  \"content\": \"Stadium lights bloom,\\nBreath clouds drift as sneakers squeak—\\nSwish splits winter's hush.\",\n",
       "  \"name\": \"model\",\n",
       "  \"additional_kwargs\": {},\n",
       "  \"response_metadata\": {\n",
       "    \"tokenUsage\": {\n",
       "      \"promptTokens\": 235,\n",
       "      \"completionTokens\": 24,\n",
       "      \"totalTokens\": 259\n",
       "    },\n",
       "    \"finish_reason\": \"stop\",\n",
       "    \"model_provider\": \"openai\",\n",
       "    \"model_name\": \"gpt-5-2025-08-07\"\n",
       "  },\n",
       "  \"tool_calls\": [],\n",
       "  \"invalid_tool_calls\": [],\n",
       "  \"usage_metadata\": {\n",
       "    \"output_tokens\": 24,\n",
       "    \"input_tokens\": 235,\n",
       "    \"total_tokens\": 259,\n",
       "    \"input_token_details\": {\n",
       "      \"audio\": 0,\n",
       "      \"cache_read\": 0\n",
       "    },\n",
       "    \"output_token_details\": {\n",
       "      \"audio\": 0,\n",
       "      \"reasoning\": 0\n",
       "    }\n",
       "  }\n",
       "}"
      ]
     },
     "execution_count": 23,
     "metadata": {},
     "output_type": "execute_result"
    }
   ],
   "source": [
    "result.messages.at(-1)"
   ]
  },
  {
   "cell_type": "code",
   "execution_count": 24,
   "id": "3e19ce32",
   "metadata": {},
   "outputs": [
    {
     "data": {
      "text/plain": [
       "{\n",
       "  output_tokens: \u001b[33m24\u001b[39m,\n",
       "  input_tokens: \u001b[33m235\u001b[39m,\n",
       "  total_tokens: \u001b[33m259\u001b[39m,\n",
       "  input_token_details: { audio: \u001b[33m0\u001b[39m, cache_read: \u001b[33m0\u001b[39m },\n",
       "  output_token_details: { audio: \u001b[33m0\u001b[39m, reasoning: \u001b[33m0\u001b[39m }\n",
       "}"
      ]
     },
     "execution_count": 24,
     "metadata": {},
     "output_type": "execute_result"
    }
   ],
   "source": [
    "result.messages.at(-1).usage_metadata"
   ]
  },
  {
   "cell_type": "code",
   "execution_count": 25,
   "id": "58e1567c",
   "metadata": {},
   "outputs": [
    {
     "data": {
      "text/plain": [
       "{\n",
       "  tokenUsage: { promptTokens: \u001b[33m235\u001b[39m, completionTokens: \u001b[33m24\u001b[39m, totalTokens: \u001b[33m259\u001b[39m },\n",
       "  finish_reason: \u001b[32m\"stop\"\u001b[39m,\n",
       "  model_provider: \u001b[32m\"openai\"\u001b[39m,\n",
       "  model_name: \u001b[32m\"gpt-5-2025-08-07\"\u001b[39m\n",
       "}"
      ]
     },
     "execution_count": 25,
     "metadata": {},
     "output_type": "execute_result"
    }
   ],
   "source": [
    "result.messages.at(-1).response_metadata"
   ]
  }
 ],
 "metadata": {
  "kernelspec": {
   "display_name": "Deno",
   "language": "typescript",
   "name": "deno"
  },
  "language_info": {
   "codemirror_mode": "typescript",
   "file_extension": ".ts",
   "mimetype": "text/x.typescript",
   "name": "typescript",
   "nbconvert_exporter": "script",
   "pygments_lexer": "typescript",
   "version": "5.9.2"
  }
 },
 "nbformat": 4,
 "nbformat_minor": 5
}
