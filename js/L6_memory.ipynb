{
 "cells": [
  {
   "cell_type": "markdown",
   "id": "d3bc6f40",
   "metadata": {},
   "source": [
    "# Memory\n",
    "\n",
    "<div style=\"display: flex; justify-content: flex-start; gap: 10px;\">\n",
    "  <img src=\"./assets/LC_Memory_before.png\" alt=\"Image 1\" style=\"width:300px; border:1px solid #ccc; border-radius:6px;\">\n",
    "  <img src=\"./assets/LC_Memory.png\" alt=\"Image 2\" style=\"width:300px; border:1px solid #ccc; border-radius:6px;\">\n",
    "</div>\n",
    "\n",
    "Persisting messages, or 'agent state' between invocations of the agent.\n",
    "## Setup"
   ]
  },
  {
   "cell_type": "markdown",
   "id": "5254253f",
   "metadata": {},
   "source": [
    "First, let's connect to our SQLite database containing music store data.\n"
   ]
  },
  {
   "cell_type": "code",
   "execution_count": null,
   "id": "4beba60b",
   "metadata": {},
   "outputs": [],
   "source": [
    "import { SqlDatabase } from \"@langchain/classic/sql_db\";\n",
    "import { DataSource } from \"typeorm\";\n",
    "\n",
    "const datasource = new DataSource({\n",
    "    type: \"sqlite\",\n",
    "    database: \"./Chinook.db\", // Replace with the link to your database\n",
    "});\n",
    "const db = await SqlDatabase.fromDataSourceParams({\n",
    "    appDataSource: datasource,\n",
    "});"
   ]
  },
  {
   "cell_type": "markdown",
   "id": "9b356c2e",
   "metadata": {},
   "source": [
    "Define a context schema to hold customer information (first and last name) that will be available throughout the agent's execution.\n"
   ]
  },
  {
   "cell_type": "code",
   "execution_count": null,
   "id": "c1c4fb8d",
   "metadata": {},
   "outputs": [],
   "source": [
    "import { z } from \"zod\";\n",
    "\n",
    "const contextSchema = z.object({\n",
    "    first: z.string(),\n",
    "    last: z.string(),\n",
    "});\n",
    "type Context = z.infer<typeof contextSchema>;"
   ]
  },
  {
   "cell_type": "markdown",
   "id": "581ace96",
   "metadata": {},
   "source": [
    "Create a tool to execute SQL queries. It supports named parameters (`:first`, `:last`) that get replaced with values from the runtime context.\n"
   ]
  },
  {
   "cell_type": "code",
   "execution_count": null,
   "id": "fb82f28c",
   "metadata": {},
   "outputs": [],
   "source": [
    "import { tool, Runtime } from \"langchain\";\n",
    "\n",
    "const executeSQL = tool(async ({ query }, runtime: Runtime<Context>) => {\n",
    "    const placeholders = query.match(/:(\\w+)/g);\n",
    "    if (!placeholders) {\n",
    "        return await db.run(query);\n",
    "    }\n",
    "\n",
    "    const updatedQuery = placeholders.reduce((acc, placeholder) => {\n",
    "        const key = placeholder.slice(1) as keyof Context;\n",
    "        return acc.replace(placeholder, `\"${runtime.context[key]}\"`);\n",
    "    }, query);\n",
    "\n",
    "    return await db.run(updatedQuery);\n",
    "}, {\n",
    "    name: \"execute_sql\",\n",
    "    description: \"Execute a SQLite command and return results. Named parameters like :first and :last will be filled from runtime context.\",\n",
    "    schema: z.object({\n",
    "        query: z.string()\n",
    "    })\n",
    "});"
   ]
  },
  {
   "cell_type": "markdown",
   "id": "602e2d52",
   "metadata": {},
   "source": [
    "Add a currency conversion tool for converting USD amounts to other currencies.\n"
   ]
  },
  {
   "cell_type": "code",
   "execution_count": null,
   "id": "f573fc97",
   "metadata": {},
   "outputs": [],
   "source": [
    "import { tool } from \"langchain\";\n",
    "\n",
    "const FALLBACK_RATES = { USD: 1.0, EUR: 0.92, JPY: 150.0, GBP: 0.79 }\n",
    "\n",
    "const convertCurrency = tool(async ({ amount, toCurrency }) => {\n",
    "    try {\n",
    "        const url = `https://api.exchangerate.host/convert?from=USD&to=${toCurrency}&amount=${amount}`\n",
    "        const response = await fetch(url, {\n",
    "            headers: {\n",
    "                \"Accept\": \"application/json\"\n",
    "            }\n",
    "        })\n",
    "        const data = await response.json()\n",
    "        const result = data.result\n",
    "        if (result) {\n",
    "            return Math.round(amount * FALLBACK_RATES[to_currency], 2)\n",
    "        }\n",
    "    } catch (error) {\n",
    "        console.error(`[convert_currency] Falling back due to error: ${error}`)\n",
    "    }\n",
    "    if (!(toCurrency in FALLBACK_RATES)) {\n",
    "        throw new Error(\"Unsupported currency in fallback mode\")\n",
    "    }\n",
    "    return Math.round(amount * FALLBACK_RATES[toCurrency], 2)\n",
    "}, {\n",
    "    name: \"convert_currency\",\n",
    "    description: `\n",
    "        Convert an amount in USD to another currency using live exchange rates.\n",
    "        Always use this tool if the user requests a currency different \n",
    "        from the one stored in the database (USD).\n",
    "    `,\n",
    "    schema: z.object({\n",
    "        amount: z.number(),\n",
    "        toCurrency: z.string()\n",
    "    })\n",
    "});"
   ]
  },
  {
   "cell_type": "markdown",
   "id": "95a359a9",
   "metadata": {},
   "source": [
    "Define the system prompt that instructs the agent how to interact with the database safely and use named parameters.\n"
   ]
  },
  {
   "cell_type": "code",
   "execution_count": null,
   "id": "9d11a74c",
   "metadata": {},
   "outputs": [],
   "source": [
    "export const SYSTEM = `You are a careful SQLite analyst.\n",
    "\n",
    "Rules:\n",
    "- Think step-by-step.\n",
    "- When you need data, call the tool \\`execute_sql\\` with ONE SELECT query.\n",
    "- Read-only only; no INSERT/UPDATE/DELETE/ALTER/DROP/CREATE/REPLACE/TRUNCATE.\n",
    "- Limit to 5 rows unless the user explicitly asks otherwise.\n",
    "- If the tool returns 'Error:', revise the SQL and try again.\n",
    "- Prefer explicit column lists; avoid SELECT *.\n",
    "- If a query involves a specific customer, always use the named parameters\n",
    "  :first and :last (instead of hard-coding values).\n",
    "  Example: SELECT InvoiceId, Total FROM Invoice\n",
    "           JOIN Customer ON Invoice.CustomerId = Customer.CustomerId\n",
    "           WHERE Customer.FirstName = :first AND Customer.LastName = :last;\n",
    "  Assume the customer first and last name are known and will be inserted into the query later.`"
   ]
  },
  {
   "cell_type": "markdown",
   "id": "c0dbd4d2",
   "metadata": {},
   "source": [
    "Create the agent with our tools and system prompt. Note: **no checkpointer yet**, so the agent won't remember previous conversations.\n"
   ]
  },
  {
   "cell_type": "code",
   "execution_count": null,
   "id": "74aa026d",
   "metadata": {},
   "outputs": [],
   "source": [
    "import * as dotenv from \"dotenv/config\";\n",
    "import { createAgent } from \"langchain\";\n",
    "\n",
    "const agent = createAgent({\n",
    "    model: \"openai:gpt-5\",\n",
    "    tools: [convertCurrency, executeSQL],\n",
    "    systemPrompt: SYSTEM,\n",
    "    contextSchema,\n",
    "    middleware: []\n",
    "})"
   ]
  },
  {
   "cell_type": "markdown",
   "id": "2cc207d6",
   "metadata": {},
   "source": [
    "## Repeated Queries"
   ]
  },
  {
   "cell_type": "markdown",
   "id": "6efee7bf",
   "metadata": {},
   "source": [
    "Ask about Frank Harris's last invoice. The agent successfully retrieves the information.\n"
   ]
  },
  {
   "cell_type": "code",
   "execution_count": null,
   "id": "f22b11db",
   "metadata": {},
   "outputs": [],
   "source": [
    "import { HumanMessage } from \"langchain\";\n",
    "\n",
    "const question = new HumanMessage(\"What was the total on my last invoice?\");\n",
    "const result = await agent.invoke({\n",
    "    messages: [question]\n",
    "}, {\n",
    "    context: { first: \"Frank\", last: \"Harris\" },\n",
    "    streamMode: \"values\",\n",
    "});\n",
    "\n",
    "result.messages.at(-1).content;"
   ]
  },
  {
   "cell_type": "markdown",
   "id": "543c5466",
   "metadata": {},
   "source": [
    "Now ask a follow-up question: \"What were the titles?\" Without memory, the agent has no idea what we're referring to and asks for clarification.\n"
   ]
  },
  {
   "cell_type": "code",
   "execution_count": null,
   "id": "b6fb5989",
   "metadata": {},
   "outputs": [],
   "source": [
    "import { HumanMessage } from \"langchain\";\n",
    "\n",
    "const question = new HumanMessage(\"What were the titles?\");\n",
    "const result = await agent.invoke({\n",
    "    messages: [question]\n",
    "}, {\n",
    "    context: { first: \"Frank\", last: \"Harris\" },\n",
    "    streamMode: \"values\",\n",
    "});\n",
    "\n",
    "result.messages.at(-1).content;"
   ]
  },
  {
   "cell_type": "markdown",
   "id": "ff827ff8",
   "metadata": {},
   "source": [
    "## Add memory"
   ]
  },
  {
   "cell_type": "markdown",
   "id": "99f88ba4",
   "metadata": {},
   "source": [
    "Let's fix this by adding a checkpointer. The `MemorySaver` will store conversation history so the agent can remember context across turns.\n"
   ]
  },
  {
   "cell_type": "code",
   "execution_count": null,
   "id": "f2482a4d",
   "metadata": {},
   "outputs": [],
   "source": [
    "import * as dotenv from \"dotenv/config\";\n",
    "import { createAgent } from \"langchain\";\n",
    "import { MemorySaver } from \"@langchain/langgraph\";\n",
    "\n",
    "const checkpointer = new MemorySaver()\n",
    "const agent = createAgent({\n",
    "    model: \"openai:gpt-5\",\n",
    "    tools: [convertCurrency, executeSQL],\n",
    "    systemPrompt: SYSTEM,\n",
    "    contextSchema,\n",
    "    checkpointer,\n",
    "    middleware: []\n",
    "})"
   ]
  },
  {
   "cell_type": "markdown",
   "id": "03500082",
   "metadata": {},
   "source": [
    "Ask the same question again, but this time with a `thread_id` to track the conversation.\n"
   ]
  },
  {
   "cell_type": "code",
   "execution_count": null,
   "id": "256bd1fc",
   "metadata": {},
   "outputs": [],
   "source": [
    "import { HumanMessage } from \"langchain\";\n",
    "\n",
    "const question = new HumanMessage(\"What was the total on my last invoice?\");\n",
    "const result = await agent.invoke({\n",
    "    messages: [question]\n",
    "}, {\n",
    "    context: { first: \"Frank\", last: \"Harris\" },\n",
    "    configurable: { thread_id: \"1\" },\n",
    "    streamMode: \"values\",\n",
    "});\n",
    "\n",
    "result.messages.at(-1).content;"
   ]
  },
  {
   "cell_type": "markdown",
   "id": "90f621d0",
   "metadata": {},
   "source": [
    "Now when we ask \"What were the titles?\", the agent remembers the previous question about the invoice and returns the track titles! 🎵\n"
   ]
  },
  {
   "cell_type": "code",
   "execution_count": null,
   "id": "6acf123f",
   "metadata": {},
   "outputs": [],
   "source": [
    "import { HumanMessage } from \"langchain\";\n",
    "\n",
    "const question = new HumanMessage(\"What were the titles?\");\n",
    "const result = await agent.invoke({\n",
    "    messages: [question]\n",
    "}, {\n",
    "    context: { first: \"Frank\", last: \"Harris\" },\n",
    "    configurable: { thread_id: \"1\" },\n",
    "    streamMode: \"values\",\n",
    "});\n",
    "\n",
    "result.messages.at(-1).content;"
   ]
  }
 ],
 "metadata": {
  "kernelspec": {
   "display_name": "Deno",
   "language": "typescript",
   "name": "deno"
  },
  "language_info": {
   "codemirror_mode": "typescript",
   "file_extension": ".ts",
   "mimetype": "text/x.typescript",
   "name": "typescript",
   "nbconvert_exporter": "script",
   "pygments_lexer": "typescript",
   "version": "5.9.2"
  }
 },
 "nbformat": 4,
 "nbformat_minor": 5
}
