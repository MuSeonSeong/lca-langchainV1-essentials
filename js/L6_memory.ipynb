{
 "cells": [
  {
   "cell_type": "markdown",
   "id": "d3bc6f40",
   "metadata": {},
   "source": [
    "# Memory\n",
    "## Setup"
   ]
  },
  {
   "cell_type": "code",
   "execution_count": 1,
   "id": "4beba60b",
   "metadata": {},
   "outputs": [],
   "source": [
    "import { SqlDatabase } from \"@langchain/classic/sql_db\";\n",
    "import { DataSource } from \"typeorm\";\n",
    "\n",
    "const datasource = new DataSource({\n",
    "    type: \"sqlite\",\n",
    "    database: \"./Chinook.db\", // Replace with the link to your database\n",
    "});\n",
    "const db = await SqlDatabase.fromDataSourceParams({\n",
    "    appDataSource: datasource,\n",
    "});"
   ]
  },
  {
   "cell_type": "code",
   "execution_count": 2,
   "id": "c1c4fb8d",
   "metadata": {},
   "outputs": [],
   "source": [
    "import { z } from \"zod\";\n",
    "\n",
    "const contextSchema = z.object({\n",
    "    first: z.string(),\n",
    "    last: z.string(),\n",
    "});\n",
    "type Context = z.infer<typeof contextSchema>;"
   ]
  },
  {
   "cell_type": "code",
   "execution_count": 3,
   "id": "fb82f28c",
   "metadata": {},
   "outputs": [],
   "source": [
    "import { tool, Runtime } from \"langchain\";\n",
    "\n",
    "const executeSQL = tool(async ({ query }, runtime: Runtime<Context>) => {\n",
    "    const placeholders = query.match(/:(\\w+)/g);\n",
    "    if (!placeholders) {\n",
    "        return await db.run(query);\n",
    "    }\n",
    "\n",
    "    const updatedQuery = placeholders.reduce((acc, placeholder) => {\n",
    "        const key = placeholder.slice(1) as keyof Context;\n",
    "        return acc.replace(placeholder, `\"${runtime.context[key]}\"`);\n",
    "    }, query);\n",
    "\n",
    "    return await db.run(updatedQuery);\n",
    "}, {\n",
    "    name: \"execute_sql\",\n",
    "    description: \"Execute a SQLite command and return results. Named parameters like :first and :last will be filled from runtime context.\",\n",
    "    schema: z.object({\n",
    "        query: z.string()\n",
    "    })\n",
    "});"
   ]
  },
  {
   "cell_type": "code",
   "execution_count": 4,
   "id": "f573fc97",
   "metadata": {},
   "outputs": [],
   "source": [
    "import { tool } from \"langchain\";\n",
    "\n",
    "const FALLBACK_RATES = { USD: 1.0, EUR: 0.92, JPY: 150.0, GBP: 0.79 }\n",
    "\n",
    "const convertCurrency = tool(async ({ amount, toCurrency }) => {\n",
    "    try {\n",
    "        const url = `https://api.exchangerate.host/convert?from=USD&to=${toCurrency}&amount=${amount}`\n",
    "        const response = await fetch(url, {\n",
    "            headers: {\n",
    "                \"Accept\": \"application/json\"\n",
    "            }\n",
    "        })\n",
    "        const data = await response.json()\n",
    "        const result = data.result\n",
    "        if (result) {\n",
    "            return Math.round(amount * FALLBACK_RATES[to_currency], 2)\n",
    "        }\n",
    "    } catch (error) {\n",
    "        console.error(`[convert_currency] Falling back due to error: ${error}`)\n",
    "    }\n",
    "    if (!(toCurrency in FALLBACK_RATES)) {\n",
    "        throw new Error(\"Unsupported currency in fallback mode\")\n",
    "    }\n",
    "    return Math.round(amount * FALLBACK_RATES[toCurrency], 2)\n",
    "}, {\n",
    "    name: \"convert_currency\",\n",
    "    description: `\n",
    "        Convert an amount in USD to another currency using live exchange rates.\n",
    "        Always use this tool if the user requests a currency different \n",
    "        from the one stored in the database (USD).\n",
    "    `,\n",
    "    schema: z.object({\n",
    "        amount: z.number(),\n",
    "        toCurrency: z.string()\n",
    "    })\n",
    "});"
   ]
  },
  {
   "cell_type": "code",
   "execution_count": 5,
   "id": "9d11a74c",
   "metadata": {},
   "outputs": [],
   "source": [
    "export const SYSTEM = `You are a careful SQLite analyst.\n",
    "\n",
    "Rules:\n",
    "- Think step-by-step.\n",
    "- When you need data, call the tool \\`execute_sql\\` with ONE SELECT query.\n",
    "- Read-only only; no INSERT/UPDATE/DELETE/ALTER/DROP/CREATE/REPLACE/TRUNCATE.\n",
    "- Limit to 5 rows unless the user explicitly asks otherwise.\n",
    "- If the tool returns 'Error:', revise the SQL and try again.\n",
    "- Prefer explicit column lists; avoid SELECT *.\n",
    "- If a query involves a specific customer, always use the named parameters\n",
    "  :first and :last (instead of hard-coding values).\n",
    "  Example: SELECT InvoiceId, Total FROM Invoice\n",
    "           JOIN Customer ON Invoice.CustomerId = Customer.CustomerId\n",
    "           WHERE Customer.FirstName = :first AND Customer.LastName = :last;\n",
    "  Assume the customer first and last name are known and will be inserted into the query later.`"
   ]
  },
  {
   "cell_type": "code",
   "execution_count": 7,
   "id": "74aa026d",
   "metadata": {},
   "outputs": [],
   "source": [
    "import * as dotenv from \"dotenv/config\";\n",
    "import { createAgent } from \"langchain\";\n",
    "\n",
    "const agent = createAgent({\n",
    "    model: \"openai:gpt-5\",\n",
    "    tools: [convertCurrency, executeSQL],\n",
    "    systemPrompt: SYSTEM,\n",
    "    contextSchema,\n",
    "    middleware: []\n",
    "})"
   ]
  },
  {
   "cell_type": "markdown",
   "id": "2cc207d6",
   "metadata": {},
   "source": [
    "## Repeated Queries"
   ]
  },
  {
   "cell_type": "code",
   "execution_count": 8,
   "id": "f22b11db",
   "metadata": {},
   "outputs": [
    {
     "data": {
      "text/plain": [
       "\u001b[32m\"Your last invoice total was $5.94 (USD). It’s Invoice #374 dated 2013-07-04.\"\u001b[39m"
      ]
     },
     "execution_count": 8,
     "metadata": {},
     "output_type": "execute_result"
    }
   ],
   "source": [
    "import { HumanMessage } from \"langchain\";\n",
    "\n",
    "const question = new HumanMessage(\"What was the total on my last invoice?\");\n",
    "const result = await agent.invoke({\n",
    "    messages: [question]\n",
    "}, {\n",
    "    context: { first: \"Frank\", last: \"Harris\" },\n",
    "    streamMode: \"values\",\n",
    "});\n",
    "\n",
    "result.messages.at(-1).content;"
   ]
  },
  {
   "cell_type": "code",
   "execution_count": 9,
   "id": "b6fb5989",
   "metadata": {},
   "outputs": [
    {
     "data": {
      "text/plain": [
       "\u001b[32m\"Could you clarify which titles you mean—album titles, track titles, playlist titles, or something else?\"\u001b[39m"
      ]
     },
     "execution_count": 9,
     "metadata": {},
     "output_type": "execute_result"
    }
   ],
   "source": [
    "import { HumanMessage } from \"langchain\";\n",
    "\n",
    "const question = new HumanMessage(\"What were the titles?\");\n",
    "const result = await agent.invoke({\n",
    "    messages: [question]\n",
    "}, {\n",
    "    context: { first: \"Frank\", last: \"Harris\" },\n",
    "    streamMode: \"values\",\n",
    "});\n",
    "\n",
    "result.messages.at(-1).content;"
   ]
  },
  {
   "cell_type": "markdown",
   "id": "ff827ff8",
   "metadata": {},
   "source": [
    "## Add memory"
   ]
  },
  {
   "cell_type": "code",
   "execution_count": 11,
   "id": "f2482a4d",
   "metadata": {},
   "outputs": [],
   "source": [
    "import * as dotenv from \"dotenv/config\";\n",
    "import { createAgent } from \"langchain\";\n",
    "import { MemorySaver } from \"@langchain/langgraph\";\n",
    "\n",
    "const checkpointer = new MemorySaver()\n",
    "const agent = createAgent({\n",
    "    model: \"openai:gpt-5\",\n",
    "    tools: [convertCurrency, executeSQL],\n",
    "    systemPrompt: SYSTEM,\n",
    "    contextSchema,\n",
    "    checkpointer,\n",
    "    middleware: []\n",
    "})"
   ]
  },
  {
   "cell_type": "code",
   "execution_count": 12,
   "id": "256bd1fc",
   "metadata": {},
   "outputs": [
    {
     "data": {
      "text/plain": [
       "\u001b[32m\"Your most recent invoice total was $5.94 (USD).\"\u001b[39m"
      ]
     },
     "execution_count": 12,
     "metadata": {},
     "output_type": "execute_result"
    }
   ],
   "source": [
    "import { HumanMessage } from \"langchain\";\n",
    "\n",
    "const question = new HumanMessage(\"What was the total on my last invoice?\");\n",
    "const result = await agent.invoke({\n",
    "    messages: [question]\n",
    "}, {\n",
    "    context: { first: \"Frank\", last: \"Harris\" },\n",
    "    configurable: { thread_id: \"1\" },\n",
    "    streamMode: \"values\",\n",
    "});\n",
    "\n",
    "result.messages.at(-1).content;"
   ]
  },
  {
   "cell_type": "code",
   "execution_count": 13,
   "id": "6acf123f",
   "metadata": {},
   "outputs": [
    {
     "data": {
      "text/plain": [
       "\u001b[32m\"The first five track titles on your most recent invoice are:\\n\"\u001b[39m +\n",
       "  \u001b[32m\"- Holier Than Thou\\n\"\u001b[39m +\n",
       "  \u001b[32m\"- Through The Never\\n\"\u001b[39m +\n",
       "  \u001b[32m\"- My Friend Of Misery\\n\"\u001b[39m +\n",
       "  \u001b[32m\"- The Wait\\n\"\u001b[39m +\n",
       "  \u001b[32m\"- Blitzkrieg\\n\"\u001b[39m +\n",
       "  \u001b[32m\"\\n\"\u001b[39m +\n",
       "  \u001b[32m\"Want me to list all items from that invoice?\"\u001b[39m"
      ]
     },
     "execution_count": 13,
     "metadata": {},
     "output_type": "execute_result"
    }
   ],
   "source": [
    "import { HumanMessage } from \"langchain\";\n",
    "\n",
    "const question = new HumanMessage(\"What were the titles?\");\n",
    "const result = await agent.invoke({\n",
    "    messages: [question]\n",
    "}, {\n",
    "    context: { first: \"Frank\", last: \"Harris\" },\n",
    "    configurable: { thread_id: \"1\" },\n",
    "    streamMode: \"values\",\n",
    "});\n",
    "\n",
    "result.messages.at(-1).content;"
   ]
  }
 ],
 "metadata": {
  "kernelspec": {
   "display_name": "Deno",
   "language": "typescript",
   "name": "deno"
  },
  "language_info": {
   "codemirror_mode": "typescript",
   "file_extension": ".ts",
   "mimetype": "text/x.typescript",
   "name": "typescript",
   "nbconvert_exporter": "script",
   "pygments_lexer": "typescript",
   "version": "5.9.2"
  }
 },
 "nbformat": 4,
 "nbformat_minor": 5
}
