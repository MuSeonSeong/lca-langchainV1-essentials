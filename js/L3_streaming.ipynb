{
 "cells": [
  {
   "cell_type": "markdown",
   "id": "e32715af",
   "metadata": {},
   "source": [
    "# Streaming\n",
    "\n",
    "There are two invocation types frequently used with Agents.\n"
   ]
  },
  {
   "cell_type": "markdown",
   "id": "0210c316",
   "metadata": {},
   "source": [
    "Let's start by setting up a basic agent to demonstrate different streaming approaches.\n"
   ]
  },
  {
   "cell_type": "code",
   "execution_count": null,
   "id": "6929d5bb",
   "metadata": {},
   "outputs": [],
   "source": [
    "import * as dotenv from \"dotenv/config\";\n",
    "import { createAgent } from \"langchain\";\n",
    "\n",
    "const agent = createAgent({\n",
    "    model: \"openai:gpt-5-mini\",\n",
    "    tools: [],\n",
    "    middleware: [],\n",
    "    systemPrompt: \"You are a full-stack comedian\",\n",
    "})"
   ]
  },
  {
   "cell_type": "markdown",
   "id": "c4f069f4",
   "metadata": {},
   "source": [
    "Now that we have our agent configured, let's first see how it works without streaming.\n"
   ]
  },
  {
   "cell_type": "markdown",
   "id": "29796de7",
   "metadata": {},
   "source": [
    "## No Steaming (invoke)"
   ]
  },
  {
   "cell_type": "code",
   "execution_count": null,
   "id": "407a9bad",
   "metadata": {},
   "outputs": [],
   "source": [
    "import { HumanMessage } from \"langchain\";\n",
    "\n",
    "const result = await agent.invoke({\n",
    "    messages: [new HumanMessage(\"Tell me a joke\")]\n",
    "})\n",
    "\n",
    "console.log(result.messages.at(-1).content)"
   ]
  },
  {
   "cell_type": "markdown",
   "id": "95e26011",
   "metadata": {},
   "source": [
    "Notice how we had to wait for the complete response. Let's improve the user experience with streaming.\n"
   ]
  },
  {
   "cell_type": "markdown",
   "id": "3e87f8c8",
   "metadata": {},
   "source": [
    "## Streaming\n",
    "### `value`"
   ]
  },
  {
   "cell_type": "code",
   "execution_count": null,
   "id": "86dc25fa",
   "metadata": {},
   "outputs": [],
   "source": [
    "const stream = await agent.stream({\n",
    "    messages: [new HumanMessage(\"Tell me a joke\")],\n",
    "}, {\n",
    "    streamMode: \"values\",\n",
    "})\n",
    "\n",
    "for await (const step of stream) {\n",
    "    console.log(step.messages.at(-1).content)\n",
    "}"
   ]
  },
  {
   "cell_type": "markdown",
   "id": "f832216a",
   "metadata": {},
   "source": [
    "The `values` mode streams the entire state at each step. This is useful when you want to see the full message history as it evolves.\n",
    "\n",
    "### `messages`"
   ]
  },
  {
   "cell_type": "markdown",
   "id": "bbb4f006",
   "metadata": {},
   "source": [
    "For a more granular experience, `messages` mode streams individual message chunks as they're generated - perfect for real-time token-by-token display.\n"
   ]
  },
  {
   "cell_type": "code",
   "execution_count": null,
   "id": "daab07db",
   "metadata": {},
   "outputs": [],
   "source": [
    "const stream = await agent.stream({\n",
    "    messages: [new HumanMessage(\"Tell me a joke\")],\n",
    "}, {\n",
    "    streamMode: \"messages\",\n",
    "})\n",
    "\n",
    "for await (const [message, metadata] of stream) {\n",
    "    console.log(`[${metadata.langgraph_node}]: ${message.content}`)\n",
    "}"
   ]
  },
  {
   "cell_type": "markdown",
   "id": "52a85884",
   "metadata": {},
   "source": [
    "Here's a more dramatic example - streaming a poem token by token creates a typewriter effect:\n"
   ]
  },
  {
   "cell_type": "code",
   "execution_count": null,
   "id": "7e24cd9a",
   "metadata": {},
   "outputs": [],
   "source": [
    "const stream = await agent.stream({\n",
    "    messages: [new HumanMessage(\"Write me a poem.\")],\n",
    "}, {\n",
    "    streamMode: \"messages\",\n",
    "})\n",
    "\n",
    "for await (const [message] of stream) {\n",
    "    console.log(message.content)\n",
    "}"
   ]
  }
 ],
 "metadata": {
  "kernelspec": {
   "display_name": "Deno",
   "language": "typescript",
   "name": "deno"
  },
  "language_info": {
   "codemirror_mode": "typescript",
   "file_extension": ".ts",
   "mimetype": "text/x.typescript",
   "name": "typescript",
   "nbconvert_exporter": "script",
   "pygments_lexer": "typescript",
   "version": "5.9.2"
  }
 },
 "nbformat": 4,
 "nbformat_minor": 5
}
