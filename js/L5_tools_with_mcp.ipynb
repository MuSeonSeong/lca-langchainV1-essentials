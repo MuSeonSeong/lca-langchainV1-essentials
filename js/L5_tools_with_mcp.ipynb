{
 "cells": [
  {
   "cell_type": "markdown",
   "id": "dc8a3f56",
   "metadata": {},
   "source": [
    "# Tools with MCP ⏰\n",
    "\n",
    "The Model Context Protocol (MCP) provides a standardized way to connect AI agents to external tools and data sources. Let's connect to an MCP server using `@langchain/mcp-providers`."
   ]
  },
  {
   "cell_type": "code",
   "execution_count": null,
   "id": "b6509499",
   "metadata": {},
   "outputs": [],
   "source": [
    "import { MultiServerMCPClient } from \"@langchain/mcp-adapters\";\n",
    "\n",
    "// Connect to the mcp-time server for timezone-aware operations\n",
    "// This Go-based server provides tools for current time, relative time parsing,\n",
    "// timezone conversion, duration arithmetic, and time comparison\n",
    "const mcpClient = new MultiServerMCPClient({\n",
    "    mcpServers: {\n",
    "        time: {\n",
    "            transport: \"stdio\",\n",
    "            command: \"npx\",\n",
    "            args: [\"-y\", \"@theo.foobar/mcp-time\"],\n",
    "        }\n",
    "    },\n",
    "    useStandardContentBlocks: true,\n",
    "});\n",
    "\n",
    "// Load tools from the MCP server\n",
    "const mcpTools = await mcpClient.getTools();\n",
    "console.log(`Loaded ${mcpTools.length} MCP tools:`, mcpTools.map(t => t.name));"
   ]
  },
  {
   "cell_type": "markdown",
   "id": "71489673",
   "metadata": {},
   "source": [
    "Create an agent with the MCP-provided time tools."
   ]
  },
  {
   "cell_type": "code",
   "execution_count": null,
   "id": "e1d262b7",
   "metadata": {},
   "outputs": [],
   "source": [
    "import * as setup from \"./setup.ts\";\n",
    "import { createAgent } from \"langchain\";\n",
    "\n",
    "const agentWithMCP = createAgent({\n",
    "    model: \"anthropic:claude-sonnet-4-5-20250929\",\n",
    "    tools: mcpTools,\n",
    "    systemPrompt: \"You are a helpful assistant\"\n",
    "});\n"
   ]
  },
  {
   "cell_type": "markdown",
   "id": "5d8a1f69",
   "metadata": {},
   "source": [
    "Ask about the current time in San Francisco."
   ]
  },
  {
   "cell_type": "code",
   "execution_count": null,
   "id": "e471df1b",
   "metadata": {},
   "outputs": [],
   "source": [
    "const result = await agentWithMCP.invoke({\n",
    "    messages: \"What's the current time in San Francisco right now?\"\n",
    "})\n",
    "\n",
    "for (const message of result.messages) {\n",
    "    displayMessage(message)\n",
    "}"
   ]
  }
 ],
 "metadata": {
  "kernelspec": {
   "display_name": "Deno",
   "language": "typescript",
   "name": "deno"
  },
  "language_info": {
   "codemirror_mode": "typescript",
   "file_extension": ".ts",
   "mimetype": "text/x.typescript",
   "name": "typescript",
   "nbconvert_exporter": "script",
   "pygments_lexer": "typescript",
   "version": "5.9.2"
  }
 },
 "nbformat": 4,
 "nbformat_minor": 5
}
