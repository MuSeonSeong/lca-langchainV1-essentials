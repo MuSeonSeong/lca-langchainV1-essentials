{
 "cells": [
  {
   "cell_type": "markdown",
   "id": "e0c82cb7-58cc-4cf0-86af-5ecefa582a09",
   "metadata": {},
   "source": [
    "# Tools"
   ]
  },
  {
   "cell_type": "code",
   "execution_count": 1,
   "id": "1ba24dd6-7a31-4fba-8077-2bff96e1ed4a",
   "metadata": {},
   "outputs": [],
   "source": [
    "from langchain_community.utilities import SQLDatabase\n",
    "\n",
    "db = SQLDatabase.from_uri(\"sqlite:///Chinook.db\")"
   ]
  },
  {
   "cell_type": "code",
   "execution_count": 2,
   "id": "7f2474e1-6abf-4c24-bf50-b75090ec1ec0",
   "metadata": {},
   "outputs": [],
   "source": [
    "from langchain.chat_models import init_chat_model\n",
    "\n",
    "model = init_chat_model(\"openai:gpt-5\")"
   ]
  },
  {
   "cell_type": "code",
   "execution_count": 3,
   "id": "5d7f0b2c-200a-4246-b547-aff9b5185562",
   "metadata": {},
   "outputs": [],
   "source": [
    "from langchain_core.tools import tool\n",
    "    \n",
    "@tool\n",
    "def execute_sql(query: str) -> str:\n",
    "    \"\"\"Execute a SQLite command and return results.\"\"\"\n",
    "    try:\n",
    "        return db.run(query)\n",
    "    except Exception as e:\n",
    "        return f\"Error: {e}\"\n"
   ]
  },
  {
   "cell_type": "code",
   "execution_count": 4,
   "id": "7ebc55dc-27b6-4b14-b811-6d911094d81f",
   "metadata": {},
   "outputs": [],
   "source": [
    "from langchain_core.tools import tool\n",
    "import requests\n",
    "\n",
    "FALLBACK_RATES = {\"USD\": 1.0, \"EUR\": 0.92, \"JPY\": 150.0, \"GBP\": 0.79}\n",
    "\n",
    "@tool\n",
    "def convert_currency(amount: float, to_currency: str) -> float:\n",
    "    \"\"\"Convert an amount in USD to another currency using live exchange rates.\n",
    "    Always use this tool if the user requests a currency different \n",
    "    from the one stored in the database (USD).\"\"\"\n",
    "    try:\n",
    "        url = f\"https://api.exchangerate.host/convert?from=USD&to={to_currency}&amount={amount}\"\n",
    "        response = requests.get(url, timeout=5)\n",
    "        response.raise_for_status()\n",
    "        data = response.json()\n",
    "        result = data.get(\"result\")\n",
    "        if result is not None:\n",
    "            return round(float(result), 2)\n",
    "    except Exception as e:\n",
    "        print(f\"[convert_currency] Falling back due to error: {e}\")\n",
    "\n",
    "    if to_currency not in FALLBACK_RATES:\n",
    "        raise ValueError(\"Unsupported currency in fallback mode\")\n",
    "    return round(amount * FALLBACK_RATES[to_currency], 2)"
   ]
  },
  {
   "cell_type": "code",
   "execution_count": 5,
   "id": "29e1c020-db18-418a-8693-cb4ed21d4f58",
   "metadata": {},
   "outputs": [],
   "source": [
    "SYSTEM = f\"\"\"You are a careful SQLite analyst.\n",
    "\n",
    "Rules:\n",
    "- Think step-by-step.\n",
    "- When you need data, call the tool `execute_sql` with ONE SELECT query.\n",
    "- Read-only only; no INSERT/UPDATE/DELETE/ALTER/DROP/CREATE/REPLACE/TRUNCATE.\n",
    "- Limit to 5 rows unless the user explicitly asks otherwise.\n",
    "- If the tool returns 'Error:', revise the SQL and try again.\n",
    "- Prefer explicit column lists; avoid SELECT *.\n",
    "\"\"\""
   ]
  },
  {
   "cell_type": "code",
   "execution_count": 6,
   "id": "a26b4586-453a-4c10-9fae-4be3f4cb6cd4",
   "metadata": {},
   "outputs": [],
   "source": [
    "from langchain.agents import create_agent\n",
    "from langchain_core.messages import SystemMessage\n",
    "\n",
    "llm = init_chat_model(\"gpt-5\", model_provider=\"openai\")\n",
    "\n",
    "agent = create_agent(\n",
    "    model=llm,\n",
    "    tools=[execute_sql, convert_currency],\n",
    "    prompt=SystemMessage(content=SYSTEM),\n",
    ")"
   ]
  },
  {
   "cell_type": "code",
   "execution_count": 7,
   "id": "e30a2273-1dd3-47e8-a38e-05ed4b750000",
   "metadata": {},
   "outputs": [
    {
     "name": "stdout",
     "output_type": "stream",
     "text": [
      "================================\u001b[1m Human Message \u001b[0m=================================\n",
      "\n",
      "What is the most costly purchase by Frank Harris in EUR?\n",
      "==================================\u001b[1m Ai Message \u001b[0m==================================\n",
      "Tool Calls:\n",
      "  execute_sql (call_763zHvExCCeLE2IDJsB1LeZS)\n",
      " Call ID: call_763zHvExCCeLE2IDJsB1LeZS\n",
      "  Args:\n",
      "    query: SELECT id, first_name, last_name FROM customers WHERE (first_name || ' ' || last_name) = 'Frank Harris' LIMIT 5;\n",
      "=================================\u001b[1m Tool Message \u001b[0m=================================\n",
      "Name: execute_sql\n",
      "\n",
      "Error: (sqlite3.OperationalError) no such table: customers\n",
      "[SQL: SELECT id, first_name, last_name FROM customers WHERE (first_name || ' ' || last_name) = 'Frank Harris' LIMIT 5;]\n",
      "(Background on this error at: https://sqlalche.me/e/20/e3q8)\n",
      "==================================\u001b[1m Ai Message \u001b[0m==================================\n",
      "Tool Calls:\n",
      "  execute_sql (call_kkp7QVUXGeuSjhUowmHIVI9q)\n",
      " Call ID: call_kkp7QVUXGeuSjhUowmHIVI9q\n",
      "  Args:\n",
      "    query: SELECT name FROM sqlite_master WHERE type = 'table' ORDER BY name LIMIT 5;\n",
      "=================================\u001b[1m Tool Message \u001b[0m=================================\n",
      "Name: execute_sql\n",
      "\n",
      "[('Album',), ('Artist',), ('Customer',), ('Employee',), ('Genre',)]\n",
      "==================================\u001b[1m Ai Message \u001b[0m==================================\n",
      "Tool Calls:\n",
      "  execute_sql (call_EvkppmbjLI0qYijIZhEDLMSb)\n",
      " Call ID: call_EvkppmbjLI0qYijIZhEDLMSb\n",
      "  Args:\n",
      "    query: SELECT name FROM sqlite_master WHERE type = 'table' ORDER BY name;\n",
      "=================================\u001b[1m Tool Message \u001b[0m=================================\n",
      "Name: execute_sql\n",
      "\n",
      "[('Album',), ('Artist',), ('Customer',), ('Employee',), ('Genre',), ('Invoice',), ('InvoiceLine',), ('MediaType',), ('Playlist',), ('PlaylistTrack',), ('Track',)]\n",
      "==================================\u001b[1m Ai Message \u001b[0m==================================\n",
      "Tool Calls:\n",
      "  execute_sql (call_4f3yEuvhuy54QpAOqzMKVAXx)\n",
      " Call ID: call_4f3yEuvhuy54QpAOqzMKVAXx\n",
      "  Args:\n",
      "    query: SELECT i.InvoiceId, i.InvoiceDate, i.Total FROM Invoice AS i JOIN Customer AS c ON i.CustomerId = c.CustomerId WHERE c.FirstName = 'Frank' AND c.LastName = 'Harris' ORDER BY i.Total DESC LIMIT 1;\n",
      "=================================\u001b[1m Tool Message \u001b[0m=================================\n",
      "Name: execute_sql\n",
      "\n",
      "[(145, '2010-09-23 00:00:00', 13.86)]\n",
      "==================================\u001b[1m Ai Message \u001b[0m==================================\n",
      "Tool Calls:\n",
      "  convert_currency (call_9SzQnPtt0InICXXGWjS53YXp)\n",
      " Call ID: call_9SzQnPtt0InICXXGWjS53YXp\n",
      "  Args:\n",
      "    amount: 13.86\n",
      "    to_currency: EUR\n",
      "=================================\u001b[1m Tool Message \u001b[0m=================================\n",
      "Name: convert_currency\n",
      "\n",
      "12.75\n",
      "==================================\u001b[1m Ai Message \u001b[0m==================================\n",
      "\n",
      "EUR 12.75 (most expensive invoice: ID 145 on 2010-09-23)\n"
     ]
    }
   ],
   "source": [
    "question = \"What is the most costly purchase by Frank Harris in EUR?\"\n",
    "steps=[]\n",
    "\n",
    "for step in agent.stream(\n",
    "    {\"messages\": [{\"role\": \"user\", \"content\": question}]},\n",
    "    stream_mode=\"values\",\n",
    "):\n",
    "    step[\"messages\"][-1].pretty_print()\n",
    "    steps.append(step)"
   ]
  },
  {
   "cell_type": "code",
   "execution_count": null,
   "id": "fc965181-609e-470c-a70c-886e6994cfd7",
   "metadata": {},
   "outputs": [],
   "source": []
  },
  {
   "cell_type": "code",
   "execution_count": null,
   "id": "ede16d8f-0795-4433-9bfc-3295835a0264",
   "metadata": {},
   "outputs": [],
   "source": []
  },
  {
   "cell_type": "code",
   "execution_count": null,
   "id": "66c9c561-912f-4a53-a8b4-67080c5b6b56",
   "metadata": {},
   "outputs": [],
   "source": []
  },
  {
   "cell_type": "code",
   "execution_count": null,
   "id": "c6137fd0-fc6a-4410-b939-045ed2cbcb87",
   "metadata": {},
   "outputs": [],
   "source": []
  },
  {
   "cell_type": "code",
   "execution_count": null,
   "id": "2a9cc553-7357-4d36-b88d-25eaf7462cf6",
   "metadata": {},
   "outputs": [],
   "source": []
  }
 ],
 "metadata": {
  "kernelspec": {
   "display_name": "Python 3 (ipykernel)",
   "language": "python",
   "name": "python3"
  },
  "language_info": {
   "codemirror_mode": {
    "name": "ipython",
    "version": 3
   },
   "file_extension": ".py",
   "mimetype": "text/x-python",
   "name": "python",
   "nbconvert_exporter": "python",
   "pygments_lexer": "ipython3",
   "version": "3.13.5"
  }
 },
 "nbformat": 4,
 "nbformat_minor": 5
}
