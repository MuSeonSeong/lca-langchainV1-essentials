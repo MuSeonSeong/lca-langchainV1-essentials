{
 "cells": [
  {
   "cell_type": "markdown",
   "id": "e0c82cb7-58cc-4cf0-86af-5ecefa582a09",
   "metadata": {},
   "source": [
    "# Tools  🔨🪚🔩⚙️⚒️🧲🧰🔧🪛🔩⚙️🔦🧭🔗⛓️🧮\n",
    "Tools allow agents to 'Act' in the real world. \n",
    "Careful descriptions can help your agent discover how to use your tools.\n",
    "\n",
    "LangChain supports many tool formats and tool sets. Here we will cover some common cases, but check the [docs](https://docs.langchain.com/oss/python/langchain/tools) for more information."
   ]
  },
  {
   "cell_type": "markdown",
   "id": "4c53ed3e-fc58-487b-a6cd-6313c5b884e8",
   "metadata": {},
   "source": [
    "## Calculator example\n",
    "\n",
    "In this example, the docstring and inferred arguments and argument types are used by the LLM to detetermine when and how to call the tool."
   ]
  },
  {
   "cell_type": "code",
   "execution_count": 23,
   "id": "bece95ba-d225-40c2-a085-e09c062ebfa2",
   "metadata": {},
   "outputs": [],
   "source": [
    "from typing import Literal\n",
    "\n",
    "from langchain.tools import tool\n",
    "\n",
    "\n",
    "@tool\n",
    "def real_number_calculator(\n",
    "    a: float, b: float, operation: Literal[\"add\", \"subtract\", \"multiply\", \"divide\"]\n",
    ") -> float:\n",
    "    \"\"\"Perform basic arithmetic operations on two real numbers.\"\"\"\n",
    "    print(\"🧮 Invoking calculator tool\")\n",
    "    # Perform the specified operation\n",
    "    if operation == \"add\":\n",
    "        return a + b\n",
    "    elif operation == \"subtract\":\n",
    "        return a - b\n",
    "    elif operation == \"multiply\":\n",
    "        return a * b\n",
    "    elif operation == \"divide\":\n",
    "        if b == 0:\n",
    "            raise ValueError(\"Division by zero is not allowed.\")\n",
    "        return a / b\n",
    "    else:\n",
    "        raise ValueError(f\"Invalid operation: {operation}\")"
   ]
  },
  {
   "cell_type": "code",
   "execution_count": 24,
   "id": "fd3e9c61-ae41-48a9-a623-24c9169df0bc",
   "metadata": {},
   "outputs": [],
   "source": [
    "from langchain.agents import create_agent\n",
    "\n",
    "agent = create_agent(\n",
    "    model=\"openai:gpt-5-mini\",\n",
    "    tools=[real_number_calculator],\n",
    "    system_prompt=\"You are a helpful assistant\",\n",
    ")"
   ]
  },
  {
   "cell_type": "markdown",
   "id": "dfa8d43e-2df7-4486-a06a-6f79154f0ada",
   "metadata": {},
   "source": [
    "This invokes your calculator tool."
   ]
  },
  {
   "cell_type": "code",
   "execution_count": 25,
   "id": "40257bea-c985-4ee3-9438-60b96a3a40a8",
   "metadata": {},
   "outputs": [
    {
     "name": "stdout",
     "output_type": "stream",
     "text": [
      "🧮 Invoking calculator tool\n",
      "3.1125 × 4.1234 = 12.8340825\n"
     ]
    }
   ],
   "source": [
    "result = agent.invoke(\n",
    "    {\"messages\": [{\"role\": \"user\", \"content\": \"what is 3.1125 * 4.1234\"}]}\n",
    ")\n",
    "print(result[\"messages\"][-1].content)"
   ]
  },
  {
   "cell_type": "markdown",
   "id": "e61a86a3-88e3-414d-af10-d8f648e236be",
   "metadata": {},
   "source": [
    "We can check the **metadata** in [LangSmith Observability](https://smith.langchain.com/public/b77bde6c-f0ad-4256-bfab-7d514ece3405/r) to see this."
   ]
  },
  {
   "cell_type": "markdown",
   "id": "a6c95efc-b094-4d4f-b99f-9945852f137b",
   "metadata": {},
   "source": [
    "The tool description can have a big impact. \n",
    "This may not  invoke your calculator tool because the inputs are integers.  (results vary from run to run)"
   ]
  },
  {
   "cell_type": "code",
   "execution_count": 26,
   "id": "146c2b0c-3da9-4761-9987-0fc8cfde994f",
   "metadata": {},
   "outputs": [
    {
     "name": "stdout",
     "output_type": "stream",
     "text": [
      "3 * 4 = 12\n"
     ]
    }
   ],
   "source": [
    "result = agent.invoke({\"messages\": [{\"role\": \"user\", \"content\": \"what is 3 * 4\"}]})\n",
    "print(result[\"messages\"][-1].content)"
   ]
  },
  {
   "cell_type": "markdown",
   "id": "197a6db3-f523-49f9-b905-f600d2e47140",
   "metadata": {},
   "source": [
    "This often does not invoke the tool though the input are real numbers. (results vary from run to run)"
   ]
  },
  {
   "cell_type": "code",
   "execution_count": 27,
   "id": "c7ee1a08-b0ad-474e-9ace-ad1f278c133c",
   "metadata": {},
   "outputs": [
    {
     "name": "stdout",
     "output_type": "stream",
     "text": [
      "3.0 * 4.0 = 12.0\n"
     ]
    }
   ],
   "source": [
    "result = agent.invoke({\"messages\": [{\"role\": \"user\", \"content\": \"what is 3.0 * 4.0\"}]})\n",
    "print(result[\"messages\"][-1].content)"
   ]
  },
  {
   "cell_type": "markdown",
   "id": "5dd49403-0cd0-4101-9dc5-87ab58f38292",
   "metadata": {},
   "source": [
    "## Adding a more detailed description\n",
    "While a basic description is often sufficient, LangChain has support for enhanced descriptions. The example below uses one method: Google Style argument descriptions. Used with `parse_docstring=True`, this will parse and pass the arg descriptions to the model. You can rename the tool and change its description. This can be effective when you are sharing a standard tool but would like agent-specific instructions."
   ]
  },
  {
   "cell_type": "code",
   "execution_count": 28,
   "id": "b10c6317-8e28-43bc-afa9-436882c73e33",
   "metadata": {},
   "outputs": [],
   "source": [
    "from typing import Literal\n",
    "\n",
    "from langchain.tools import tool\n",
    "\n",
    "\n",
    "@tool(\n",
    "    \"calculator\",\n",
    "    parse_docstring=True,\n",
    "    description=(\n",
    "        \"Perform basic arithmetic operations on two real numbers.\"\n",
    "        \"Use this whenever you have operations on any numbers, even if they are integers.\"\n",
    "    ),\n",
    ")\n",
    "def real_number_calculator(\n",
    "    a: float, b: float, operation: Literal[\"add\", \"subtract\", \"multiply\", \"divide\"]\n",
    ") -> float:\n",
    "    \"\"\"Perform basic arithmetic operations on two real numbers.\n",
    "\n",
    "    Args:\n",
    "        a (float): The first number.\n",
    "        b (float): The second number.\n",
    "        operation (Literal[\"add\", \"subtract\", \"multiply\", \"divide\"]):\n",
    "            The arithmetic operation to perform.\n",
    "\n",
    "            - `\"add\"`: Returns the sum of `a` and `b`.\n",
    "            - `\"subtract\"`: Returns the result of `a - b`.\n",
    "            - `\"multiply\"`: Returns the product of `a` and `b`.\n",
    "            - `\"divide\"`: Returns the result of `a / b`. Raises an error if `b` is zero.\n",
    "\n",
    "    Returns:\n",
    "        float: The numerical result of the specified operation.\n",
    "\n",
    "    Raises:\n",
    "        ValueError: If an invalid operation is provided or division by zero is attempted.\n",
    "    \"\"\"\n",
    "    print(\"Invoking calculator tool\")\n",
    "    # Perform the specified operation\n",
    "    if operation == \"add\":\n",
    "        return a + b\n",
    "    elif operation == \"subtract\":\n",
    "        return a - b\n",
    "    elif operation == \"multiply\":\n",
    "        return a * b\n",
    "    elif operation == \"divide\":\n",
    "        if b == 0:\n",
    "            raise ValueError(\"Division by zero is not allowed.\")\n",
    "        return a / b\n",
    "    else:\n",
    "        raise ValueError(f\"Invalid operation: {operation}\")"
   ]
  },
  {
   "cell_type": "code",
   "execution_count": 29,
   "id": "a0514050-2d5b-4a8a-8f5b-cec0c9a1f865",
   "metadata": {},
   "outputs": [],
   "source": [
    "from langchain.agents import create_agent\n",
    "\n",
    "agent = create_agent(\n",
    "    model=\"openai:gpt-5-mini\",\n",
    "    tools=[real_number_calculator],\n",
    "    system_prompt=\"You are a helpful assistant\",\n",
    ")"
   ]
  },
  {
   "cell_type": "code",
   "execution_count": 30,
   "id": "39bc446d-d4f9-490e-9bb4-66da64b5d13f",
   "metadata": {},
   "outputs": [
    {
     "name": "stdout",
     "output_type": "stream",
     "text": [
      "Invoking calculator tool\n",
      "12.0\n"
     ]
    }
   ],
   "source": [
    "result = agent.invoke({\"messages\": [{\"role\": \"user\", \"content\": \"what is 3.0 * 4.0\"}]})\n",
    "print(result[\"messages\"][-1].content)"
   ]
  },
  {
   "cell_type": "markdown",
   "id": "7830dc5e-813e-4892-91cf-28decfeac0b4",
   "metadata": {},
   "source": [
    "Let's check our [trace](https://smith.langchain.com/public/5e5c22be-278b-4251-8e70-f0ea9a7e17b5/r) to see the tool description."
   ]
  },
  {
   "cell_type": "code",
   "execution_count": 31,
   "id": "65a67292-d1ba-489c-a36c-02c47c1a23a7",
   "metadata": {},
   "outputs": [
    {
     "name": "stdout",
     "output_type": "stream",
     "text": [
      "Invoking calculator tool\n",
      "12\n"
     ]
    }
   ],
   "source": [
    "result = agent.invoke({\"messages\": [{\"role\": \"user\", \"content\": \"what is 3 * 4\"}]})\n",
    "print(result[\"messages\"][-1].content)"
   ]
  },
  {
   "cell_type": "markdown",
   "id": "b6e96aed-6c4e-400c-96f6-570daa4b33af",
   "metadata": {},
   "source": [
    "## Try your own.\n",
    "Create a tool of your own and try it here!"
   ]
  },
  {
   "cell_type": "code",
   "execution_count": 39,
   "id": "2ccdac1a-c5bf-4257-8108-2b41122fbca6",
   "metadata": {},
   "outputs": [],
   "source": [
    "\n",
    "@tool\n",
    "def your_tool(\n",
    "    a: float, b: float, \n",
    ") -> float:\n",
    "    \"\"\"Perform your favorite operation\n",
    "\n",
    "    Args:\n",
    "        a (float): operator a description\n",
    "        b (float): operator b description\n",
    "\n",
    "    Returns:\n",
    "        float: description\n",
    "    \"\"\"\n",
    "    pass"
   ]
  },
  {
   "cell_type": "code",
   "execution_count": 40,
   "id": "f181a5e1-717e-4ecc-abe8-5160c8d3db37",
   "metadata": {},
   "outputs": [],
   "source": [
    "from langchain.agents import create_agent\n",
    "\n",
    "agent = create_agent(\n",
    "    model=\"openai:gpt-5-mini\",\n",
    "    tools=[your_tool],\n",
    "    system_prompt=\"You are a helpful assistant\",\n",
    ")"
   ]
  }
 ],
 "metadata": {
  "kernelspec": {
   "display_name": "Python 3 (ipykernel)",
   "language": "python",
   "name": "python3"
  },
  "language_info": {
   "codemirror_mode": {
    "name": "ipython",
    "version": 3
   },
   "file_extension": ".py",
   "mimetype": "text/x-python",
   "name": "python",
   "nbconvert_exporter": "python",
   "pygments_lexer": "ipython3",
   "version": "3.13.2"
  }
 },
 "nbformat": 4,
 "nbformat_minor": 5
}
