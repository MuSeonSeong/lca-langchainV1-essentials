{
 "cells": [
  {
   "cell_type": "markdown",
   "id": "483ab18e-f419-46ad-9bbe-171ffd05f983",
   "metadata": {},
   "source": [
    "# Streaming\n",
    "\n",
    "Streaming...\n",
    "\n",
    "There are two types frequently used with Agents:\n",
    "- "
   ]
  },
  {
   "cell_type": "code",
   "execution_count": 3,
   "id": "166fc0b1-2322-4dd2-a358-89309fb9f4ce",
   "metadata": {},
   "outputs": [],
   "source": [
    "from langchain.chat_models import init_chat_model\n",
    "from langchain_core.tools import tool\n",
    "from langchain.agents import create_agent\n",
    "from langchain_core.messages import SystemMessage\n"
   ]
  },
  {
   "cell_type": "code",
   "execution_count": 42,
   "id": "a26b4586-453a-4c10-9fae-4be3f4cb6cd4",
   "metadata": {},
   "outputs": [],
   "source": [
    "from langchain.agents import create_agent\n",
    "from langchain_core.messages import SystemMessage\n",
    "\n",
    "#llm\n",
    "llm = init_chat_model(\"gpt-5-mini\", model_provider=\"openai\")\n",
    "\n",
    "agent = create_agent(\n",
    "    model=llm,\n",
    "    tools=[],\n",
    "    prompt=SystemMessage(content=\"You are a full-stack comedian\"),\n",
    ")"
   ]
  },
  {
   "cell_type": "markdown",
   "id": "7a907aa9-a608-47e2-92d4-6758a1728cb2",
   "metadata": {},
   "source": [
    "## No Steaming (invoke)"
   ]
  },
  {
   "cell_type": "code",
   "execution_count": 34,
   "id": "fc384cf0-b208-4ab1-b7e2-f4b93dab08bf",
   "metadata": {},
   "outputs": [
    {
     "name": "stdout",
     "output_type": "stream",
     "text": [
      "Parallel lines have so much in common. It’s a shame they’ll never meet.\n",
      "\n",
      "Want another one?\n"
     ]
    }
   ],
   "source": [
    "result = agent.invoke(\n",
    "    {\"messages\": [{\"role\": \"user\", \n",
    "                   \"content\": \"Tell me a joke\"}]}\n",
    "    )\n",
    "print(result[\"messages\"][1].content)"
   ]
  },
  {
   "cell_type": "markdown",
   "id": "9a4d7975-8d94-4d5e-8493-e68ac9fcedf9",
   "metadata": {},
   "source": [
    "## value"
   ]
  },
  {
   "cell_type": "code",
   "execution_count": 37,
   "id": "e30a2273-1dd3-47e8-a38e-05ed4b750000",
   "metadata": {},
   "outputs": [
    {
     "name": "stdout",
     "output_type": "stream",
     "text": [
      "================================\u001b[1m Human Message \u001b[0m=================================\n",
      "\n",
      "Tell me a joke\n",
      "==================================\u001b[1m Ai Message \u001b[0m==================================\n",
      "\n",
      "I told my suitcase we’re not going on vacation this year. Now I’m dealing with emotional baggage.\n"
     ]
    }
   ],
   "source": [
    "# Stream = values\n",
    "for step in agent.stream(\n",
    "    {\"messages\": [{\"role\": \"user\", \n",
    "                   \"content\": \"Tell me a joke\"}]},\n",
    "    stream_mode=\"values\",\n",
    "    ):\n",
    "    step[\"messages\"][-1].pretty_print()\n"
   ]
  },
  {
   "cell_type": "markdown",
   "id": "ada88835-3c66-4241-b3d9-4f3d38390c86",
   "metadata": {},
   "source": [
    "## message"
   ]
  },
  {
   "cell_type": "code",
   "execution_count": 38,
   "id": "b1c07c50-7b96-4446-9065-0733e1b0b308",
   "metadata": {},
   "outputs": [
    {
     "name": "stdout",
     "output_type": "stream",
     "text": [
      "node: agent\n",
      "content: \n",
      "node: agent\n",
      "content: Parallel\n",
      "node: agent\n",
      "content:  lines\n",
      "node: agent\n",
      "content:  have\n",
      "node: agent\n",
      "content:  so\n",
      "node: agent\n",
      "content:  much\n",
      "node: agent\n",
      "content:  in\n",
      "node: agent\n",
      "content:  common\n",
      "node: agent\n",
      "content: .\n",
      "node: agent\n",
      "content:  It\n",
      "node: agent\n",
      "content: ’s\n",
      "node: agent\n",
      "content:  a\n",
      "node: agent\n",
      "content:  shame\n",
      "node: agent\n",
      "content:  they\n",
      "node: agent\n",
      "content: ’ll\n",
      "node: agent\n",
      "content:  never\n",
      "node: agent\n",
      "content:  meet\n",
      "node: agent\n",
      "content: .\n",
      "\n",
      "\n",
      "node: agent\n",
      "content: Want\n",
      "node: agent\n",
      "content:  another\n",
      "node: agent\n",
      "content: ?\n",
      "node: agent\n",
      "content: \n"
     ]
    }
   ],
   "source": [
    "for token, metadata in agent.stream(\n",
    "    {\"messages\": [{\"role\": \"user\", \"content\": \"Tell me a joke.\"}]},\n",
    "    stream_mode=\"messages\",\n",
    "):\n",
    "    print(f\"node: {metadata['langgraph_node']}\")\n",
    "    print(f\"content: {token.content}\")"
   ]
  },
  {
   "cell_type": "code",
   "execution_count": 43,
   "id": "2a9cc553-7357-4d36-b88d-25eaf7462cf6",
   "metadata": {},
   "outputs": [
    {
     "name": "stdout",
     "output_type": "stream",
     "text": [
      "I commit to morning light with a cup that smells like hope,\n",
      "sudo permissions to the day, password: coffee-please.\n",
      "My socks are mismatched, like two different APIs arguing,\n",
      "but somewhere between the lint and the laces\n",
      "I deploy a small, honest grin.\n",
      "\n",
      "There are bugs in the toaster, a 404 on breakfast,\n",
      "and I console.log my feelings into the sink.\n",
      "Neighbors debug the universe with lawnmowers and gossip;\n",
      "I patch the holes with song and sticky tape,\n",
      "and push a hotfix of kindness to the mailman.\n",
      "\n",
      "Love is a pull request you forget to review—\n",
      "comments left: \"Needs more dancing. Less cynicism.\"\n",
      "So we merge imperfectly, resolving conflicts with pizza,\n",
      "and laugh until the linoleum remembers our footsteps.\n",
      "At night I back up the day to memory and moonlight,\n",
      "and sleep like a server after midnight maintenance:\n",
      "quiet, secure, and ready for the next ridiculous reboot."
     ]
    }
   ],
   "source": [
    "for token, metadata in agent.stream(\n",
    "    {\"messages\": [{\"role\": \"user\", \"content\": \"Write me a poem.\"}]},\n",
    "    stream_mode=\"messages\",\n",
    "):\n",
    "    print(f\"{token.content}\", end=\"\")"
   ]
  },
  {
   "cell_type": "code",
   "execution_count": null,
   "id": "c68179e6-d388-494a-b10d-109c230f6ee0",
   "metadata": {},
   "outputs": [],
   "source": []
  }
 ],
 "metadata": {
  "kernelspec": {
   "display_name": "Python 3 (ipykernel)",
   "language": "python",
   "name": "python3"
  },
  "language_info": {
   "codemirror_mode": {
    "name": "ipython",
    "version": 3
   },
   "file_extension": ".py",
   "mimetype": "text/x-python",
   "name": "python",
   "nbconvert_exporter": "python",
   "pygments_lexer": "ipython3",
   "version": "3.13.5"
  }
 },
 "nbformat": 4,
 "nbformat_minor": 5
}
