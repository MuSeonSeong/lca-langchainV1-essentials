{
 "cells": [
  {
   "cell_type": "markdown",
   "id": "e0c82cb7-58cc-4cf0-86af-5ecefa582a09",
   "metadata": {},
   "source": [
    "# Tools with MCP ⏰\n",
    "\n",
    "The Model Context Protocol (MCP) provides a standardized way to connect AI agents to external tools and data sources. Let's connect to an MCP server using `langchain-mcp-adapters`."
   ]
  },
  {
   "cell_type": "code",
   "execution_count": 1,
   "id": "hgss9k1exsc",
   "metadata": {},
   "outputs": [
    {
     "name": "stdout",
     "output_type": "stream",
     "text": [
      "Loaded 5 MCP tools: ['add_time', 'compare_time', 'convert_timezone', 'current_time', 'relative_time']\n"
     ]
    }
   ],
   "source": [
    "from langchain_mcp_adapters.client import MultiServerMCPClient\n",
    "import nest_asyncio\n",
    "\n",
    "nest_asyncio.apply()\n",
    "\n",
    "# Connect to the mcp-time server for timezone-aware operations\n",
    "# This Go-based server provides tools for current time, relative time parsing,\n",
    "# timezone conversion, duration arithmetic, and time comparison\n",
    "mcp_client = MultiServerMCPClient(\n",
    "    {\n",
    "        \"time\": {\n",
    "            \"transport\": \"stdio\",\n",
    "            \"command\": \"npx\",\n",
    "            \"args\": [\"-y\", \"@theo.foobar/mcp-time\"],\n",
    "        }\n",
    "    },\n",
    ")\n",
    "\n",
    "# Load tools from the MCP server\n",
    "mcp_tools = await mcp_client.get_tools()\n",
    "print(f\"Loaded {len(mcp_tools)} MCP tools: {[t.name for t in mcp_tools]}\")"
   ]
  },
  {
   "cell_type": "markdown",
   "id": "vcjuvmuq4e",
   "metadata": {},
   "source": [
    "Create an agent with the MCP-provided time tools."
   ]
  },
  {
   "cell_type": "code",
   "execution_count": 2,
   "id": "kzxdtfhdupm",
   "metadata": {},
   "outputs": [],
   "source": [
    "from langchain.agents import create_agent\n",
    "\n",
    "agent_with_mcp = create_agent(\n",
    "    model=\"openai:gpt-5-mini\",\n",
    "    tools=mcp_tools,\n",
    "    system_prompt=\"You are a helpful assistant\",\n",
    ")"
   ]
  },
  {
   "cell_type": "markdown",
   "id": "ezfs2wsar76",
   "metadata": {},
   "source": [
    "Ask about the current time in San Francisco."
   ]
  },
  {
   "cell_type": "code",
   "execution_count": 3,
   "id": "igtndf1iknd",
   "metadata": {},
   "outputs": [
    {
     "name": "stdout",
     "output_type": "stream",
     "text": [
      "================================\u001b[1m Human Message \u001b[0m=================================\n",
      "\n",
      "What's the time in SF right now?\n",
      "==================================\u001b[1m Ai Message \u001b[0m==================================\n",
      "Tool Calls:\n",
      "  current_time (call_ftr9HrO5biEwK5sVY6iigaXT)\n",
      " Call ID: call_ftr9HrO5biEwK5sVY6iigaXT\n",
      "  Args:\n",
      "    timezone: America/Los_Angeles\n",
      "    format: 2006-01-02 03:04:05 PM -07:00\n",
      "=================================\u001b[1m Tool Message \u001b[0m=================================\n",
      "Name: current_time\n",
      "\n",
      "2025-10-08 12:25:02 PM -07:00\n",
      "==================================\u001b[1m Ai Message \u001b[0m==================================\n",
      "\n",
      "It's 12:25 PM PDT in San Francisco right now (Oct 8, 2025).\n"
     ]
    }
   ],
   "source": [
    "result = await agent_with_mcp.ainvoke(\n",
    "    {\"messages\": [{\"role\": \"user\", \"content\": \"What's the time in SF right now?\"}]}\n",
    ")\n",
    "for msg in result[\"messages\"]:\n",
    "    msg.pretty_print()"
   ]
  },
  {
   "cell_type": "code",
   "execution_count": null,
   "id": "7a57edc8-b740-4732-82bb-bf97dcdc552f",
   "metadata": {},
   "outputs": [],
   "source": []
  }
 ],
 "metadata": {
  "kernelspec": {
   "display_name": "Python 3 (ipykernel)",
   "language": "python",
   "name": "python3"
  },
  "language_info": {
   "codemirror_mode": {
    "name": "ipython",
    "version": 3
   },
   "file_extension": ".py",
   "mimetype": "text/x-python",
   "name": "python",
   "nbconvert_exporter": "python",
   "pygments_lexer": "ipython3",
   "version": "3.13.2"
  }
 },
 "nbformat": 4,
 "nbformat_minor": 5
}
