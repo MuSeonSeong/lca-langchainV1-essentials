{
 "cells": [
  {
   "cell_type": "markdown",
   "id": "e0c82cb7-58cc-4cf0-86af-5ecefa582a09",
   "metadata": {},
   "source": [
    "# Runtime context"
   ]
  },
  {
   "cell_type": "code",
   "execution_count": 8,
   "id": "1ba24dd6-7a31-4fba-8077-2bff96e1ed4a",
   "metadata": {},
   "outputs": [],
   "source": [
    "from langchain_community.utilities import SQLDatabase\n",
    "\n",
    "db = SQLDatabase.from_uri(\"sqlite:///Chinook.db\")"
   ]
  },
  {
   "cell_type": "code",
   "execution_count": 9,
   "id": "078cff75-a086-487b-a566-bdb40684d8c3",
   "metadata": {},
   "outputs": [],
   "source": [
    "from dataclasses import dataclass\n",
    "\n",
    "\n",
    "# Setup your agent runtime context\n",
    "@dataclass\n",
    "class UserInfo:\n",
    "    first: str\n",
    "    last: str"
   ]
  },
  {
   "cell_type": "code",
   "execution_count": 10,
   "id": "1c441379-d050-4353-a936-f0c7650c141a",
   "metadata": {},
   "outputs": [],
   "source": [
    "import re\n",
    "from dataclasses import asdict\n",
    "\n",
    "from langchain_core.tools import tool\n",
    "from langgraph.runtime import get_runtime\n",
    "\n",
    "\n",
    "@tool\n",
    "def execute_sql(query: str) -> str:\n",
    "    \"\"\"Execute a SQLite command and return results.\n",
    "\n",
    "    Named parameters like :first and :last will be filled from runtime context.\n",
    "    \"\"\"\n",
    "    runtime = get_runtime(UserInfo)\n",
    "    try:\n",
    "        placeholders = re.findall(r\":(\\w+)\", query)\n",
    "\n",
    "        if placeholders:\n",
    "            return db.run(query, parameters=asdict(runtime.context or {}))\n",
    "        else:\n",
    "            return db.run(query)\n",
    "    except Exception as e:\n",
    "        return f\"Error: {e}\""
   ]
  },
  {
   "cell_type": "code",
   "execution_count": 11,
   "id": "7ebc55dc-27b6-4b14-b811-6d911094d81f",
   "metadata": {},
   "outputs": [],
   "source": [
    "import requests\n",
    "from langchain_core.tools import tool\n",
    "\n",
    "FALLBACK_RATES = {\"USD\": 1.0, \"EUR\": 0.92, \"JPY\": 150.0, \"GBP\": 0.79}\n",
    "\n",
    "\n",
    "@tool\n",
    "def convert_currency(amount: float, to_currency: str) -> float:\n",
    "    \"\"\"Convert an amount in USD to another currency using live exchange rates.\n",
    "\n",
    "    Always use this tool if the user requests a currency different\n",
    "    from the one stored in the database (USD).\n",
    "    \"\"\"\n",
    "    try:\n",
    "        url = f\"https://api.exchangerate.host/convert?from=USD&to={to_currency}&amount={amount}\"\n",
    "        response = requests.get(url, timeout=5)\n",
    "        response.raise_for_status()\n",
    "        data = response.json()\n",
    "        result = data.get(\"result\")\n",
    "        if result is not None:\n",
    "            return round(float(result), 2)\n",
    "    except Exception as e:\n",
    "        print(f\"[convert_currency] Falling back due to error: {e}\")\n",
    "\n",
    "    if to_currency not in FALLBACK_RATES:\n",
    "        raise ValueError(\"Unsupported currency in fallback mode\")\n",
    "    return round(amount * FALLBACK_RATES[to_currency], 2)"
   ]
  },
  {
   "cell_type": "code",
   "execution_count": 12,
   "id": "5d8f5e3c-d792-434b-9339-3289bbf8398a",
   "metadata": {},
   "outputs": [],
   "source": [
    "SYSTEM_PROMPT = \"\"\"You are a careful SQLite analyst.\n",
    "\n",
    "Rules:\n",
    "- Think step-by-step.\n",
    "- When you need data, call the tool `execute_sql` with ONE SELECT query.\n",
    "- Read-only only; no INSERT/UPDATE/DELETE/ALTER/DROP/CREATE/REPLACE/TRUNCATE.\n",
    "- Limit to 5 rows unless the user explicitly asks otherwise.\n",
    "- If the tool returns 'Error:', revise the SQL and try again.\n",
    "- Prefer explicit column lists; avoid SELECT *.\n",
    "- If a query involves a specific customer, always use the named parameters\n",
    "  :first and :last (instead of hard-coding values).\n",
    "  Example: SELECT InvoiceId, Total FROM Invoice\n",
    "           JOIN Customer ON Invoice.CustomerId = Customer.CustomerId\n",
    "           WHERE Customer.FirstName = :first AND Customer.LastName = :last;\n",
    "  Assume the customer first and last name are known and will be inserted into the query later.\n",
    "\"\"\""
   ]
  },
  {
   "cell_type": "code",
   "execution_count": 14,
   "id": "a26b4586-453a-4c10-9fae-4be3f4cb6cd4",
   "metadata": {},
   "outputs": [],
   "source": [
    "from langchain.agents import create_agent\n",
    "\n",
    "agent = create_agent(\n",
    "    model=\"openai:gpt-5\",\n",
    "    tools=[execute_sql, convert_currency],\n",
    "    system_prompt=SYSTEM_PROMPT,\n",
    "    context_schema=UserInfo,\n",
    ")"
   ]
  },
  {
   "cell_type": "code",
   "execution_count": 16,
   "id": "e30a2273-1dd3-47e8-a38e-05ed4b750000",
   "metadata": {},
   "outputs": [
    {
     "name": "stdout",
     "output_type": "stream",
     "text": [
      "================================\u001b[1m Human Message \u001b[0m=================================\n",
      "\n",
      "What is the most costly purchase I made?\n",
      "==================================\u001b[1m Ai Message \u001b[0m==================================\n",
      "Tool Calls:\n",
      "  execute_sql (call_RFCohuWssCJrXspzFMAWflAi)\n",
      " Call ID: call_RFCohuWssCJrXspzFMAWflAi\n",
      "  Args:\n",
      "    query: SELECT i.InvoiceId, i.InvoiceDate, i.Total, COUNT(il.InvoiceLineId) AS LineItemCount\n",
      "FROM Invoice AS i\n",
      "JOIN Customer AS c ON i.CustomerId = c.CustomerId\n",
      "JOIN InvoiceLine AS il ON il.InvoiceId = i.InvoiceId\n",
      "WHERE c.FirstName = :first AND c.LastName = :last\n",
      "GROUP BY i.InvoiceId, i.InvoiceDate, i.Total\n",
      "ORDER BY i.Total DESC\n",
      "LIMIT 1;\n",
      "=================================\u001b[1m Tool Message \u001b[0m=================================\n",
      "Name: execute_sql\n",
      "\n",
      "[(145, '2010-09-23 00:00:00', 13.86, 14)]\n",
      "==================================\u001b[1m Ai Message \u001b[0m==================================\n",
      "\n",
      "Your most costly purchase was $13.86 on 2010-09-23 (Invoice #145), with 14 items.\n"
     ]
    }
   ],
   "source": [
    "question = \"What is the most costly purchase I made?\"\n",
    "\n",
    "for step in agent.stream(\n",
    "    {\"messages\": [{\"role\": \"user\", \"content\": question}]},\n",
    "    context=UserInfo(first=\"Frank\", last=\"Harris\"),\n",
    "    stream_mode=\"values\",\n",
    "):\n",
    "    step[\"messages\"][-1].pretty_print()"
   ]
  },
  {
   "cell_type": "code",
   "execution_count": null,
   "id": "d1d4f648-4edd-4a59-829b-685d3b151a8e",
   "metadata": {},
   "outputs": [],
   "source": []
  }
 ],
 "metadata": {
  "kernelspec": {
   "display_name": "Python 3 (ipykernel)",
   "language": "python",
   "name": "python3"
  },
  "language_info": {
   "codemirror_mode": {
    "name": "ipython",
    "version": 3
   },
   "file_extension": ".py",
   "mimetype": "text/x-python",
   "name": "python",
   "nbconvert_exporter": "python",
   "pygments_lexer": "ipython3",
   "version": "3.13.2"
  }
 },
 "nbformat": 4,
 "nbformat_minor": 5
}
