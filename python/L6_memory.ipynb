{
 "cells": [
  {
   "cell_type": "markdown",
   "id": "e0c82cb7-58cc-4cf0-86af-5ecefa582a09",
   "metadata": {},
   "source": [
    "# Memory"
   ]
  },
  {
   "cell_type": "markdown",
   "id": "abcb8ffd-e0ea-41bb-9571-e11890f4f597",
   "metadata": {},
   "source": [
    "## Setup"
   ]
  },
  {
   "cell_type": "code",
   "execution_count": 1,
   "id": "1ba24dd6-7a31-4fba-8077-2bff96e1ed4a",
   "metadata": {},
   "outputs": [],
   "source": [
    "from langchain_community.utilities import SQLDatabase\n",
    "\n",
    "db = SQLDatabase.from_uri(\"sqlite:///Chinook.db\")"
   ]
  },
  {
   "cell_type": "code",
   "execution_count": 2,
   "id": "7f2474e1-6abf-4c24-bf50-b75090ec1ec0",
   "metadata": {},
   "outputs": [],
   "source": [
    "from langchain.chat_models import init_chat_model\n",
    "\n",
    "model = init_chat_model(\"openai:gpt-5\")"
   ]
  },
  {
   "cell_type": "code",
   "execution_count": null,
   "id": "078cff75-a086-487b-a566-bdb40684d8c3",
   "metadata": {},
   "outputs": [],
   "source": [
    "from dataclasses import dataclass\n",
    "\n",
    "\n",
    "# Setup your agent runtime context\n",
    "@dataclass\n",
    "class Context:\n",
    "    first: str\n",
    "    last: str"
   ]
  },
  {
   "cell_type": "code",
   "execution_count": null,
   "id": "1c441379-d050-4353-a936-f0c7650c141a",
   "metadata": {},
   "outputs": [],
   "source": [
    "import re\n",
    "from dataclasses import asdict\n",
    "\n",
    "from langchain_core.tools import tool\n",
    "from langgraph.runtime import get_runtime\n",
    "\n",
    "\n",
    "@tool\n",
    "def execute_sql(query: str) -> str:\n",
    "    \"\"\"Execute a SQLite command and return results.\n",
    "\n",
    "    Named parameters like :first and :last will be filled from runtime context.\n",
    "    \"\"\"\n",
    "    runtime = get_runtime(Context)\n",
    "    try:\n",
    "        placeholders = re.findall(r\":(\\w+)\", query)\n",
    "\n",
    "        if placeholders:\n",
    "            return db.run(query, parameters=asdict(runtime.context or {}))\n",
    "        else:\n",
    "            return db.run(query)\n",
    "    except Exception as e:\n",
    "        return f\"Error: {e}\""
   ]
  },
  {
   "cell_type": "code",
   "execution_count": null,
   "id": "7ebc55dc-27b6-4b14-b811-6d911094d81f",
   "metadata": {},
   "outputs": [],
   "source": [
    "import requests\n",
    "from langchain_core.tools import tool\n",
    "\n",
    "FALLBACK_RATES = {\"USD\": 1.0, \"EUR\": 0.92, \"JPY\": 150.0, \"GBP\": 0.79}\n",
    "\n",
    "\n",
    "@tool\n",
    "def convert_currency(amount: float, to_currency: str) -> float:\n",
    "    \"\"\"Convert an amount in USD to another currency using live exchange rates.\n",
    "\n",
    "    Always use this tool if the user requests a currency different\n",
    "    from the one stored in the database (USD).\n",
    "    \"\"\"\n",
    "    try:\n",
    "        url = f\"https://api.exchangerate.host/convert?from=USD&to={to_currency}&amount={amount}\"\n",
    "        response = requests.get(url, timeout=5)\n",
    "        response.raise_for_status()\n",
    "        data = response.json()\n",
    "        result = data.get(\"result\")\n",
    "        if result is not None:\n",
    "            return round(float(result), 2)\n",
    "    except Exception as e:\n",
    "        print(f\"[convert_currency] Falling back due to error: {e}\")\n",
    "\n",
    "    if to_currency not in FALLBACK_RATES:\n",
    "        raise ValueError(\"Unsupported currency in fallback mode\")\n",
    "    return round(amount * FALLBACK_RATES[to_currency], 2)"
   ]
  },
  {
   "cell_type": "code",
   "execution_count": null,
   "id": "5d8f5e3c-d792-434b-9339-3289bbf8398a",
   "metadata": {},
   "outputs": [],
   "source": [
    "SYSTEM_PROMPT = \"\"\"You are a careful SQLite analyst.\n",
    "\n",
    "Rules:\n",
    "- Think step-by-step.\n",
    "- When you need data, call the tool `execute_sql` with ONE SELECT query.\n",
    "- Read-only only; no INSERT/UPDATE/DELETE/ALTER/DROP/CREATE/REPLACE/TRUNCATE.\n",
    "- Limit to 5 rows unless the user explicitly asks otherwise.\n",
    "- If the tool returns 'Error:', revise the SQL and try again.\n",
    "- Prefer explicit column lists; avoid SELECT *.\n",
    "- If a query involves a specific customer, always use the named parameters\n",
    "  :first and :last (instead of hard-coding values).\n",
    "  Example: SELECT InvoiceId, Total FROM Invoice\n",
    "           JOIN Customer ON Invoice.CustomerId = Customer.CustomerId\n",
    "           WHERE Customer.FirstName = :first AND Customer.LastName = :last;\n",
    "  Assume the customer first and last name are known and will be inserted into the query later.\n",
    "\"\"\""
   ]
  },
  {
   "cell_type": "code",
   "execution_count": null,
   "id": "a26b4586-453a-4c10-9fae-4be3f4cb6cd4",
   "metadata": {},
   "outputs": [],
   "source": [
    "from langchain.agents import create_agent\n",
    "from langchain_core.messages import SystemMessage\n",
    "\n",
    "agent = create_agent(\n",
    "    model=model,\n",
    "    tools=[execute_sql, convert_currency],\n",
    "    system_prompt=SYSTEM_PROMPT,\n",
    "    context_schema=Context,\n",
    ")"
   ]
  },
  {
   "cell_type": "markdown",
   "id": "29a79791-1ddc-4fab-aaa7-29a93aa390fb",
   "metadata": {},
   "source": [
    "## Repeated Queries"
   ]
  },
  {
   "cell_type": "code",
   "execution_count": null,
   "id": "e30a2273-1dd3-47e8-a38e-05ed4b750000",
   "metadata": {},
   "outputs": [
    {
     "name": "stdout",
     "output_type": "stream",
     "text": [
      "================================\u001b[1m Human Message \u001b[0m=================================\n",
      "\n",
      "What was the total on my last invoice?\n",
      "==================================\u001b[1m Ai Message \u001b[0m==================================\n",
      "Tool Calls:\n",
      "  execute_sql (call_f2V7A6W8Yr3CdAa8mgQtNzFn)\n",
      " Call ID: call_f2V7A6W8Yr3CdAa8mgQtNzFn\n",
      "  Args:\n",
      "    query: SELECT Invoice.InvoiceId, Invoice.InvoiceDate, Invoice.Total\n",
      "FROM Invoice\n",
      "JOIN Customer ON Invoice.CustomerId = Customer.CustomerId\n",
      "WHERE Customer.FirstName = :first AND Customer.LastName = :last\n",
      "ORDER BY Invoice.InvoiceDate DESC, Invoice.InvoiceId DESC\n",
      "LIMIT 1;\n",
      "=================================\u001b[1m Tool Message \u001b[0m=================================\n",
      "Name: execute_sql\n",
      "\n",
      "[(374, '2013-07-04 00:00:00', 5.94)]\n",
      "==================================\u001b[1m Ai Message \u001b[0m==================================\n",
      "\n",
      "Your last invoice total was $5.94 (USD).\n"
     ]
    }
   ],
   "source": [
    "question = \"What was the total on my last invoice?\"\n",
    "steps = []\n",
    "\n",
    "for step in agent.stream(\n",
    "    {\"messages\": [{\"role\": \"user\", \"content\": question}]},\n",
    "    context=Context(first=\"Frank\", last=\"Harris\"),\n",
    "    stream_mode=\"values\",\n",
    "):\n",
    "    step[\"messages\"][-1].pretty_print()\n",
    "    steps.append(step)"
   ]
  },
  {
   "cell_type": "code",
   "execution_count": null,
   "id": "fc965181-609e-470c-a70c-886e6994cfd7",
   "metadata": {},
   "outputs": [
    {
     "name": "stdout",
     "output_type": "stream",
     "text": [
      "================================\u001b[1m Human Message \u001b[0m=================================\n",
      "\n",
      "What were the titles?\n",
      "==================================\u001b[1m Ai Message \u001b[0m==================================\n",
      "\n",
      "Could you clarify which titles you mean?\n",
      "- Album titles, track names, playlist names, or employee job titles?\n",
      "- Any specific artist, customer, or time period to filter by?\n",
      "- How many results would you like? (Default is 5)\n"
     ]
    }
   ],
   "source": [
    "question = \"What were the titles?\"\n",
    "steps = []\n",
    "\n",
    "for step in agent.stream(\n",
    "    {\"messages\": [{\"role\": \"user\", \"content\": question}]},\n",
    "    context=Context(first=\"Frank\", last=\"Harris\"),\n",
    "    stream_mode=\"values\",\n",
    "):\n",
    "    step[\"messages\"][-1].pretty_print()\n",
    "    steps.append(step)"
   ]
  },
  {
   "cell_type": "markdown",
   "id": "ede16d8f-0795-4433-9bfc-3295835a0264",
   "metadata": {},
   "source": [
    "## Add memory"
   ]
  },
  {
   "cell_type": "code",
   "execution_count": 10,
   "id": "1d07efcc-cade-4a24-9894-9231dadd798e",
   "metadata": {},
   "outputs": [],
   "source": [
    "from langgraph.checkpoint.memory import InMemorySaver"
   ]
  },
  {
   "cell_type": "code",
   "execution_count": null,
   "id": "66c9c561-912f-4a53-a8b4-67080c5b6b56",
   "metadata": {},
   "outputs": [],
   "source": [
    "from langchain.agents import create_agent\n",
    "from langchain_core.messages import SystemMessage\n",
    "\n",
    "agent = create_agent(\n",
    "    model=model,\n",
    "    tools=[execute_sql, convert_currency],\n",
    "    system_prompt=SYSTEM_PROMPT,\n",
    "    context_schema=Context,\n",
    "    checkpointer=InMemorySaver(),\n",
    ")"
   ]
  },
  {
   "cell_type": "code",
   "execution_count": null,
   "id": "c6137fd0-fc6a-4410-b939-045ed2cbcb87",
   "metadata": {},
   "outputs": [
    {
     "name": "stdout",
     "output_type": "stream",
     "text": [
      "================================\u001b[1m Human Message \u001b[0m=================================\n",
      "\n",
      "What was the total on my last invoice?\n",
      "==================================\u001b[1m Ai Message \u001b[0m==================================\n",
      "Tool Calls:\n",
      "  execute_sql (call_sUHf5taP2x7PiexP3Am7Rnmy)\n",
      " Call ID: call_sUHf5taP2x7PiexP3Am7Rnmy\n",
      "  Args:\n",
      "    query: SELECT Invoice.Total AS Total\n",
      "FROM Invoice\n",
      "JOIN Customer ON Invoice.CustomerId = Customer.CustomerId\n",
      "WHERE Customer.FirstName = :first AND Customer.LastName = :last\n",
      "ORDER BY Invoice.InvoiceDate DESC\n",
      "LIMIT 1;\n",
      "=================================\u001b[1m Tool Message \u001b[0m=================================\n",
      "Name: execute_sql\n",
      "\n",
      "[(5.94,)]\n",
      "==================================\u001b[1m Ai Message \u001b[0m==================================\n",
      "\n",
      "Your most recent invoice total was $5.94 USD.\n"
     ]
    }
   ],
   "source": [
    "question = \"What was the total on my last invoice?\"\n",
    "steps = []\n",
    "\n",
    "for step in agent.stream(\n",
    "    {\"messages\": [{\"role\": \"user\", \"content\": question}]},\n",
    "    {\"configurable\": {\"thread_id\": \"1\"}},\n",
    "    context=Context(first=\"Frank\", last=\"Harris\"),\n",
    "    stream_mode=\"values\",\n",
    "):\n",
    "    step[\"messages\"][-1].pretty_print()\n",
    "    steps.append(step)"
   ]
  },
  {
   "cell_type": "code",
   "execution_count": null,
   "id": "2a9cc553-7357-4d36-b88d-25eaf7462cf6",
   "metadata": {},
   "outputs": [
    {
     "name": "stdout",
     "output_type": "stream",
     "text": [
      "================================\u001b[1m Human Message \u001b[0m=================================\n",
      "\n",
      "What were the titles?\n",
      "==================================\u001b[1m Ai Message \u001b[0m==================================\n",
      "Tool Calls:\n",
      "  execute_sql (call_2izsoTAeEYSTDVeI0wZSGrIz)\n",
      " Call ID: call_2izsoTAeEYSTDVeI0wZSGrIz\n",
      "  Args:\n",
      "    query: SELECT Track.Name AS Title\n",
      "FROM InvoiceLine\n",
      "JOIN Track ON InvoiceLine.TrackId = Track.TrackId\n",
      "WHERE InvoiceLine.InvoiceId = (\n",
      "  SELECT Invoice.InvoiceId\n",
      "  FROM Invoice\n",
      "  JOIN Customer ON Invoice.CustomerId = Customer.CustomerId\n",
      "  WHERE Customer.FirstName = :first AND Customer.LastName = :last\n",
      "  ORDER BY Invoice.InvoiceDate DESC\n",
      "  LIMIT 1\n",
      ")\n",
      "ORDER BY InvoiceLine.InvoiceLineId\n",
      "LIMIT 5;\n",
      "=================================\u001b[1m Tool Message \u001b[0m=================================\n",
      "Name: execute_sql\n",
      "\n",
      "[('Holier Than Thou',), ('Through The Never',), ('My Friend Of Misery',), ('The Wait',), ('Blitzkrieg',)]\n",
      "==================================\u001b[1m Ai Message \u001b[0m==================================\n",
      "\n",
      "Here are the first 5 track titles on your most recent invoice:\n",
      "- Holier Than Thou\n",
      "- Through The Never\n",
      "- My Friend Of Misery\n",
      "- The Wait\n",
      "- Blitzkrieg\n",
      "\n",
      "Want me to list them all?\n"
     ]
    }
   ],
   "source": [
    "question = \"What were the titles?\"\n",
    "steps = []\n",
    "\n",
    "for step in agent.stream(\n",
    "    {\"messages\": [{\"role\": \"user\", \"content\": question}]},\n",
    "    {\"configurable\": {\"thread_id\": \"1\"}},\n",
    "    context=Context(first=\"Frank\", last=\"Harris\"),\n",
    "    stream_mode=\"values\",\n",
    "):\n",
    "    step[\"messages\"][-1].pretty_print()\n",
    "    steps.append(step)"
   ]
  }
 ],
 "metadata": {
  "kernelspec": {
   "display_name": "Python 3 (ipykernel)",
   "language": "python",
   "name": "python3"
  },
  "language_info": {
   "codemirror_mode": {
    "name": "ipython",
    "version": 3
   },
   "file_extension": ".py",
   "mimetype": "text/x-python",
   "name": "python",
   "nbconvert_exporter": "python",
   "pygments_lexer": "ipython3",
   "version": "3.13.5"
  }
 },
 "nbformat": 4,
 "nbformat_minor": 5
}
