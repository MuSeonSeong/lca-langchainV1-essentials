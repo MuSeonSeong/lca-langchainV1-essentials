{
 "cells": [
  {
   "cell_type": "markdown",
   "id": "e0c82cb7-58cc-4cf0-86af-5ecefa582a09",
   "metadata": {},
   "source": [
    "# Memory\n",
    "\n",
    "<div style=\"display: flex; justify-content: flex-start; gap: 10px;\">\n",
    "  <img src=\"./assets/LC_Memory_before.png\" alt=\"Image 1\" style=\"width:300px; border:1px solid #ccc; border-radius:6px;\">\n",
    "  <img src=\"./assets/LC_Memory.png\" alt=\"Image 2\" style=\"width:300px; border:1px solid #ccc; border-radius:6px;\">\n",
    "</div>\n",
    "\n",
    "Persisting messages, or 'agent state' between invocations of the agent."
   ]
  },
  {
   "cell_type": "markdown",
   "id": "abcb8ffd-e0ea-41bb-9571-e11890f4f597",
   "metadata": {},
   "source": [
    "## Setup"
   ]
  },
  {
   "cell_type": "code",
   "execution_count": 1,
   "id": "1ba24dd6-7a31-4fba-8077-2bff96e1ed4a",
   "metadata": {},
   "outputs": [],
   "source": [
    "from langchain_community.utilities import SQLDatabase\n",
    "\n",
    "db = SQLDatabase.from_uri(\"sqlite:///Chinook.db\")"
   ]
  },
  {
   "cell_type": "code",
   "execution_count": 2,
   "id": "078cff75-a086-487b-a566-bdb40684d8c3",
   "metadata": {},
   "outputs": [],
   "source": [
    "from dataclasses import dataclass\n",
    "\n",
    "from langchain_community.utilities import SQLDatabase\n",
    "\n",
    "@dataclass\n",
    "class RuntimeContext:\n",
    "    db: SQLDatabase"
   ]
  },
  {
   "cell_type": "code",
   "execution_count": 3,
   "id": "5d7f0b2c-200a-4246-b547-aff9b5185562",
   "metadata": {},
   "outputs": [],
   "source": [
    "from langchain_core.tools import tool\n",
    "from langgraph.runtime import get_runtime\n",
    "\n",
    "@tool\n",
    "def execute_sql(query: str) -> str:\n",
    "    \"\"\"Execute a SQLite command and return results.\"\"\"\n",
    "    runtime = get_runtime(RuntimeContext)\n",
    "    db = runtime.context.db\n",
    "\n",
    "    try:\n",
    "        return db.run(query)\n",
    "    except Exception as e:\n",
    "        return f\"Error: {e}\""
   ]
  },
  {
   "cell_type": "code",
   "execution_count": 4,
   "id": "5d8f5e3c-d792-434b-9339-3289bbf8398a",
   "metadata": {},
   "outputs": [],
   "source": [
    "SYSTEM_PROMPT = \"\"\"You are a careful SQLite analyst.\n",
    "\n",
    "Rules:\n",
    "- Think step-by-step.\n",
    "- When you need data, call the tool `execute_sql` with ONE SELECT query.\n",
    "- Read-only only; no INSERT/UPDATE/DELETE/ALTER/DROP/CREATE/REPLACE/TRUNCATE.\n",
    "- Limit to 5 rows unless the user explicitly asks otherwise.\n",
    "- If the tool returns 'Error:', revise the SQL and try again.\n",
    "- Prefer explicit column lists; avoid SELECT *.\n",
    "\"\"\""
   ]
  },
  {
   "cell_type": "code",
   "execution_count": 5,
   "id": "a26b4586-453a-4c10-9fae-4be3f4cb6cd4",
   "metadata": {},
   "outputs": [],
   "source": [
    "from langchain.agents import create_agent\n",
    "from langchain_core.messages import SystemMessage\n",
    "\n",
    "agent = create_agent(\n",
    "    model=\"openai:gpt-5\",\n",
    "    tools=[execute_sql],\n",
    "    system_prompt=SYSTEM_PROMPT,\n",
    "    context_schema=RuntimeContext,\n",
    ")"
   ]
  },
  {
   "cell_type": "markdown",
   "id": "29a79791-1ddc-4fab-aaa7-29a93aa390fb",
   "metadata": {},
   "source": [
    "## Repeated Queries"
   ]
  },
  {
   "cell_type": "code",
   "execution_count": 7,
   "id": "e30a2273-1dd3-47e8-a38e-05ed4b750000",
   "metadata": {},
   "outputs": [
    {
     "name": "stdout",
     "output_type": "stream",
     "text": [
      "================================\u001b[1m Human Message \u001b[0m=================================\n",
      "\n",
      "This is Frank Harris, What was the total on my last invoice?\n",
      "==================================\u001b[1m Ai Message \u001b[0m==================================\n",
      "Tool Calls:\n",
      "  execute_sql (call_wkvLIfRCADfV85rVhwY0rjAE)\n",
      " Call ID: call_wkvLIfRCADfV85rVhwY0rjAE\n",
      "  Args:\n",
      "    query: SELECT name FROM sqlite_master WHERE type='table' AND (name LIKE '%invoice%' OR name LIKE '%customer%' OR name LIKE '%client%' OR name LIKE '%bill%') ORDER BY name LIMIT 5;\n",
      "=================================\u001b[1m Tool Message \u001b[0m=================================\n",
      "Name: execute_sql\n",
      "\n",
      "[('Customer',), ('Invoice',), ('InvoiceLine',)]\n",
      "==================================\u001b[1m Ai Message \u001b[0m==================================\n",
      "Tool Calls:\n",
      "  execute_sql (call_aVTA8A7w6oHXhn6qyJ374T3n)\n",
      " Call ID: call_aVTA8A7w6oHXhn6qyJ374T3n\n",
      "  Args:\n",
      "    query: SELECT i.InvoiceId, i.InvoiceDate, i.Total\n",
      "FROM Customer c\n",
      "JOIN Invoice i ON i.CustomerId = c.CustomerId\n",
      "WHERE c.FirstName = 'Frank' AND c.LastName = 'Harris'\n",
      "ORDER BY i.InvoiceDate DESC, i.InvoiceId DESC\n",
      "LIMIT 1;\n",
      "=================================\u001b[1m Tool Message \u001b[0m=================================\n",
      "Name: execute_sql\n",
      "\n",
      "[(374, '2013-07-04 00:00:00', 5.94)]\n",
      "==================================\u001b[1m Ai Message \u001b[0m==================================\n",
      "\n",
      "Your most recent invoice totaled $5.94. \n",
      "(Invoice 374 dated 2013-07-04)\n"
     ]
    }
   ],
   "source": [
    "question = \"This is Frank Harris, What was the total on my last invoice?\"\n",
    "steps = []\n",
    "\n",
    "for step in agent.stream(\n",
    "    {\"messages\": [{\"role\": \"user\", \"content\": question}]},\n",
    "    stream_mode=\"values\",\n",
    "    context=RuntimeContext(db=db),\n",
    "):\n",
    "    step[\"messages\"][-1].pretty_print()\n",
    "    steps.append(step)"
   ]
  },
  {
   "cell_type": "code",
   "execution_count": 8,
   "id": "fc965181-609e-470c-a70c-886e6994cfd7",
   "metadata": {},
   "outputs": [
    {
     "name": "stdout",
     "output_type": "stream",
     "text": [
      "================================\u001b[1m Human Message \u001b[0m=================================\n",
      "\n",
      "What were the titles?\n",
      "==================================\u001b[1m Ai Message \u001b[0m==================================\n",
      "\n",
      "Could you clarify which titles you mean? For example:\n",
      "- Titles of books, movies, articles, or something else?\n",
      "- From which table, and with any filters?\n",
      "\n",
      "If you want, I can list the first 5 titles from a specified table.\n"
     ]
    }
   ],
   "source": [
    "question = \"What were the titles?\"\n",
    "\n",
    "for step in agent.stream(\n",
    "    {\"messages\": [{\"role\": \"user\", \"content\": question}]},\n",
    "    context=RuntimeContext(db=db),\n",
    "    stream_mode=\"values\",\n",
    "):\n",
    "    step[\"messages\"][-1].pretty_print()"
   ]
  },
  {
   "cell_type": "markdown",
   "id": "ede16d8f-0795-4433-9bfc-3295835a0264",
   "metadata": {},
   "source": [
    "## Add memory"
   ]
  },
  {
   "cell_type": "code",
   "execution_count": 9,
   "id": "1d07efcc-cade-4a24-9894-9231dadd798e",
   "metadata": {},
   "outputs": [],
   "source": [
    "from langgraph.checkpoint.memory import InMemorySaver"
   ]
  },
  {
   "cell_type": "code",
   "execution_count": 21,
   "id": "66c9c561-912f-4a53-a8b4-67080c5b6b56",
   "metadata": {},
   "outputs": [],
   "source": [
    "from langchain.agents import create_agent\n",
    "from langchain_core.messages import SystemMessage\n",
    "\n",
    "agent = create_agent(\n",
    "    model=\"openai:gpt-5\",\n",
    "    tools=[execute_sql],\n",
    "    system_prompt=SYSTEM_PROMPT,\n",
    "    context_schema=RuntimeContext,\n",
    "    checkpointer=InMemorySaver(),\n",
    ")"
   ]
  },
  {
   "cell_type": "code",
   "execution_count": 22,
   "id": "c6137fd0-fc6a-4410-b939-045ed2cbcb87",
   "metadata": {},
   "outputs": [
    {
     "name": "stdout",
     "output_type": "stream",
     "text": [
      "================================\u001b[1m Human Message \u001b[0m=================================\n",
      "\n",
      "This is Frank Harris, What was the total on my last invoice?\n",
      "==================================\u001b[1m Ai Message \u001b[0m==================================\n",
      "Tool Calls:\n",
      "  execute_sql (call_w9WWXMQSbBZ2cdzs89EgH89Z)\n",
      " Call ID: call_w9WWXMQSbBZ2cdzs89EgH89Z\n",
      "  Args:\n",
      "    query: SELECT name FROM sqlite_master WHERE type = 'table' ORDER BY name LIMIT 50;\n",
      "=================================\u001b[1m Tool Message \u001b[0m=================================\n",
      "Name: execute_sql\n",
      "\n",
      "[('Album',), ('Artist',), ('Customer',), ('Employee',), ('Genre',), ('Invoice',), ('InvoiceLine',), ('MediaType',), ('Playlist',), ('PlaylistTrack',), ('Track',)]\n",
      "==================================\u001b[1m Ai Message \u001b[0m==================================\n",
      "Tool Calls:\n",
      "  execute_sql (call_QvnKDPh17i3rIg2jVmZULt0b)\n",
      " Call ID: call_QvnKDPh17i3rIg2jVmZULt0b\n",
      "  Args:\n",
      "    query: SELECT i.InvoiceId, i.InvoiceDate, i.Total\n",
      "FROM Invoice AS i\n",
      "JOIN Customer AS c ON c.CustomerId = i.CustomerId\n",
      "WHERE c.FirstName = 'Frank' AND c.LastName = 'Harris'\n",
      "ORDER BY i.InvoiceDate DESC\n",
      "LIMIT 1;\n",
      "=================================\u001b[1m Tool Message \u001b[0m=================================\n",
      "Name: execute_sql\n",
      "\n",
      "[(374, '2013-07-04 00:00:00', 5.94)]\n",
      "==================================\u001b[1m Ai Message \u001b[0m==================================\n",
      "\n",
      "Your last invoice total was $5.94 (Invoice #374 dated 2013-07-04).\n"
     ]
    }
   ],
   "source": [
    "question = \"This is Frank Harris, What was the total on my last invoice?\"\n",
    "steps = []\n",
    "\n",
    "for step in agent.stream(\n",
    "    {\"messages\": [{\"role\": \"user\", \"content\": question}]},\n",
    "    {\"configurable\": {\"thread_id\": \"1\"}},\n",
    "    context=RuntimeContext(db=db),\n",
    "    stream_mode=\"values\",\n",
    "):\n",
    "    step[\"messages\"][-1].pretty_print()\n",
    "    steps.append(step)"
   ]
  },
  {
   "cell_type": "code",
   "execution_count": 23,
   "id": "2a9cc553-7357-4d36-b88d-25eaf7462cf6",
   "metadata": {},
   "outputs": [
    {
     "name": "stdout",
     "output_type": "stream",
     "text": [
      "================================\u001b[1m Human Message \u001b[0m=================================\n",
      "\n",
      "What were the titles?\n",
      "==================================\u001b[1m Ai Message \u001b[0m==================================\n",
      "Tool Calls:\n",
      "  execute_sql (call_GnE4SCBOiTl1eSVeIE17C2Ay)\n",
      " Call ID: call_GnE4SCBOiTl1eSVeIE17C2Ay\n",
      "  Args:\n",
      "    query: SELECT t.Name AS Title\n",
      "FROM InvoiceLine AS il\n",
      "JOIN Track AS t ON t.TrackId = il.TrackId\n",
      "WHERE il.InvoiceId = 374\n",
      "ORDER BY il.InvoiceLineId ASC\n",
      "LIMIT 5;\n",
      "=================================\u001b[1m Tool Message \u001b[0m=================================\n",
      "Name: execute_sql\n",
      "\n",
      "[('Holier Than Thou',), ('Through The Never',), ('My Friend Of Misery',), ('The Wait',), ('Blitzkrieg',)]\n",
      "==================================\u001b[1m Ai Message \u001b[0m==================================\n",
      "\n",
      "Here are the track titles on that invoice:\n",
      "- Holier Than Thou\n",
      "- Through The Never\n",
      "- My Friend Of Misery\n",
      "- The Wait\n",
      "- Blitzkrieg\n",
      "\n",
      "Note: I’ve listed the first 5. If you want the full list, just say “all titles.”\n"
     ]
    }
   ],
   "source": [
    "question = \"What were the titles?\"\n",
    "steps = []\n",
    "\n",
    "for step in agent.stream(\n",
    "    {\"messages\": [{\"role\": \"user\", \"content\": question}]},\n",
    "    {\"configurable\": {\"thread_id\": \"1\"}},\n",
    "    context=RuntimeContext(db=db),\n",
    "    stream_mode=\"values\",\n",
    "):\n",
    "    step[\"messages\"][-1].pretty_print()\n",
    "    steps.append(step)"
   ]
  },
  {
   "cell_type": "markdown",
   "id": "a3e94289-66fe-4a30-b351-ea7892302678",
   "metadata": {},
   "source": [
    "## Try your own queries\n",
    "Now that there is memory, check the agents recall!"
   ]
  },
  {
   "cell_type": "code",
   "execution_count": null,
   "id": "f2da936e-4528-4fd8-aa80-96f8e66339ef",
   "metadata": {},
   "outputs": [],
   "source": [
    "question = \"Your Question Here?\"\n",
    "steps = []\n",
    "\n",
    "for step in agent.stream(\n",
    "    {\"messages\": [{\"role\": \"user\", \"content\": question}]},\n",
    "    {\"configurable\": {\"thread_id\": \"1\"}},\n",
    "    context=RuntimeContext(db=db),\n",
    "    stream_mode=\"values\",\n",
    "):\n",
    "    step[\"messages\"][-1].pretty_print()\n",
    "    steps.append(step)"
   ]
  },
  {
   "cell_type": "code",
   "execution_count": null,
   "id": "5338bee5-4938-4df8-a7ea-30beb492f33d",
   "metadata": {},
   "outputs": [],
   "source": []
  }
 ],
 "metadata": {
  "kernelspec": {
   "display_name": "Python 3 (ipykernel)",
   "language": "python",
   "name": "python3"
  },
  "language_info": {
   "codemirror_mode": {
    "name": "ipython",
    "version": 3
   },
   "file_extension": ".py",
   "mimetype": "text/x-python",
   "name": "python",
   "nbconvert_exporter": "python",
   "pygments_lexer": "ipython3",
   "version": "3.13.5"
  }
 },
 "nbformat": 4,
 "nbformat_minor": 5
}
