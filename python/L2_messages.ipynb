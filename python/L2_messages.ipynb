{
 "cells": [
  {
   "cell_type": "markdown",
   "id": "190a3c14-4a67-4d64-9378-0b9737e4a5f7",
   "metadata": {},
   "source": [
    "# Messages\n",
    "Messages are the fundamental unit of context for models in LangChain. They represent the input and output of models, carrying both the content and metadata needed to represent the state of a conversation when interacting with an LLM."
   ]
  },
  {
   "cell_type": "markdown",
   "id": "579f27b5-a53a-4f24-9480-6af61823d4e6",
   "metadata": {},
   "source": [
    "## Basic Usage"
   ]
  },
  {
   "cell_type": "code",
   "execution_count": 166,
   "id": "68295d9c-aefd-4d49-ad9b-bb832f9442d5",
   "metadata": {},
   "outputs": [],
   "source": [
    "from langchain_core.messages import HumanMessage, AIMessage, SystemMessage\n",
    "\n",
    "model = init_chat_model(\"openai:gpt-5-nano\")\n"
   ]
  },
  {
   "cell_type": "code",
   "execution_count": 8,
   "id": "bb326e0b-0d0f-471c-a029-d43d529f916c",
   "metadata": {},
   "outputs": [],
   "source": [
    "system_msg = SystemMessage(\"You are a full-stack comedian\")"
   ]
  },
  {
   "cell_type": "code",
   "execution_count": 188,
   "id": "91ca38b8-7514-4e18-b141-86f77c684ed2",
   "metadata": {},
   "outputs": [],
   "source": [
    "from langchain.agents import create_agent\n",
    "\n",
    "agent = create_agent(\n",
    "    model=model,\n",
    "    prompt=system_msg\n",
    ")"
   ]
  },
  {
   "cell_type": "code",
   "execution_count": 189,
   "id": "0e517775-cdac-43ab-a40b-1a9e8deaa666",
   "metadata": {},
   "outputs": [],
   "source": [
    "human_msg = HumanMessage(\"Hello, how are you?\")\n",
    "\n",
    "result = agent.invoke({\"messages\": [human_msg]})"
   ]
  },
  {
   "cell_type": "code",
   "execution_count": 190,
   "id": "60bcefc1-53d7-4723-a3dc-d87983be761a",
   "metadata": {},
   "outputs": [
    {
     "name": "stdout",
     "output_type": "stream",
     "text": [
      "Hey there! I’m great—fully stacked, caffeine-powered, and ready to roll. How are you? Want a quick tech pun or help with something coding-related—frontend, backend, or full-stack? Quick joke: Why do programmers hate nature? It has too many bugs.\n"
     ]
    }
   ],
   "source": [
    "print(result[\"messages\"][-1].content)"
   ]
  },
  {
   "cell_type": "code",
   "execution_count": 185,
   "id": "61c37ca3-70f7-4f76-8108-94210ba7f5a5",
   "metadata": {},
   "outputs": [
    {
     "name": "stdout",
     "output_type": "stream",
     "text": [
      "<class 'langchain_core.messages.ai.AIMessage'>\n"
     ]
    }
   ],
   "source": [
    "print(type(result[\"messages\"][-1]))"
   ]
  },
  {
   "cell_type": "code",
   "execution_count": 184,
   "id": "7e186f7e-8818-4de4-bebd-4f73cebe5dfb",
   "metadata": {},
   "outputs": [
    {
     "name": "stdout",
     "output_type": "stream",
     "text": [
      "human: Hello, how are you?\n",
      "\n",
      "ai: Hey there! I’m doing great, thanks for asking. I’m your full-stack comedian—juggling bugs and bytes with a side of puns. How can I help you today? Want a quick programming joke, or do you have a project you want a hand with (frontend, backend, database, or DevOps)? \n",
      "\n",
      "For a quick chuckle: Why do programmers prefer dark mode? Because light attracts bugs.\n",
      "\n"
     ]
    }
   ],
   "source": [
    "for msg in result[\"messages\"]:\n",
    "    print(f\"{msg.type}: {msg.content}\\n\")"
   ]
  },
  {
   "cell_type": "markdown",
   "id": "5a6e6993-4f5f-4081-b456-b09b2899860b",
   "metadata": {},
   "source": [
    "> question: Why don't I see the system message here?"
   ]
  },
  {
   "cell_type": "markdown",
   "id": "f7f30337-3873-4b0d-aeff-3c418f5dff32",
   "metadata": {},
   "source": [
    "### Altenative formats\n",
    "#### Strings"
   ]
  },
  {
   "cell_type": "code",
   "execution_count": 196,
   "id": "d2450c1b-924a-422c-bac3-62b1f03dc25c",
   "metadata": {},
   "outputs": [],
   "source": [
    "agent = create_agent(\n",
    "    model=model,\n",
    "    tools=[],\n",
    "    prompt=\"You are a sports poet\"  # SystemMessage\n",
    ")"
   ]
  },
  {
   "cell_type": "markdown",
   "id": "dc1544d7-3590-42e9-a56b-0dfb34f28505",
   "metadata": {},
   "source": [
    "#### Dictionaries"
   ]
  },
  {
   "cell_type": "code",
   "execution_count": 192,
   "id": "91b11e46-9c25-4828-9c6a-29a4594acdaf",
   "metadata": {},
   "outputs": [
    {
     "name": "stdout",
     "output_type": "stream",
     "text": [
      "Sprinters at sunrise\n",
      "lanes blur as speed is flashed bright\n",
      "heartbeats rise, sprint hard\n"
     ]
    }
   ],
   "source": [
    "result = agent.invoke(\n",
    "    {\"messages\": {\"role\": \"user\", \"content\": \"Write a haiku about sprinters\"}}\n",
    ")\n",
    "print(result[\"messages\"][-1].content)"
   ]
  },
  {
   "cell_type": "markdown",
   "id": "00905cbe-b248-496f-898c-d223cd1fd0d7",
   "metadata": {},
   "source": [
    "There are multiple roles:\n",
    "```python\n",
    "messages = [\n",
    "    {\"role\": \"system\", \"content\": \"You are a sports poetry expert who completes haikus that have been started\"},\n",
    "    {\"role\": \"user\", \"content\": \"Write a haiku about sprinters\"},\n",
    "    {\"role\": \"assistant\", \"content\": \"Feet don't fail me...\"}\n",
    "]\n",
    "```"
   ]
  },
  {
   "cell_type": "code",
   "execution_count": null,
   "id": "c1b31b4c-00f0-4b37-8152-6f243590df8e",
   "metadata": {},
   "outputs": [],
   "source": []
  },
  {
   "cell_type": "code",
   "execution_count": null,
   "id": "c0b3f31f-7247-4d9c-811d-48b041d8eb9e",
   "metadata": {},
   "outputs": [],
   "source": []
  },
  {
   "cell_type": "code",
   "execution_count": null,
   "id": "26c704dd-baf5-4afd-a89c-ef3790fe1310",
   "metadata": {},
   "outputs": [],
   "source": []
  },
  {
   "cell_type": "code",
   "execution_count": null,
   "id": "d1afcfa8-a706-403f-8c29-1f441d174908",
   "metadata": {},
   "outputs": [],
   "source": []
  },
  {
   "cell_type": "code",
   "execution_count": null,
   "id": "4bacc660-7997-4da7-9d3e-eee4b8119601",
   "metadata": {},
   "outputs": [],
   "source": []
  },
  {
   "cell_type": "code",
   "execution_count": null,
   "id": "523f453e-a425-4df0-88b0-a04e6e7612ee",
   "metadata": {},
   "outputs": [],
   "source": []
  },
  {
   "cell_type": "code",
   "execution_count": null,
   "id": "7254b9e5-f6ac-432e-bf9a-05676f8e4b3b",
   "metadata": {},
   "outputs": [],
   "source": []
  },
  {
   "cell_type": "code",
   "execution_count": null,
   "id": "3270ec9e-bfe8-4402-86c6-92a66955efd8",
   "metadata": {},
   "outputs": [],
   "source": []
  },
  {
   "cell_type": "code",
   "execution_count": null,
   "id": "81044986-87a6-455d-92da-b41a9b7db1a0",
   "metadata": {},
   "outputs": [],
   "source": []
  },
  {
   "cell_type": "code",
   "execution_count": null,
   "id": "b4802e89-8583-4823-aefd-2e5b56fd6a59",
   "metadata": {},
   "outputs": [],
   "source": []
  },
  {
   "cell_type": "code",
   "execution_count": null,
   "id": "02b6f036-5e85-4689-97a4-c9107cfbca06",
   "metadata": {},
   "outputs": [],
   "source": []
  },
  {
   "cell_type": "code",
   "execution_count": null,
   "id": "08918856-433b-4a48-a609-beaf1c54018d",
   "metadata": {},
   "outputs": [],
   "source": []
  },
  {
   "cell_type": "code",
   "execution_count": null,
   "id": "82974347-c394-4443-9263-b0c45e7e78c5",
   "metadata": {},
   "outputs": [],
   "source": []
  },
  {
   "cell_type": "code",
   "execution_count": null,
   "id": "72264712-56a0-4e2a-ba79-6a67fc0ee2ea",
   "metadata": {},
   "outputs": [],
   "source": []
  },
  {
   "cell_type": "markdown",
   "id": "7b143676-8b1e-4725-bbb0-9a6b6dfa3e45",
   "metadata": {},
   "source": [
    "# OLD"
   ]
  },
  {
   "cell_type": "code",
   "execution_count": 31,
   "id": "adc80e90-e5f1-496a-a32f-ef9e5171b99d",
   "metadata": {},
   "outputs": [],
   "source": [
    "from langchain.chat_models import init_chat_model\n",
    "from langchain_core.messages import HumanMessage, AIMessage, SystemMessage\n",
    "\n",
    "model = init_chat_model(\"openai:gpt-5-nano\")\n",
    "\n",
    "system_msg = SystemMessage(\"You are a helpful assistant.\")\n",
    "human_msg = HumanMessage(\"Hello, how are you?\")\n",
    "\n",
    "# Use with chat models\n",
    "messages = [system_msg, human_msg]\n",
    "response = model.invoke(messages)  # Returns AIMessage"
   ]
  },
  {
   "cell_type": "code",
   "execution_count": 48,
   "id": "27419c02-dd4a-46f9-b70e-84fd2fc2d79e",
   "metadata": {},
   "outputs": [
    {
     "name": "stdout",
     "output_type": "stream",
     "text": [
      "<class 'langchain_core.messages.ai.AIMessage'>\n"
     ]
    }
   ],
   "source": [
    "print(type(response))"
   ]
  },
  {
   "cell_type": "code",
   "execution_count": 49,
   "id": "a18ddc7b-c486-4be8-96c2-6e4ff69d69d7",
   "metadata": {},
   "outputs": [
    {
     "name": "stdout",
     "output_type": "stream",
     "text": [
      "Cherry blossoms bloom\n",
      "Soft rains kiss the waking earth\n",
      "New green whispers rise\n"
     ]
    }
   ],
   "source": [
    "print(response.text)"
   ]
  },
  {
   "cell_type": "markdown",
   "id": "de61d3ed-09c2-478e-adbf-9b55772f964a",
   "metadata": {},
   "source": [
    "## Formats"
   ]
  },
  {
   "cell_type": "markdown",
   "id": "92b96173-5420-4f9e-b228-9dc3bfc3fd08",
   "metadata": {},
   "source": [
    "### Text Prompt\n",
    "Text prompts are strings - ideal for straightforward generation tasks where you don’t need to retain conversation history."
   ]
  },
  {
   "cell_type": "code",
   "execution_count": 40,
   "id": "3dbf1761-2583-40f9-8a70-e66f854f3b52",
   "metadata": {},
   "outputs": [],
   "source": [
    "response = model.invoke(\"Write a haiku about spring\")"
   ]
  },
  {
   "cell_type": "code",
   "execution_count": 50,
   "id": "3bdb33a0-c3c5-4296-9399-8e6f525599a0",
   "metadata": {
    "scrolled": true
   },
   "outputs": [
    {
     "name": "stdout",
     "output_type": "stream",
     "text": [
      "Cherry blossoms bloom\n",
      "Soft rains kiss the waking earth\n",
      "New green whispers rise\n"
     ]
    }
   ],
   "source": [
    "print(response.text)"
   ]
  },
  {
   "cell_type": "markdown",
   "id": "8e7b27d6-54f9-45c5-952a-4b7d496573a6",
   "metadata": {},
   "source": [
    "### Message Prompts"
   ]
  },
  {
   "cell_type": "code",
   "execution_count": 57,
   "id": "f568e4f9-8d27-4977-9da6-accfa37c34d4",
   "metadata": {},
   "outputs": [],
   "source": [
    "system_msg = SystemMessage(\"You are a helpful sports poet\")\n",
    "ai_msg = AIMessage(\"You're right, my rhymes are sublime.\")\n",
    "human_msg = HumanMessage(\"Write a haiku about baseball\")\n",
    "messages = [system_msg, ai_msg, human_msg]"
   ]
  },
  {
   "cell_type": "code",
   "execution_count": 58,
   "id": "30295cbe-ffc3-4aa0-b56f-a63c7ec0e6b0",
   "metadata": {},
   "outputs": [],
   "source": [
    "response = model.invoke(messages)"
   ]
  },
  {
   "cell_type": "code",
   "execution_count": 59,
   "id": "47ba0eab-5534-4454-a3cf-a60f62ec37b1",
   "metadata": {},
   "outputs": [
    {
     "name": "stdout",
     "output_type": "stream",
     "text": [
      "White ball slips in sun\n",
      "the bat sings in the crowded stands\n",
      "hope flies, bases gleam bright\n"
     ]
    }
   ],
   "source": [
    "print(response.text)"
   ]
  },
  {
   "cell_type": "markdown",
   "id": "5a1b79d4-3e96-4f50-a562-484c6bd6fd72",
   "metadata": {},
   "source": [
    "#### An alternate form of messages is a dictionary format."
   ]
  },
  {
   "cell_type": "code",
   "execution_count": 72,
   "id": "30e4f5a8-f84c-41a0-9e1b-d3218ca4ae7e",
   "metadata": {},
   "outputs": [],
   "source": [
    "messages = [\n",
    "    {\"role\": \"system\", \"content\": \"You are a sports poetry expert who completes haikus that have been started\"},\n",
    "    {\"role\": \"user\", \"content\": \"Write a haiku about sprinters\"},\n",
    "    {\"role\": \"assistant\", \"content\": \"Feet don't fail me...\"}\n",
    "]"
   ]
  },
  {
   "cell_type": "code",
   "execution_count": 73,
   "id": "ec7b87eb-88da-4821-8750-57f1e30ca4a9",
   "metadata": {},
   "outputs": [],
   "source": [
    "response = model.invoke(messages)"
   ]
  },
  {
   "cell_type": "code",
   "execution_count": 74,
   "id": "26d18b53-ecc9-4295-9bfa-51a9c92d58a2",
   "metadata": {},
   "outputs": [
    {
     "name": "stdout",
     "output_type": "stream",
     "text": [
      "Feet don't fail me now\n",
      "Sprint sparks through tense air tonight\n",
      "Finish beyond breath\n"
     ]
    }
   ],
   "source": [
    "print(response.text)"
   ]
  },
  {
   "cell_type": "markdown",
   "id": "42303010-d4aa-4939-874d-3c4c260cee86",
   "metadata": {},
   "source": [
    "## Printing\n",
    "You will often see 'pretty printing' in this course."
   ]
  },
  {
   "cell_type": "code",
   "execution_count": 76,
   "id": "41831980-b6b1-4c6a-9b98-8c795a7d5c03",
   "metadata": {},
   "outputs": [
    {
     "name": "stdout",
     "output_type": "stream",
     "text": [
      "content='You are a helpful sports poet' additional_kwargs={} response_metadata={}\n"
     ]
    }
   ],
   "source": [
    "system_msg = SystemMessage(\"You are a helpful sports poet\")\n",
    "print (system_msg)   # is system_msg.__str__()"
   ]
  },
  {
   "cell_type": "code",
   "execution_count": 77,
   "id": "ca57f8cf-6198-4221-87df-67c9a490d433",
   "metadata": {},
   "outputs": [
    {
     "name": "stdout",
     "output_type": "stream",
     "text": [
      "================================\u001b[1m System Message \u001b[0m================================\n",
      "\n",
      "You are a helpful sports poet\n",
      "None\n"
     ]
    }
   ],
   "source": [
    "print(system_msg.pretty_print())"
   ]
  },
  {
   "cell_type": "code",
   "execution_count": 82,
   "id": "50edc9d5-53b5-451c-9e39-56a0a9c1554a",
   "metadata": {},
   "outputs": [
    {
     "name": "stdout",
     "output_type": "stream",
     "text": [
      "{'content': 'You are a helpful sports poet', 'additional_kwargs': {}, 'response_metadata': {}, 'type': 'system', 'name': None, 'id': None}\n"
     ]
    }
   ],
   "source": [
    "print(system_msg.model_dump())  # all fields"
   ]
  },
  {
   "cell_type": "code",
   "execution_count": 17,
   "id": "de4d52dc-67e0-4f2e-b8da-8ac8d5260899",
   "metadata": {},
   "outputs": [
    {
     "name": "stdout",
     "output_type": "stream",
     "text": [
      "<class 'langchain_core.messages.system.SystemMessage'>\n"
     ]
    }
   ],
   "source": [
    "print(type(system_msg))"
   ]
  },
  {
   "cell_type": "markdown",
   "id": "6c69269f-deb3-46c7-8267-e17be9bab595",
   "metadata": {},
   "source": [
    "## Content"
   ]
  },
  {
   "cell_type": "code",
   "execution_count": 130,
   "id": "1b64a449-342a-43ea-ad26-f269eb15c598",
   "metadata": {},
   "outputs": [],
   "source": [
    "from langchain_core.messages import HumanMessage\n",
    "\n",
    "# String content\n",
    "human_message = HumanMessage(\"Hello, how are you?\")\n",
    "\n",
    "# Provider-native format (e.g., OpenAI)\n",
    "human_message = HumanMessage(content=[\n",
    "    {\"type\": \"text\", \"text\": \"Hello, how are you?\"},\n",
    "    {\"type\": \"image_url\", \"image_url\": {\"url\": \"https://example.com/image.jpg\"}}\n",
    "])\n",
    "\n",
    "# List of standard content blocks\n",
    "human_message = HumanMessage(content_blocks=[\n",
    "    {\"type\": \"text\", \"text\": \"Hello, how are you?\"},\n",
    "    {\"type\": \"image\", \"url\": \"https://example.com/image.jpg\"},\n",
    "])"
   ]
  },
  {
   "cell_type": "code",
   "execution_count": 135,
   "id": "40a8e530-0594-481f-a885-8ba27f8664a6",
   "metadata": {},
   "outputs": [
    {
     "data": {
      "image/png": "[encoded data removed]",
      "text/plain": [
       "<IPython.core.display.Image object>"
      ]
     },
     "execution_count": 135,
     "metadata": {
      "image/png": {
       "width": 200
      }
     },
     "output_type": "execute_result"
    }
   ],
   "source": [
    "from IPython.display import Image\n",
    "\n",
    "# Just give it a file path\n",
    "Image(\"./assets/Graphic.png\",width=200)"
   ]
  },
  {
   "cell_type": "code",
   "execution_count": 138,
   "id": "3fbda763-5e33-4438-b027-b38594009d1b",
   "metadata": {},
   "outputs": [
    {
     "name": "stdout",
     "output_type": "stream",
     "text": [
      "It’s a simple flowchart of how an AI “agent” answers a question using tools.\n",
      "\n",
      "- Query: the user’s question enters the system.\n",
      "- Thought: the model reasons about what to do next.\n",
      "- From Thought it has two choices:\n",
      "  - Action → Tools: it takes an action by calling a tool (e.g., web search, calculator, API). The tool returns an Observation.\n",
      "  - Observation → Thought: the observation is fed back so the model can think again and decide the next step.\n",
      "  - Finish → Answer: when it has enough information, it stops the loop and outputs the final answer.\n",
      "\n",
      "In short: query → think → (optionally loop: act with tools → observe → think) → finish → answer.\n"
     ]
    }
   ],
   "source": [
    "import base64\n",
    "from langchain_core.messages import SystemMessage, HumanMessage\n",
    "\n",
    "# Encode local image as base64\n",
    "filename = \"./assets/Graphic.png\"\n",
    "with open(filename, \"rb\") as f:\n",
    "    image_bytes = f.read()\n",
    "image_b64 = base64.b64encode(image_bytes).decode(\"utf-8\")\n",
    "\n",
    "# Messages\n",
    "system_msg = SystemMessage(\"You are a helpful image reader!\")\n",
    "human_msg = HumanMessage(content=[\n",
    "    {\"type\": \"text\", \"text\": \"Please, tell me what this image means.\"},\n",
    "    {\"type\": \"image_url\", \"image_url\": {\"url\": f\"data:image/png;base64,{image_b64}\"}}\n",
    "])\n",
    "\n",
    "messages = [system_msg, human_msg]\n",
    "\n",
    "# Call GPT-5 (vision-capable)\n",
    "response = model.invoke(messages, model=\"gpt-5\")\n",
    "\n",
    "print(response.content)"
   ]
  },
  {
   "cell_type": "markdown",
   "id": "2d241cd3-597e-4128-a6f8-5ad4bf54b949",
   "metadata": {},
   "source": [
    "## AIMessage fields\n",
    "AI messages from an LLM contain several useful fields beyond the content field."
   ]
  },
  {
   "cell_type": "code",
   "execution_count": 150,
   "id": "bd8529a0-dbc9-4c85-aa14-10d59483d056",
   "metadata": {},
   "outputs": [
    {
     "data": {
      "text/plain": [
       "AIMessage(content='Petals touch the breeze\\nsoft rain brushes waking seeds\\nnew greens sing aloud', additional_kwargs={'refusal': None}, response_metadata={'token_usage': {'completion_tokens': 665, 'prompt_tokens': 12, 'total_tokens': 677, 'completion_tokens_details': {'accepted_prediction_tokens': 0, 'audio_tokens': 0, 'reasoning_tokens': 640, 'rejected_prediction_tokens': 0}, 'prompt_tokens_details': {'audio_tokens': 0, 'cached_tokens': 0}}, 'model_provider': 'openai', 'model_name': 'gpt-5-nano-2025-08-07', 'system_fingerprint': None, 'id': 'chatcmpl-CM29GlkdNVHcIZfVrMFl9G8YzizZn', 'service_tier': 'default', 'finish_reason': 'stop', 'logprobs': None}, id='lc_run--3ed025ff-c430-4409-b7a5-fa6d281ca51d-0', usage_metadata={'input_tokens': 12, 'output_tokens': 665, 'total_tokens': 677, 'input_token_details': {'audio': 0, 'cache_read': 0}, 'output_token_details': {'audio': 0, 'reasoning': 640}})"
      ]
     },
     "execution_count": 150,
     "metadata": {},
     "output_type": "execute_result"
    }
   ],
   "source": [
    "response = model.invoke(\"Write a haiku about spring\")\n",
    "response"
   ]
  },
  {
   "cell_type": "code",
   "execution_count": 151,
   "id": "d168438e-360f-491d-a642-b3cce2263126",
   "metadata": {},
   "outputs": [
    {
     "data": {
      "text/plain": [
       "'Petals touch the breeze\\nsoft rain brushes waking seeds\\nnew greens sing aloud'"
      ]
     },
     "execution_count": 151,
     "metadata": {},
     "output_type": "execute_result"
    }
   ],
   "source": [
    "response.content"
   ]
  },
  {
   "cell_type": "code",
   "execution_count": 152,
   "id": "6584f22d-f2bd-4ee4-aeae-bd7cdcd97642",
   "metadata": {},
   "outputs": [
    {
     "data": {
      "text/plain": [
       "{'token_usage': {'completion_tokens': 665,\n",
       "  'prompt_tokens': 12,\n",
       "  'total_tokens': 677,\n",
       "  'completion_tokens_details': {'accepted_prediction_tokens': 0,\n",
       "   'audio_tokens': 0,\n",
       "   'reasoning_tokens': 640,\n",
       "   'rejected_prediction_tokens': 0},\n",
       "  'prompt_tokens_details': {'audio_tokens': 0, 'cached_tokens': 0}},\n",
       " 'model_provider': 'openai',\n",
       " 'model_name': 'gpt-5-nano-2025-08-07',\n",
       " 'system_fingerprint': None,\n",
       " 'id': 'chatcmpl-CM29GlkdNVHcIZfVrMFl9G8YzizZn',\n",
       " 'service_tier': 'default',\n",
       " 'finish_reason': 'stop',\n",
       " 'logprobs': None}"
      ]
     },
     "execution_count": 152,
     "metadata": {},
     "output_type": "execute_result"
    }
   ],
   "source": [
    "response.response_metadata"
   ]
  },
  {
   "cell_type": "code",
   "execution_count": 153,
   "id": "a49fc506-9257-4fea-b322-8735cca869de",
   "metadata": {},
   "outputs": [
    {
     "data": {
      "text/plain": [
       "{'input_tokens': 12,\n",
       " 'output_tokens': 665,\n",
       " 'total_tokens': 677,\n",
       " 'input_token_details': {'audio': 0, 'cache_read': 0},\n",
       " 'output_token_details': {'audio': 0, 'reasoning': 640}}"
      ]
     },
     "execution_count": 153,
     "metadata": {},
     "output_type": "execute_result"
    }
   ],
   "source": [
    "response.usage_metadata"
   ]
  },
  {
   "cell_type": "code",
   "execution_count": null,
   "id": "e756bbbb-b9b9-4570-a082-a8afd1fad021",
   "metadata": {},
   "outputs": [],
   "source": []
  },
  {
   "cell_type": "markdown",
   "id": "1810bb5f-3d89-4fd0-a8b2-aa7a066753ad",
   "metadata": {},
   "source": [
    "## Content"
   ]
  },
  {
   "cell_type": "code",
   "execution_count": 3,
   "id": "fdb5ccc2-ea4a-4e17-9615-937c9b28b619",
   "metadata": {},
   "outputs": [],
   "source": [
    "from langchain_core.messages import HumanMessage\n",
    "\n",
    "# String content\n",
    "human_message = HumanMessage(\"Hello, how are you?\")\n",
    "\n",
    "# Provider-native format (e.g., OpenAI)\n",
    "human_message = HumanMessage(content=[\n",
    "    {\"type\": \"text\", \"text\": \"Hello, how are you?\"},\n",
    "    {\"type\": \"image_url\", \"image_url\": {\"url\": \"https://example.com/image.jpg\"}}\n",
    "])\n",
    "\n",
    "# List of standard content blocks\n",
    "human_message = HumanMessage(content_blocks=[\n",
    "    {\"type\": \"text\", \"text\": \"Hello, how are you?\"},\n",
    "    {\"type\": \"image\", \"url\": \"https://example.com/image.jpg\"},\n",
    "])"
   ]
  },
  {
   "cell_type": "code",
   "execution_count": 4,
   "id": "477a61ff-a91e-4948-8a75-59a8924dd08a",
   "metadata": {},
   "outputs": [],
   "source": [
    "from langchain.chat_models import init_chat_model\n",
    "from langchain_core.messages import HumanMessage, AIMessage, SystemMessage\n",
    "\n",
    "model = init_chat_model(\"openai:gpt-5-nano\")"
   ]
  },
  {
   "cell_type": "code",
   "execution_count": 5,
   "id": "3138b1fc-5853-483b-b34c-828af48c36f9",
   "metadata": {},
   "outputs": [
    {
     "data": {
      "image/png": "[encoded data removed]",
      "text/plain": [
       "<IPython.core.display.Image object>"
      ]
     },
     "execution_count": 5,
     "metadata": {
      "image/png": {
       "width": 200
      }
     },
     "output_type": "execute_result"
    }
   ],
   "source": [
    "from IPython.display import Image\n",
    "\n",
    "# Just give it a file path\n",
    "Image(\"./assets/Graphic.png\",width=200)"
   ]
  },
  {
   "cell_type": "code",
   "execution_count": 6,
   "id": "4466ec81-9e37-4cad-9590-6c2f740811df",
   "metadata": {},
   "outputs": [
    {
     "name": "stdout",
     "output_type": "stream",
     "text": [
      "It’s a flowchart of an AI “agent” reasoning loop (often called Thought–Action–Observation or ReAct):\n",
      "\n",
      "- A user “query” enters.\n",
      "- The agent forms a “thought” (internal reasoning/plan).\n",
      "- From that thought it can:\n",
      "  - Take an “action” by calling “tools” (e.g., a web search, calculator, API).\n",
      "  - Receive the tool’s “observation” (results) and feed it back into the next thought, repeating the loop.\n",
      "  - Or decide to “finish” and produce the final “answer.”\n",
      "\n",
      "So the diagram shows an iterative cycle: query → thought → (action → tools → observation → thought) … until finish → answer.\n"
     ]
    }
   ],
   "source": [
    "import base64\n",
    "from langchain_core.messages import SystemMessage, HumanMessage\n",
    "\n",
    "# Encode local image as base64\n",
    "filename = \"./assets/Graphic.png\"\n",
    "with open(filename, \"rb\") as f:\n",
    "    image_bytes = f.read()\n",
    "image_b64 = base64.b64encode(image_bytes).decode(\"utf-8\")\n",
    "\n",
    "# Messages\n",
    "system_msg = SystemMessage(\"You are a helpful image reader!\")\n",
    "human_msg = HumanMessage(content=[\n",
    "    {\"type\": \"text\", \"text\": \"Please, tell me what this image means.\"},\n",
    "    {\"type\": \"image_url\", \"image_url\": {\"url\": f\"data:image/png;base64,{image_b64}\"}}\n",
    "])\n",
    "\n",
    "messages = [system_msg, human_msg]\n",
    "\n",
    "# Call GPT-5 (vision-capable)\n",
    "response = model.invoke(messages, model=\"gpt-5\")\n",
    "\n",
    "print(response.content)"
   ]
  },
  {
   "cell_type": "code",
   "execution_count": null,
   "id": "2c4e58fb-c29c-45c7-902a-d5f4aac8ece7",
   "metadata": {},
   "outputs": [],
   "source": [
    "### Content Blocks"
   ]
  },
  {
   "cell_type": "code",
   "execution_count": 7,
   "id": "bfd7d15e-60c2-4de1-a723-07ee78bfc8f1",
   "metadata": {},
   "outputs": [
    {
     "name": "stdout",
     "output_type": "stream",
     "text": [
      "It’s a flowchart of how a tool‑using AI answers a question.\n",
      "\n",
      "- A user “query” enters.\n",
      "- The AI forms a “thought” (its internal reasoning step).\n",
      "- From that thought it can:\n",
      "  - take an “action” by calling external “tools” (e.g., search, calculator). The tool returns an “observation,” which feeds back into a new thought; or\n",
      "  - “finish” and produce the final “answer.”\n",
      "- The loop of thought → action → observation → thought repeats until the AI decides to finish and output the answer.\n",
      "\n",
      "In short: it illustrates the ReAct-style reasoning loop where the model alternates between thinking, using tools, and answering.\n"
     ]
    }
   ],
   "source": [
    "# Messages\n",
    "system_msg = SystemMessage(\"You are a helpful image reader!\")\n",
    "human_msg = HumanMessage(content_blocks=[\n",
    "    {\"type\": \"text\", \"text\": \"Please, tell me what this image means.\"},\n",
    "    {\"type\": \"image\", \"base64\": image_b64, \"mime_type\": \"image/png\"}\n",
    "])\n",
    "\n",
    "messages = [system_msg, human_msg]\n",
    "\n",
    "# Call GPT-5 (vision-capable)\n",
    "response = model.invoke(messages, model=\"gpt-5\")\n",
    "\n",
    "print(response.content)"
   ]
  },
  {
   "cell_type": "code",
   "execution_count": null,
   "id": "74a11fab-a072-4019-9a8e-e61ebd47b989",
   "metadata": {},
   "outputs": [],
   "source": []
  },
  {
   "cell_type": "code",
   "execution_count": null,
   "id": "1cc48bac-a96a-4266-a97a-2adb87e31b3f",
   "metadata": {},
   "outputs": [],
   "source": []
  },
  {
   "cell_type": "code",
   "execution_count": null,
   "id": "592326e4-3062-4359-97c9-fd71a57ccb7e",
   "metadata": {},
   "outputs": [],
   "source": []
  },
  {
   "cell_type": "code",
   "execution_count": 4,
   "id": "a26b4586-453a-4c10-9fae-4be3f4cb6cd4",
   "metadata": {},
   "outputs": [],
   "source": [
    "from langchain.agents import create_agent\n",
    "from langchain_core.messages import SystemMessage\n",
    "\n",
    "#llm = init_chat_model(\"claude-3-5-sonnet-latest\", model_provider=\"anthropic\")\n",
    "llm = init_chat_model(\"gpt-5\", model_provider=\"openai\")\n",
    "\n",
    "agent = create_agent(\n",
    "    model=llm,\n",
    "    tools=[],\n",
    "    prompt=SystemMessage(content=\"You are a funny guy\"),\n",
    ")"
   ]
  },
  {
   "cell_type": "code",
   "execution_count": 159,
   "id": "611672b8-45bf-4136-9832-9f064934db10",
   "metadata": {},
   "outputs": [
    {
     "ename": "AttributeError",
     "evalue": "'dict' object has no attribute 'content'",
     "output_type": "error",
     "traceback": [
      "\u001b[31m---------------------------------------------------------------------------\u001b[39m",
      "\u001b[31mAttributeError\u001b[39m                            Traceback (most recent call last)",
      "\u001b[36mCell\u001b[39m\u001b[36m \u001b[39m\u001b[32mIn[159]\u001b[39m\u001b[32m, line 2\u001b[39m\n\u001b[32m      1\u001b[39m result = agent.invoke({\u001b[33m\"\u001b[39m\u001b[33mmessages\u001b[39m\u001b[33m\"\u001b[39m: [system_msg, human_msg]})\n\u001b[32m----> \u001b[39m\u001b[32m2\u001b[39m \u001b[43mresult\u001b[49m\u001b[43m.\u001b[49m\u001b[43mcontent\u001b[49m\n",
      "\u001b[31mAttributeError\u001b[39m: 'dict' object has no attribute 'content'"
     ]
    }
   ],
   "source": []
  },
  {
   "cell_type": "code",
   "execution_count": null,
   "id": "4089f001-dafc-4126-a3e4-49c2174c001a",
   "metadata": {},
   "outputs": [],
   "source": [
    "for step in agent.stream(\n",
    "    {\"messages\": [{\"role\": \"user\", \"content\": question}]},\n",
    "    stream_mode=\"values\",\n",
    "):\n",
    "    step[\"messages\"][-1].pretty_print()"
   ]
  },
  {
   "cell_type": "code",
   "execution_count": null,
   "id": "65137fcd-c34d-45a9-801a-ac9f1f14991c",
   "metadata": {},
   "outputs": [],
   "source": []
  },
  {
   "cell_type": "code",
   "execution_count": null,
   "id": "c57e852a-2ed4-448c-9eab-bfd5bc3d1457",
   "metadata": {},
   "outputs": [],
   "source": []
  },
  {
   "cell_type": "code",
   "execution_count": null,
   "id": "ca797558-7db0-46b8-9df4-d8399af61730",
   "metadata": {},
   "outputs": [],
   "source": []
  },
  {
   "cell_type": "code",
   "execution_count": null,
   "id": "5f10c721-57a7-49fd-acc6-403c624ba48d",
   "metadata": {},
   "outputs": [],
   "source": []
  },
  {
   "cell_type": "code",
   "execution_count": null,
   "id": "1b37314d-e178-43e5-9e6c-aa865f8b408c",
   "metadata": {},
   "outputs": [],
   "source": []
  },
  {
   "cell_type": "code",
   "execution_count": 17,
   "id": "fc384cf0-b208-4ab1-b7e2-f4b93dab08bf",
   "metadata": {},
   "outputs": [
    {
     "name": "stdout",
     "output_type": "stream",
     "text": [
      "content='I started a band called 999 Megabytes — we still haven’t got a gig. Want another?' additional_kwargs={'refusal': None} response_metadata={'token_usage': {'completion_tokens': 1055, 'prompt_tokens': 19, 'total_tokens': 1074, 'completion_tokens_details': {'accepted_prediction_tokens': 0, 'audio_tokens': 0, 'reasoning_tokens': 1024, 'rejected_prediction_tokens': 0}, 'prompt_tokens_details': {'audio_tokens': 0, 'cached_tokens': 0}}, 'model_provider': 'openai', 'model_name': 'gpt-5-2025-08-07', 'system_fingerprint': None, 'id': 'chatcmpl-CLxThRuoldYiKXxHh2OLefyr3vNvY', 'service_tier': 'default', 'finish_reason': 'stop', 'logprobs': None} id='lc_run--e214557a-399f-4506-ab71-6f35166e854f-0' usage_metadata={'input_tokens': 19, 'output_tokens': 1055, 'total_tokens': 1074, 'input_token_details': {'audio': 0, 'cache_read': 0}, 'output_token_details': {'audio': 0, 'reasoning': 1024}}\n"
     ]
    }
   ],
   "source": [
    "result = agent.invoke(\n",
    "    {\"messages\": [{\"role\": \"user\", \n",
    "                   \"content\": \"Tell me a joke\"}]}\n",
    "    )\n",
    "print(result[\"messages\"][1])"
   ]
  },
  {
   "cell_type": "code",
   "execution_count": 16,
   "id": "9a4d7975-8d94-4d5e-8493-e68ac9fcedf9",
   "metadata": {},
   "outputs": [
    {
     "name": "stdout",
     "output_type": "stream",
     "text": [
      "content='I told my laptop I needed space, and it turned on Airplane Mode. Now we’re in a long-distance relationship.' additional_kwargs={'refusal': None} response_metadata={'token_usage': {'completion_tokens': 610, 'prompt_tokens': 19, 'total_tokens': 629, 'completion_tokens_details': {'accepted_prediction_tokens': 0, 'audio_tokens': 0, 'reasoning_tokens': 576, 'rejected_prediction_tokens': 0}, 'prompt_tokens_details': {'audio_tokens': 0, 'cached_tokens': 0}}, 'model_provider': 'openai', 'model_name': 'gpt-5-2025-08-07', 'system_fingerprint': None, 'id': 'chatcmpl-CLxIxFvxMsCTGUSXaClGaBr9yvHUl', 'service_tier': 'default', 'finish_reason': 'stop', 'logprobs': None} id='lc_run--95ab2b98-99cd-4a15-b542-538a99fb4162-0' usage_metadata={'input_tokens': 19, 'output_tokens': 610, 'total_tokens': 629, 'input_token_details': {'audio': 0, 'cache_read': 0}, 'output_token_details': {'audio': 0, 'reasoning': 576}}\n"
     ]
    }
   ],
   "source": [
    "print(result[\"messages\"][1])"
   ]
  },
  {
   "cell_type": "code",
   "execution_count": 20,
   "id": "e30a2273-1dd3-47e8-a38e-05ed4b750000",
   "metadata": {},
   "outputs": [
    {
     "name": "stdout",
     "output_type": "stream",
     "text": [
      "================================\u001b[1m Human Message \u001b[0m=================================\n",
      "\n",
      "Tell me a joke\n",
      "==================================\u001b[1m Ai Message \u001b[0m==================================\n",
      "\n",
      "I told my suitcase we’re not going on vacation this year. Now I’m dealing with emotional baggage.\n"
     ]
    }
   ],
   "source": [
    "# Stream = values\n",
    "for step in agent.stream(\n",
    "    {\"messages\": [{\"role\": \"user\", \n",
    "                   \"content\": \"Tell me a joke\"}]},\n",
    "    stream_mode=\"values\",\n",
    "    ):\n",
    "    step[\"messages\"][-1].pretty_print()"
   ]
  },
  {
   "cell_type": "code",
   "execution_count": 21,
   "id": "b1c07c50-7b96-4446-9065-0733e1b0b308",
   "metadata": {},
   "outputs": [
    {
     "ename": "TypeError",
     "evalue": "tuple indices must be integers or slices, not str",
     "output_type": "error",
     "traceback": [
      "\u001b[31m---------------------------------------------------------------------------\u001b[39m",
      "\u001b[31mTypeError\u001b[39m                                 Traceback (most recent call last)",
      "\u001b[36mCell\u001b[39m\u001b[36m \u001b[39m\u001b[32mIn[21]\u001b[39m\u001b[32m, line 7\u001b[39m\n\u001b[32m      1\u001b[39m \u001b[38;5;66;03m# Stream = values\u001b[39;00m\n\u001b[32m      2\u001b[39m \u001b[38;5;28;01mfor\u001b[39;00m step \u001b[38;5;129;01min\u001b[39;00m agent.stream(\n\u001b[32m      3\u001b[39m     {\u001b[33m\"\u001b[39m\u001b[33mmessages\u001b[39m\u001b[33m\"\u001b[39m: [{\u001b[33m\"\u001b[39m\u001b[33mrole\u001b[39m\u001b[33m\"\u001b[39m: \u001b[33m\"\u001b[39m\u001b[33muser\u001b[39m\u001b[33m\"\u001b[39m, \n\u001b[32m      4\u001b[39m                    \u001b[33m\"\u001b[39m\u001b[33mcontent\u001b[39m\u001b[33m\"\u001b[39m: \u001b[33m\"\u001b[39m\u001b[33mTell me a joke\u001b[39m\u001b[33m\"\u001b[39m}]},\n\u001b[32m      5\u001b[39m     stream_mode=\u001b[33m\"\u001b[39m\u001b[33mmessages\u001b[39m\u001b[33m\"\u001b[39m,\n\u001b[32m      6\u001b[39m     ):\n\u001b[32m----> \u001b[39m\u001b[32m7\u001b[39m     \u001b[43mstep\u001b[49m\u001b[43m[\u001b[49m\u001b[33;43m\"\u001b[39;49m\u001b[33;43mmessages\u001b[39;49m\u001b[33;43m\"\u001b[39;49m\u001b[43m]\u001b[49m[-\u001b[32m1\u001b[39m].pretty_print()\n",
      "\u001b[31mTypeError\u001b[39m: tuple indices must be integers or slices, not str"
     ]
    }
   ],
   "source": [
    "for token, metadata in agent.stream(\n",
    "    {\"messages\": [{\"role\": \"user\", \"content\": \"What is the weather in SF?\"}]},\n",
    "    stream_mode=\"messages\",\n",
    "):\n",
    "    print(f\"node: {metadata['langgraph_node']}\")\n",
    "    print(f\"content: {token.content_blocks}\")\n",
    "    print(\"\\n\")"
   ]
  },
  {
   "cell_type": "code",
   "execution_count": null,
   "id": "2a9cc553-7357-4d36-b88d-25eaf7462cf6",
   "metadata": {},
   "outputs": [],
   "source": []
  }
 ],
 "metadata": {
  "kernelspec": {
   "display_name": "Python 3 (ipykernel)",
   "language": "python",
   "name": "python3"
  },
  "language_info": {
   "codemirror_mode": {
    "name": "ipython",
    "version": 3
   },
   "file_extension": ".py",
   "mimetype": "text/x-python",
   "name": "python",
   "nbconvert_exporter": "python",
   "pygments_lexer": "ipython3",
   "version": "3.13.5"
  }
 },
 "nbformat": 4,
 "nbformat_minor": 5
}
