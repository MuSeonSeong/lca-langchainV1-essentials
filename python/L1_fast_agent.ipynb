{
 "cells": [
  {
   "cell_type": "markdown",
   "id": "35e59623-ae71-4947-864b-4a750a2fa883",
   "metadata": {},
   "source": [
    "## Fast Agent\n",
    "Build a SQL Agent fast"
   ]
  },
  {
   "cell_type": "code",
   "execution_count": 1,
   "id": "1ba24dd6-7a31-4fba-8077-2bff96e1ed4a",
   "metadata": {},
   "outputs": [],
   "source": [
    "from langchain_community.utilities import SQLDatabase\n",
    "\n",
    "db = SQLDatabase.from_uri(\"sqlite:///Chinook.db\")"
   ]
  },
  {
   "cell_type": "code",
   "execution_count": 2,
   "id": "b49e1986-f13b-45da-b673-5c1a7d801f0a",
   "metadata": {},
   "outputs": [],
   "source": [
    "from typing import TypedDict\n",
    "\n",
    "class RuntimeContext(TypedDict):\n",
    "    db: SQLDatabase"
   ]
  },
  {
   "cell_type": "code",
   "execution_count": 3,
   "id": "5d7f0b2c-200a-4246-b547-aff9b5185562",
   "metadata": {},
   "outputs": [],
   "source": [
    "from langchain_core.tools import tool\n",
    "from langgraph.runtime import Runtime, get_runtime\n",
    "\n",
    "@tool\n",
    "def execute_sql(query: str) -> str:\n",
    "    \"\"\"Execute a SQLite command and return results.\"\"\"\n",
    "    runtime = get_runtime(RuntimeContext)\n",
    "    db = runtime.context[\"db\"]\n",
    "\n",
    "    try:\n",
    "        return db.run(query)\n",
    "    except Exception as e:\n",
    "        return f\"Error: {e}\"\n"
   ]
  },
  {
   "cell_type": "code",
   "execution_count": 4,
   "id": "29e1c020-db18-418a-8693-cb4ed21d4f58",
   "metadata": {},
   "outputs": [],
   "source": [
    "SYSTEM = f\"\"\"You are a careful SQLite analyst.\n",
    "\n",
    "Rules:\n",
    "- Think step-by-step.\n",
    "- When you need data, call the tool `execute_sql` with ONE SELECT query.\n",
    "- Read-only only; no INSERT/UPDATE/DELETE/ALTER/DROP/CREATE/REPLACE/TRUNCATE.\n",
    "- Limit to 5 rows of output unless the user explicitly asks otherwise.\n",
    "- If the tool returns 'Error:', revise the SQL and try again.\n",
    "- Prefer explicit column lists; avoid SELECT *.\n",
    "\"\"\""
   ]
  },
  {
   "cell_type": "code",
   "execution_count": 5,
   "id": "a26b4586-453a-4c10-9fae-4be3f4cb6cd4",
   "metadata": {},
   "outputs": [],
   "source": [
    "from langchain.agents import create_agent\n",
    "from langchain_core.messages import SystemMessage\n",
    "\n",
    "agent = create_agent(\n",
    "    model=\"openai:gpt-5\",\n",
    "    tools=[execute_sql],\n",
    "    prompt=SYSTEM,\n",
    "    context_schema=RuntimeContext,\n",
    ")"
   ]
  },
  {
   "cell_type": "code",
   "execution_count": 10,
   "id": "8a1ac705-41b8-4a38-b346-c170b61651b8",
   "metadata": {},
   "outputs": [
    {
     "data": {
      "image/png": "[encoded data removed]",
      "text/plain": [
       "<IPython.core.display.Image object>"
      ]
     },
     "metadata": {},
     "output_type": "display_data"
    }
   ],
   "source": [
    "from IPython.display import Image, display\n",
    "display(Image(agent.get_graph(xray=True).draw_mermaid_png()))"
   ]
  },
  {
   "cell_type": "code",
   "execution_count": 6,
   "id": "e30a2273-1dd3-47e8-a38e-05ed4b750000",
   "metadata": {},
   "outputs": [
    {
     "name": "stdout",
     "output_type": "stream",
     "text": [
      "================================\u001b[1m Human Message \u001b[0m=================================\n",
      "\n",
      "Which table has the largest number of entries?\n",
      "==================================\u001b[1m Ai Message \u001b[0m==================================\n",
      "Tool Calls:\n",
      "  execute_sql (call_HAfOvbvrHOFMCj1DvDMLMscX)\n",
      " Call ID: call_HAfOvbvrHOFMCj1DvDMLMscX\n",
      "  Args:\n",
      "    query: SELECT name, SUM(ncell) AS approx_rows\n",
      "FROM dbstat\n",
      "WHERE name NOT LIKE 'sqlite_%' AND pagetype = 'leaf'\n",
      "GROUP BY name\n",
      "ORDER BY approx_rows DESC\n",
      "LIMIT 1;\n",
      "=================================\u001b[1m Tool Message \u001b[0m=================================\n",
      "Name: execute_sql\n",
      "\n",
      "[('PlaylistTrack', 8715)]\n",
      "==================================\u001b[1m Ai Message \u001b[0m==================================\n",
      "\n",
      "PlaylistTrack — about 8,715 rows.\n"
     ]
    }
   ],
   "source": [
    "question = \"Which table has the largest number of entries?\"\n",
    "\n",
    "for step in agent.stream(\n",
    "    {\"messages\": question},\n",
    "    context = {\"db\": db},\n",
    "    stream_mode=\"values\",\n",
    "):\n",
    "    step[\"messages\"][-1].pretty_print()"
   ]
  },
  {
   "cell_type": "code",
   "execution_count": 7,
   "id": "7797b8f4-3d52-405c-a16e-baa2a71127df",
   "metadata": {},
   "outputs": [
    {
     "name": "stdout",
     "output_type": "stream",
     "text": [
      "================================\u001b[1m Human Message \u001b[0m=================================\n",
      "\n",
      "Which genre on average has the longest tracks?\n",
      "==================================\u001b[1m Ai Message \u001b[0m==================================\n",
      "Tool Calls:\n",
      "  execute_sql (call_FmY0t31KV0uWTs4QdPseMBwM)\n",
      " Call ID: call_FmY0t31KV0uWTs4QdPseMBwM\n",
      "  Args:\n",
      "    query: SELECT g.Name AS genre, ROUND(AVG(t.Milliseconds)) AS avg_milliseconds, ROUND(AVG(t.Milliseconds) / 60000.0, 2) AS avg_minutes\n",
      "FROM Track AS t\n",
      "JOIN Genre AS g ON t.GenreId = g.GenreId\n",
      "GROUP BY g.GenreId, g.Name\n",
      "ORDER BY AVG(t.Milliseconds) DESC\n",
      "LIMIT 1;\n",
      "=================================\u001b[1m Tool Message \u001b[0m=================================\n",
      "Name: execute_sql\n",
      "\n",
      "[('Sci Fi & Fantasy', 2911783.0, 48.53)]\n",
      "==================================\u001b[1m Ai Message \u001b[0m==================================\n",
      "\n",
      "Sci Fi & Fantasy — average track length about 48.53 minutes.\n"
     ]
    }
   ],
   "source": [
    "question = \"Which genre on average has the longest tracks?\"\n",
    "\n",
    "for step in agent.stream(\n",
    "    {\"messages\": question},\n",
    "    context = {\"db\": db},\n",
    "    stream_mode=\"values\",\n",
    "):\n",
    "    step[\"messages\"][-1].pretty_print()"
   ]
  },
  {
   "cell_type": "code",
   "execution_count": 8,
   "id": "a48e3902-d3d6-49a0-8f60-b8ba3d1f7400",
   "metadata": {},
   "outputs": [
    {
     "name": "stdout",
     "output_type": "stream",
     "text": [
      "================================\u001b[1m Human Message \u001b[0m=================================\n",
      "\n",
      "What are all the tables?\n",
      "==================================\u001b[1m Ai Message \u001b[0m==================================\n",
      "Tool Calls:\n",
      "  execute_sql (call_GOAJ6FpoDpNe1C0FaTOfHA0J)\n",
      " Call ID: call_GOAJ6FpoDpNe1C0FaTOfHA0J\n",
      "  Args:\n",
      "    query: SELECT name AS table_name\n",
      "FROM sqlite_master\n",
      "WHERE type = 'table' AND name NOT LIKE 'sqlite_%'\n",
      "ORDER BY name;\n",
      "=================================\u001b[1m Tool Message \u001b[0m=================================\n",
      "Name: execute_sql\n",
      "\n",
      "[('Album',), ('Artist',), ('Customer',), ('Employee',), ('Genre',), ('Invoice',), ('InvoiceLine',), ('MediaType',), ('Playlist',), ('PlaylistTrack',), ('Track',)]\n",
      "==================================\u001b[1m Ai Message \u001b[0m==================================\n",
      "\n",
      "Here are the tables (non-system):\n",
      "\n",
      "- Album\n",
      "- Artist\n",
      "- Customer\n",
      "- Employee\n",
      "- Genre\n",
      "- Invoice\n",
      "- InvoiceLine\n",
      "- MediaType\n",
      "- Playlist\n",
      "- PlaylistTrack\n",
      "- Track\n"
     ]
    }
   ],
   "source": [
    "question = \"What are all the tables?\"\n",
    "\n",
    "for step in agent.stream(\n",
    "    {\"messages\": question},\n",
    "    context = {\"db\": db},\n",
    "    stream_mode=\"values\",\n",
    "):\n",
    "    step[\"messages\"][-1].pretty_print()"
   ]
  },
  {
   "cell_type": "markdown",
   "id": "2a9cc553-7357-4d36-b88d-25eaf7462cf6",
   "metadata": {},
   "source": [
    "Let's try this in Studio"
   ]
  },
  {
   "cell_type": "code",
   "execution_count": null,
   "id": "8a503615-c095-4366-8ed2-c4afc0f23507",
   "metadata": {},
   "outputs": [],
   "source": []
  }
 ],
 "metadata": {
  "kernelspec": {
   "display_name": "Python 3 (ipykernel)",
   "language": "python",
   "name": "python3"
  },
  "language_info": {
   "codemirror_mode": {
    "name": "ipython",
    "version": 3
   },
   "file_extension": ".py",
   "mimetype": "text/x-python",
   "name": "python",
   "nbconvert_exporter": "python",
   "pygments_lexer": "ipython3",
   "version": "3.13.5"
  }
 },
 "nbformat": 4,
 "nbformat_minor": 5
}
