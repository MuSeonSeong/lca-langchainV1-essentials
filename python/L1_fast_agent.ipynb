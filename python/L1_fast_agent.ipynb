{
 "cells": [
  {
   "cell_type": "markdown",
   "id": "35e59623-ae71-4947-864b-4a750a2fa883",
   "metadata": {},
   "source": [
    "# Fast Agent - Build a SQL Agent fast!\n",
    "\n",
    "<img src=\"./assets/LC_L1_top.png\" align=\"left\" width=\"500\">"
   ]
  },
  {
   "cell_type": "markdown",
   "id": "b0915e23-8230-4f65-9db6-4d60e9970021",
   "metadata": {},
   "source": [
    "## Setup"
   ]
  },
  {
   "cell_type": "markdown",
   "id": "a6aa0345-502c-4484-b8cd-b32cde59872a",
   "metadata": {},
   "source": [
    "Load and/or check for needed environmental variables"
   ]
  },
  {
   "cell_type": "code",
   "execution_count": 1,
   "id": "52e8812d-a873-494d-8583-ee742dcdd9e7",
   "metadata": {},
   "outputs": [
    {
     "name": "stdout",
     "output_type": "stream",
     "text": [
      "OPENAI_API_KEY=****eJgA\n",
      "LANGSMITH_API_KEY=****2eed\n",
      "LANGSMITH_TRACING=true\n",
      "LANGSMITH_PROJECT=****ject\n"
     ]
    }
   ],
   "source": [
    "from dotenv import load_dotenv\n",
    "from env_utils import doublecheck_env\n",
    "\n",
    "# Load environment variables from .env\n",
    "load_dotenv()\n",
    "\n",
    "# Check and print results\n",
    "doublecheck_env(\"example.env\")"
   ]
  },
  {
   "cell_type": "code",
   "execution_count": 2,
   "id": "1ba24dd6-7a31-4fba-8077-2bff96e1ed4a",
   "metadata": {},
   "outputs": [],
   "source": [
    "from langchain_community.utilities import SQLDatabase\n",
    "\n",
    "db = SQLDatabase.from_uri(\"sqlite:///Chinook.db\")"
   ]
  },
  {
   "cell_type": "markdown",
   "id": "ae0d70a9-e4c2-4d34-9492-c61ca8e03a49",
   "metadata": {},
   "source": [
    "Define the runtime context to provide the agent and tools with access to the database."
   ]
  },
  {
   "cell_type": "code",
   "execution_count": 3,
   "id": "b49e1986-f13b-45da-b673-5c1a7d801f0a",
   "metadata": {},
   "outputs": [],
   "source": [
    "from dataclasses import dataclass\n",
    "\n",
    "from langchain_community.utilities import SQLDatabase\n",
    "\n",
    "\n",
    "# define context structure to support dependency injection\n",
    "@dataclass\n",
    "class RuntimeContext:\n",
    "    db: SQLDatabase"
   ]
  },
  {
   "cell_type": "markdown",
   "id": "5c381252-1f45-44d3-bc3d-ed871459c12c",
   "metadata": {},
   "source": [
    "<b>⚠️ Security Note:</b> This demo does not include a filter on LLM-generated commands. In production, you would want to limit the scope of LLM-generated commands. ⚠️   \n",
    "This tool will connect to the database. Note the use of `get_runtime` to access the graph **runtime context**."
   ]
  },
  {
   "cell_type": "code",
   "execution_count": 4,
   "id": "5d7f0b2c-200a-4246-b547-aff9b5185562",
   "metadata": {},
   "outputs": [],
   "source": [
    "from langchain_core.tools import tool\n",
    "from langgraph.runtime import get_runtime\n",
    "\n",
    "@tool\n",
    "def execute_sql(query: str) -> str:\n",
    "    \"\"\"Execute a SQLite command and return results.\"\"\"\n",
    "    runtime = get_runtime(RuntimeContext)\n",
    "    db = runtime.context.db\n",
    "\n",
    "    try:\n",
    "        return db.run(query)\n",
    "    except Exception as e:\n",
    "        return f\"Error: {e}\""
   ]
  },
  {
   "cell_type": "markdown",
   "id": "f840a84a-c131-490d-80b6-75db5b341880",
   "metadata": {},
   "source": [
    "Add a system prompt to define your agents behavior."
   ]
  },
  {
   "cell_type": "code",
   "execution_count": 5,
   "id": "29e1c020-db18-418a-8693-cb4ed21d4f58",
   "metadata": {},
   "outputs": [],
   "source": [
    "SYSTEM_PROMPT = \"\"\"You are a careful SQLite analyst.\n",
    "\n",
    "Rules:\n",
    "- Think step-by-step.\n",
    "- When you need data, call the tool `execute_sql` with ONE SELECT query.\n",
    "- Read-only only; no INSERT/UPDATE/DELETE/ALTER/DROP/CREATE/REPLACE/TRUNCATE.\n",
    "- Limit to 5 rows of output unless the user explicitly asks otherwise.\n",
    "- If the tool returns 'Error:', revise the SQL and try again.\n",
    "- Prefer explicit column lists; avoid SELECT *.\n",
    "\"\"\""
   ]
  },
  {
   "cell_type": "markdown",
   "id": "c2aad1bb-d3bb-4ecc-b366-d6cb488388c6",
   "metadata": {},
   "source": [
    "Create your agent! Add a model, tools, a prompt, and the runtime access, and go!  You can choose many agents from our [integrations](https://docs.langchain.com/oss/python/integrations/providers) list. "
   ]
  },
  {
   "cell_type": "code",
   "execution_count": 6,
   "id": "a26b4586-453a-4c10-9fae-4be3f4cb6cd4",
   "metadata": {},
   "outputs": [],
   "source": [
    "from langchain.agents import create_agent\n",
    "\n",
    "agent = create_agent(\n",
    "    model=\"openai:gpt-5-mini\",\n",
    "    tools=[execute_sql],\n",
    "    system_prompt=SYSTEM_PROMPT,\n",
    "    context_schema=RuntimeContext,\n",
    ")"
   ]
  },
  {
   "cell_type": "markdown",
   "id": "3b468284-65de-47fa-be31-826b706159e4",
   "metadata": {},
   "source": [
    "Here's a display of the agent ReAct Loop."
   ]
  },
  {
   "cell_type": "code",
   "execution_count": 7,
   "id": "8a1ac705-41b8-4a38-b346-c170b61651b8",
   "metadata": {},
   "outputs": [
    {
     "data": {
      "image/png": "[encoded data removed]",
      "text/plain": [
       "<IPython.core.display.Image object>"
      ]
     },
     "metadata": {},
     "output_type": "display_data"
    }
   ],
   "source": [
    "from IPython.display import Image, display\n",
    "\n",
    "display(Image(agent.get_graph(xray=True).draw_mermaid_png()))"
   ]
  },
  {
   "cell_type": "markdown",
   "id": "011ba4e6-5397-41b5-8416-1db6952c3157",
   "metadata": {},
   "source": [
    "Run some queries. Notice:\n",
    "- The agent does not have the database schema and will need to discover it independently.\n",
    "- The agent may make mistakes! By returning error messages, the agent can self-correct its queries.\n",
    "- Notice you invoke the agent with `agent.stream`.\n",
    "    - This command and the `pretty_print` display the **messages** that communicate information between the model and the tools.\n",
    "- Notice the agent doesn't remember the schema between invocations... More on this later!"
   ]
  },
  {
   "cell_type": "code",
   "execution_count": 8,
   "id": "e30a2273-1dd3-47e8-a38e-05ed4b750000",
   "metadata": {},
   "outputs": [
    {
     "name": "stdout",
     "output_type": "stream",
     "text": [
      "================================\u001b[1m Human Message \u001b[0m=================================\n",
      "\n",
      "Which table has the largest number of entries?\n",
      "==================================\u001b[1m Ai Message \u001b[0m==================================\n",
      "Tool Calls:\n",
      "  execute_sql (call_QdTG1SWzxSlTcM7akHmaQIGr)\n",
      " Call ID: call_QdTG1SWzxSlTcM7akHmaQIGr\n",
      "  Args:\n",
      "    query: SELECT name FROM sqlite_master WHERE type='table' AND name NOT LIKE 'sqlite_%' ORDER BY name;\n",
      "=================================\u001b[1m Tool Message \u001b[0m=================================\n",
      "Name: execute_sql\n",
      "\n",
      "[('Album',), ('Artist',), ('Customer',), ('Employee',), ('Genre',), ('Invoice',), ('InvoiceLine',), ('MediaType',), ('Playlist',), ('PlaylistTrack',), ('Track',)]\n",
      "==================================\u001b[1m Ai Message \u001b[0m==================================\n",
      "Tool Calls:\n",
      "  execute_sql (call_NuaNx8Q6lZ2zW3a71o5U5Dxf)\n",
      " Call ID: call_NuaNx8Q6lZ2zW3a71o5U5Dxf\n",
      "  Args:\n",
      "    query: SELECT table_name, cnt FROM ( SELECT 'Album' AS table_name, COUNT(*) AS cnt FROM Album UNION ALL SELECT 'Artist', COUNT(*) FROM Artist UNION ALL SELECT 'Customer', COUNT(*) FROM Customer UNION ALL SELECT 'Employee', COUNT(*) FROM Employee UNION ALL SELECT 'Genre', COUNT(*) FROM Genre UNION ALL SELECT 'Invoice', COUNT(*) FROM Invoice UNION ALL SELECT 'InvoiceLine', COUNT(*) FROM InvoiceLine UNION ALL SELECT 'MediaType', COUNT(*) FROM MediaType UNION ALL SELECT 'Playlist', COUNT(*) FROM Playlist UNION ALL SELECT 'PlaylistTrack', COUNT(*) FROM PlaylistTrack UNION ALL SELECT 'Track', COUNT(*) FROM Track ) ORDER BY cnt DESC LIMIT 1;\n",
      "=================================\u001b[1m Tool Message \u001b[0m=================================\n",
      "Name: execute_sql\n",
      "\n",
      "[('PlaylistTrack', 8715)]\n",
      "==================================\u001b[1m Ai Message \u001b[0m==================================\n",
      "\n",
      "The table with the most entries is PlaylistTrack with 8,715 rows.\n"
     ]
    }
   ],
   "source": [
    "question = \"Which table has the largest number of entries?\"\n",
    "\n",
    "for step in agent.stream(\n",
    "    {\"messages\": question},\n",
    "    context=RuntimeContext(db=db),\n",
    "    stream_mode=\"values\",\n",
    "):\n",
    "    step[\"messages\"][-1].pretty_print()"
   ]
  },
  {
   "cell_type": "code",
   "execution_count": 9,
   "id": "7797b8f4-3d52-405c-a16e-baa2a71127df",
   "metadata": {},
   "outputs": [
    {
     "name": "stdout",
     "output_type": "stream",
     "text": [
      "================================\u001b[1m Human Message \u001b[0m=================================\n",
      "\n",
      "Which genre on average has the longest tracks?\n",
      "==================================\u001b[1m Ai Message \u001b[0m==================================\n",
      "Tool Calls:\n",
      "  execute_sql (call_dbibSSbZXsfhuDo8mLasDyvn)\n",
      " Call ID: call_dbibSSbZXsfhuDo8mLasDyvn\n",
      "  Args:\n",
      "    query: SELECT genres.Name AS genre, AVG(tracks.Milliseconds) AS avg_ms\n",
      "FROM genres\n",
      "JOIN tracks ON genres.GenreId = tracks.GenreId\n",
      "GROUP BY genres.Name\n",
      "ORDER BY avg_ms DESC\n",
      "LIMIT 1;\n",
      "=================================\u001b[1m Tool Message \u001b[0m=================================\n",
      "Name: execute_sql\n",
      "\n",
      "Error: (sqlite3.OperationalError) no such table: genres\n",
      "[SQL: SELECT genres.Name AS genre, AVG(tracks.Milliseconds) AS avg_ms\n",
      "FROM genres\n",
      "JOIN tracks ON genres.GenreId = tracks.GenreId\n",
      "GROUP BY genres.Name\n",
      "ORDER BY avg_ms DESC\n",
      "LIMIT 1;]\n",
      "(Background on this error at: https://sqlalche.me/e/20/e3q8)\n",
      "==================================\u001b[1m Ai Message \u001b[0m==================================\n",
      "Tool Calls:\n",
      "  execute_sql (call_WQ7WeK9PBFuJDa9CTcqfubl5)\n",
      " Call ID: call_WQ7WeK9PBFuJDa9CTcqfubl5\n",
      "  Args:\n",
      "    query: SELECT name, type FROM sqlite_master WHERE type='table' ORDER BY name LIMIT 5;\n",
      "=================================\u001b[1m Tool Message \u001b[0m=================================\n",
      "Name: execute_sql\n",
      "\n",
      "[('Album', 'table'), ('Artist', 'table'), ('Customer', 'table'), ('Employee', 'table'), ('Genre', 'table')]\n",
      "==================================\u001b[1m Ai Message \u001b[0m==================================\n",
      "Tool Calls:\n",
      "  execute_sql (call_LAhmpRcTPrZ7tCvIcNG5yIus)\n",
      " Call ID: call_LAhmpRcTPrZ7tCvIcNG5yIus\n",
      "  Args:\n",
      "    query: SELECT name, type FROM sqlite_master WHERE type='table' ORDER BY name;\n",
      "=================================\u001b[1m Tool Message \u001b[0m=================================\n",
      "Name: execute_sql\n",
      "\n",
      "[('Album', 'table'), ('Artist', 'table'), ('Customer', 'table'), ('Employee', 'table'), ('Genre', 'table'), ('Invoice', 'table'), ('InvoiceLine', 'table'), ('MediaType', 'table'), ('Playlist', 'table'), ('PlaylistTrack', 'table'), ('Track', 'table')]\n",
      "==================================\u001b[1m Ai Message \u001b[0m==================================\n",
      "Tool Calls:\n",
      "  execute_sql (call_Ss7w1e3duZt0reD8UvzasM5E)\n",
      " Call ID: call_Ss7w1e3duZt0reD8UvzasM5E\n",
      "  Args:\n",
      "    query: SELECT Genre.Name AS genre, ROUND(AVG(Track.Milliseconds)/1000.0,2) AS avg_seconds\n",
      "FROM Genre\n",
      "JOIN Track ON Genre.GenreId = Track.GenreId\n",
      "GROUP BY Genre.Name\n",
      "ORDER BY AVG(Track.Milliseconds) DESC\n",
      "LIMIT 1;\n",
      "=================================\u001b[1m Tool Message \u001b[0m=================================\n",
      "Name: execute_sql\n",
      "\n",
      "[('Sci Fi & Fantasy', 2911.78)]\n",
      "==================================\u001b[1m Ai Message \u001b[0m==================================\n",
      "\n",
      "The genre with the longest average tracks is \"Sci Fi & Fantasy\".\n",
      "\n",
      "Average track length: 2,911.78 seconds (≈ 48 minutes 31.8 seconds).\n",
      "\n",
      "Query used:\n",
      "SELECT Genre.Name AS genre, ROUND(AVG(Track.Milliseconds)/1000.0,2) AS avg_seconds\n",
      "FROM Genre\n",
      "JOIN Track ON Genre.GenreId = Track.GenreId\n",
      "GROUP BY Genre.Name\n",
      "ORDER BY AVG(Track.Milliseconds) DESC\n",
      "LIMIT 1;\n",
      "\n",
      "Note: averages can be skewed by a few very long tracks. Would you like the top 5 genres by average length or the track count per genre to check for outliers?\n"
     ]
    }
   ],
   "source": [
    "question = \"Which genre on average has the longest tracks?\"\n",
    "\n",
    "for step in agent.stream(\n",
    "    {\"messages\": question},\n",
    "    context=RuntimeContext(db=db),\n",
    "    stream_mode=\"values\",\n",
    "):\n",
    "    step[\"messages\"][-1].pretty_print()"
   ]
  },
  {
   "cell_type": "code",
   "execution_count": 10,
   "id": "a48e3902-d3d6-49a0-8f60-b8ba3d1f7400",
   "metadata": {},
   "outputs": [
    {
     "name": "stdout",
     "output_type": "stream",
     "text": [
      "================================\u001b[1m Human Message \u001b[0m=================================\n",
      "\n",
      "Please list all of the tables?\n",
      "==================================\u001b[1m Ai Message \u001b[0m==================================\n",
      "Tool Calls:\n",
      "  execute_sql (call_Smth1NevfsIZhqtDlqZruvAP)\n",
      " Call ID: call_Smth1NevfsIZhqtDlqZruvAP\n",
      "  Args:\n",
      "    query: SELECT name FROM sqlite_master WHERE type='table' AND name NOT LIKE 'sqlite_%' ORDER BY name LIMIT 5;\n",
      "=================================\u001b[1m Tool Message \u001b[0m=================================\n",
      "Name: execute_sql\n",
      "\n",
      "[('Album',), ('Artist',), ('Customer',), ('Employee',), ('Genre',)]\n",
      "==================================\u001b[1m Ai Message \u001b[0m==================================\n",
      "\n",
      "I queried sqlite_master for tables and returned the first 5 results. The tables (up to 5) are:\n",
      "\n",
      "- Album\n",
      "- Artist\n",
      "- Customer\n",
      "- Employee\n",
      "- Genre\n",
      "\n",
      "Would you like me to list all tables (remove the 5-row limit)?\n"
     ]
    }
   ],
   "source": [
    "question = \"Please list all of the tables?\"\n",
    "\n",
    "for step in agent.stream(\n",
    "    {\"messages\": question},\n",
    "    context={\"db\": db},\n",
    "    stream_mode=\"values\",\n",
    "):\n",
    "    step[\"messages\"][-1].pretty_print()"
   ]
  },
  {
   "cell_type": "markdown",
   "id": "06a7ea3b-bf5b-4fe0-bb39-a9ff214fb103",
   "metadata": {},
   "source": [
    "**Create your own query here!**  Add some questions of your own."
   ]
  },
  {
   "cell_type": "code",
   "execution_count": 11,
   "id": "c03b7c7a-6f3d-4553-a2af-25652797ec4f",
   "metadata": {},
   "outputs": [
    {
     "name": "stdout",
     "output_type": "stream",
     "text": [
      "================================\u001b[1m Human Message \u001b[0m=================================\n",
      "\n",
      "TRY YOUR OWN QUERY HERE\n",
      "==================================\u001b[1m Ai Message \u001b[0m==================================\n",
      "Tool Calls:\n",
      "  execute_sql (call_o0xEihhARTZU1mQDyW55LCkN)\n",
      " Call ID: call_o0xEihhARTZU1mQDyW55LCkN\n",
      "  Args:\n",
      "    query: SELECT name FROM sqlite_master WHERE type='table' ORDER BY name LIMIT 5;\n",
      "=================================\u001b[1m Tool Message \u001b[0m=================================\n",
      "Name: execute_sql\n",
      "\n",
      "[('Album',), ('Artist',), ('Customer',), ('Employee',), ('Genre',)]\n",
      "==================================\u001b[1m Ai Message \u001b[0m==================================\n",
      "Tool Calls:\n",
      "  execute_sql (call_DN0cQXFZeJBL6IsyqZHfUo2Y)\n",
      " Call ID: call_DN0cQXFZeJBL6IsyqZHfUo2Y\n",
      "  Args:\n",
      "    query: SELECT name, sql FROM sqlite_master WHERE type='table' ORDER BY name LIMIT 5;\n",
      "=================================\u001b[1m Tool Message \u001b[0m=================================\n",
      "Name: execute_sql\n",
      "\n",
      "[('Album', 'CREATE TABLE [Album]\\n(\\n    [AlbumId] INTEGER  NOT NULL,\\n    [Title] NVARCHAR(160)  NOT NULL,\\n    [ArtistId] INTEGER  NOT NULL,\\n    CONSTRAINT [PK_Album] PRIMARY KEY  ([AlbumId]),\\n    FOREIGN KEY ([ArtistId]) REFERENCES [Artist] ([ArtistId]) \\n\\t\\tON DELETE NO ACTION ON UPDATE NO ACTION\\n)'), ('Artist', 'CREATE TABLE [Artist]\\n(\\n    [ArtistId] INTEGER  NOT NULL,\\n    [Name] NVARCHAR(120),\\n    CONSTRAINT [PK_Artist] PRIMARY KEY  ([ArtistId])\\n)'), ('Customer', 'CREATE TABLE [Customer]\\n(\\n    [CustomerId] INTEGER  NOT NULL,\\n    [FirstName] NVARCHAR(40)  NOT NULL,\\n    [LastName] NVARCHAR(20)  NOT NULL,\\n    [Company] NVARCHAR(80),\\n    [Address] NVARCHAR(70),\\n    [City] NVARCHAR(40),\\n    [State] NVARCHAR(40),\\n    [Country] NVARCHAR(40),\\n    [PostalCode]...'), ('Employee', 'CREATE TABLE [Employee]\\n(\\n    [EmployeeId] INTEGER  NOT NULL,\\n    [LastName] NVARCHAR(20)  NOT NULL,\\n    [FirstName] NVARCHAR(20)  NOT NULL,\\n    [Title] NVARCHAR(30),\\n    [ReportsTo] INTEGER,\\n    [BirthDate] DATETIME,\\n    [HireDate] DATETIME,\\n    [Address] NVARCHAR(70),\\n    [City] NVARCHAR(40),\\n...'), ('Genre', 'CREATE TABLE [Genre]\\n(\\n    [GenreId] INTEGER  NOT NULL,\\n    [Name] NVARCHAR(120),\\n    CONSTRAINT [PK_Genre] PRIMARY KEY  ([GenreId])\\n)')]\n",
      "==================================\u001b[1m Ai Message \u001b[0m==================================\n",
      "\n",
      "I can run read-only SQL queries against this database and return results (up to 5 rows by default). First five tables found: Album, Artist, Customer, Employee, Genre.\n",
      "\n",
      "Examples you can ask me to run (pick one or give your own):\n",
      "\n",
      "- Show 5 albums:\n",
      "  SELECT AlbumId, Title, ArtistId FROM Album ORDER BY AlbumId LIMIT 5;\n",
      "\n",
      "- Show 5 artists:\n",
      "  SELECT ArtistId, Name FROM Artist ORDER BY ArtistId LIMIT 5;\n",
      "\n",
      "- Top 5 customers by Country:\n",
      "  SELECT CustomerId, FirstName, LastName, Country FROM Customer ORDER BY Country LIMIT 5;\n",
      "\n",
      "- 5 employees with manager (ReportsTo):\n",
      "  SELECT EmployeeId, FirstName, LastName, Title, ReportsTo FROM Employee ORDER BY EmployeeId LIMIT 5;\n",
      "\n",
      "- 5 genres:\n",
      "  SELECT GenreId, Name FROM Genre ORDER BY GenreId LIMIT 5;\n",
      "\n",
      "Tell me which query to run or paste your own SELECT statement (I will only execute one SELECT at a time). If you want more than 5 rows, say how many.\n"
     ]
    }
   ],
   "source": [
    "question = \"TRY YOUR OWN QUERY HERE\"\n",
    "\n",
    "for step in agent.stream(\n",
    "    {\"messages\": question},\n",
    "    context={\"db\": db},\n",
    "    stream_mode=\"values\",\n",
    "):\n",
    "    step[\"messages\"][-1].pretty_print()"
   ]
  },
  {
   "cell_type": "markdown",
   "id": "2a9cc553-7357-4d36-b88d-25eaf7462cf6",
   "metadata": {},
   "source": [
    "## Let's try this in the agent debugger!"
   ]
  }
 ],
 "metadata": {
  "kernelspec": {
   "display_name": "Python 3 (ipykernel)",
   "language": "python",
   "name": "python3"
  },
  "language_info": {
   "codemirror_mode": {
    "name": "ipython",
    "version": 3
   },
   "file_extension": ".py",
   "mimetype": "text/x-python",
   "name": "python",
   "nbconvert_exporter": "python",
   "pygments_lexer": "ipython3",
   "version": "3.13.5"
  }
 },
 "nbformat": 4,
 "nbformat_minor": 5
}
