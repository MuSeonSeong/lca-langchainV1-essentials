{
 "cells": [
  {
   "cell_type": "markdown",
   "id": "35e59623-ae71-4947-864b-4a750a2fa883",
   "metadata": {},
   "source": [
    "# Fast Agent - Build a SQL Agent fast!\n",
    "\n",
    "<img src=\"./assets/LC_L1_top.png\" align=\"left\" width=\"500\">"
   ]
  },
  {
   "cell_type": "markdown",
   "id": "b0915e23-8230-4f65-9db6-4d60e9970021",
   "metadata": {},
   "source": [
    "## Setup"
   ]
  },
  {
   "cell_type": "code",
   "execution_count": 1,
   "id": "1ba24dd6-7a31-4fba-8077-2bff96e1ed4a",
   "metadata": {},
   "outputs": [],
   "source": [
    "from langchain_community.utilities import SQLDatabase\n",
    "\n",
    "db = SQLDatabase.from_uri(\"sqlite:///Chinook.db\")"
   ]
  },
  {
   "cell_type": "markdown",
   "id": "ae0d70a9-e4c2-4d34-9492-c61ca8e03a49",
   "metadata": {},
   "source": [
    "Define the runtime context to provide the agent and tools with access to the database."
   ]
  },
  {
   "cell_type": "code",
   "execution_count": 2,
   "id": "b49e1986-f13b-45da-b673-5c1a7d801f0a",
   "metadata": {},
   "outputs": [],
   "source": [
    "from dataclasses import dataclass\n",
    "\n",
    "from langchain_community.utilities import SQLDatabase\n",
    "\n",
    "\n",
    "# define context structure to support dependency injection\n",
    "@dataclass\n",
    "class RuntimeContext:\n",
    "    db: SQLDatabase"
   ]
  },
  {
   "cell_type": "markdown",
   "id": "5c381252-1f45-44d3-bc3d-ed871459c12c",
   "metadata": {},
   "source": [
    "<b>⚠️ Security Note:</b> This demo does not include a filter on LLM-generated commands. In production, you would want to limit the scope of LLM-generated commands. ⚠️   \n",
    "This tool will connect to the database. Note the use of `get_runtime` to access the graph **runtime context**."
   ]
  },
  {
   "cell_type": "code",
   "execution_count": 3,
   "id": "5d7f0b2c-200a-4246-b547-aff9b5185562",
   "metadata": {},
   "outputs": [],
   "source": [
    "from langchain_core.tools import tool\n",
    "from langgraph.runtime import get_runtime\n",
    "\n",
    "@tool\n",
    "def execute_sql(query: str) -> str:\n",
    "    \"\"\"Execute a SQLite command and return results.\"\"\"\n",
    "    runtime = get_runtime(RuntimeContext)\n",
    "    db = runtime.context.db\n",
    "\n",
    "    try:\n",
    "        return db.run(query)\n",
    "    except Exception as e:\n",
    "        return f\"Error: {e}\""
   ]
  },
  {
   "cell_type": "markdown",
   "id": "f840a84a-c131-490d-80b6-75db5b341880",
   "metadata": {},
   "source": [
    "Add a system prompt to define your agents behavior."
   ]
  },
  {
   "cell_type": "code",
   "execution_count": 4,
   "id": "29e1c020-db18-418a-8693-cb4ed21d4f58",
   "metadata": {},
   "outputs": [],
   "source": [
    "SYSTEM_PROMPT = \"\"\"You are a careful SQLite analyst.\n",
    "\n",
    "Rules:\n",
    "- Think step-by-step.\n",
    "- When you need data, call the tool `execute_sql` with ONE SELECT query.\n",
    "- Read-only only; no INSERT/UPDATE/DELETE/ALTER/DROP/CREATE/REPLACE/TRUNCATE.\n",
    "- Limit to 5 rows of output unless the user explicitly asks otherwise.\n",
    "- If the tool returns 'Error:', revise the SQL and try again.\n",
    "- Prefer explicit column lists; avoid SELECT *.\n",
    "\"\"\""
   ]
  },
  {
   "cell_type": "markdown",
   "id": "c2aad1bb-d3bb-4ecc-b366-d6cb488388c6",
   "metadata": {},
   "source": [
    "Create your agent! Add a model, tools, a prompt, and the runtime access, and go!  You can choose many agents from our [integrations](https://docs.langchain.com/oss/python/integrations/providers) list. "
   ]
  },
  {
   "cell_type": "code",
   "execution_count": 5,
   "id": "a26b4586-453a-4c10-9fae-4be3f4cb6cd4",
   "metadata": {},
   "outputs": [],
   "source": [
    "from langchain.agents import create_agent\n",
    "\n",
    "agent = create_agent(\n",
    "    model=\"openai:gpt-5\",\n",
    "    tools=[execute_sql],\n",
    "    system_prompt=SYSTEM_PROMPT,\n",
    "    context_schema=RuntimeContext,\n",
    ")"
   ]
  },
  {
   "cell_type": "markdown",
   "id": "3b468284-65de-47fa-be31-826b706159e4",
   "metadata": {},
   "source": [
    "Here's a display of the agent ReAct Loop."
   ]
  },
  {
   "cell_type": "code",
   "execution_count": 6,
   "id": "8a1ac705-41b8-4a38-b346-c170b61651b8",
   "metadata": {},
   "outputs": [
    {
     "data": {
      "image/png": "[encoded data removed]",
      "text/plain": [
       "<IPython.core.display.Image object>"
      ]
     },
     "metadata": {},
     "output_type": "display_data"
    }
   ],
   "source": [
    "from IPython.display import Image, display\n",
    "\n",
    "display(Image(agent.get_graph(xray=True).draw_mermaid_png()))"
   ]
  },
  {
   "cell_type": "markdown",
   "id": "011ba4e6-5397-41b5-8416-1db6952c3157",
   "metadata": {},
   "source": [
    "* Run some queries. Notice:\n",
    "- The agent does not have the database schema and will need to discover it independently.\n",
    "- The agent may make mistakes! By returning error messages, the agent can self-correct its queries.\n",
    "- Notice you invoke the agent with `agent.stream`.\n",
    "    - This command and the `pretty_print` display the **messages** that communicate information between the model and the tools.\n",
    "- Notice the agent doesn't remember the schema between invocations... More on this later!"
   ]
  },
  {
   "cell_type": "code",
   "execution_count": 7,
   "id": "e30a2273-1dd3-47e8-a38e-05ed4b750000",
   "metadata": {},
   "outputs": [
    {
     "name": "stdout",
     "output_type": "stream",
     "text": [
      "================================\u001b[1m Human Message \u001b[0m=================================\n",
      "\n",
      "Which table has the largest number of entries?\n",
      "==================================\u001b[1m Ai Message \u001b[0m==================================\n",
      "Tool Calls:\n",
      "  execute_sql (call_JZcF4Pk8Ooo4L8f94zl7nvSb)\n",
      " Call ID: call_JZcF4Pk8Ooo4L8f94zl7nvSb\n",
      "  Args:\n",
      "    query: SELECT name FROM sqlite_master WHERE type = 'table' AND name NOT LIKE 'sqlite_%' ORDER BY name;\n",
      "=================================\u001b[1m Tool Message \u001b[0m=================================\n",
      "Name: execute_sql\n",
      "\n",
      "[('Album',), ('Artist',), ('Customer',), ('Employee',), ('Genre',), ('Invoice',), ('InvoiceLine',), ('MediaType',), ('Playlist',), ('PlaylistTrack',), ('Track',)]\n",
      "==================================\u001b[1m Ai Message \u001b[0m==================================\n",
      "Tool Calls:\n",
      "  execute_sql (call_ppUmDWHqfOj026lfo4tVRMab)\n",
      " Call ID: call_ppUmDWHqfOj026lfo4tVRMab\n",
      "  Args:\n",
      "    query: SELECT table_name, row_count FROM (\n",
      "  SELECT 'Album' AS table_name, COUNT(*) AS row_count FROM Album\n",
      "  UNION ALL\n",
      "  SELECT 'Artist', COUNT(*) FROM Artist\n",
      "  UNION ALL\n",
      "  SELECT 'Customer', COUNT(*) FROM Customer\n",
      "  UNION ALL\n",
      "  SELECT 'Employee', COUNT(*) FROM Employee\n",
      "  UNION ALL\n",
      "  SELECT 'Genre', COUNT(*) FROM Genre\n",
      "  UNION ALL\n",
      "  SELECT 'Invoice', COUNT(*) FROM Invoice\n",
      "  UNION ALL\n",
      "  SELECT 'InvoiceLine', COUNT(*) FROM InvoiceLine\n",
      "  UNION ALL\n",
      "  SELECT 'MediaType', COUNT(*) FROM MediaType\n",
      "  UNION ALL\n",
      "  SELECT 'Playlist', COUNT(*) FROM Playlist\n",
      "  UNION ALL\n",
      "  SELECT 'PlaylistTrack', COUNT(*) FROM PlaylistTrack\n",
      "  UNION ALL\n",
      "  SELECT 'Track', COUNT(*) FROM Track\n",
      ") t\n",
      "ORDER BY row_count DESC\n",
      "LIMIT 1;\n",
      "=================================\u001b[1m Tool Message \u001b[0m=================================\n",
      "Name: execute_sql\n",
      "\n",
      "[('PlaylistTrack', 8715)]\n",
      "==================================\u001b[1m Ai Message \u001b[0m==================================\n",
      "\n",
      "PlaylistTrack has the largest number of entries, with 8,715 rows.\n"
     ]
    }
   ],
   "source": [
    "question = \"Which table has the largest number of entries?\"\n",
    "\n",
    "for step in agent.stream(\n",
    "    {\"messages\": question},\n",
    "    context=RuntimeContext(db=db),\n",
    "    stream_mode=\"values\",\n",
    "):\n",
    "    step[\"messages\"][-1].pretty_print()"
   ]
  },
  {
   "cell_type": "code",
   "execution_count": 8,
   "id": "7797b8f4-3d52-405c-a16e-baa2a71127df",
   "metadata": {},
   "outputs": [
    {
     "name": "stdout",
     "output_type": "stream",
     "text": [
      "================================\u001b[1m Human Message \u001b[0m=================================\n",
      "\n",
      "Which genre on average has the longest tracks?\n",
      "==================================\u001b[1m Ai Message \u001b[0m==================================\n",
      "Tool Calls:\n",
      "  execute_sql (call_txvtQsBlpbmtGhoHN8LYiUPQ)\n",
      " Call ID: call_txvtQsBlpbmtGhoHN8LYiUPQ\n",
      "  Args:\n",
      "    query: SELECT name FROM sqlite_master WHERE type = 'table' ORDER BY name LIMIT 5;\n",
      "=================================\u001b[1m Tool Message \u001b[0m=================================\n",
      "Name: execute_sql\n",
      "\n",
      "[('Album',), ('Artist',), ('Customer',), ('Employee',), ('Genre',)]\n",
      "==================================\u001b[1m Ai Message \u001b[0m==================================\n",
      "Tool Calls:\n",
      "  execute_sql (call_31Ql09fpc4LVS32gf6l4NYvL)\n",
      " Call ID: call_31Ql09fpc4LVS32gf6l4NYvL\n",
      "  Args:\n",
      "    query: SELECT g.Name AS Genre, AVG(t.Milliseconds) / 1000.0 AS avg_seconds\n",
      "FROM Track t\n",
      "JOIN Genre g ON t.GenreId = g.GenreId\n",
      "GROUP BY g.GenreId, g.Name\n",
      "ORDER BY AVG(t.Milliseconds) DESC\n",
      "LIMIT 1;\n",
      "=================================\u001b[1m Tool Message \u001b[0m=================================\n",
      "Name: execute_sql\n",
      "\n",
      "[('Sci Fi & Fantasy', 2911.7830384615386)]\n",
      "==================================\u001b[1m Ai Message \u001b[0m==================================\n",
      "\n",
      "Sci Fi & Fantasy — average track length ≈ 2,912 seconds (~48.5 minutes).\n"
     ]
    }
   ],
   "source": [
    "question = \"Which genre on average has the longest tracks?\"\n",
    "\n",
    "for step in agent.stream(\n",
    "    {\"messages\": question},\n",
    "    context=RuntimeContext(db=db),\n",
    "    stream_mode=\"values\",\n",
    "):\n",
    "    step[\"messages\"][-1].pretty_print()"
   ]
  },
  {
   "cell_type": "code",
   "execution_count": 9,
   "id": "a48e3902-d3d6-49a0-8f60-b8ba3d1f7400",
   "metadata": {},
   "outputs": [
    {
     "name": "stdout",
     "output_type": "stream",
     "text": [
      "================================\u001b[1m Human Message \u001b[0m=================================\n",
      "\n",
      "Please list all of the tables?\n",
      "==================================\u001b[1m Ai Message \u001b[0m==================================\n",
      "Tool Calls:\n",
      "  execute_sql (call_utlqeCqXQCO2aHdlxi8V9gkp)\n",
      " Call ID: call_utlqeCqXQCO2aHdlxi8V9gkp\n",
      "  Args:\n",
      "    query: SELECT name FROM sqlite_master WHERE type = 'table' ORDER BY name;\n",
      "=================================\u001b[1m Tool Message \u001b[0m=================================\n",
      "Name: execute_sql\n",
      "\n",
      "[('Album',), ('Artist',), ('Customer',), ('Employee',), ('Genre',), ('Invoice',), ('InvoiceLine',), ('MediaType',), ('Playlist',), ('PlaylistTrack',), ('Track',)]\n",
      "==================================\u001b[1m Ai Message \u001b[0m==================================\n",
      "\n",
      "Here are all the tables:\n",
      "\n",
      "- Album\n",
      "- Artist\n",
      "- Customer\n",
      "- Employee\n",
      "- Genre\n",
      "- Invoice\n",
      "- InvoiceLine\n",
      "- MediaType\n",
      "- Playlist\n",
      "- PlaylistTrack\n",
      "- Track\n"
     ]
    }
   ],
   "source": [
    "question = \"Please list all of the tables?\"\n",
    "\n",
    "for step in agent.stream(\n",
    "    {\"messages\": question},\n",
    "    context={\"db\": db},\n",
    "    stream_mode=\"values\",\n",
    "):\n",
    "    step[\"messages\"][-1].pretty_print()"
   ]
  },
  {
   "cell_type": "markdown",
   "id": "06a7ea3b-bf5b-4fe0-bb39-a9ff214fb103",
   "metadata": {},
   "source": [
    "**Create your own query here!**  Add some questions of your own."
   ]
  },
  {
   "cell_type": "code",
   "execution_count": 10,
   "id": "c03b7c7a-6f3d-4553-a2af-25652797ec4f",
   "metadata": {},
   "outputs": [
    {
     "name": "stdout",
     "output_type": "stream",
     "text": [
      "================================\u001b[1m Human Message \u001b[0m=================================\n",
      "\n",
      "TRY YOUR OWN QUERY HERE\n",
      "==================================\u001b[1m Ai Message \u001b[0m==================================\n",
      "Tool Calls:\n",
      "  execute_sql (call_0QUL8lCeDOIPI2Z9DYKlWNUO)\n",
      " Call ID: call_0QUL8lCeDOIPI2Z9DYKlWNUO\n",
      "  Args:\n",
      "    query: SELECT name FROM sqlite_master WHERE type = 'table' ORDER BY name LIMIT 5;\n",
      "=================================\u001b[1m Tool Message \u001b[0m=================================\n",
      "Name: execute_sql\n",
      "\n",
      "[('Album',), ('Artist',), ('Customer',), ('Employee',), ('Genre',)]\n",
      "==================================\u001b[1m Ai Message \u001b[0m==================================\n",
      "Tool Calls:\n",
      "  execute_sql (call_pcl293FTJ6NZPjPKS0GD6BnO)\n",
      " Call ID: call_pcl293FTJ6NZPjPKS0GD6BnO\n",
      "  Args:\n",
      "    query: SELECT ar.Name AS artist_name, COUNT(al.AlbumId) AS album_count\n",
      "FROM Artist AS ar\n",
      "LEFT JOIN Album AS al ON al.ArtistId = ar.ArtistId\n",
      "GROUP BY ar.ArtistId, ar.Name\n",
      "ORDER BY album_count DESC, artist_name ASC\n",
      "LIMIT 5;\n",
      "=================================\u001b[1m Tool Message \u001b[0m=================================\n",
      "Name: execute_sql\n",
      "\n",
      "[('Iron Maiden', 21), ('Led Zeppelin', 14), ('Deep Purple', 11), ('Metallica', 10), ('U2', 10)]\n",
      "==================================\u001b[1m Ai Message \u001b[0m==================================\n",
      "\n",
      "I explored the database and ran a quick example analysis.\n",
      "\n",
      "First 5 tables:\n",
      "- Album\n",
      "- Artist\n",
      "- Customer\n",
      "- Employee\n",
      "- Genre\n",
      "\n",
      "Top 5 artists by number of albums:\n",
      "- Iron Maiden — 21\n",
      "- Led Zeppelin — 14\n",
      "- Deep Purple — 11\n",
      "- Metallica — 10\n",
      "- U2 — 10\n",
      "\n",
      "Want me to run a different query or show more rows?\n"
     ]
    }
   ],
   "source": [
    "question = \"TRY YOUR OWN QUERY HERE\"\n",
    "\n",
    "for step in agent.stream(\n",
    "    {\"messages\": question},\n",
    "    context={\"db\": db},\n",
    "    stream_mode=\"values\",\n",
    "):\n",
    "    step[\"messages\"][-1].pretty_print()"
   ]
  },
  {
   "cell_type": "markdown",
   "id": "2a9cc553-7357-4d36-b88d-25eaf7462cf6",
   "metadata": {},
   "source": [
    "## Let's try this in the agent debugger!"
   ]
  },
  {
   "cell_type": "code",
   "execution_count": null,
   "id": "80b117dc-fa05-4ef5-9e94-e4cbd148c3aa",
   "metadata": {},
   "outputs": [],
   "source": []
  }
 ],
 "metadata": {
  "kernelspec": {
   "display_name": "Python 3 (ipykernel)",
   "language": "python",
   "name": "python3"
  },
  "language_info": {
   "codemirror_mode": {
    "name": "ipython",
    "version": 3
   },
   "file_extension": ".py",
   "mimetype": "text/x-python",
   "name": "python",
   "nbconvert_exporter": "python",
   "pygments_lexer": "ipython3",
   "version": "3.13.5"
  }
 },
 "nbformat": 4,
 "nbformat_minor": 5
}
