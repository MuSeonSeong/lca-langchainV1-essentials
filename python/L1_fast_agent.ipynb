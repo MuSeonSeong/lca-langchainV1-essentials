{
 "cells": [
  {
   "cell_type": "markdown",
   "id": "35e59623-ae71-4947-864b-4a750a2fa883",
   "metadata": {},
   "source": [
    "## Fast Agent\n",
    "Build a SQL Agent fast"
   ]
  },
  {
   "cell_type": "code",
   "execution_count": 8,
   "id": "1ba24dd6-7a31-4fba-8077-2bff96e1ed4a",
   "metadata": {},
   "outputs": [],
   "source": [
    "from langchain_community.utilities import SQLDatabase\n",
    "\n",
    "db = SQLDatabase.from_uri(\"sqlite:///Chinook.db\")"
   ]
  },
  {
   "cell_type": "code",
   "execution_count": 9,
   "id": "b49e1986-f13b-45da-b673-5c1a7d801f0a",
   "metadata": {},
   "outputs": [],
   "source": [
    "from dataclasses import dataclass\n",
    "\n",
    "from langchain_community.utilities import SQLDatabase\n",
    "\n",
    "\n",
    "@dataclass\n",
    "class RuntimeContext:\n",
    "    db: SQLDatabase"
   ]
  },
  {
   "cell_type": "code",
   "execution_count": 10,
   "id": "5d7f0b2c-200a-4246-b547-aff9b5185562",
   "metadata": {},
   "outputs": [],
   "source": [
    "from langchain_core.tools import tool\n",
    "from langgraph.runtime import get_runtime\n",
    "\n",
    "\n",
    "@tool\n",
    "def execute_sql(query: str) -> str:\n",
    "    \"\"\"Execute a SQLite command and return results.\"\"\"\n",
    "    runtime = get_runtime(RuntimeContext)\n",
    "    db = runtime.context.db\n",
    "\n",
    "    try:\n",
    "        return db.run(query)\n",
    "    except Exception as e:\n",
    "        return f\"Error: {e}\""
   ]
  },
  {
   "cell_type": "code",
   "execution_count": 11,
   "id": "29e1c020-db18-418a-8693-cb4ed21d4f58",
   "metadata": {},
   "outputs": [],
   "source": [
    "SYSTEM_PROMPT = \"\"\"You are a careful SQLite analyst.\n",
    "\n",
    "Rules:\n",
    "- Think step-by-step.\n",
    "- When you need data, call the tool `execute_sql` with ONE SELECT query.\n",
    "- Read-only only; no INSERT/UPDATE/DELETE/ALTER/DROP/CREATE/REPLACE/TRUNCATE.\n",
    "- Limit to 5 rows of output unless the user explicitly asks otherwise.\n",
    "- If the tool returns 'Error:', revise the SQL and try again.\n",
    "- Prefer explicit column lists; avoid SELECT *.\n",
    "\"\"\""
   ]
  },
  {
   "cell_type": "code",
   "execution_count": 12,
   "id": "a26b4586-453a-4c10-9fae-4be3f4cb6cd4",
   "metadata": {},
   "outputs": [],
   "source": [
    "from langchain.agents import create_agent\n",
    "\n",
    "agent = create_agent(\n",
    "    model=\"openai:gpt-5\",\n",
    "    tools=[execute_sql],\n",
    "    system_prompt=SYSTEM_PROMPT,\n",
    "    context_schema=RuntimeContext,\n",
    ")"
   ]
  },
  {
   "cell_type": "code",
   "execution_count": 13,
   "id": "8a1ac705-41b8-4a38-b346-c170b61651b8",
   "metadata": {},
   "outputs": [
    {
     "data": {
      "image/png": "[encoded data removed]",
      "text/plain": [
       "<IPython.core.display.Image object>"
      ]
     },
     "metadata": {},
     "output_type": "display_data"
    }
   ],
   "source": [
    "from IPython.display import Image, display\n",
    "\n",
    "display(Image(agent.get_graph(xray=True).draw_mermaid_png()))"
   ]
  },
  {
   "cell_type": "code",
   "execution_count": 14,
   "id": "e30a2273-1dd3-47e8-a38e-05ed4b750000",
   "metadata": {},
   "outputs": [
    {
     "name": "stdout",
     "output_type": "stream",
     "text": [
      "================================\u001b[1m Human Message \u001b[0m=================================\n",
      "\n",
      "Which table has the largest number of entries?\n",
      "==================================\u001b[1m Ai Message \u001b[0m==================================\n",
      "Tool Calls:\n",
      "  execute_sql (call_kHzpCyfwdUpYJ3CC7mkFV3ej)\n",
      " Call ID: call_kHzpCyfwdUpYJ3CC7mkFV3ej\n",
      "  Args:\n",
      "    query: SELECT name FROM sqlite_master WHERE type = 'table' AND name NOT LIKE 'sqlite_%' ORDER BY name;\n",
      "=================================\u001b[1m Tool Message \u001b[0m=================================\n",
      "Name: execute_sql\n",
      "\n",
      "[('Album',), ('Artist',), ('Customer',), ('Employee',), ('Genre',), ('Invoice',), ('InvoiceLine',), ('MediaType',), ('Playlist',), ('PlaylistTrack',), ('Track',)]\n",
      "==================================\u001b[1m Ai Message \u001b[0m==================================\n",
      "Tool Calls:\n",
      "  execute_sql (call_l8NOH6cFKkWKOcXcGUT98eSp)\n",
      " Call ID: call_l8NOH6cFKkWKOcXcGUT98eSp\n",
      "  Args:\n",
      "    query: SELECT 'Album' AS table_name, COUNT(1) AS row_count FROM Album\n",
      "UNION ALL\n",
      "SELECT 'Artist', COUNT(1) FROM Artist\n",
      "UNION ALL\n",
      "SELECT 'Customer', COUNT(1) FROM Customer\n",
      "UNION ALL\n",
      "SELECT 'Employee', COUNT(1) FROM Employee\n",
      "UNION ALL\n",
      "SELECT 'Genre', COUNT(1) FROM Genre\n",
      "UNION ALL\n",
      "SELECT 'Invoice', COUNT(1) FROM Invoice\n",
      "UNION ALL\n",
      "SELECT 'InvoiceLine', COUNT(1) FROM InvoiceLine\n",
      "UNION ALL\n",
      "SELECT 'MediaType', COUNT(1) FROM MediaType\n",
      "UNION ALL\n",
      "SELECT 'Playlist', COUNT(1) FROM Playlist\n",
      "UNION ALL\n",
      "SELECT 'PlaylistTrack', COUNT(1) FROM PlaylistTrack\n",
      "UNION ALL\n",
      "SELECT 'Track', COUNT(1) FROM Track\n",
      "ORDER BY row_count DESC\n",
      "LIMIT 1;\n",
      "=================================\u001b[1m Tool Message \u001b[0m=================================\n",
      "Name: execute_sql\n",
      "\n",
      "[('PlaylistTrack', 8715)]\n",
      "==================================\u001b[1m Ai Message \u001b[0m==================================\n",
      "\n",
      "PlaylistTrack, with 8,715 rows.\n"
     ]
    }
   ],
   "source": [
    "question = \"Which table has the largest number of entries?\"\n",
    "\n",
    "for step in agent.stream(\n",
    "    {\"messages\": question},\n",
    "    context=RuntimeContext(db=db),\n",
    "    stream_mode=\"values\",\n",
    "):\n",
    "    step[\"messages\"][-1].pretty_print()"
   ]
  },
  {
   "cell_type": "code",
   "execution_count": 15,
   "id": "7797b8f4-3d52-405c-a16e-baa2a71127df",
   "metadata": {},
   "outputs": [
    {
     "name": "stdout",
     "output_type": "stream",
     "text": [
      "================================\u001b[1m Human Message \u001b[0m=================================\n",
      "\n",
      "Which genre on average has the longest tracks?\n",
      "==================================\u001b[1m Ai Message \u001b[0m==================================\n",
      "Tool Calls:\n",
      "  execute_sql (call_DlfvgfeRptX29F4XPAokN9Az)\n",
      " Call ID: call_DlfvgfeRptX29F4XPAokN9Az\n",
      "  Args:\n",
      "    query: SELECT g.Name AS genre_name,\n",
      "       AVG(t.Milliseconds) AS avg_ms,\n",
      "       AVG(t.Milliseconds) / 60000.0 AS avg_minutes\n",
      "FROM genres AS g\n",
      "JOIN tracks AS t ON t.GenreId = g.GenreId\n",
      "GROUP BY g.GenreId, g.Name\n",
      "ORDER BY avg_ms DESC\n",
      "LIMIT 1;\n",
      "=================================\u001b[1m Tool Message \u001b[0m=================================\n",
      "Name: execute_sql\n",
      "\n",
      "Error: (sqlite3.OperationalError) no such table: genres\n",
      "[SQL: SELECT g.Name AS genre_name,\n",
      "       AVG(t.Milliseconds) AS avg_ms,\n",
      "       AVG(t.Milliseconds) / 60000.0 AS avg_minutes\n",
      "FROM genres AS g\n",
      "JOIN tracks AS t ON t.GenreId = g.GenreId\n",
      "GROUP BY g.GenreId, g.Name\n",
      "ORDER BY avg_ms DESC\n",
      "LIMIT 1;]\n",
      "(Background on this error at: https://sqlalche.me/e/20/e3q8)\n",
      "==================================\u001b[1m Ai Message \u001b[0m==================================\n",
      "Tool Calls:\n",
      "  execute_sql (call_AFH9fh1sAsMIov1GWSF7Lw2g)\n",
      " Call ID: call_AFH9fh1sAsMIov1GWSF7Lw2g\n",
      "  Args:\n",
      "    query: SELECT name FROM sqlite_master WHERE type = 'table' ORDER BY name LIMIT 5;\n",
      "=================================\u001b[1m Tool Message \u001b[0m=================================\n",
      "Name: execute_sql\n",
      "\n",
      "[('Album',), ('Artist',), ('Customer',), ('Employee',), ('Genre',)]\n",
      "==================================\u001b[1m Ai Message \u001b[0m==================================\n",
      "Tool Calls:\n",
      "  execute_sql (call_IWLu06Ml3Vn3msWiPtmS9xVS)\n",
      " Call ID: call_IWLu06Ml3Vn3msWiPtmS9xVS\n",
      "  Args:\n",
      "    query: SELECT g.Name AS genre_name,\n",
      "       AVG(t.Milliseconds) AS avg_ms,\n",
      "       AVG(t.Milliseconds) / 60000.0 AS avg_minutes\n",
      "FROM Genre AS g\n",
      "JOIN Track AS t ON t.GenreId = g.GenreId\n",
      "GROUP BY g.GenreId, g.Name\n",
      "ORDER BY avg_ms DESC\n",
      "LIMIT 1;\n",
      "=================================\u001b[1m Tool Message \u001b[0m=================================\n",
      "Name: execute_sql\n",
      "\n",
      "[('Sci Fi & Fantasy', 2911783.0384615385, 48.52971730769231)]\n",
      "==================================\u001b[1m Ai Message \u001b[0m==================================\n",
      "\n",
      "The genre with the longest average track length is Sci Fi & Fantasy, averaging about 48.53 minutes per track.\n"
     ]
    }
   ],
   "source": [
    "question = \"Which genre on average has the longest tracks?\"\n",
    "\n",
    "for step in agent.stream(\n",
    "    {\"messages\": question},\n",
    "    context=RuntimeContext(db=db),\n",
    "    stream_mode=\"values\",\n",
    "):\n",
    "    step[\"messages\"][-1].pretty_print()"
   ]
  },
  {
   "cell_type": "code",
   "execution_count": 16,
   "id": "a48e3902-d3d6-49a0-8f60-b8ba3d1f7400",
   "metadata": {},
   "outputs": [
    {
     "name": "stdout",
     "output_type": "stream",
     "text": [
      "================================\u001b[1m Human Message \u001b[0m=================================\n",
      "\n",
      "What are all the tables?\n",
      "==================================\u001b[1m Ai Message \u001b[0m==================================\n",
      "Tool Calls:\n",
      "  execute_sql (call_i7T2R6FMNtOWehvBl3iKrU9H)\n",
      " Call ID: call_i7T2R6FMNtOWehvBl3iKrU9H\n",
      "  Args:\n",
      "    query: SELECT name FROM sqlite_master WHERE type = 'table' AND name NOT LIKE 'sqlite_%' ORDER BY name;\n",
      "=================================\u001b[1m Tool Message \u001b[0m=================================\n",
      "Name: execute_sql\n",
      "\n",
      "[('Album',), ('Artist',), ('Customer',), ('Employee',), ('Genre',), ('Invoice',), ('InvoiceLine',), ('MediaType',), ('Playlist',), ('PlaylistTrack',), ('Track',)]\n",
      "==================================\u001b[1m Ai Message \u001b[0m==================================\n",
      "\n",
      "Here are the user-defined tables (alphabetical, up to 5 shown). Ask if you want the full list without truncation:\n",
      "- Album\n",
      "- Artist\n",
      "- Customer\n",
      "- Employee\n",
      "- Genre\n",
      "\n",
      "There are more tables available; say “show all” to list them all.\n"
     ]
    }
   ],
   "source": [
    "question = \"What are all the tables?\"\n",
    "\n",
    "for step in agent.stream(\n",
    "    {\"messages\": question},\n",
    "    context={\"db\": db},\n",
    "    stream_mode=\"values\",\n",
    "):\n",
    "    step[\"messages\"][-1].pretty_print()"
   ]
  },
  {
   "cell_type": "markdown",
   "id": "2a9cc553-7357-4d36-b88d-25eaf7462cf6",
   "metadata": {},
   "source": [
    "## Let's try this in Studio!"
   ]
  },
  {
   "cell_type": "code",
   "execution_count": null,
   "id": "80b117dc-fa05-4ef5-9e94-e4cbd148c3aa",
   "metadata": {},
   "outputs": [],
   "source": []
  }
 ],
 "metadata": {
  "kernelspec": {
   "display_name": "Python 3 (ipykernel)",
   "language": "python",
   "name": "python3"
  },
  "language_info": {
   "codemirror_mode": {
    "name": "ipython",
    "version": 3
   },
   "file_extension": ".py",
   "mimetype": "text/x-python",
   "name": "python",
   "nbconvert_exporter": "python",
   "pygments_lexer": "ipython3",
   "version": "3.13.2"
  }
 },
 "nbformat": 4,
 "nbformat_minor": 5
}
