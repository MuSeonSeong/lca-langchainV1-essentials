{
 "cells": [
  {
   "cell_type": "markdown",
   "id": "e0c82cb7-58cc-4cf0-86af-5ecefa582a09",
   "metadata": {},
   "source": [
    "# Tools"
   ]
  },
  {
   "cell_type": "code",
   "execution_count": 1,
   "id": "1ba24dd6-7a31-4fba-8077-2bff96e1ed4a",
   "metadata": {},
   "outputs": [],
   "source": [
    "from langchain_community.utilities import SQLDatabase\n",
    "\n",
    "db = SQLDatabase.from_uri(\"sqlite:///Chinook.db\")"
   ]
  },
  {
   "cell_type": "code",
   "execution_count": 2,
   "id": "7f2474e1-6abf-4c24-bf50-b75090ec1ec0",
   "metadata": {},
   "outputs": [],
   "source": [
    "from langchain.chat_models import init_chat_model\n",
    "\n",
    "llm = init_chat_model(\"openai:gpt-5\")"
   ]
  },
  {
   "cell_type": "code",
   "execution_count": 3,
   "id": "5d7f0b2c-200a-4246-b547-aff9b5185562",
   "metadata": {},
   "outputs": [],
   "source": [
    "from langchain_core.tools import tool\n",
    "    \n",
    "@tool\n",
    "def execute_sql(query: str) -> str:\n",
    "    \"\"\"Execute a SQLite command and return results.\"\"\"\n",
    "    #query = _safe_sql(query)\n",
    "    q = query\n",
    "    if q.startswith(\"Error:\"):\n",
    "        return q\n",
    "    try:\n",
    "        return db.run(q)\n",
    "    except Exception as e:\n",
    "        return f\"Error: {e}\"\n"
   ]
  },
  {
   "cell_type": "code",
   "execution_count": 4,
   "id": "7ebc55dc-27b6-4b14-b811-6d911094d81f",
   "metadata": {},
   "outputs": [],
   "source": [
    "from langchain_core.tools import tool\n",
    "import requests\n",
    "\n",
    "FALLBACK_RATES = {\"USD\": 1.0, \"EUR\": 0.92, \"JPY\": 150.0, \"GBP\": 0.79}\n",
    "\n",
    "@tool\n",
    "def convert_currency(amount: float, to_currency: str) -> float:\n",
    "    \"\"\"Convert an amount in USD to another currency using live exchange rates.\n",
    "    Always use this tool if the user requests a currency different \n",
    "    from the one stored in the database (USD).\"\"\"\n",
    "    try:\n",
    "        url = f\"https://api.exchangerate.host/convert?from=USD&to={to_currency}&amount={amount}\"\n",
    "        response = requests.get(url, timeout=5)\n",
    "        response.raise_for_status()\n",
    "        data = response.json()\n",
    "        result = data.get(\"result\")\n",
    "        if result is not None:\n",
    "            return round(float(result), 2)\n",
    "    except Exception as e:\n",
    "        print(f\"[convert_currency] Falling back due to error: {e}\")\n",
    "\n",
    "    if to_currency not in FALLBACK_RATES:\n",
    "        raise ValueError(\"Unsupported currency in fallback mode\")\n",
    "    return round(amount * FALLBACK_RATES[to_currency], 2)"
   ]
  },
  {
   "cell_type": "code",
   "execution_count": null,
   "id": "29e1c020-db18-418a-8693-cb4ed21d4f58",
   "metadata": {},
   "outputs": [],
   "source": [
    "SYSTEM = f\"\"\"You are a careful SQLite analyst.\n",
    "\n",
    "Rules:\n",
    "- Think step-by-step.\n",
    "- When you need data, call the tool `execute_sql` with ONE SELECT query.\n",
    "- Read-only only; no INSERT/UPDATE/DELETE/ALTER/DROP/CREATE/REPLACE/TRUNCATE.\n",
    "- Limit to 5 rows unless the user explicitly asks otherwise.\n",
    "- If the tool returns 'Error:', revise the SQL and try again.\n",
    "- Prefer explicit column lists; avoid SELECT *.\n",
    "\"\"\""
   ]
  },
  {
   "cell_type": "code",
   "execution_count": null,
   "id": "a26b4586-453a-4c10-9fae-4be3f4cb6cd4",
   "metadata": {},
   "outputs": [],
   "source": [
    "from langchain.agents import create_agent\n",
    "from langchain_core.messages import SystemMessage\n",
    "\n",
    "llm = init_chat_model(\"gpt-5\", model_provider=\"openai\")\n",
    "\n",
    "agent = create_agent(\n",
    "    model=llm,\n",
    "    tools=[execute_sql, convert_currency],\n",
    "    prompt=SystemMessage(content=SYSTEM),\n",
    ")"
   ]
  },
  {
   "cell_type": "code",
   "execution_count": 24,
   "id": "e30a2273-1dd3-47e8-a38e-05ed4b750000",
   "metadata": {},
   "outputs": [
    {
     "name": "stdout",
     "output_type": "stream",
     "text": [
      "================================\u001b[1m Human Message \u001b[0m=================================\n",
      "\n",
      "What is the most costly purchase by Frank Harris in EUR?\n",
      "==================================\u001b[1m Ai Message \u001b[0m==================================\n",
      "Tool Calls:\n",
      "  execute_sql (call_U9Kgteg1THbuNAuD2nJVQngq)\n",
      " Call ID: call_U9Kgteg1THbuNAuD2nJVQngq\n",
      "  Args:\n",
      "    query: SELECT name FROM sqlite_master WHERE type='table' AND (\n",
      "  name LIKE '%customer%' OR name LIKE '%user%' OR name LIKE '%client%' OR\n",
      "  name LIKE '%order%' OR name LIKE '%purchase%' OR name LIKE '%transaction%' OR name LIKE '%sale%'\n",
      ") ORDER BY name LIMIT 5;\n",
      "=================================\u001b[1m Tool Message \u001b[0m=================================\n",
      "Name: execute_sql\n",
      "\n",
      "[('Customer',)]\n",
      "==================================\u001b[1m Ai Message \u001b[0m==================================\n",
      "Tool Calls:\n",
      "  execute_sql (call_Dvs6ehDhNWaIvhW1TaQttbMI)\n",
      " Call ID: call_Dvs6ehDhNWaIvhW1TaQttbMI\n",
      "  Args:\n",
      "    query: PRAGMA table_info('Customer');\n",
      "=================================\u001b[1m Tool Message \u001b[0m=================================\n",
      "Name: execute_sql\n",
      "\n",
      "[(0, 'CustomerId', 'INTEGER', 1, None, 1), (1, 'FirstName', 'NVARCHAR(40)', 1, None, 0), (2, 'LastName', 'NVARCHAR(20)', 1, None, 0), (3, 'Company', 'NVARCHAR(80)', 0, None, 0), (4, 'Address', 'NVARCHAR(70)', 0, None, 0), (5, 'City', 'NVARCHAR(40)', 0, None, 0), (6, 'State', 'NVARCHAR(40)', 0, None, 0), (7, 'Country', 'NVARCHAR(40)', 0, None, 0), (8, 'PostalCode', 'NVARCHAR(10)', 0, None, 0), (9, 'Phone', 'NVARCHAR(24)', 0, None, 0), (10, 'Fax', 'NVARCHAR(24)', 0, None, 0), (11, 'Email', 'NVARCHAR(60)', 1, None, 0), (12, 'SupportRepId', 'INTEGER', 0, None, 0)]\n",
      "==================================\u001b[1m Ai Message \u001b[0m==================================\n",
      "Tool Calls:\n",
      "  execute_sql (call_I1gurETFdQn6ZPFoAeyn142d)\n",
      " Call ID: call_I1gurETFdQn6ZPFoAeyn142d\n",
      "  Args:\n",
      "    query: SELECT name FROM sqlite_master WHERE type='table' AND name IN ('Invoice','InvoiceLine','Invoices','Orders','Order','Purchase','Sales') ORDER BY name;\n",
      "=================================\u001b[1m Tool Message \u001b[0m=================================\n",
      "Name: execute_sql\n",
      "\n",
      "[('Invoice',), ('InvoiceLine',)]\n",
      "==================================\u001b[1m Ai Message \u001b[0m==================================\n",
      "Tool Calls:\n",
      "  execute_sql (call_qhODhJk4WfPQSH8RE3b6pt8C)\n",
      " Call ID: call_qhODhJk4WfPQSH8RE3b6pt8C\n",
      "  Args:\n",
      "    query: SELECT MAX(I.Total) AS MaxTotalUSD\n",
      "FROM Invoice AS I\n",
      "JOIN Customer AS C ON C.CustomerId = I.CustomerId\n",
      "WHERE C.FirstName = 'Frank' AND C.LastName = 'Harris';\n",
      "=================================\u001b[1m Tool Message \u001b[0m=================================\n",
      "Name: execute_sql\n",
      "\n",
      "[(13.86,)]\n",
      "==================================\u001b[1m Ai Message \u001b[0m==================================\n",
      "Tool Calls:\n",
      "  convert_currency (call_oasZgn6sxABKQHRAIcLZ3X2g)\n",
      " Call ID: call_oasZgn6sxABKQHRAIcLZ3X2g\n",
      "  Args:\n",
      "    amount: 13.86\n",
      "    from_currency: USD\n",
      "    to_currency: EUR\n",
      "=================================\u001b[1m Tool Message \u001b[0m=================================\n",
      "Name: convert_currency\n",
      "\n",
      "12.75\n",
      "==================================\u001b[1m Ai Message \u001b[0m==================================\n",
      "\n",
      "Frank Harris’s most costly purchase is 12.75 EUR.\n"
     ]
    }
   ],
   "source": [
    "question = \"What is the most costly purchase by Frank Harris in EUR?\"\n",
    "steps=[]\n",
    "\n",
    "for step in agent.stream(\n",
    "    {\"messages\": [{\"role\": \"user\", \"content\": question}]},\n",
    "    stream_mode=\"values\",\n",
    "):\n",
    "    step[\"messages\"][-1].pretty_print()\n",
    "    steps.append(step)"
   ]
  },
  {
   "cell_type": "code",
   "execution_count": null,
   "id": "352973f1-3ec4-41c4-b6d9-f99cf62df860",
   "metadata": {},
   "outputs": [],
   "source": [
    "Lets take a look at our message history\n"
   ]
  },
  {
   "cell_type": "code",
   "execution_count": 26,
   "id": "ff868bbb-1860-4175-8311-a663f4a1c917",
   "metadata": {},
   "outputs": [
    {
     "data": {
      "text/plain": [
       "12"
      ]
     },
     "execution_count": 26,
     "metadata": {},
     "output_type": "execute_result"
    }
   ],
   "source": [
    "len(steps)"
   ]
  },
  {
   "cell_type": "code",
   "execution_count": 44,
   "id": "cd85442b-0a33-48b2-a835-085522fbfd78",
   "metadata": {},
   "outputs": [],
   "source": [
    "def print_message(msg):\n",
    "    # Get all fields in the Pydantic object as a dict\n",
    "    data = msg.dict()\n",
    "    # Drop the noisy ones\n",
    "    data.pop(\"response_metadata\", None)\n",
    "    data.pop(\"usage_metadata\", None)\n",
    "    # Print the rest\n",
    "    print(f\"{msg.__class__.__name__}(\")\n",
    "    for k, v in data.items():\n",
    "        print(f\"  {k}={v!r},\", end =\"\")\n",
    "    print(\")\")\n",
    "\n"
   ]
  },
  {
   "cell_type": "code",
   "execution_count": 45,
   "id": "bf6a1b13-a13d-4136-a5d3-cb7608b393e4",
   "metadata": {},
   "outputs": [
    {
     "name": "stdout",
     "output_type": "stream",
     "text": [
      "HumanMessage(\n",
      "  content='What is the most costly purchase by Frank Harris in EUR?',  additional_kwargs={},  type='human',  name=None,  id='70bff948-071f-4ad2-a275-faa4a32e065c',)\n",
      "AIMessage(\n",
      "  content='',  additional_kwargs={'refusal': None},  type='ai',  name=None,  id='lc_run--16a888e6-3431-4d58-baaf-2d0c3a308590-0',  tool_calls=[{'name': 'execute_sql', 'args': {'query': \"SELECT name FROM sqlite_master WHERE type='table' AND (\\n  name LIKE '%customer%' OR name LIKE '%user%' OR name LIKE '%client%' OR\\n  name LIKE '%order%' OR name LIKE '%purchase%' OR name LIKE '%transaction%' OR name LIKE '%sale%'\\n) ORDER BY name LIMIT 5;\"}, 'id': 'call_U9Kgteg1THbuNAuD2nJVQngq', 'type': 'tool_call'}],  invalid_tool_calls=[],)\n",
      "ToolMessage(\n",
      "  content=\"[('Customer',)]\",  additional_kwargs={},  type='tool',  name='execute_sql',  id='3a3f4b51-ae8c-45ce-bb0d-471cb8cf1b18',  tool_call_id='call_U9Kgteg1THbuNAuD2nJVQngq',  artifact=None,  status='success',)\n",
      "AIMessage(\n",
      "  content='',  additional_kwargs={'refusal': None},  type='ai',  name=None,  id='lc_run--bb3fe223-cfc1-4496-85f9-addf1f2aa857-0',  tool_calls=[{'name': 'execute_sql', 'args': {'query': \"PRAGMA table_info('Customer');\"}, 'id': 'call_Dvs6ehDhNWaIvhW1TaQttbMI', 'type': 'tool_call'}],  invalid_tool_calls=[],)\n",
      "ToolMessage(\n",
      "  content=\"[(0, 'CustomerId', 'INTEGER', 1, None, 1), (1, 'FirstName', 'NVARCHAR(40)', 1, None, 0), (2, 'LastName', 'NVARCHAR(20)', 1, None, 0), (3, 'Company', 'NVARCHAR(80)', 0, None, 0), (4, 'Address', 'NVARCHAR(70)', 0, None, 0), (5, 'City', 'NVARCHAR(40)', 0, None, 0), (6, 'State', 'NVARCHAR(40)', 0, None, 0), (7, 'Country', 'NVARCHAR(40)', 0, None, 0), (8, 'PostalCode', 'NVARCHAR(10)', 0, None, 0), (9, 'Phone', 'NVARCHAR(24)', 0, None, 0), (10, 'Fax', 'NVARCHAR(24)', 0, None, 0), (11, 'Email', 'NVARCHAR(60)', 1, None, 0), (12, 'SupportRepId', 'INTEGER', 0, None, 0)]\",  additional_kwargs={},  type='tool',  name='execute_sql',  id='df9b315e-c9a0-4034-818c-3364cd8fd79b',  tool_call_id='call_Dvs6ehDhNWaIvhW1TaQttbMI',  artifact=None,  status='success',)\n",
      "AIMessage(\n",
      "  content='',  additional_kwargs={'refusal': None},  type='ai',  name=None,  id='lc_run--78da56a4-4f8e-4034-abda-aee18564f18c-0',  tool_calls=[{'name': 'execute_sql', 'args': {'query': \"SELECT name FROM sqlite_master WHERE type='table' AND name IN ('Invoice','InvoiceLine','Invoices','Orders','Order','Purchase','Sales') ORDER BY name;\"}, 'id': 'call_I1gurETFdQn6ZPFoAeyn142d', 'type': 'tool_call'}],  invalid_tool_calls=[],)\n",
      "ToolMessage(\n",
      "  content=\"[('Invoice',), ('InvoiceLine',)]\",  additional_kwargs={},  type='tool',  name='execute_sql',  id='9d47a911-281d-416d-bd58-35b43e3b5f9f',  tool_call_id='call_I1gurETFdQn6ZPFoAeyn142d',  artifact=None,  status='success',)\n",
      "AIMessage(\n",
      "  content='',  additional_kwargs={'refusal': None},  type='ai',  name=None,  id='lc_run--01357a61-5f38-4245-88af-65dea7b5349a-0',  tool_calls=[{'name': 'execute_sql', 'args': {'query': \"SELECT MAX(I.Total) AS MaxTotalUSD\\nFROM Invoice AS I\\nJOIN Customer AS C ON C.CustomerId = I.CustomerId\\nWHERE C.FirstName = 'Frank' AND C.LastName = 'Harris';\"}, 'id': 'call_qhODhJk4WfPQSH8RE3b6pt8C', 'type': 'tool_call'}],  invalid_tool_calls=[],)\n",
      "ToolMessage(\n",
      "  content='[(13.86,)]',  additional_kwargs={},  type='tool',  name='execute_sql',  id='6c3816f1-cff4-4435-8994-327c1e27ee7d',  tool_call_id='call_qhODhJk4WfPQSH8RE3b6pt8C',  artifact=None,  status='success',)\n",
      "AIMessage(\n",
      "  content='',  additional_kwargs={'refusal': None},  type='ai',  name=None,  id='lc_run--702ef5c0-cf92-4e95-8848-e441b41161a3-0',  tool_calls=[{'name': 'convert_currency', 'args': {'amount': 13.86, 'from_currency': 'USD', 'to_currency': 'EUR'}, 'id': 'call_oasZgn6sxABKQHRAIcLZ3X2g', 'type': 'tool_call'}],  invalid_tool_calls=[],)\n",
      "ToolMessage(\n",
      "  content='12.75',  additional_kwargs={},  type='tool',  name='convert_currency',  id='f5229153-36d0-4110-9517-0b7fef71aeb4',  tool_call_id='call_oasZgn6sxABKQHRAIcLZ3X2g',  artifact=None,  status='success',)\n",
      "AIMessage(\n",
      "  content='Frank Harris’s most costly purchase is 12.75 EUR.',  additional_kwargs={'refusal': None},  type='ai',  name=None,  id='lc_run--b9608023-0a59-493d-9372-c1af2df4d923-0',  tool_calls=[],  invalid_tool_calls=[],)\n"
     ]
    },
    {
     "name": "stderr",
     "output_type": "stream",
     "text": [
      "/var/folders/jz/2tg__xkj7fq6_dzmcc85dlvh0000gn/T/ipykernel_81711/400630682.py:3: PydanticDeprecatedSince20: The `dict` method is deprecated; use `model_dump` instead. Deprecated in Pydantic V2.0 to be removed in V3.0. See Pydantic V2 Migration Guide at https://errors.pydantic.dev/2.12/migration/\n",
      "  data = msg.dict()\n"
     ]
    }
   ],
   "source": [
    "for m in steps[-1][\"messages\"]:\n",
    "    print_message(m)"
   ]
  },
  {
   "cell_type": "code",
   "execution_count": 43,
   "id": "536e3fa3-1b8b-423b-9f47-92f2ddb29df7",
   "metadata": {},
   "outputs": [
    {
     "ename": "_IncompleteInputError",
     "evalue": "incomplete input (3488395516.py, line 4)",
     "output_type": "error",
     "traceback": [
      "  \u001b[36mCell\u001b[39m\u001b[36m \u001b[39m\u001b[32mIn[43]\u001b[39m\u001b[32m, line 4\u001b[39m\n\u001b[31m    \u001b[39m\u001b[31mprint_message(m0\u001b[39m\n                    ^\n\u001b[31m_IncompleteInputError\u001b[39m\u001b[31m:\u001b[39m incomplete input\n"
     ]
    }
   ],
   "source": [
    "for i, step in enumerate(steps):\n",
    "    print(f\"========== step{i} ===============\")\n",
    "    for m in step[\"messages\"]:\n",
    "        print_message(m0\n"
   ]
  },
  {
   "cell_type": "code",
   "execution_count": null,
   "id": "fc965181-609e-470c-a70c-886e6994cfd7",
   "metadata": {},
   "outputs": [],
   "source": []
  },
  {
   "cell_type": "code",
   "execution_count": null,
   "id": "ede16d8f-0795-4433-9bfc-3295835a0264",
   "metadata": {},
   "outputs": [],
   "source": []
  },
  {
   "cell_type": "code",
   "execution_count": null,
   "id": "66c9c561-912f-4a53-a8b4-67080c5b6b56",
   "metadata": {},
   "outputs": [],
   "source": []
  },
  {
   "cell_type": "code",
   "execution_count": null,
   "id": "c6137fd0-fc6a-4410-b939-045ed2cbcb87",
   "metadata": {},
   "outputs": [],
   "source": []
  },
  {
   "cell_type": "code",
   "execution_count": null,
   "id": "2a9cc553-7357-4d36-b88d-25eaf7462cf6",
   "metadata": {},
   "outputs": [],
   "source": []
  }
 ],
 "metadata": {
  "kernelspec": {
   "display_name": "Python 3 (ipykernel)",
   "language": "python",
   "name": "python3"
  },
  "language_info": {
   "codemirror_mode": {
    "name": "ipython",
    "version": 3
   },
   "file_extension": ".py",
   "mimetype": "text/x-python",
   "name": "python",
   "nbconvert_exporter": "python",
   "pygments_lexer": "ipython3",
   "version": "3.13.5"
  }
 },
 "nbformat": 4,
 "nbformat_minor": 5
}
