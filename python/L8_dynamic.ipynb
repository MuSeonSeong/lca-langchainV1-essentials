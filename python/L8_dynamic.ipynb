{
 "cells": [
  {
   "cell_type": "markdown",
   "id": "fff8e916-9368-47b0-b085-5e2fde77993b",
   "metadata": {},
   "source": [
    "# Dynamic\n",
    "## Dynamic Prompt"
   ]
  },
  {
   "cell_type": "code",
   "execution_count": 1,
   "id": "ed0080bb-d019-4da0-b75d-13e427173f78",
   "metadata": {},
   "outputs": [],
   "source": [
    "from langchain_community.utilities import SQLDatabase\n",
    "\n",
    "db = SQLDatabase.from_uri(\"sqlite:///Chinook.db\")"
   ]
  },
  {
   "cell_type": "code",
   "execution_count": 2,
   "id": "85966155-57c1-486c-a1eb-42ed942d8cd3",
   "metadata": {},
   "outputs": [],
   "source": [
    "from langchain.chat_models import init_chat_model\n",
    "\n",
    "model = init_chat_model(\"openai:gpt-5\")"
   ]
  },
  {
   "cell_type": "code",
   "execution_count": 3,
   "id": "44956582-7f68-4da5-8938-a77489795e64",
   "metadata": {},
   "outputs": [],
   "source": [
    "from langchain_core.tools import tool\n",
    "\n",
    "\n",
    "@tool\n",
    "def execute_sql(query: str) -> str:\n",
    "    \"\"\"Execute a SQLite command and return results.\"\"\"\n",
    "    try:\n",
    "        return db.run(query)\n",
    "    except Exception as e:\n",
    "        return f\"Error: {e}\""
   ]
  },
  {
   "cell_type": "code",
   "execution_count": null,
   "id": "b60346fe-505d-4edc-b4be-a43ae4fb88e7",
   "metadata": {},
   "outputs": [],
   "source": [
    "from dataclasses import dataclass\n",
    "\n",
    "\n",
    "@dataclass\n",
    "class RuntimeContext:\n",
    "    is_employee: bool"
   ]
  },
  {
   "cell_type": "code",
   "execution_count": 5,
   "id": "e4b004b5-5582-4815-80af-0d3307db19ea",
   "metadata": {},
   "outputs": [],
   "source": [
    "SYSTEM_PROMPT_TEMPLATE = \"\"\"You are a careful SQLite analyst.\n",
    "\n",
    "Rules:\n",
    "- Think step-by-step.\n",
    "- When you need data, call the tool `execute_sql` with ONE SELECT query.\n",
    "- Read-only only; no INSERT/UPDATE/DELETE/ALTER/DROP/CREATE/REPLACE/TRUNCATE.\n",
    "- Limit to 5 rows unless the user explicitly asks otherwise.\n",
    "{table_limits}\n",
    "- If the tool returns 'Error:', revise the SQL and try again.\n",
    "- Prefer explicit column lists; avoid SELECT *.\n",
    "\"\"\""
   ]
  },
  {
   "cell_type": "code",
   "execution_count": null,
   "id": "d033e009-bf20-46ff-9f58-0e531db16436",
   "metadata": {},
   "outputs": [],
   "source": [
    "from langchain.agents.middleware.types import AgentState, ModelRequest, dynamic_prompt\n",
    "from langgraph.runtime import Runtime\n",
    "\n",
    "\n",
    "@dynamic_prompt\n",
    "def dynamic_system_prompt(\n",
    "    request: ModelRequest, state: AgentState, runtime: Runtime[RuntimeContext]\n",
    ") -> str:\n",
    "    if not runtime.context.is_employee:\n",
    "        table_limits = \"- Limit access to these tables: Album, Artist, Genre, Playlist, PlaylistTrack, Track.\"\n",
    "    else:\n",
    "        table_limits = \"\"\n",
    "\n",
    "    return SYSTEM_PROMPT_TEMPLATE.format(table_limits=table_limits)"
   ]
  },
  {
   "cell_type": "code",
   "execution_count": 7,
   "id": "ac312a68-5357-4156-ae65-15650057966c",
   "metadata": {},
   "outputs": [],
   "source": [
    "from langchain.agents import create_agent\n",
    "\n",
    "agent = create_agent(\n",
    "    model=\"openai:gpt-5\",\n",
    "    tools=[execute_sql],\n",
    "    middleware=[dynamic_system_prompt],\n",
    "    context_schema=RuntimeContext,\n",
    ")"
   ]
  },
  {
   "cell_type": "code",
   "execution_count": null,
   "id": "04f27e7f-0517-40d4-bd2c-b015563138dc",
   "metadata": {},
   "outputs": [
    {
     "name": "stdout",
     "output_type": "stream",
     "text": [
      "================================\u001b[1m Human Message \u001b[0m=================================\n",
      "\n",
      "What is the most costly purchase by Frank Harris?\n",
      "==================================\u001b[1m Ai Message \u001b[0m==================================\n",
      "\n",
      "I can’t determine purchases with the tables I’m allowed to query. “Most costly purchase by Frank Harris” would require the Customer, Invoice, and InvoiceLine tables (to find his largest transaction or most expensive item).\n",
      "\n",
      "Could you confirm:\n",
      "- Do you mean the customer named “Frank Harris”? If so, please allow access to Customer, Invoice, and InvoiceLine (and specify whether you want his largest single invoice total or the most expensive item he bought).\n",
      "- Or did you mean something else (e.g., an artist named Frank Harris and the most expensive track/album)?\n"
     ]
    }
   ],
   "source": [
    "question = \"What is the most costly purchase by Frank Harris?\"\n",
    "steps = []\n",
    "\n",
    "for step in agent.stream(\n",
    "    {\"messages\": [{\"role\": \"user\", \"content\": question}]},\n",
    "    context=RuntimeContext(is_employee=False),\n",
    "    stream_mode=\"values\",\n",
    "):\n",
    "    step[\"messages\"][-1].pretty_print()\n",
    "    steps.append(step)"
   ]
  },
  {
   "cell_type": "code",
   "execution_count": null,
   "id": "a90f6731-d76f-4698-a4a0-1805b0d2d321",
   "metadata": {},
   "outputs": [
    {
     "name": "stdout",
     "output_type": "stream",
     "text": [
      "================================\u001b[1m Human Message \u001b[0m=================================\n",
      "\n",
      "What is the most costly purchase by Frank Harris?\n",
      "==================================\u001b[1m Ai Message \u001b[0m==================================\n",
      "Tool Calls:\n",
      "  execute_sql (call_wkYuOVn6LPKsd0kvfsFtEI9b)\n",
      " Call ID: call_wkYuOVn6LPKsd0kvfsFtEI9b\n",
      "  Args:\n",
      "    query: SELECT name FROM sqlite_master WHERE type='table' ORDER BY name LIMIT 5;\n",
      "=================================\u001b[1m Tool Message \u001b[0m=================================\n",
      "Name: execute_sql\n",
      "\n",
      "[('Album',), ('Artist',), ('Customer',), ('Employee',), ('Genre',)]\n",
      "==================================\u001b[1m Ai Message \u001b[0m==================================\n",
      "Tool Calls:\n",
      "  execute_sql (call_ORHys3QG09Z9ae5O7zF2To9I)\n",
      " Call ID: call_ORHys3QG09Z9ae5O7zF2To9I\n",
      "  Args:\n",
      "    query: SELECT i.InvoiceId, i.InvoiceDate, i.Total\n",
      "FROM Invoice i\n",
      "JOIN Customer c ON i.CustomerId = c.CustomerId\n",
      "WHERE c.FirstName = 'Frank' AND c.LastName = 'Harris'\n",
      "ORDER BY i.Total DESC, i.InvoiceDate DESC\n",
      "LIMIT 5;\n",
      "=================================\u001b[1m Tool Message \u001b[0m=================================\n",
      "Name: execute_sql\n",
      "\n",
      "[(145, '2010-09-23 00:00:00', 13.86), (200, '2011-05-24 00:00:00', 8.91), (374, '2013-07-04 00:00:00', 5.94), (352, '2013-04-01 00:00:00', 3.96), (329, '2012-12-28 00:00:00', 1.98)]\n"
     ]
    }
   ],
   "source": [
    "question = \"What is the most costly purchase by Frank Harris?\"\n",
    "steps = []\n",
    "\n",
    "for step in agent.stream(\n",
    "    {\"messages\": [{\"role\": \"user\", \"content\": question}]},\n",
    "    context=RuntimeContext(is_employee=True),\n",
    "    stream_mode=\"values\",\n",
    "):\n",
    "    step[\"messages\"][-1].pretty_print()\n",
    "    steps.append(step)"
   ]
  }
 ],
 "metadata": {
  "kernelspec": {
   "display_name": "Python 3 (ipykernel)",
   "language": "python",
   "name": "python3"
  },
  "language_info": {
   "codemirror_mode": {
    "name": "ipython",
    "version": 3
   },
   "file_extension": ".py",
   "mimetype": "text/x-python",
   "name": "python",
   "nbconvert_exporter": "python",
   "pygments_lexer": "ipython3",
   "version": "3.13.2"
  }
 },
 "nbformat": 4,
 "nbformat_minor": 5
}
