{
 "cells": [
  {
   "cell_type": "markdown",
   "id": "fff8e916-9368-47b0-b085-5e2fde77993b",
   "metadata": {},
   "source": [
    "# Dynamic\n",
    "## Dynamic Prompt"
   ]
  },
  {
   "cell_type": "code",
   "execution_count": 1,
   "id": "ed0080bb-d019-4da0-b75d-13e427173f78",
   "metadata": {},
   "outputs": [],
   "source": [
    "from langchain_community.utilities import SQLDatabase\n",
    "\n",
    "db = SQLDatabase.from_uri(\"sqlite:///Chinook.db\")"
   ]
  },
  {
   "cell_type": "code",
   "execution_count": 2,
   "id": "85966155-57c1-486c-a1eb-42ed942d8cd3",
   "metadata": {},
   "outputs": [],
   "source": [
    "from langchain.chat_models import init_chat_model\n",
    "\n",
    "model = init_chat_model(\"openai:gpt-5\")"
   ]
  },
  {
   "cell_type": "code",
   "execution_count": 3,
   "id": "44956582-7f68-4da5-8938-a77489795e64",
   "metadata": {},
   "outputs": [],
   "source": [
    "from langchain_core.tools import tool\n",
    "    \n",
    "@tool\n",
    "def execute_sql(query: str) -> str:\n",
    "    \"\"\"Execute a SQLite command and return results.\"\"\"\n",
    "    try:\n",
    "        return db.run(query)\n",
    "    except Exception as e:\n",
    "        return f\"Error: {e}\"\n"
   ]
  },
  {
   "cell_type": "code",
   "execution_count": 4,
   "id": "b60346fe-505d-4edc-b4be-a43ae4fb88e7",
   "metadata": {},
   "outputs": [],
   "source": [
    "from typing import TypedDict\n",
    "\n",
    "class RuntimeContext(TypedDict):\n",
    "    is_employee: bool\n"
   ]
  },
  {
   "cell_type": "code",
   "execution_count": 5,
   "id": "e4b004b5-5582-4815-80af-0d3307db19ea",
   "metadata": {},
   "outputs": [],
   "source": [
    "SYSTEM_TEMPLATE = \"\"\"You are a careful SQLite analyst.\n",
    "\n",
    "Rules:\n",
    "- Think step-by-step.\n",
    "- When you need data, call the tool `execute_sql` with ONE SELECT query.\n",
    "- Read-only only; no INSERT/UPDATE/DELETE/ALTER/DROP/CREATE/REPLACE/TRUNCATE.\n",
    "- Limit to 5 rows unless the user explicitly asks otherwise.\n",
    "{table_limits}\n",
    "- If the tool returns 'Error:', revise the SQL and try again.\n",
    "- Prefer explicit column lists; avoid SELECT *.\n",
    "\"\"\"\n"
   ]
  },
  {
   "cell_type": "code",
   "execution_count": 7,
   "id": "d033e009-bf20-46ff-9f58-0e531db16436",
   "metadata": {},
   "outputs": [],
   "source": [
    "from langchain.agents.middleware.types import modify_model_request, AgentState, ModelRequest\n",
    "from langgraph.runtime import Runtime\n",
    "\n",
    "@modify_model_request\n",
    "def dynamic_system_prompt(request: ModelRequest, state: AgentState, runtime: Runtime[RuntimeContext]) -> ModelRequest:\n",
    "    \n",
    "    is_employee = runtime.context.get(\"is_employee\", False)\n",
    "\n",
    "    if not is_employee:\n",
    "        table_limits = \"- Limit access to these tables: Album, Artist, Genre, Playlist, PlaylistTrack, Track.\"\n",
    "    else:\n",
    "        table_limits = \"\"\n",
    "    \n",
    "    request.system_prompt = SYSTEM_TEMPLATE.format(table_limits=table_limits)\n",
    "    return request\n",
    "\n"
   ]
  },
  {
   "cell_type": "code",
   "execution_count": 10,
   "id": "ac312a68-5357-4156-ae65-15650057966c",
   "metadata": {},
   "outputs": [],
   "source": [
    "from langchain.agents import create_agent\n",
    "from langchain_core.messages import SystemMessage\n",
    "\n",
    "agent = create_agent(\n",
    "    model=\"openai:gpt-5\",\n",
    "    tools=[execute_sql],\n",
    "    middleware=[dynamic_system_prompt],\n",
    "    context_schema=RuntimeContext\n",
    ")"
   ]
  },
  {
   "cell_type": "code",
   "execution_count": 12,
   "id": "04f27e7f-0517-40d4-bd2c-b015563138dc",
   "metadata": {},
   "outputs": [
    {
     "name": "stdout",
     "output_type": "stream",
     "text": [
      "================================\u001b[1m Human Message \u001b[0m=================================\n",
      "\n",
      "What is the most costly purchase by Frank Harris?\n",
      "==================================\u001b[1m Ai Message \u001b[0m==================================\n",
      "\n",
      "I can’t determine purchases with the tables I’m allowed to query. To find the most costly purchase by Frank Harris, I need access to customer and billing data (e.g., Customer, Invoice, and InvoiceLine tables).\n",
      "\n",
      "Could you allow read access to those tables, or clarify whether you meant something else (for example, the most expensive track or album related to an artist named Frank Harris)?\n"
     ]
    }
   ],
   "source": [
    "question = \"What is the most costly purchase by Frank Harris?\"\n",
    "steps=[]\n",
    "\n",
    "for step in agent.stream(\n",
    "    {\"messages\": [{\"role\": \"user\", \"content\": question}]},\n",
    "    context={\"is_employee\": False},   \n",
    "    stream_mode=\"values\",\n",
    "):\n",
    "    step[\"messages\"][-1].pretty_print()\n",
    "    steps.append(step)"
   ]
  },
  {
   "cell_type": "code",
   "execution_count": 13,
   "id": "a90f6731-d76f-4698-a4a0-1805b0d2d321",
   "metadata": {},
   "outputs": [
    {
     "name": "stdout",
     "output_type": "stream",
     "text": [
      "================================\u001b[1m Human Message \u001b[0m=================================\n",
      "\n",
      "What is the most costly purchase by Frank Harris?\n",
      "==================================\u001b[1m Ai Message \u001b[0m==================================\n",
      "Tool Calls:\n",
      "  execute_sql (call_xlXpfjawIO2MIXTcCWafht5l)\n",
      " Call ID: call_xlXpfjawIO2MIXTcCWafht5l\n",
      "  Args:\n",
      "    query: SELECT name, sql FROM sqlite_master WHERE type='table' ORDER BY name LIMIT 5;\n",
      "=================================\u001b[1m Tool Message \u001b[0m=================================\n",
      "Name: execute_sql\n",
      "\n",
      "[('Album', 'CREATE TABLE [Album]\\n(\\n    [AlbumId] INTEGER  NOT NULL,\\n    [Title] NVARCHAR(160)  NOT NULL,\\n    [ArtistId] INTEGER  NOT NULL,\\n    CONSTRAINT [PK_Album] PRIMARY KEY  ([AlbumId]),\\n    FOREIGN KEY ([ArtistId]) REFERENCES [Artist] ([ArtistId]) \\n\\t\\tON DELETE NO ACTION ON UPDATE NO ACTION\\n)'), ('Artist', 'CREATE TABLE [Artist]\\n(\\n    [ArtistId] INTEGER  NOT NULL,\\n    [Name] NVARCHAR(120),\\n    CONSTRAINT [PK_Artist] PRIMARY KEY  ([ArtistId])\\n)'), ('Customer', 'CREATE TABLE [Customer]\\n(\\n    [CustomerId] INTEGER  NOT NULL,\\n    [FirstName] NVARCHAR(40)  NOT NULL,\\n    [LastName] NVARCHAR(20)  NOT NULL,\\n    [Company] NVARCHAR(80),\\n    [Address] NVARCHAR(70),\\n    [City] NVARCHAR(40),\\n    [State] NVARCHAR(40),\\n    [Country] NVARCHAR(40),\\n    [PostalCode]...'), ('Employee', 'CREATE TABLE [Employee]\\n(\\n    [EmployeeId] INTEGER  NOT NULL,\\n    [LastName] NVARCHAR(20)  NOT NULL,\\n    [FirstName] NVARCHAR(20)  NOT NULL,\\n    [Title] NVARCHAR(30),\\n    [ReportsTo] INTEGER,\\n    [BirthDate] DATETIME,\\n    [HireDate] DATETIME,\\n    [Address] NVARCHAR(70),\\n    [City] NVARCHAR(40),\\n...'), ('Genre', 'CREATE TABLE [Genre]\\n(\\n    [GenreId] INTEGER  NOT NULL,\\n    [Name] NVARCHAR(120),\\n    CONSTRAINT [PK_Genre] PRIMARY KEY  ([GenreId])\\n)')]\n",
      "==================================\u001b[1m Ai Message \u001b[0m==================================\n",
      "Tool Calls:\n",
      "  execute_sql (call_NSNMBJhQ0n416TN5FQ4aHIJH)\n",
      " Call ID: call_NSNMBJhQ0n416TN5FQ4aHIJH\n",
      "  Args:\n",
      "    query: SELECT i.InvoiceId, i.InvoiceDate, i.Total\n",
      "FROM Customer AS c\n",
      "JOIN Invoice AS i ON i.CustomerId = c.CustomerId\n",
      "WHERE c.FirstName = 'Frank' AND c.LastName = 'Harris'\n",
      "ORDER BY i.Total DESC, i.InvoiceId ASC\n",
      "LIMIT 1;\n",
      "=================================\u001b[1m Tool Message \u001b[0m=================================\n",
      "Name: execute_sql\n",
      "\n",
      "[(145, '2010-09-23 00:00:00', 13.86)]\n",
      "==================================\u001b[1m Ai Message \u001b[0m==================================\n",
      "\n",
      "$13.86 (Invoice 145 on 2010-09-23).\n"
     ]
    }
   ],
   "source": [
    "question = \"What is the most costly purchase by Frank Harris?\"\n",
    "steps=[]\n",
    "\n",
    "for step in agent.stream(\n",
    "    {\"messages\": [{\"role\": \"user\", \"content\": question}]},\n",
    "    context={\"is_employee\": True},   \n",
    "    stream_mode=\"values\",\n",
    "):\n",
    "    step[\"messages\"][-1].pretty_print()\n",
    "    steps.append(step)"
   ]
  },
  {
   "cell_type": "code",
   "execution_count": null,
   "id": "d58d580f-7d2c-4aa6-a139-b93150ec343c",
   "metadata": {},
   "outputs": [],
   "source": []
  },
  {
   "cell_type": "code",
   "execution_count": null,
   "id": "c6fd784e-e367-4b26-ba46-82625b340aa9",
   "metadata": {},
   "outputs": [],
   "source": []
  }
 ],
 "metadata": {
  "kernelspec": {
   "display_name": "Python 3 (ipykernel)",
   "language": "python",
   "name": "python3"
  },
  "language_info": {
   "codemirror_mode": {
    "name": "ipython",
    "version": 3
   },
   "file_extension": ".py",
   "mimetype": "text/x-python",
   "name": "python",
   "nbconvert_exporter": "python",
   "pygments_lexer": "ipython3",
   "version": "3.13.5"
  }
 },
 "nbformat": 4,
 "nbformat_minor": 5
}
