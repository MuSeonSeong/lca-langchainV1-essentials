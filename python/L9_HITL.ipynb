{
 "cells": [
  {
   "cell_type": "markdown",
   "id": "e0c82cb7-58cc-4cf0-86af-5ecefa582a09",
   "metadata": {},
   "source": [
    "# MiddleWare: Human In The Loop"
   ]
  },
  {
   "cell_type": "code",
   "execution_count": null,
   "id": "d575902f-ff96-44d4-93bd-77f61b5eccd9",
   "metadata": {},
   "outputs": [],
   "source": []
  },
  {
   "cell_type": "code",
   "execution_count": 42,
   "id": "0b8345cd-f457-4d81-9340-127f9858abc7",
   "metadata": {},
   "outputs": [
    {
     "ename": "NameError",
     "evalue": "name 'write_file_tool' is not defined",
     "output_type": "error",
     "traceback": [
      "\u001b[31m---------------------------------------------------------------------------\u001b[39m",
      "\u001b[31mNameError\u001b[39m                                 Traceback (most recent call last)",
      "\u001b[36mCell\u001b[39m\u001b[36m \u001b[39m\u001b[32mIn[42]\u001b[39m\u001b[32m, line 7\u001b[39m\n\u001b[32m      2\u001b[39m \u001b[38;5;28;01mfrom\u001b[39;00m\u001b[38;5;250m \u001b[39m\u001b[34;01mlangchain\u001b[39;00m\u001b[34;01m.\u001b[39;00m\u001b[34;01magents\u001b[39;00m\u001b[34;01m.\u001b[39;00m\u001b[34;01mmiddleware\u001b[39;00m\u001b[38;5;250m \u001b[39m\u001b[38;5;28;01mimport\u001b[39;00m HumanInTheLoopMiddleware \n\u001b[32m      3\u001b[39m \u001b[38;5;28;01mfrom\u001b[39;00m\u001b[38;5;250m \u001b[39m\u001b[34;01mlanggraph\u001b[39;00m\u001b[34;01m.\u001b[39;00m\u001b[34;01mcheckpoint\u001b[39;00m\u001b[34;01m.\u001b[39;00m\u001b[34;01mmemory\u001b[39;00m\u001b[38;5;250m \u001b[39m\u001b[38;5;28;01mimport\u001b[39;00m InMemorySaver \n\u001b[32m      5\u001b[39m agent = create_agent(\n\u001b[32m      6\u001b[39m     model=\u001b[33m\"\u001b[39m\u001b[33mopenai:gpt-4o\u001b[39m\u001b[33m\"\u001b[39m,\n\u001b[32m----> \u001b[39m\u001b[32m7\u001b[39m     tools=[\u001b[43mwrite_file_tool\u001b[49m, execute_sql_tool, read_data_tool],\n\u001b[32m      8\u001b[39m     middleware=[\n\u001b[32m      9\u001b[39m         HumanInTheLoopMiddleware( \n\u001b[32m     10\u001b[39m             interrupt_on={\n\u001b[32m     11\u001b[39m                 \u001b[33m\"\u001b[39m\u001b[33mwrite_file\u001b[39m\u001b[33m\"\u001b[39m: \u001b[38;5;28;01mTrue\u001b[39;00m,  \u001b[38;5;66;03m# All actions (accept, edit, respond) allowed\u001b[39;00m\n\u001b[32m     12\u001b[39m                 \u001b[33m\"\u001b[39m\u001b[33mexecute_sql\u001b[39m\u001b[33m\"\u001b[39m: {\u001b[33m\"\u001b[39m\u001b[33mallow_accept\u001b[39m\u001b[33m\"\u001b[39m: \u001b[38;5;28;01mTrue\u001b[39;00m, \u001b[33m\"\u001b[39m\u001b[33mallow_respond\u001b[39m\u001b[33m\"\u001b[39m: \u001b[38;5;28;01mTrue\u001b[39;00m},  \u001b[38;5;66;03m# No editing allowed\u001b[39;00m\n\u001b[32m     13\u001b[39m                 \u001b[38;5;66;03m# Safe operation, no approval needed\u001b[39;00m\n\u001b[32m     14\u001b[39m                 \u001b[33m\"\u001b[39m\u001b[33mread_data\u001b[39m\u001b[33m\"\u001b[39m: \u001b[38;5;28;01mFalse\u001b[39;00m,\n\u001b[32m     15\u001b[39m             },\n\u001b[32m     16\u001b[39m             \u001b[38;5;66;03m# Prefix for interrupt messages - combined with tool name and args to form the full message\u001b[39;00m\n\u001b[32m     17\u001b[39m             \u001b[38;5;66;03m# e.g., \"Tool execution pending approval: execute_sql with query='DELETE FROM...'\"\u001b[39;00m\n\u001b[32m     18\u001b[39m             \u001b[38;5;66;03m# Individual tools can override this by specifying a \"description\" in their interrupt config\u001b[39;00m\n\u001b[32m     19\u001b[39m             description_prefix=\u001b[33m\"\u001b[39m\u001b[33mTool execution pending approval\u001b[39m\u001b[33m\"\u001b[39m,\n\u001b[32m     20\u001b[39m         ),\n\u001b[32m     21\u001b[39m     ],\n\u001b[32m     22\u001b[39m     \u001b[38;5;66;03m# Human-in-the-loop requires checkpointing to handle interrupts.\u001b[39;00m\n\u001b[32m     23\u001b[39m     \u001b[38;5;66;03m# In production, use a persistent checkpointer like AsyncPostgresSaver.\u001b[39;00m\n\u001b[32m     24\u001b[39m     checkpointer=InMemorySaver(),  \n\u001b[32m     25\u001b[39m )\n",
      "\u001b[31mNameError\u001b[39m: name 'write_file_tool' is not defined"
     ]
    }
   ],
   "source": [
    "from langchain.agents import create_agent\n",
    "from langchain.agents.middleware import HumanInTheLoopMiddleware \n",
    "from langgraph.checkpoint.memory import InMemorySaver \n",
    "\n",
    "agent = create_agent(\n",
    "    model=\"openai:gpt-4o\",\n",
    "    tools=[write_file_tool, execute_sql_tool, read_data_tool],\n",
    "    middleware=[\n",
    "        HumanInTheLoopMiddleware( \n",
    "            interrupt_on={\n",
    "                \"write_file\": True,  # All actions (accept, edit, respond) allowed\n",
    "                \"execute_sql\": {\"allow_accept\": True, \"allow_respond\": True},  # No editing allowed\n",
    "                # Safe operation, no approval needed\n",
    "                \"read_data\": False,\n",
    "            },\n",
    "            # Prefix for interrupt messages - combined with tool name and args to form the full message\n",
    "            # e.g., \"Tool execution pending approval: execute_sql with query='DELETE FROM...'\"\n",
    "            # Individual tools can override this by specifying a \"description\" in their interrupt config\n",
    "            description_prefix=\"Tool execution pending approval\",\n",
    "        ),\n",
    "    ],\n",
    "    # Human-in-the-loop requires checkpointing to handle interrupts.\n",
    "    # In production, use a persistent checkpointer like AsyncPostgresSaver.\n",
    "    checkpointer=InMemorySaver(),  \n",
    ")"
   ]
  },
  {
   "cell_type": "code",
   "execution_count": null,
   "id": "a196aefd-3c54-449b-b36c-464e014e4bc6",
   "metadata": {},
   "outputs": [],
   "source": []
  },
  {
   "cell_type": "code",
   "execution_count": null,
   "id": "4fed7885-0f2b-4cc8-b5c9-e958a515d98d",
   "metadata": {},
   "outputs": [],
   "source": []
  },
  {
   "cell_type": "code",
   "execution_count": null,
   "id": "7e8826c6-bc7b-45ff-9968-97b47caad4a5",
   "metadata": {},
   "outputs": [],
   "source": []
  },
  {
   "cell_type": "code",
   "execution_count": null,
   "id": "81c92439-6ea9-423f-b171-1e154f9a2235",
   "metadata": {},
   "outputs": [],
   "source": []
  },
  {
   "cell_type": "markdown",
   "id": "abcb8ffd-e0ea-41bb-9571-e11890f4f597",
   "metadata": {},
   "source": [
    "## Setup"
   ]
  },
  {
   "cell_type": "code",
   "execution_count": 43,
   "id": "1ba24dd6-7a31-4fba-8077-2bff96e1ed4a",
   "metadata": {},
   "outputs": [],
   "source": [
    "from langchain_community.utilities import SQLDatabase\n",
    "\n",
    "db = SQLDatabase.from_uri(\"sqlite:///Chinook.db\")"
   ]
  },
  {
   "cell_type": "code",
   "execution_count": 44,
   "id": "7f2474e1-6abf-4c24-bf50-b75090ec1ec0",
   "metadata": {},
   "outputs": [],
   "source": [
    "from langchain.chat_models import init_chat_model\n",
    "\n",
    "llm = init_chat_model(\"openai:gpt-5\")"
   ]
  },
  {
   "cell_type": "code",
   "execution_count": 45,
   "id": "078cff75-a086-487b-a566-bdb40684d8c3",
   "metadata": {},
   "outputs": [],
   "source": [
    "from typing import TypedDict\n",
    "\n",
    "# Setup your agent runtime context\n",
    "class Context(TypedDict):\n",
    "    first: str\n",
    "    last: str\n",
    "    "
   ]
  },
  {
   "cell_type": "code",
   "execution_count": 55,
   "id": "1c441379-d050-4353-a936-f0c7650c141a",
   "metadata": {},
   "outputs": [],
   "source": [
    "import re\n",
    "\n",
    "from langgraph.runtime import Runtime, get_runtime\n",
    "from langchain_core.tools import tool\n",
    "\n",
    "def _execute_sql(query: str) -> str:\n",
    "    \"\"\"Execute a SQLite command and return results.\n",
    "    Named parameters like :first and :last will be filled from runtime context.\"\"\"\n",
    "    runtime = get_runtime(Context)\n",
    "    try:\n",
    "        placeholders = re.findall(r\":(\\w+)\", query)\n",
    "\n",
    "        if placeholders:\n",
    "            params = {\n",
    "                p: runtime.context[p]\n",
    "                for p in placeholders\n",
    "                if p in runtime.context\n",
    "            }\n",
    "            return db.run(query, parameters=params)\n",
    "        else:\n",
    "            return db.run(query)\n",
    "    except Exception as e:\n",
    "        return f\"Error: {e}\"\n",
    "@tool\n",
    "def execute_nonemployee_sql(query: str) -> str:\n",
    "    \"\"\"Execute a SQLite command and return results.\n",
    "    Call this for any access that do not access the employee table.\n",
    "    Named parameters like :first and :last will be filled from runtime context.\"\"\"\n",
    "    return _execute_sql(query)\n",
    "\n",
    "@tool\n",
    "def execute_employee_sql(query: str) -> str:\n",
    "    \"\"\"Execute a SQLite command that access the employee table and return results.\n",
    "    Named parameters like :first and :last will be filled from runtime context.\"\"\"\n",
    "    return _execute_sql(query)\n",
    "\n"
   ]
  },
  {
   "cell_type": "code",
   "execution_count": 73,
   "id": "5d8f5e3c-d792-434b-9339-3289bbf8398a",
   "metadata": {},
   "outputs": [],
   "source": [
    "SYSTEM = \"\"\"You are a careful SQLite analyst.\n",
    "\n",
    "Rules:\n",
    "- Think step-by-step.\n",
    "- When you need data, call the tool `execute_sql` with ONE SELECT query.\n",
    "- Read-only only; no INSERT/UPDATE/DELETE/ALTER/DROP/CREATE/REPLACE/TRUNCATE.\n",
    "- Limit to 5 rows unless the user explicitly asks otherwise.\n",
    "- If the tool returns 'Error:', revise the SQL and try again.\n",
    "- Prefer explicit column lists; avoid SELECT *.\n",
    "- If a query involves a specific customer, always use the named parameters\n",
    "  :first and :last (instead of hard-coding values).\n",
    "  Example: SELECT InvoiceId, Total FROM Invoice\n",
    "           JOIN Customer ON Invoice.CustomerId = Customer.CustomerId\n",
    "           WHERE Customer.FirstName = :first AND Customer.LastName = :last;\n",
    "  Assume the customer first and last name are known and will be inserted into the query later.\n",
    "\"\"\""
   ]
  },
  {
   "cell_type": "code",
   "execution_count": 96,
   "id": "a26b4586-453a-4c10-9fae-4be3f4cb6cd4",
   "metadata": {},
   "outputs": [],
   "source": [
    "from langchain.agents import create_agent\n",
    "from langchain_core.messages import SystemMessage\n",
    "from langgraph.checkpoint.memory import InMemorySaver\n",
    "\n",
    "llm = init_chat_model(\"gpt-5\", model_provider=\"openai\")\n",
    "\n",
    "agent = create_agent(\n",
    "    model=llm,\n",
    "    tools=[execute_employee_sql, execute_nonemployee_sql],\n",
    "    prompt=SYSTEM,\n",
    "    checkpointer=InMemorySaver(),\n",
    "    context_schema=Context,\n",
    "    middleware=[\n",
    "        HumanInTheLoopMiddleware( \n",
    "            interrupt_on={\n",
    "                \"execute_employee_sql\": {\"allow_accept\": True, \"allow_respond\": True},  # No editing allowed\n",
    "            },\n",
    "            description_prefix=\"Tool execution pending approval\",\n",
    "        ),\n",
    "    ],\n",
    "\n",
    ")\n",
    "\n"
   ]
  },
  {
   "cell_type": "code",
   "execution_count": 99,
   "id": "694c1c6e-404c-45d5-ad29-8e072c8338ff",
   "metadata": {},
   "outputs": [
    {
     "name": "stdout",
     "output_type": "stream",
     "text": [
      "Your most recent invoice total is 5.94. Invoice ID 374, dated 2013-07-04.\n"
     ]
    }
   ],
   "source": [
    "question = \"What was the total on my last invoice?\"\n",
    "\n",
    "result = agent.invoke(\n",
    "    {\"messages\": [{\"role\": \"user\", \"content\": question}]},\n",
    "    context= {\"first\": \"Frank\", \"last\": \"Harris\"},\n",
    "    config = {\"configurable\": {\"thread_id\": \"1\"}} \n",
    ")\n",
    "print(result[\"messages\"][-1].content)"
   ]
  },
  {
   "cell_type": "code",
   "execution_count": 97,
   "id": "27fe7425-5e42-43dc-ac6a-d13187dfde2a",
   "metadata": {},
   "outputs": [
    {
     "name": "stdout",
     "output_type": "stream",
     "text": [
      "\u001b[1;3;31m--------------------------------------------------------------------------------\u001b[0m\n",
      "\u001b[1;3;31m Interrupt:Tool execution pending approval\n",
      "\n",
      "Tool: execute_employee_sql\n",
      "Args: {'query': 'SELECT FirstName, LastName FROM Employee ORDER BY LastName, FirstName;'}\u001b[0m\n",
      "\u001b[1;3;31m--------------------------------------------------------------------------------\u001b[0m\n",
      "- Andrew Adams\n",
      "- Laura Callahan\n",
      "- Nancy Edwards\n",
      "- Steve Johnson\n",
      "- Robert King\n",
      "- Michael Mitchell\n",
      "- Margaret Park\n",
      "- Jane Peacock\n"
     ]
    }
   ],
   "source": [
    "from langgraph.types import Command\n",
    "question = \"What are the names of all the employees?\"\n",
    "\n",
    "config = {\"configurable\": {\"thread_id\": \"1\"}} \n",
    "\n",
    "result = agent.invoke(\n",
    "    {\"messages\": [{\"role\": \"user\", \"content\": question}]},\n",
    "    context= {\"first\": \"Frank\", \"last\": \"Harris\"},\n",
    "    config=config\n",
    ")\n",
    "if '__interrupt__' in result:\n",
    "    print(f\"\\033[1;3;31m{80*'-'}\\033[0m\")\n",
    "    print(f\"\\033[1;3;31m Interrupt:{result['__interrupt__'][-1].value[-1]['description']}\\033[0m\")\n",
    "\n",
    "    result = agent.invoke(\n",
    "        Command( \n",
    "            resume=[{\"type\": \"accept\"}]  # or \"edit\", \"respond\"\n",
    "        ), \n",
    "        config=config # Same thread ID to resume the paused conversation\n",
    "    )\n",
    "    print(f\"\\033[1;3;31m{80*'-'}\\033[0m\")\n",
    "           \n",
    "print(result[\"messages\"][-1].content)"
   ]
  },
  {
   "cell_type": "code",
   "execution_count": 82,
   "id": "f936a757-6018-4b56-b23c-6cca80915e6a",
   "metadata": {},
   "outputs": [
    {
     "data": {
      "text/plain": [
       "dict_keys(['messages'])"
      ]
     },
     "execution_count": 82,
     "metadata": {},
     "output_type": "execute_result"
    }
   ],
   "source": [
    "result.keys()"
   ]
  },
  {
   "cell_type": "code",
   "execution_count": 68,
   "id": "4e96b439-1426-49b1-b2b4-624c1586ff36",
   "metadata": {},
   "outputs": [
    {
     "name": "stdout",
     "output_type": "stream",
     "text": [
      "Available objects for config:\n",
      "    AliasManager\n",
      "    DisplayFormatter\n",
      "    HistoryManager\n",
      "    IPCompleter\n",
      "    IPKernelApp\n",
      "    LoggingMagics\n",
      "    MagicsManager\n",
      "    OSMagics\n",
      "    PrefilterManager\n",
      "    ScriptMagics\n",
      "    StoreMagics\n",
      "    ZMQInteractiveShell\n"
     ]
    }
   ],
   "source": [
    "config"
   ]
  },
  {
   "cell_type": "code",
   "execution_count": null,
   "id": "a54bf799-ddd5-4c1d-bd77-fa93b8619c35",
   "metadata": {},
   "outputs": [],
   "source": []
  },
  {
   "cell_type": "code",
   "execution_count": null,
   "id": "71f7e846-c418-4c44-8245-ad4790eaa0c9",
   "metadata": {},
   "outputs": [],
   "source": []
  },
  {
   "cell_type": "code",
   "execution_count": 10,
   "id": "fc965181-609e-470c-a70c-886e6994cfd7",
   "metadata": {},
   "outputs": [
    {
     "name": "stdout",
     "output_type": "stream",
     "text": [
      "================================\u001b[1m Human Message \u001b[0m=================================\n",
      "\n",
      "What were the titles?\n",
      "==================================\u001b[1m Ai Message \u001b[0m==================================\n",
      "\n",
      "Could you clarify which titles you mean?\n",
      "- Employee job titles (from the Employee table)\n",
      "- Album titles\n",
      "- Track titles (song names)\n",
      "- Something else (e.g., playlist names)\n",
      "\n",
      "If it’s for a specific customer’s purchases, please provide the customer’s first and last name and any time/filter (e.g., last invoice, all time).\n"
     ]
    }
   ],
   "source": [
    "question = \"What were the titles?\"\n",
    "steps=[]\n",
    "\n",
    "for step in agent.stream(\n",
    "    {\"messages\": [{\"role\": \"user\", \"content\": question}]},\n",
    "    context= {\"first\": \"Frank\", \"last\": \"Harris\"},\n",
    "    stream_mode=\"values\",\n",
    "):\n",
    "    step[\"messages\"][-1].pretty_print()\n",
    "    steps.append(step)"
   ]
  },
  {
   "cell_type": "markdown",
   "id": "ede16d8f-0795-4433-9bfc-3295835a0264",
   "metadata": {},
   "source": [
    "## Add memory"
   ]
  },
  {
   "cell_type": "code",
   "execution_count": 11,
   "id": "1d07efcc-cade-4a24-9894-9231dadd798e",
   "metadata": {},
   "outputs": [],
   "source": [
    "from langgraph.checkpoint.memory import InMemorySaver"
   ]
  },
  {
   "cell_type": "code",
   "execution_count": 12,
   "id": "66c9c561-912f-4a53-a8b4-67080c5b6b56",
   "metadata": {},
   "outputs": [],
   "source": [
    "from langchain.agents import create_agent\n",
    "from langchain_core.messages import SystemMessage\n",
    "\n",
    "llm = init_chat_model(\"gpt-5\", model_provider=\"openai\")\n",
    "\n",
    "agent = create_agent(\n",
    "    model=llm,\n",
    "    tools=[execute_sql, convert_currency],\n",
    "    prompt=SystemMessage(content=SYSTEM),\n",
    "    context_schema=Context,\n",
    "    checkpointer = InMemorySaver(),\n",
    ")"
   ]
  },
  {
   "cell_type": "code",
   "execution_count": 15,
   "id": "c6137fd0-fc6a-4410-b939-045ed2cbcb87",
   "metadata": {},
   "outputs": [
    {
     "name": "stdout",
     "output_type": "stream",
     "text": [
      "================================\u001b[1m Human Message \u001b[0m=================================\n",
      "\n",
      "What was the total on my last invoice?\n",
      "==================================\u001b[1m Ai Message \u001b[0m==================================\n",
      "Tool Calls:\n",
      "  execute_sql (call_Hn8akHWS0gzz3LezPzhBZgzo)\n",
      " Call ID: call_Hn8akHWS0gzz3LezPzhBZgzo\n",
      "  Args:\n",
      "    query: SELECT i.InvoiceId, i.InvoiceDate, i.Total\n",
      "FROM Invoice AS i\n",
      "JOIN Customer AS c ON i.CustomerId = c.CustomerId\n",
      "WHERE c.FirstName = :first AND c.LastName = :last\n",
      "ORDER BY i.InvoiceDate DESC, i.InvoiceId DESC\n",
      "LIMIT 1;\n",
      "=================================\u001b[1m Tool Message \u001b[0m=================================\n",
      "Name: execute_sql\n",
      "\n",
      "[(374, '2013-07-04 00:00:00', 5.94)]\n",
      "==================================\u001b[1m Ai Message \u001b[0m==================================\n",
      "\n",
      "$5.94\n"
     ]
    }
   ],
   "source": [
    "question = \"What was the total on my last invoice?\"\n",
    "steps=[]\n",
    "\n",
    "for step in agent.stream(\n",
    "    {\"messages\": [{\"role\": \"user\", \"content\": question}]},\n",
    "    {\"configurable\": {\"thread_id\": \"1\"}},\n",
    "    context= {\"first\": \"Frank\", \"last\": \"Harris\"},\n",
    "    stream_mode=\"values\",\n",
    "):\n",
    "    step[\"messages\"][-1].pretty_print()\n",
    "    steps.append(step)"
   ]
  },
  {
   "cell_type": "code",
   "execution_count": 16,
   "id": "2a9cc553-7357-4d36-b88d-25eaf7462cf6",
   "metadata": {},
   "outputs": [
    {
     "name": "stdout",
     "output_type": "stream",
     "text": [
      "================================\u001b[1m Human Message \u001b[0m=================================\n",
      "\n",
      "What were the titles?\n",
      "==================================\u001b[1m Ai Message \u001b[0m==================================\n",
      "Tool Calls:\n",
      "  execute_sql (call_C8WZtNsUGv00p7YFgsQQDtL8)\n",
      " Call ID: call_C8WZtNsUGv00p7YFgsQQDtL8\n",
      "  Args:\n",
      "    query: SELECT t.Name AS TrackTitle\n",
      "FROM InvoiceLine AS il\n",
      "JOIN Track AS t ON il.TrackId = t.TrackId\n",
      "WHERE il.InvoiceId = (\n",
      "  SELECT i.InvoiceId\n",
      "  FROM Invoice AS i\n",
      "  JOIN Customer AS c ON i.CustomerId = c.CustomerId\n",
      "  WHERE c.FirstName = :first AND c.LastName = :last\n",
      "  ORDER BY i.InvoiceDate DESC, i.InvoiceId DESC\n",
      "  LIMIT 1\n",
      ")\n",
      "ORDER BY il.InvoiceLineId ASC\n",
      "LIMIT 5;\n",
      "=================================\u001b[1m Tool Message \u001b[0m=================================\n",
      "Name: execute_sql\n",
      "\n",
      "[('Holier Than Thou',), ('Through The Never',), ('My Friend Of Misery',), ('The Wait',), ('Blitzkrieg',)]\n",
      "==================================\u001b[1m Ai Message \u001b[0m==================================\n",
      "\n",
      "- Holier Than Thou\n",
      "- Through The Never\n",
      "- My Friend Of Misery\n",
      "- The Wait\n",
      "- Blitzkrieg\n"
     ]
    }
   ],
   "source": [
    "question = \"What were the titles?\"\n",
    "steps=[]\n",
    "\n",
    "for step in agent.stream(\n",
    "    {\"messages\": [{\"role\": \"user\", \"content\": question}]},\n",
    "    {\"configurable\": {\"thread_id\": \"1\"}},\n",
    "    context= {\"first\": \"Frank\", \"last\": \"Harris\"},\n",
    "    stream_mode=\"values\",\n",
    "):\n",
    "    step[\"messages\"][-1].pretty_print()\n",
    "    steps.append(step)"
   ]
  },
  {
   "cell_type": "code",
   "execution_count": null,
   "id": "ec43fab7-7d82-4327-89f8-d80e9641e5de",
   "metadata": {},
   "outputs": [],
   "source": []
  }
 ],
 "metadata": {
  "kernelspec": {
   "display_name": "Python 3 (ipykernel)",
   "language": "python",
   "name": "python3"
  },
  "language_info": {
   "codemirror_mode": {
    "name": "ipython",
    "version": 3
   },
   "file_extension": ".py",
   "mimetype": "text/x-python",
   "name": "python",
   "nbconvert_exporter": "python",
   "pygments_lexer": "ipython3",
   "version": "3.13.5"
  }
 },
 "nbformat": 4,
 "nbformat_minor": 5
}
