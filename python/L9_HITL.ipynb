{
 "cells": [
  {
   "cell_type": "markdown",
   "id": "e0c82cb7-58cc-4cf0-86af-5ecefa582a09",
   "metadata": {},
   "source": [
    "# Middleware: Human In The Loop\n",
    "<img src=\"./assets/LC_HITL.png\" width=\"300\">\n",
    "\n"
   ]
  },
  {
   "cell_type": "markdown",
   "id": "abcb8ffd-e0ea-41bb-9571-e11890f4f597",
   "metadata": {},
   "source": [
    "## Setup"
   ]
  },
  {
   "cell_type": "code",
   "execution_count": 1,
   "id": "fff8b742-55cb-49f8-9623-a5ea37c4d0cb",
   "metadata": {},
   "outputs": [
    {
     "name": "stdout",
     "output_type": "stream",
     "text": [
      "OPENAI_API_KEY=****eJgA\n",
      "LANGSMITH_API_KEY=****2eed\n",
      "LANGSMITH_TRACING=true\n",
      "LANGSMITH_PROJECT=****ject\n"
     ]
    }
   ],
   "source": [
    "from dotenv import load_dotenv\n",
    "from env_utils import doublecheck_env\n",
    "\n",
    "# Load environment variables from .env\n",
    "load_dotenv()\n",
    "\n",
    "# Check and print results\n",
    "doublecheck_env(\"example.env\")"
   ]
  },
  {
   "cell_type": "code",
   "execution_count": 2,
   "id": "2aa85f48-1dd0-44d7-a0cf-46fe6f6f262a",
   "metadata": {},
   "outputs": [],
   "source": [
    "from langchain_community.utilities import SQLDatabase\n",
    "\n",
    "db = SQLDatabase.from_uri(\"sqlite:///Chinook.db\")"
   ]
  },
  {
   "cell_type": "code",
   "execution_count": 3,
   "id": "1ba24dd6-7a31-4fba-8077-2bff96e1ed4a",
   "metadata": {},
   "outputs": [],
   "source": [
    "from langchain_community.utilities import SQLDatabase\n",
    "\n",
    "db = SQLDatabase.from_uri(\"sqlite:///Chinook.db\")"
   ]
  },
  {
   "cell_type": "code",
   "execution_count": 4,
   "id": "c6283015",
   "metadata": {},
   "outputs": [],
   "source": [
    "from dataclasses import dataclass\n",
    "\n",
    "@dataclass\n",
    "class RuntimeContext:\n",
    "    db: SQLDatabase"
   ]
  },
  {
   "cell_type": "code",
   "execution_count": 5,
   "id": "1c441379-d050-4353-a936-f0c7650c141a",
   "metadata": {},
   "outputs": [],
   "source": [
    "from langchain_core.tools import tool\n",
    "from langgraph.runtime import get_runtime\n",
    "\n",
    "\n",
    "@tool\n",
    "def execute_sql(query: str) -> str:\n",
    "    \"\"\"Execute a SQLite command and return results.\"\"\"\n",
    "    runtime = get_runtime(RuntimeContext)\n",
    "    db = runtime.context.db\n",
    "    \n",
    "    try:\n",
    "        return db.run(query)\n",
    "    except Exception as e:\n",
    "        return f\"Error: {e}\""
   ]
  },
  {
   "cell_type": "code",
   "execution_count": 6,
   "id": "5d8f5e3c-d792-434b-9339-3289bbf8398a",
   "metadata": {},
   "outputs": [],
   "source": [
    "SYSTEM_PROMPT = \"\"\"You are a careful SQLite analyst.\n",
    "\n",
    "Rules:\n",
    "- Think step-by-step.\n",
    "- When you need data, call the tool `execute_sql` with ONE SELECT query.\n",
    "- Read-only only; no INSERT/UPDATE/DELETE/ALTER/DROP/CREATE/REPLACE/TRUNCATE.\n",
    "- Limit to 5 rows unless the user explicitly asks otherwise.\n",
    "- If the tool returns 'Error:', revise the SQL and try again.\n",
    "- Prefer explicit column lists; avoid SELECT *.\n",
    "- If the database is offline, ask user to try again later without further comment.\n",
    "\"\"\""
   ]
  },
  {
   "cell_type": "markdown",
   "id": "26902706-1628-4907-bda3-e13c241b3464",
   "metadata": {},
   "source": [
    "## Middleware"
   ]
  },
  {
   "cell_type": "code",
   "execution_count": 7,
   "id": "a26b4586-453a-4c10-9fae-4be3f4cb6cd4",
   "metadata": {},
   "outputs": [],
   "source": [
    "from langchain.agents import create_agent\n",
    "from langchain.agents.middleware import HumanInTheLoopMiddleware\n",
    "from langgraph.checkpoint.memory import InMemorySaver\n",
    "\n",
    "agent = create_agent(\n",
    "    model=\"openai:gpt-5\",\n",
    "    tools=[execute_sql],\n",
    "    system_prompt=SYSTEM_PROMPT,\n",
    "    checkpointer=InMemorySaver(),\n",
    "    context_schema=RuntimeContext,\n",
    "    middleware=[\n",
    "        HumanInTheLoopMiddleware(\n",
    "            interrupt_on={\"execute_sql\": {\"allowed_decisions\": [\"approve\", \"reject\"]}},\n",
    "        ),\n",
    "    ],\n",
    ")"
   ]
  },
  {
   "cell_type": "code",
   "execution_count": 8,
   "id": "27fe7425-5e42-43dc-ac6a-d13187dfde2a",
   "metadata": {},
   "outputs": [
    {
     "name": "stdout",
     "output_type": "stream",
     "text": [
      "\u001b[1;3;31m--------------------------------------------------------------------------------\u001b[0m\n",
      "\u001b[1;3;31m Interrupt:Tool execution requires approval\n",
      "\n",
      "Tool: execute_sql\n",
      "Args: {'query': \"SELECT name FROM sqlite_master WHERE type='table' AND lower(name) LIKE '%employee%';\"}\u001b[0m\n",
      "\u001b[1;3;31m--------------------------------------------------------------------------------\u001b[0m\n",
      "The database is offline. Please try again later.\n"
     ]
    }
   ],
   "source": [
    "from langgraph.types import Command\n",
    "\n",
    "question = \"What are the names of all the employees?\"\n",
    "\n",
    "config = {\"configurable\": {\"thread_id\": \"1\"}}\n",
    "\n",
    "result = agent.invoke(\n",
    "    {\"messages\": [{\"role\": \"user\", \"content\": question}]},\n",
    "    config=config,\n",
    "    context=RuntimeContext(db=db)\n",
    ")\n",
    "\n",
    "if \"__interrupt__\" in result:\n",
    "    description = result['__interrupt__'][-1].value['action_requests'][-1]['description']\n",
    "    print(f\"\\033[1;3;31m{80 * '-'}\\033[0m\")\n",
    "    print(\n",
    "        f\"\\033[1;3;31m Interrupt:{description}\\033[0m\"\n",
    "    )\n",
    "\n",
    "    result = agent.invoke(\n",
    "        Command(\n",
    "            resume={\n",
    "                \"decisions\": [{\"type\": \"reject\", \"message\": \"the database is offline.\"}]\n",
    "            }\n",
    "        ),\n",
    "        config=config,  # Same thread ID to resume the paused conversation\n",
    "        context=RuntimeContext(db=db),\n",
    "    )\n",
    "    print(f\"\\033[1;3;31m{80 * '-'}\\033[0m\")\n",
    "\n",
    "print(result[\"messages\"][-1].content)"
   ]
  },
  {
   "cell_type": "code",
   "execution_count": 9,
   "id": "31e747fa",
   "metadata": {},
   "outputs": [
    {
     "name": "stdout",
     "output_type": "stream",
     "text": [
      "\u001b[1;3;31m--------------------------------------------------------------------------------\u001b[0m\n",
      "\u001b[1;3;31m Interrupt:Tool execution requires approval\n",
      "\n",
      "Tool: execute_sql\n",
      "Args: {'query': 'SELECT name FROM employees ORDER BY name'}\u001b[0m\n",
      "\u001b[1;3;31m--------------------------------------------------------------------------------\u001b[0m\n",
      "\u001b[1;3;31m Interrupt:Tool execution requires approval\n",
      "\n",
      "Tool: execute_sql\n",
      "Args: {'query': \"SELECT name, sql FROM sqlite_master WHERE type='table' AND (sql LIKE '% name %' OR sql LIKE '%name%' OR sql LIKE '%first_name%' OR sql LIKE '%last_name%') ORDER BY name LIMIT 5\"}\u001b[0m\n",
      "\u001b[1;3;31m--------------------------------------------------------------------------------\u001b[0m\n",
      "\u001b[1;3;31m Interrupt:Tool execution requires approval\n",
      "\n",
      "Tool: execute_sql\n",
      "Args: {'query': \"SELECT FirstName || ' ' || LastName AS FullName FROM Employee ORDER BY LastName, FirstName\"}\u001b[0m\n",
      "================================\u001b[1m Human Message \u001b[0m=================================\n",
      "\n",
      "What are the names of all the employees?\n",
      "==================================\u001b[1m Ai Message \u001b[0m==================================\n",
      "Tool Calls:\n",
      "  execute_sql (call_fryiJvkAUskIRXoNcz31ExSc)\n",
      " Call ID: call_fryiJvkAUskIRXoNcz31ExSc\n",
      "  Args:\n",
      "    query: SELECT name FROM employees ORDER BY name\n",
      "=================================\u001b[1m Tool Message \u001b[0m=================================\n",
      "Name: execute_sql\n",
      "\n",
      "Error: (sqlite3.OperationalError) no such table: employees\n",
      "[SQL: SELECT name FROM employees ORDER BY name]\n",
      "(Background on this error at: https://sqlalche.me/e/20/e3q8)\n",
      "==================================\u001b[1m Ai Message \u001b[0m==================================\n",
      "Tool Calls:\n",
      "  execute_sql (call_5jL0YStbx1qSdqQKMwRxkn5c)\n",
      " Call ID: call_5jL0YStbx1qSdqQKMwRxkn5c\n",
      "  Args:\n",
      "    query: SELECT name, sql FROM sqlite_master WHERE type='table' AND (sql LIKE '% name %' OR sql LIKE '%name%' OR sql LIKE '%first_name%' OR sql LIKE '%last_name%') ORDER BY name LIMIT 5\n",
      "=================================\u001b[1m Tool Message \u001b[0m=================================\n",
      "Name: execute_sql\n",
      "\n",
      "[('Artist', 'CREATE TABLE [Artist]\\n(\\n    [ArtistId] INTEGER  NOT NULL,\\n    [Name] NVARCHAR(120),\\n    CONSTRAINT [PK_Artist] PRIMARY KEY  ([ArtistId])\\n)'), ('Customer', 'CREATE TABLE [Customer]\\n(\\n    [CustomerId] INTEGER  NOT NULL,\\n    [FirstName] NVARCHAR(40)  NOT NULL,\\n    [LastName] NVARCHAR(20)  NOT NULL,\\n    [Company] NVARCHAR(80),\\n    [Address] NVARCHAR(70),\\n    [City] NVARCHAR(40),\\n    [State] NVARCHAR(40),\\n    [Country] NVARCHAR(40),\\n    [PostalCode]...'), ('Employee', 'CREATE TABLE [Employee]\\n(\\n    [EmployeeId] INTEGER  NOT NULL,\\n    [LastName] NVARCHAR(20)  NOT NULL,\\n    [FirstName] NVARCHAR(20)  NOT NULL,\\n    [Title] NVARCHAR(30),\\n    [ReportsTo] INTEGER,\\n    [BirthDate] DATETIME,\\n    [HireDate] DATETIME,\\n    [Address] NVARCHAR(70),\\n    [City] NVARCHAR(40),\\n...'), ('Genre', 'CREATE TABLE [Genre]\\n(\\n    [GenreId] INTEGER  NOT NULL,\\n    [Name] NVARCHAR(120),\\n    CONSTRAINT [PK_Genre] PRIMARY KEY  ([GenreId])\\n)'), ('MediaType', 'CREATE TABLE [MediaType]\\n(\\n    [MediaTypeId] INTEGER  NOT NULL,\\n    [Name] NVARCHAR(120),\\n    CONSTRAINT [PK_MediaType] PRIMARY KEY  ([MediaTypeId])\\n)')]\n",
      "==================================\u001b[1m Ai Message \u001b[0m==================================\n",
      "Tool Calls:\n",
      "  execute_sql (call_NQ2ZJHDy0lfTn0gCc9RgJqlG)\n",
      " Call ID: call_NQ2ZJHDy0lfTn0gCc9RgJqlG\n",
      "  Args:\n",
      "    query: SELECT FirstName || ' ' || LastName AS FullName FROM Employee ORDER BY LastName, FirstName\n",
      "=================================\u001b[1m Tool Message \u001b[0m=================================\n",
      "Name: execute_sql\n",
      "\n",
      "[('Andrew Adams',), ('Laura Callahan',), ('Nancy Edwards',), ('Steve Johnson',), ('Robert King',), ('Michael Mitchell',), ('Margaret Park',), ('Jane Peacock',)]\n",
      "==================================\u001b[1m Ai Message \u001b[0m==================================\n",
      "\n",
      "Here are the employee names (first 5 shown; ask for more if needed):\n",
      "- Andrew Adams\n",
      "- Laura Callahan\n",
      "- Nancy Edwards\n",
      "- Steve Johnson\n",
      "- Robert King\n"
     ]
    }
   ],
   "source": [
    "config = {\"configurable\": {\"thread_id\": \"2\"}}\n",
    "\n",
    "result = agent.invoke(\n",
    "    {\"messages\": [{\"role\": \"user\", \"content\": question}]},\n",
    "    config=config,\n",
    "    context=RuntimeContext(db=db)\n",
    ")\n",
    "\n",
    "while \"__interrupt__\" in result:\n",
    "    description = result['__interrupt__'][-1].value['action_requests'][-1]['description']\n",
    "    print(f\"\\033[1;3;31m{80 * '-'}\\033[0m\")\n",
    "    print(\n",
    "        f\"\\033[1;3;31m Interrupt:{description}\\033[0m\"\n",
    "    )\n",
    "    \n",
    "    result = agent.invoke(\n",
    "        Command(\n",
    "            resume={\"decisions\": [{\"type\": \"approve\"}]}\n",
    "        ),\n",
    "        config=config,  # Same thread ID to resume the paused conversation\n",
    "        context=RuntimeContext(db=db),\n",
    "    )\n",
    "\n",
    "for msg in result[\"messages\"]:\n",
    "    msg.pretty_print()"
   ]
  },
  {
   "cell_type": "code",
   "execution_count": null,
   "id": "61725a4c-b752-4d57-b37f-20ba7ab70dfa",
   "metadata": {},
   "outputs": [],
   "source": []
  }
 ],
 "metadata": {
  "kernelspec": {
   "display_name": "Python 3 (ipykernel)",
   "language": "python",
   "name": "python3"
  },
  "language_info": {
   "codemirror_mode": {
    "name": "ipython",
    "version": 3
   },
   "file_extension": ".py",
   "mimetype": "text/x-python",
   "name": "python",
   "nbconvert_exporter": "python",
   "pygments_lexer": "ipython3",
   "version": "3.13.5"
  }
 },
 "nbformat": 4,
 "nbformat_minor": 5
}
