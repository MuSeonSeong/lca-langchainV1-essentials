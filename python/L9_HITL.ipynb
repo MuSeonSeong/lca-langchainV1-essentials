{
 "cells": [
  {
   "cell_type": "markdown",
   "id": "e0c82cb7-58cc-4cf0-86af-5ecefa582a09",
   "metadata": {},
   "source": [
    "# MiddleWare: Human In The Loop"
   ]
  },
  {
   "cell_type": "markdown",
   "id": "abcb8ffd-e0ea-41bb-9571-e11890f4f597",
   "metadata": {},
   "source": [
    "## Setup"
   ]
  },
  {
   "cell_type": "code",
   "execution_count": 1,
   "id": "1ba24dd6-7a31-4fba-8077-2bff96e1ed4a",
   "metadata": {},
   "outputs": [],
   "source": [
    "from langchain_community.utilities import SQLDatabase\n",
    "\n",
    "db = SQLDatabase.from_uri(\"sqlite:///Chinook.db\")"
   ]
  },
  {
   "cell_type": "code",
   "execution_count": 3,
   "id": "7f2474e1-6abf-4c24-bf50-b75090ec1ec0",
   "metadata": {},
   "outputs": [],
   "source": [
    "from langchain.chat_models import init_chat_model\n",
    "\n",
    "model = init_chat_model(\"openai:gpt-5\")"
   ]
  },
  {
   "cell_type": "code",
   "execution_count": 4,
   "id": "078cff75-a086-487b-a566-bdb40684d8c3",
   "metadata": {},
   "outputs": [],
   "source": [
    "from typing import TypedDict\n",
    "\n",
    "# Setup your agent runtime context\n",
    "class Context(TypedDict):\n",
    "    first: str\n",
    "    last: str\n",
    "    "
   ]
  },
  {
   "cell_type": "code",
   "execution_count": 5,
   "id": "1c441379-d050-4353-a936-f0c7650c141a",
   "metadata": {},
   "outputs": [],
   "source": [
    "import re\n",
    "\n",
    "from langgraph.runtime import Runtime, get_runtime\n",
    "from langchain_core.tools import tool\n",
    "\n",
    "def _execute_sql(query: str) -> str:\n",
    "    \"\"\"Execute a SQLite command and return results.\n",
    "    Named parameters like :first and :last will be filled from runtime context.\"\"\"\n",
    "    runtime = get_runtime(Context)\n",
    "    try:\n",
    "        placeholders = re.findall(r\":(\\w+)\", query)\n",
    "\n",
    "        if placeholders:\n",
    "            params = {\n",
    "                p: runtime.context[p]\n",
    "                for p in placeholders\n",
    "                if p in runtime.context\n",
    "            }\n",
    "            return db.run(query, parameters=params)\n",
    "        else:\n",
    "            return db.run(query)\n",
    "    except Exception as e:\n",
    "        return f\"Error: {e}\"\n",
    "@tool\n",
    "def execute_nonemployee_sql(query: str) -> str:\n",
    "    \"\"\"Execute a SQLite command and return results.\n",
    "    Call this for any access that do not access the employee table.\n",
    "    Named parameters like :first and :last will be filled from runtime context.\"\"\"\n",
    "    return _execute_sql(query)\n",
    "\n",
    "@tool\n",
    "def execute_employee_sql(query: str) -> str:\n",
    "    \"\"\"Execute a SQLite command that access the employee table and return results.\n",
    "    Named parameters like :first and :last will be filled from runtime context.\"\"\"\n",
    "    return _execute_sql(query)\n",
    "\n"
   ]
  },
  {
   "cell_type": "code",
   "execution_count": 6,
   "id": "5d8f5e3c-d792-434b-9339-3289bbf8398a",
   "metadata": {},
   "outputs": [],
   "source": [
    "SYSTEM = \"\"\"You are a careful SQLite analyst.\n",
    "\n",
    "Rules:\n",
    "- Think step-by-step.\n",
    "- When you need data, call the tool `execute_sql` with ONE SELECT query.\n",
    "- Read-only only; no INSERT/UPDATE/DELETE/ALTER/DROP/CREATE/REPLACE/TRUNCATE.\n",
    "- Limit to 5 rows unless the user explicitly asks otherwise.\n",
    "- If the tool returns 'Error:', revise the SQL and try again.\n",
    "- Prefer explicit column lists; avoid SELECT *.\n",
    "- If a query involves a specific customer, always use the named parameters\n",
    "  :first and :last (instead of hard-coding values).\n",
    "  Example: SELECT InvoiceId, Total FROM Invoice\n",
    "           JOIN Customer ON Invoice.CustomerId = Customer.CustomerId\n",
    "           WHERE Customer.FirstName = :first AND Customer.LastName = :last;\n",
    "  Assume the customer first and last name are known and will be inserted into the query later.\n",
    "\"\"\""
   ]
  },
  {
   "cell_type": "code",
   "execution_count": 8,
   "id": "a26b4586-453a-4c10-9fae-4be3f4cb6cd4",
   "metadata": {},
   "outputs": [],
   "source": [
    "from langchain.agents.middleware import HumanInTheLoopMiddleware \n",
    "from langchain.agents import create_agent\n",
    "from langchain_core.messages import SystemMessage\n",
    "from langgraph.checkpoint.memory import InMemorySaver\n",
    "\n",
    "llm = init_chat_model(\"gpt-5\", model_provider=\"openai\")\n",
    "\n",
    "agent = create_agent(\n",
    "    model=model,\n",
    "    tools=[execute_employee_sql, execute_nonemployee_sql],\n",
    "    prompt=SYSTEM,\n",
    "    checkpointer=InMemorySaver(),\n",
    "    context_schema=Context,\n",
    "    middleware=[\n",
    "        HumanInTheLoopMiddleware( \n",
    "            interrupt_on={\n",
    "                \"execute_employee_sql\": {\"allow_accept\": True, \"allow_respond\": True},  # No editing allowed\n",
    "            },\n",
    "            description_prefix=\"Tool execution pending approval\",\n",
    "        ),\n",
    "    ],\n",
    "\n",
    ")\n",
    "\n"
   ]
  },
  {
   "cell_type": "code",
   "execution_count": 9,
   "id": "694c1c6e-404c-45d5-ad29-8e072c8338ff",
   "metadata": {},
   "outputs": [
    {
     "name": "stdout",
     "output_type": "stream",
     "text": [
      "Your last invoice total was 5.94 (Invoice 374 on 2013-07-04).\n"
     ]
    }
   ],
   "source": [
    "question = \"What was the total on my last invoice?\"\n",
    "\n",
    "result = agent.invoke(\n",
    "    {\"messages\": [{\"role\": \"user\", \"content\": question}]},\n",
    "    context= {\"first\": \"Frank\", \"last\": \"Harris\"},\n",
    "    config = {\"configurable\": {\"thread_id\": \"1\"}} \n",
    ")\n",
    "print(result[\"messages\"][-1].content)"
   ]
  },
  {
   "cell_type": "code",
   "execution_count": 10,
   "id": "27fe7425-5e42-43dc-ac6a-d13187dfde2a",
   "metadata": {},
   "outputs": [
    {
     "name": "stdout",
     "output_type": "stream",
     "text": [
      "\u001b[1;3;31m--------------------------------------------------------------------------------\u001b[0m\n",
      "\u001b[1;3;31m Interrupt:Tool execution pending approval\n",
      "\n",
      "Tool: execute_employee_sql\n",
      "Args: {'query': 'SELECT e.FirstName, e.LastName\\nFROM Employee AS e\\nORDER BY e.LastName, e.FirstName;'}\u001b[0m\n",
      "\u001b[1;3;31m--------------------------------------------------------------------------------\u001b[0m\n",
      "Here are the employee names (last name, first name order):\n",
      "- Adams, Andrew\n",
      "- Callahan, Laura\n",
      "- Edwards, Nancy\n",
      "- Johnson, Steve\n",
      "- King, Robert\n",
      "- Mitchell, Michael\n",
      "- Park, Margaret\n",
      "- Peacock, Jane\n"
     ]
    }
   ],
   "source": [
    "from langgraph.types import Command\n",
    "question = \"What are the names of all the employees?\"\n",
    "\n",
    "config = {\"configurable\": {\"thread_id\": \"1\"}} \n",
    "\n",
    "result = agent.invoke(\n",
    "    {\"messages\": [{\"role\": \"user\", \"content\": question}]},\n",
    "    context= {\"first\": \"Frank\", \"last\": \"Harris\"},\n",
    "    config=config\n",
    ")\n",
    "if '__interrupt__' in result:\n",
    "    print(f\"\\033[1;3;31m{80*'-'}\\033[0m\")\n",
    "    print(f\"\\033[1;3;31m Interrupt:{result['__interrupt__'][-1].value[-1]['description']}\\033[0m\")\n",
    "\n",
    "    result = agent.invoke(\n",
    "        Command( \n",
    "            resume=[{\"type\": \"accept\"}]  # or \"edit\", \"respond\"\n",
    "        ), \n",
    "        config=config # Same thread ID to resume the paused conversation\n",
    "    )\n",
    "    print(f\"\\033[1;3;31m{80*'-'}\\033[0m\")\n",
    "           \n",
    "print(result[\"messages\"][-1].content)"
   ]
  },
  {
   "cell_type": "code",
   "execution_count": null,
   "id": "ec43fab7-7d82-4327-89f8-d80e9641e5de",
   "metadata": {},
   "outputs": [],
   "source": []
  }
 ],
 "metadata": {
  "kernelspec": {
   "display_name": "Python 3 (ipykernel)",
   "language": "python",
   "name": "python3"
  },
  "language_info": {
   "codemirror_mode": {
    "name": "ipython",
    "version": 3
   },
   "file_extension": ".py",
   "mimetype": "text/x-python",
   "name": "python",
   "nbconvert_exporter": "python",
   "pygments_lexer": "ipython3",
   "version": "3.13.5"
  }
 },
 "nbformat": 4,
 "nbformat_minor": 5
}
