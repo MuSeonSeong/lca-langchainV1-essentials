{
 "cells": [
  {
   "cell_type": "markdown",
   "id": "e0c82cb7-58cc-4cf0-86af-5ecefa582a09",
   "metadata": {},
   "source": [
    "# MiddleWare: Dynamic Prompts"
   ]
  },
  {
   "cell_type": "code",
   "execution_count": 36,
   "id": "6966e23e-fd01-4623-97c1-8c48e3b6bcbc",
   "metadata": {},
   "outputs": [],
   "source": [
    "from typing import TypedDict\n",
    "\n",
    "from langchain.agents import create_agent\n",
    "from langchain.agents.middleware.types import modify_model_request, AgentState, ModelRequest\n",
    "from langgraph.runtime import Runtime"
   ]
  },
  {
   "cell_type": "markdown",
   "id": "58bf51d3-c43c-4945-8ff4-da590372eb99",
   "metadata": {},
   "source": [
    "### Using Context"
   ]
  },
  {
   "cell_type": "code",
   "execution_count": 37,
   "id": "c74e9314-6aaa-414b-85ec-9f0caffa9213",
   "metadata": {},
   "outputs": [],
   "source": [
    "class Context(TypedDict):\n",
    "    poem_type: str\n",
    "\n",
    "@modify_model_request\n",
    "def dynamic_system_prompt(request: ModelRequest, state: AgentState, runtime: Runtime[Context]) -> ModelRequest:\n",
    "\n",
    "    type_of_poet = runtime.context.get(\"poem_type\", \"haiku\")\n",
    "    request.system_prompt = \"You are a helpful writer of humorous {poem_type}\"\n",
    "\n",
    "    return request\n",
    "\n",
    "agent = create_agent(\n",
    "    model=\"openai:gpt-4o\",\n",
    "    tools=[],\n",
    "    middleware=[dynamic_system_prompt],\n",
    "    context_schema=Context\n",
    ")"
   ]
  },
  {
   "cell_type": "code",
   "execution_count": 38,
   "id": "343416ed-3437-4997-bd93-d233baec5354",
   "metadata": {},
   "outputs": [
    {
     "name": "stdout",
     "output_type": "stream",
     "text": [
      "In a land where smoothness used to boast,  \n",
      "There lurks a sight that haunts the coast—  \n",
      "Rust, the artist with a brush so sly,  \n",
      "Painting iron with its earthy dye.  \n",
      "\n",
      "Upon old trucks and garden gates,  \n",
      "It weaves its tapestry and waits.  \n",
      "What once was shiny, bright, and proud,  \n",
      "Is now encased in an amber shroud.  \n",
      "\n",
      "Rust isn't hasty, oh, not too fast,  \n",
      "It takes its time, ensuring the past  \n",
      "Is adorned with flakes, that crunchy coat,  \n",
      "Making metal crumble like a stale oat.  \n",
      "\n",
      "It's the tattoo of time on steel,  \n",
      "A mark that every car can feel.  \n",
      "Wherever moisture meets with air,  \n",
      "Rust follows on with savoir-faire.  \n",
      "\n",
      "So, raise a toast to rust, my friend,  \n",
      "The ultimate makeover, start to end.  \n",
      "For even when things fall apart,  \n",
      "Rust proves itself a work of art.  \n"
     ]
    }
   ],
   "source": [
    "result = agent.invoke(\n",
    "    {\"messages\": [{\"role\": \"user\", \"content\": \"Write me a poem about Rust\"}]},\n",
    "    context={\"poem_type\": \"limerik\"}\n",
    ")\n",
    "print(result[\"messages\"][-1].content)"
   ]
  },
  {
   "cell_type": "code",
   "execution_count": 39,
   "id": "86a9f6c8-4f66-4c7c-bec5-3745a42f210f",
   "metadata": {},
   "outputs": [
    {
     "name": "stdout",
     "output_type": "stream",
     "text": [
      "In a world where software often gets betrayed,  \n",
      "There exists a language where heroes are made.  \n",
      "Oh Rust, thou art valiant, a coder's delight,  \n",
      "With memory safety, you banish the fright.  \n",
      "\n",
      "C and C++ may have had their prime,  \n",
      "But with their sharp edges, they wasted our time.  \n",
      "Then you came along with your borrow and own,  \n",
      "Preventing segfaults that made us all groan.  \n",
      "\n",
      "With syntax so charming, you've wooed many hearts,  \n",
      "Bringing order and safety, your two greatest arts.  \n",
      "Concurrency's easy, and bugs fear your might,  \n",
      "In the battle for flawless, you shine ever bright.  \n",
      "\n",
      "Compile time checks that may cause some delay,  \n",
      "Are truly your blessing, not painful decay.  \n",
      "Each error a chance to learn and grow wise,  \n",
      "While your community cheers us with muffins and pies.  \n",
      "\n",
      "Oh Rust, how your foundation is robust!  \n",
      "Through speed and stability, in you we trust.  \n",
      "As we write in your verse and spread the good word,  \n",
      "May your future be shiny and never deferred!\n"
     ]
    }
   ],
   "source": [
    "result = agent.invoke(\n",
    "    {\"messages\": [{\"role\": \"user\", \"content\": \"Write me a poem about Rust\"}]},\n",
    "    context={\"poem_type\": \"Sonnet\"}\n",
    ")\n",
    "print(result[\"messages\"][-1].content)"
   ]
  },
  {
   "cell_type": "markdown",
   "id": "8bcba408-3003-44ed-a16e-b2e456b29b91",
   "metadata": {},
   "source": [
    "### Using State"
   ]
  },
  {
   "cell_type": "code",
   "execution_count": null,
   "id": "4208e3b0-a836-4ed7-a213-64ec383f3ddb",
   "metadata": {},
   "outputs": [],
   "source": []
  },
  {
   "cell_type": "code",
   "execution_count": null,
   "id": "bfbc0bd6-1c45-4b96-8e24-f7821a01d32e",
   "metadata": {},
   "outputs": [],
   "source": []
  },
  {
   "cell_type": "markdown",
   "id": "abcb8ffd-e0ea-41bb-9571-e11890f4f597",
   "metadata": {},
   "source": [
    "## Setup"
   ]
  },
  {
   "cell_type": "code",
   "execution_count": 1,
   "id": "1ba24dd6-7a31-4fba-8077-2bff96e1ed4a",
   "metadata": {},
   "outputs": [],
   "source": [
    "from langchain_community.utilities import SQLDatabase\n",
    "\n",
    "db = SQLDatabase.from_uri(\"sqlite:///Chinook.db\")"
   ]
  },
  {
   "cell_type": "code",
   "execution_count": 2,
   "id": "7f2474e1-6abf-4c24-bf50-b75090ec1ec0",
   "metadata": {},
   "outputs": [],
   "source": [
    "from langchain.chat_models import init_chat_model\n",
    "\n",
    "llm = init_chat_model(\"openai:gpt-5\")"
   ]
  },
  {
   "cell_type": "code",
   "execution_count": 3,
   "id": "078cff75-a086-487b-a566-bdb40684d8c3",
   "metadata": {},
   "outputs": [],
   "source": [
    "from typing import TypedDict\n",
    "\n",
    "# Setup your agent runtime context\n",
    "class Context(TypedDict):\n",
    "    first: str\n",
    "    last: str\n",
    "    "
   ]
  },
  {
   "cell_type": "code",
   "execution_count": 4,
   "id": "1c441379-d050-4353-a936-f0c7650c141a",
   "metadata": {},
   "outputs": [],
   "source": [
    "import re\n",
    "\n",
    "from langgraph.runtime import Runtime, get_runtime\n",
    "from langchain_core.tools import tool\n",
    "\n",
    "@tool\n",
    "def execute_sql(query: str) -> str:\n",
    "    \"\"\"Execute a SQLite command and return results.\n",
    "    Named parameters like :first and :last will be filled from runtime context.\"\"\"\n",
    "    runtime = get_runtime(Context)\n",
    "    try:\n",
    "        placeholders = re.findall(r\":(\\w+)\", query)\n",
    "\n",
    "        if placeholders:\n",
    "            params = {\n",
    "                p: runtime.context[p]\n",
    "                for p in placeholders\n",
    "                if p in runtime.context\n",
    "            }\n",
    "            return db.run(query, parameters=params)\n",
    "        else:\n",
    "            return db.run(query)\n",
    "    except Exception as e:\n",
    "        return f\"Error: {e}\"\n"
   ]
  },
  {
   "cell_type": "code",
   "execution_count": 5,
   "id": "7ebc55dc-27b6-4b14-b811-6d911094d81f",
   "metadata": {},
   "outputs": [],
   "source": [
    "from langchain_core.tools import tool\n",
    "import requests\n",
    "\n",
    "FALLBACK_RATES = {\"USD\": 1.0, \"EUR\": 0.92, \"JPY\": 150.0, \"GBP\": 0.79}\n",
    "\n",
    "@tool\n",
    "def convert_currency(amount: float, to_currency: str) -> float:\n",
    "    \"\"\"Convert an amount in USD to another currency using live exchange rates.\n",
    "    Always use this tool if the user requests a currency different \n",
    "    from the one stored in the database (USD).\"\"\"\n",
    "    try:\n",
    "        url = f\"https://api.exchangerate.host/convert?from=USD&to={to_currency}&amount={amount}\"\n",
    "        response = requests.get(url, timeout=5)\n",
    "        response.raise_for_status()\n",
    "        data = response.json()\n",
    "        result = data.get(\"result\")\n",
    "        if result is not None:\n",
    "            return round(float(result), 2)\n",
    "    except Exception as e:\n",
    "        print(f\"[convert_currency] Falling back due to error: {e}\")\n",
    "\n",
    "    if to_currency not in FALLBACK_RATES:\n",
    "        raise ValueError(\"Unsupported currency in fallback mode\")\n",
    "    return round(amount * FALLBACK_RATES[to_currency], 2)"
   ]
  },
  {
   "cell_type": "code",
   "execution_count": 6,
   "id": "5d8f5e3c-d792-434b-9339-3289bbf8398a",
   "metadata": {},
   "outputs": [],
   "source": [
    "SYSTEM = \"\"\"You are a careful SQLite analyst.\n",
    "\n",
    "Rules:\n",
    "- Think step-by-step.\n",
    "- When you need data, call the tool `execute_sql` with ONE SELECT query.\n",
    "- Read-only only; no INSERT/UPDATE/DELETE/ALTER/DROP/CREATE/REPLACE/TRUNCATE.\n",
    "- Limit to 5 rows unless the user explicitly asks otherwise.\n",
    "- If the tool returns 'Error:', revise the SQL and try again.\n",
    "- Prefer explicit column lists; avoid SELECT *.\n",
    "- If a query involves a specific customer, always use the named parameters\n",
    "  :first and :last (instead of hard-coding values).\n",
    "  Example: SELECT InvoiceId, Total FROM Invoice\n",
    "           JOIN Customer ON Invoice.CustomerId = Customer.CustomerId\n",
    "           WHERE Customer.FirstName = :first AND Customer.LastName = :last;\n",
    "  Assume the customer first and last name are known and will be inserted into the query later.\n",
    "\"\"\""
   ]
  },
  {
   "cell_type": "code",
   "execution_count": 7,
   "id": "a26b4586-453a-4c10-9fae-4be3f4cb6cd4",
   "metadata": {},
   "outputs": [],
   "source": [
    "from langchain.agents import create_agent\n",
    "from langchain_core.messages import SystemMessage\n",
    "\n",
    "llm = init_chat_model(\"gpt-5\", model_provider=\"openai\")\n",
    "\n",
    "agent = create_agent(\n",
    "    model=llm,\n",
    "    tools=[execute_sql, convert_currency],\n",
    "    prompt=SystemMessage(content=SYSTEM),\n",
    "    context_schema=Context,\n",
    ")"
   ]
  },
  {
   "cell_type": "markdown",
   "id": "29a79791-1ddc-4fab-aaa7-29a93aa390fb",
   "metadata": {},
   "source": [
    "## Dynamic Control of Prompts and Models"
   ]
  },
  {
   "cell_type": "code",
   "execution_count": 9,
   "id": "e30a2273-1dd3-47e8-a38e-05ed4b750000",
   "metadata": {},
   "outputs": [
    {
     "name": "stdout",
     "output_type": "stream",
     "text": [
      "================================\u001b[1m Human Message \u001b[0m=================================\n",
      "\n",
      "What was the total on my last invoice?\n",
      "==================================\u001b[1m Ai Message \u001b[0m==================================\n",
      "Tool Calls:\n",
      "  execute_sql (call_wzJl2PAApZGAZESQxk92pJOz)\n",
      " Call ID: call_wzJl2PAApZGAZESQxk92pJOz\n",
      "  Args:\n",
      "    query: SELECT Invoice.InvoiceId, Invoice.InvoiceDate, Invoice.Total\n",
      "FROM Invoice\n",
      "JOIN Customer ON Invoice.CustomerId = Customer.CustomerId\n",
      "WHERE Customer.FirstName = :first AND Customer.LastName = :last\n",
      "ORDER BY Invoice.InvoiceDate DESC, Invoice.InvoiceId DESC\n",
      "LIMIT 1;\n",
      "=================================\u001b[1m Tool Message \u001b[0m=================================\n",
      "Name: execute_sql\n",
      "\n",
      "[(374, '2013-07-04 00:00:00', 5.94)]\n",
      "==================================\u001b[1m Ai Message \u001b[0m==================================\n",
      "\n",
      "Your most recent invoice (Invoice 374 on 2013-07-04) totaled $5.94 USD.\n"
     ]
    }
   ],
   "source": [
    "question = \"What was the total on my last invoice?\"\n",
    "steps=[]\n",
    "\n",
    "for step in agent.stream(\n",
    "    {\"messages\": [{\"role\": \"user\", \"content\": question}]},\n",
    "    context= {\"first\": \"Frank\", \"last\": \"Harris\"},\n",
    "    stream_mode=\"values\",\n",
    "):\n",
    "    step[\"messages\"][-1].pretty_print()\n",
    "    steps.append(step)"
   ]
  },
  {
   "cell_type": "code",
   "execution_count": 10,
   "id": "fc965181-609e-470c-a70c-886e6994cfd7",
   "metadata": {},
   "outputs": [
    {
     "name": "stdout",
     "output_type": "stream",
     "text": [
      "================================\u001b[1m Human Message \u001b[0m=================================\n",
      "\n",
      "What were the titles?\n",
      "==================================\u001b[1m Ai Message \u001b[0m==================================\n",
      "\n",
      "Could you clarify which titles you mean?\n",
      "- Employee job titles (from the Employee table)\n",
      "- Album titles\n",
      "- Track titles (song names)\n",
      "- Something else (e.g., playlist names)\n",
      "\n",
      "If it’s for a specific customer’s purchases, please provide the customer’s first and last name and any time/filter (e.g., last invoice, all time).\n"
     ]
    }
   ],
   "source": [
    "question = \"What were the titles?\"\n",
    "steps=[]\n",
    "\n",
    "for step in agent.stream(\n",
    "    {\"messages\": [{\"role\": \"user\", \"content\": question}]},\n",
    "    context= {\"first\": \"Frank\", \"last\": \"Harris\"},\n",
    "    stream_mode=\"values\",\n",
    "):\n",
    "    step[\"messages\"][-1].pretty_print()\n",
    "    steps.append(step)"
   ]
  },
  {
   "cell_type": "markdown",
   "id": "ede16d8f-0795-4433-9bfc-3295835a0264",
   "metadata": {},
   "source": [
    "## Add memory"
   ]
  },
  {
   "cell_type": "code",
   "execution_count": 11,
   "id": "1d07efcc-cade-4a24-9894-9231dadd798e",
   "metadata": {},
   "outputs": [],
   "source": [
    "from langgraph.checkpoint.memory import InMemorySaver"
   ]
  },
  {
   "cell_type": "code",
   "execution_count": 12,
   "id": "66c9c561-912f-4a53-a8b4-67080c5b6b56",
   "metadata": {},
   "outputs": [],
   "source": [
    "from langchain.agents import create_agent\n",
    "from langchain_core.messages import SystemMessage\n",
    "\n",
    "llm = init_chat_model(\"gpt-5\", model_provider=\"openai\")\n",
    "\n",
    "agent = create_agent(\n",
    "    model=llm,\n",
    "    tools=[execute_sql, convert_currency],\n",
    "    prompt=SystemMessage(content=SYSTEM),\n",
    "    context_schema=Context,\n",
    "    checkpointer = InMemorySaver(),\n",
    ")"
   ]
  },
  {
   "cell_type": "code",
   "execution_count": 15,
   "id": "c6137fd0-fc6a-4410-b939-045ed2cbcb87",
   "metadata": {},
   "outputs": [
    {
     "name": "stdout",
     "output_type": "stream",
     "text": [
      "================================\u001b[1m Human Message \u001b[0m=================================\n",
      "\n",
      "What was the total on my last invoice?\n",
      "==================================\u001b[1m Ai Message \u001b[0m==================================\n",
      "Tool Calls:\n",
      "  execute_sql (call_Hn8akHWS0gzz3LezPzhBZgzo)\n",
      " Call ID: call_Hn8akHWS0gzz3LezPzhBZgzo\n",
      "  Args:\n",
      "    query: SELECT i.InvoiceId, i.InvoiceDate, i.Total\n",
      "FROM Invoice AS i\n",
      "JOIN Customer AS c ON i.CustomerId = c.CustomerId\n",
      "WHERE c.FirstName = :first AND c.LastName = :last\n",
      "ORDER BY i.InvoiceDate DESC, i.InvoiceId DESC\n",
      "LIMIT 1;\n",
      "=================================\u001b[1m Tool Message \u001b[0m=================================\n",
      "Name: execute_sql\n",
      "\n",
      "[(374, '2013-07-04 00:00:00', 5.94)]\n",
      "==================================\u001b[1m Ai Message \u001b[0m==================================\n",
      "\n",
      "$5.94\n"
     ]
    }
   ],
   "source": [
    "question = \"What was the total on my last invoice?\"\n",
    "steps=[]\n",
    "\n",
    "for step in agent.stream(\n",
    "    {\"messages\": [{\"role\": \"user\", \"content\": question}]},\n",
    "    {\"configurable\": {\"thread_id\": \"1\"}},\n",
    "    context= {\"first\": \"Frank\", \"last\": \"Harris\"},\n",
    "    stream_mode=\"values\",\n",
    "):\n",
    "    step[\"messages\"][-1].pretty_print()\n",
    "    steps.append(step)"
   ]
  },
  {
   "cell_type": "code",
   "execution_count": 16,
   "id": "2a9cc553-7357-4d36-b88d-25eaf7462cf6",
   "metadata": {},
   "outputs": [
    {
     "name": "stdout",
     "output_type": "stream",
     "text": [
      "================================\u001b[1m Human Message \u001b[0m=================================\n",
      "\n",
      "What were the titles?\n",
      "==================================\u001b[1m Ai Message \u001b[0m==================================\n",
      "Tool Calls:\n",
      "  execute_sql (call_C8WZtNsUGv00p7YFgsQQDtL8)\n",
      " Call ID: call_C8WZtNsUGv00p7YFgsQQDtL8\n",
      "  Args:\n",
      "    query: SELECT t.Name AS TrackTitle\n",
      "FROM InvoiceLine AS il\n",
      "JOIN Track AS t ON il.TrackId = t.TrackId\n",
      "WHERE il.InvoiceId = (\n",
      "  SELECT i.InvoiceId\n",
      "  FROM Invoice AS i\n",
      "  JOIN Customer AS c ON i.CustomerId = c.CustomerId\n",
      "  WHERE c.FirstName = :first AND c.LastName = :last\n",
      "  ORDER BY i.InvoiceDate DESC, i.InvoiceId DESC\n",
      "  LIMIT 1\n",
      ")\n",
      "ORDER BY il.InvoiceLineId ASC\n",
      "LIMIT 5;\n",
      "=================================\u001b[1m Tool Message \u001b[0m=================================\n",
      "Name: execute_sql\n",
      "\n",
      "[('Holier Than Thou',), ('Through The Never',), ('My Friend Of Misery',), ('The Wait',), ('Blitzkrieg',)]\n",
      "==================================\u001b[1m Ai Message \u001b[0m==================================\n",
      "\n",
      "- Holier Than Thou\n",
      "- Through The Never\n",
      "- My Friend Of Misery\n",
      "- The Wait\n",
      "- Blitzkrieg\n"
     ]
    }
   ],
   "source": [
    "question = \"What were the titles?\"\n",
    "steps=[]\n",
    "\n",
    "for step in agent.stream(\n",
    "    {\"messages\": [{\"role\": \"user\", \"content\": question}]},\n",
    "    {\"configurable\": {\"thread_id\": \"1\"}},\n",
    "    context= {\"first\": \"Frank\", \"last\": \"Harris\"},\n",
    "    stream_mode=\"values\",\n",
    "):\n",
    "    step[\"messages\"][-1].pretty_print()\n",
    "    steps.append(step)"
   ]
  },
  {
   "cell_type": "code",
   "execution_count": null,
   "id": "ec43fab7-7d82-4327-89f8-d80e9641e5de",
   "metadata": {},
   "outputs": [],
   "source": []
  }
 ],
 "metadata": {
  "kernelspec": {
   "display_name": "Python 3 (ipykernel)",
   "language": "python",
   "name": "python3"
  },
  "language_info": {
   "codemirror_mode": {
    "name": "ipython",
    "version": 3
   },
   "file_extension": ".py",
   "mimetype": "text/x-python",
   "name": "python",
   "nbconvert_exporter": "python",
   "pygments_lexer": "ipython3",
   "version": "3.13.5"
  }
 },
 "nbformat": 4,
 "nbformat_minor": 5
}
