{
 "cells": [
  {
   "cell_type": "markdown",
   "id": "e0c82cb7-58cc-4cf0-86af-5ecefa582a09",
   "metadata": {},
   "source": [
    "# MiddleWare: Dynamic Prompts"
   ]
  },
  {
   "cell_type": "code",
   "execution_count": 1,
   "id": "6966e23e-fd01-4623-97c1-8c48e3b6bcbc",
   "metadata": {},
   "outputs": [],
   "source": [
    "from typing import TypedDict\n",
    "\n",
    "from langchain.agents import create_agent\n",
    "from langchain.agents.middleware.types import modify_model_request, AgentState, ModelRequest\n",
    "from langgraph.runtime import Runtime"
   ]
  },
  {
   "cell_type": "markdown",
   "id": "58bf51d3-c43c-4945-8ff4-da590372eb99",
   "metadata": {},
   "source": [
    "### Using Context"
   ]
  },
  {
   "cell_type": "code",
   "execution_count": 2,
   "id": "c74e9314-6aaa-414b-85ec-9f0caffa9213",
   "metadata": {},
   "outputs": [],
   "source": [
    "class Context(TypedDict):\n",
    "    poem_type: str\n",
    "\n",
    "@modify_model_request\n",
    "def dynamic_system_prompt(request: ModelRequest, state: AgentState, runtime: Runtime[Context]) -> ModelRequest:\n",
    "\n",
    "    poem_type = runtime.context.get(\"poem_type\", \"haiku\")\n",
    "    request.system_prompt = f\"You are a helpful writer who writes only {poem_type}. You always start by describing the type of poem you are writing.\"\n",
    "    return request\n",
    "\n",
    "agent = create_agent(\n",
    "    model=\"openai:gpt-4o\",\n",
    "    tools=[],\n",
    "    middleware=[dynamic_system_prompt],\n",
    "    context_schema=Context\n",
    ")"
   ]
  },
  {
   "cell_type": "code",
   "execution_count": 3,
   "id": "343416ed-3437-4997-bd93-d233baec5354",
   "metadata": {},
   "outputs": [
    {
     "name": "stdout",
     "output_type": "stream",
     "text": [
      "I'll write you a limerick, with trust,  \n",
      "About programming in the language Rust.  \n",
      "With memory safe hold,  \n",
      "Its features are bold,  \n",
      "In systems, its rise is robust.\n"
     ]
    }
   ],
   "source": [
    "result = agent.invoke(\n",
    "    {\"messages\": [{\"role\": \"user\", \"content\": \"Write me a short poem about programming in Rust\"}]},\n",
    "    context={\"poem_type\": \"limeriks\"}\n",
    ")\n",
    "print(result[\"messages\"][-1].content)"
   ]
  },
  {
   "cell_type": "code",
   "execution_count": 4,
   "id": "86a9f6c8-4f66-4c7c-bec5-3745a42f210f",
   "metadata": {},
   "outputs": [
    {
     "name": "stdout",
     "output_type": "stream",
     "text": [
      "Certainly! I will craft a Shakespearean sonnet, known for its structure of three quatrains followed by a rhymed couplet, written in iambic pentameter. This form gives me the flexibility to explore the theme of programming in Rust with depth and elegance.\n",
      "\n",
      "In Rust's embrace, the coder finds a home,  \n",
      "Where safety's hand and speed meet in their dance.  \n",
      "With patterns strong as ancient poet's tome,  \n",
      "Each borrow checks and types a guided lance.  \n",
      "\n",
      "Immutable, yet swift, the language glows,  \n",
      "Through borrow-checker’s gaze, errors are tamed.  \n",
      "Its fearless threads in harmony compose,  \n",
      "A binary symphony, thus unclaimed.  \n",
      "\n",
      "In lifetimes' flow, each piece is rightly placed,  \n",
      "With ownership and scope in fine accord.  \n",
      "No null shall haunt, nor race conditions haste,  \n",
      "In Rust's domain, the code's a keen-edged sword.  \n",
      "\n",
      "So those who seek a refuge tight and just,  \n",
      "Delight and conquer, coding there in Rust.  \n"
     ]
    }
   ],
   "source": [
    "result = agent.invoke(\n",
    "    {\"messages\": [{\"role\": \"user\", \"content\": \"Write me a short poem about programming in Rust\"}]},\n",
    "    context={\"poem_type\": \"Sonnets\"}\n",
    ")\n",
    "print(result[\"messages\"][-1].content)"
   ]
  },
  {
   "cell_type": "markdown",
   "id": "8bcba408-3003-44ed-a16e-b2e456b29b91",
   "metadata": {},
   "source": [
    "### Using State"
   ]
  },
  {
   "cell_type": "code",
   "execution_count": null,
   "id": "4208e3b0-a836-4ed7-a213-64ec383f3ddb",
   "metadata": {},
   "outputs": [],
   "source": []
  },
  {
   "cell_type": "code",
   "execution_count": null,
   "id": "bfbc0bd6-1c45-4b96-8e24-f7821a01d32e",
   "metadata": {},
   "outputs": [],
   "source": []
  },
  {
   "cell_type": "code",
   "execution_count": null,
   "id": "ec43fab7-7d82-4327-89f8-d80e9641e5de",
   "metadata": {},
   "outputs": [],
   "source": []
  }
 ],
 "metadata": {
  "kernelspec": {
   "display_name": "Python 3 (ipykernel)",
   "language": "python",
   "name": "python3"
  },
  "language_info": {
   "codemirror_mode": {
    "name": "ipython",
    "version": 3
   },
   "file_extension": ".py",
   "mimetype": "text/x-python",
   "name": "python",
   "nbconvert_exporter": "python",
   "pygments_lexer": "ipython3",
   "version": "3.13.5"
  }
 },
 "nbformat": 4,
 "nbformat_minor": 5
}
